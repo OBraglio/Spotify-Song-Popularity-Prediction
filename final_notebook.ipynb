{
  "cells": [
    {
      "cell_type": "markdown",
      "metadata": {
        "id": "tXxiWJmwo5uk"
      },
      "source": [
        "# Music Streaming Wars: Song Popularity Prediction"
      ]
    },
    {
      "cell_type": "markdown",
      "metadata": {
        "id": "dUSohFFao5um"
      },
      "source": [
        "Author: E. Berke Tezcan"
      ]
    },
    {
      "cell_type": "markdown",
      "metadata": {
        "id": "VtM9nhAHo5un"
      },
      "source": [
        "<img src=\"./images/apple-music-spotify-tidal.jpg\" style=\"width: 60%\">"
      ]
    },
    {
      "cell_type": "markdown",
      "metadata": {
        "ExecuteTime": {
          "end_time": "2021-05-24T00:03:15.139565Z",
          "start_time": "2021-05-24T00:03:15.130551Z"
        },
        "id": "OPQbzuRAo5un"
      },
      "source": [
        "***"
      ]
    },
    {
      "cell_type": "markdown",
      "metadata": {
        "id": "oGftfXqco5un"
      },
      "source": [
        "## TABLE OF CONTENTS"
      ]
    },
    {
      "cell_type": "markdown",
      "metadata": {
        "id": "kK8RsXPZo5un"
      },
      "source": [
        "*Click to jump to matching Markdown Header.*<br><br>\n",
        "\n",
        "- **[Introduction](#INTRODUCTION)<br>**\n",
        "- **[OBTAIN](#OBTAIN)**<br>\n",
        "- **[SCRUB/EXPLORE](#SCRUB/EXPLORE)**<br>\n",
        "- **[MODEL](#MODEL)**<br>\n",
        "- **[iNTERPRET](#iNTERPRET)**<br>\n",
        "- **[Conclusions/Recommendations](#CONCLUSIONS-&-RECOMMENDATIONS)<br>**\n",
        "___"
      ]
    },
    {
      "cell_type": "markdown",
      "metadata": {
        "id": "VUc6Tohxo5uo"
      },
      "source": [
        "# INTRODUCTION"
      ]
    },
    {
      "cell_type": "markdown",
      "metadata": {
        "id": "Cg35FEj3o5uo"
      },
      "source": [
        "With Apple Music announcing on May 17th that they will be providing lossless audio along with spatial audio by Dolby Atmos for their subscribers and Tidal continuously providing exclusive content from artists, the competition among audio streaming platforms is heating up. Spotify would like to stay competitive by being able to predict which songs are going to be popular ahead of time so that they can curate even better playlists and sign deals with up-and-coming artists to have exclusivity on their content. This would not only help retain the current subscribers but also help market the platform to new subscribers as well.\n",
        "\n",
        "For this project, we were hired by Spotify to develop a machine learning model that can accurately predict whether a song is going to be popular or not. In order to achieve this, we will be evaluating different machine learning models and will look at what attributes of a song are the most important for determining its popularity."
      ]
    },
    {
      "cell_type": "markdown",
      "metadata": {
        "id": "ZWHZ5X4Oo5uo"
      },
      "source": [
        "# OBTAIN"
      ]
    },
    {
      "cell_type": "markdown",
      "metadata": {
        "id": "DnOVfYO0o5uo"
      },
      "source": [
        "We will be using a dataset from Kaggle (https://www.kaggle.com/zaheenhamidani/ultimate-spotify-tracks-db) that contains approximately 232,000 tracks and their attributes to train several machine learning models in order to find the common threads between popular songs."
      ]
    },
    {
      "cell_type": "code",
      "source": [
        "from google.colab import drive\n",
        "drive.mount('/content/drive')"
      ],
      "metadata": {
        "colab": {
          "base_uri": "https://localhost:8080/"
        },
        "id": "444wHTmMpHHT",
        "outputId": "798c3bae-7a53-4f4a-ac45-9833df62c3ec"
      },
      "execution_count": null,
      "outputs": [
        {
          "output_type": "stream",
          "name": "stdout",
          "text": [
            "Drive already mounted at /content/drive; to attempt to forcibly remount, call drive.mount(\"/content/drive\", force_remount=True).\n"
          ]
        }
      ]
    },
    {
      "cell_type": "code",
      "source": [
        "import os\n",
        "os.chdir('/content/drive/MyDrive/test/Spotify-Song-Popularity-Prediction-master')"
      ],
      "metadata": {
        "id": "eiqop78upLX5"
      },
      "execution_count": null,
      "outputs": []
    },
    {
      "cell_type": "code",
      "execution_count": null,
      "metadata": {
        "ExecuteTime": {
          "end_time": "2021-05-31T00:05:08.277776Z",
          "start_time": "2021-05-31T00:05:07.647170Z"
        },
        "id": "Z7DX4O01o5up"
      },
      "outputs": [],
      "source": [
        "import pandas as pd"
      ]
    },
    {
      "cell_type": "code",
      "execution_count": null,
      "metadata": {
        "ExecuteTime": {
          "end_time": "2021-05-31T00:05:09.153232Z",
          "start_time": "2021-05-31T00:05:08.279775Z"
        },
        "colab": {
          "base_uri": "https://localhost:8080/",
          "height": 417
        },
        "id": "aTC4_Ftxo5up",
        "outputId": "47666829-c5c2-4072-adfa-8c733984795a"
      },
      "outputs": [
        {
          "output_type": "execute_result",
          "data": {
            "text/plain": [
              "   genre        artist_name                        track_name  \\\n",
              "0  Movie     Henri Salvador       C'est beau de faire un Show   \n",
              "1  Movie  Martin & les fées  Perdu d'avance (par Gad Elmaleh)   \n",
              "2  Movie    Joseph Williams    Don't Let Me Be Lonely Tonight   \n",
              "3  Movie     Henri Salvador    Dis-moi Monsieur Gordon Cooper   \n",
              "4  Movie       Fabien Nataf                         Ouverture   \n",
              "\n",
              "                 track_id  popularity  acousticness  danceability  \\\n",
              "0  0BRjO6ga9RKCKjfDqeFgWV           0         0.611         0.389   \n",
              "1  0BjC1NfoEOOusryehmNudP           1         0.246         0.590   \n",
              "2  0CoSDzoNIKCRs124s9uTVy           3         0.952         0.663   \n",
              "3  0Gc6TVm52BwZD07Ki6tIvf           0         0.703         0.240   \n",
              "4  0IuslXpMROHdEPvSl1fTQK           4         0.950         0.331   \n",
              "\n",
              "   duration_ms  energy  instrumentalness key  liveness  loudness   mode  \\\n",
              "0        99373   0.910             0.000  C#    0.3460    -1.828  Major   \n",
              "1       137373   0.737             0.000  F#    0.1510    -5.559  Minor   \n",
              "2       170267   0.131             0.000   C    0.1030   -13.879  Minor   \n",
              "3       152427   0.326             0.000  C#    0.0985   -12.178  Major   \n",
              "4        82625   0.225             0.123   F    0.2020   -21.150  Major   \n",
              "\n",
              "   speechiness    tempo time_signature  valence  \n",
              "0       0.0525  166.969            4/4    0.814  \n",
              "1       0.0868  174.003            4/4    0.816  \n",
              "2       0.0362   99.488            5/4    0.368  \n",
              "3       0.0395  171.758            4/4    0.227  \n",
              "4       0.0456  140.576            4/4    0.390  "
            ],
            "text/html": [
              "\n",
              "  <div id=\"df-657a6b55-9b85-42ca-b97f-80658f85f9bc\" class=\"colab-df-container\">\n",
              "    <div>\n",
              "<style scoped>\n",
              "    .dataframe tbody tr th:only-of-type {\n",
              "        vertical-align: middle;\n",
              "    }\n",
              "\n",
              "    .dataframe tbody tr th {\n",
              "        vertical-align: top;\n",
              "    }\n",
              "\n",
              "    .dataframe thead th {\n",
              "        text-align: right;\n",
              "    }\n",
              "</style>\n",
              "<table border=\"1\" class=\"dataframe\">\n",
              "  <thead>\n",
              "    <tr style=\"text-align: right;\">\n",
              "      <th></th>\n",
              "      <th>genre</th>\n",
              "      <th>artist_name</th>\n",
              "      <th>track_name</th>\n",
              "      <th>track_id</th>\n",
              "      <th>popularity</th>\n",
              "      <th>acousticness</th>\n",
              "      <th>danceability</th>\n",
              "      <th>duration_ms</th>\n",
              "      <th>energy</th>\n",
              "      <th>instrumentalness</th>\n",
              "      <th>key</th>\n",
              "      <th>liveness</th>\n",
              "      <th>loudness</th>\n",
              "      <th>mode</th>\n",
              "      <th>speechiness</th>\n",
              "      <th>tempo</th>\n",
              "      <th>time_signature</th>\n",
              "      <th>valence</th>\n",
              "    </tr>\n",
              "  </thead>\n",
              "  <tbody>\n",
              "    <tr>\n",
              "      <th>0</th>\n",
              "      <td>Movie</td>\n",
              "      <td>Henri Salvador</td>\n",
              "      <td>C'est beau de faire un Show</td>\n",
              "      <td>0BRjO6ga9RKCKjfDqeFgWV</td>\n",
              "      <td>0</td>\n",
              "      <td>0.611</td>\n",
              "      <td>0.389</td>\n",
              "      <td>99373</td>\n",
              "      <td>0.910</td>\n",
              "      <td>0.000</td>\n",
              "      <td>C#</td>\n",
              "      <td>0.3460</td>\n",
              "      <td>-1.828</td>\n",
              "      <td>Major</td>\n",
              "      <td>0.0525</td>\n",
              "      <td>166.969</td>\n",
              "      <td>4/4</td>\n",
              "      <td>0.814</td>\n",
              "    </tr>\n",
              "    <tr>\n",
              "      <th>1</th>\n",
              "      <td>Movie</td>\n",
              "      <td>Martin &amp; les fées</td>\n",
              "      <td>Perdu d'avance (par Gad Elmaleh)</td>\n",
              "      <td>0BjC1NfoEOOusryehmNudP</td>\n",
              "      <td>1</td>\n",
              "      <td>0.246</td>\n",
              "      <td>0.590</td>\n",
              "      <td>137373</td>\n",
              "      <td>0.737</td>\n",
              "      <td>0.000</td>\n",
              "      <td>F#</td>\n",
              "      <td>0.1510</td>\n",
              "      <td>-5.559</td>\n",
              "      <td>Minor</td>\n",
              "      <td>0.0868</td>\n",
              "      <td>174.003</td>\n",
              "      <td>4/4</td>\n",
              "      <td>0.816</td>\n",
              "    </tr>\n",
              "    <tr>\n",
              "      <th>2</th>\n",
              "      <td>Movie</td>\n",
              "      <td>Joseph Williams</td>\n",
              "      <td>Don't Let Me Be Lonely Tonight</td>\n",
              "      <td>0CoSDzoNIKCRs124s9uTVy</td>\n",
              "      <td>3</td>\n",
              "      <td>0.952</td>\n",
              "      <td>0.663</td>\n",
              "      <td>170267</td>\n",
              "      <td>0.131</td>\n",
              "      <td>0.000</td>\n",
              "      <td>C</td>\n",
              "      <td>0.1030</td>\n",
              "      <td>-13.879</td>\n",
              "      <td>Minor</td>\n",
              "      <td>0.0362</td>\n",
              "      <td>99.488</td>\n",
              "      <td>5/4</td>\n",
              "      <td>0.368</td>\n",
              "    </tr>\n",
              "    <tr>\n",
              "      <th>3</th>\n",
              "      <td>Movie</td>\n",
              "      <td>Henri Salvador</td>\n",
              "      <td>Dis-moi Monsieur Gordon Cooper</td>\n",
              "      <td>0Gc6TVm52BwZD07Ki6tIvf</td>\n",
              "      <td>0</td>\n",
              "      <td>0.703</td>\n",
              "      <td>0.240</td>\n",
              "      <td>152427</td>\n",
              "      <td>0.326</td>\n",
              "      <td>0.000</td>\n",
              "      <td>C#</td>\n",
              "      <td>0.0985</td>\n",
              "      <td>-12.178</td>\n",
              "      <td>Major</td>\n",
              "      <td>0.0395</td>\n",
              "      <td>171.758</td>\n",
              "      <td>4/4</td>\n",
              "      <td>0.227</td>\n",
              "    </tr>\n",
              "    <tr>\n",
              "      <th>4</th>\n",
              "      <td>Movie</td>\n",
              "      <td>Fabien Nataf</td>\n",
              "      <td>Ouverture</td>\n",
              "      <td>0IuslXpMROHdEPvSl1fTQK</td>\n",
              "      <td>4</td>\n",
              "      <td>0.950</td>\n",
              "      <td>0.331</td>\n",
              "      <td>82625</td>\n",
              "      <td>0.225</td>\n",
              "      <td>0.123</td>\n",
              "      <td>F</td>\n",
              "      <td>0.2020</td>\n",
              "      <td>-21.150</td>\n",
              "      <td>Major</td>\n",
              "      <td>0.0456</td>\n",
              "      <td>140.576</td>\n",
              "      <td>4/4</td>\n",
              "      <td>0.390</td>\n",
              "    </tr>\n",
              "  </tbody>\n",
              "</table>\n",
              "</div>\n",
              "    <div class=\"colab-df-buttons\">\n",
              "\n",
              "  <div class=\"colab-df-container\">\n",
              "    <button class=\"colab-df-convert\" onclick=\"convertToInteractive('df-657a6b55-9b85-42ca-b97f-80658f85f9bc')\"\n",
              "            title=\"Convert this dataframe to an interactive table.\"\n",
              "            style=\"display:none;\">\n",
              "\n",
              "  <svg xmlns=\"http://www.w3.org/2000/svg\" height=\"24px\" viewBox=\"0 -960 960 960\">\n",
              "    <path d=\"M120-120v-720h720v720H120Zm60-500h600v-160H180v160Zm220 220h160v-160H400v160Zm0 220h160v-160H400v160ZM180-400h160v-160H180v160Zm440 0h160v-160H620v160ZM180-180h160v-160H180v160Zm440 0h160v-160H620v160Z\"/>\n",
              "  </svg>\n",
              "    </button>\n",
              "\n",
              "  <style>\n",
              "    .colab-df-container {\n",
              "      display:flex;\n",
              "      gap: 12px;\n",
              "    }\n",
              "\n",
              "    .colab-df-convert {\n",
              "      background-color: #E8F0FE;\n",
              "      border: none;\n",
              "      border-radius: 50%;\n",
              "      cursor: pointer;\n",
              "      display: none;\n",
              "      fill: #1967D2;\n",
              "      height: 32px;\n",
              "      padding: 0 0 0 0;\n",
              "      width: 32px;\n",
              "    }\n",
              "\n",
              "    .colab-df-convert:hover {\n",
              "      background-color: #E2EBFA;\n",
              "      box-shadow: 0px 1px 2px rgba(60, 64, 67, 0.3), 0px 1px 3px 1px rgba(60, 64, 67, 0.15);\n",
              "      fill: #174EA6;\n",
              "    }\n",
              "\n",
              "    .colab-df-buttons div {\n",
              "      margin-bottom: 4px;\n",
              "    }\n",
              "\n",
              "    [theme=dark] .colab-df-convert {\n",
              "      background-color: #3B4455;\n",
              "      fill: #D2E3FC;\n",
              "    }\n",
              "\n",
              "    [theme=dark] .colab-df-convert:hover {\n",
              "      background-color: #434B5C;\n",
              "      box-shadow: 0px 1px 3px 1px rgba(0, 0, 0, 0.15);\n",
              "      filter: drop-shadow(0px 1px 2px rgba(0, 0, 0, 0.3));\n",
              "      fill: #FFFFFF;\n",
              "    }\n",
              "  </style>\n",
              "\n",
              "    <script>\n",
              "      const buttonEl =\n",
              "        document.querySelector('#df-657a6b55-9b85-42ca-b97f-80658f85f9bc button.colab-df-convert');\n",
              "      buttonEl.style.display =\n",
              "        google.colab.kernel.accessAllowed ? 'block' : 'none';\n",
              "\n",
              "      async function convertToInteractive(key) {\n",
              "        const element = document.querySelector('#df-657a6b55-9b85-42ca-b97f-80658f85f9bc');\n",
              "        const dataTable =\n",
              "          await google.colab.kernel.invokeFunction('convertToInteractive',\n",
              "                                                    [key], {});\n",
              "        if (!dataTable) return;\n",
              "\n",
              "        const docLinkHtml = 'Like what you see? Visit the ' +\n",
              "          '<a target=\"_blank\" href=https://colab.research.google.com/notebooks/data_table.ipynb>data table notebook</a>'\n",
              "          + ' to learn more about interactive tables.';\n",
              "        element.innerHTML = '';\n",
              "        dataTable['output_type'] = 'display_data';\n",
              "        await google.colab.output.renderOutput(dataTable, element);\n",
              "        const docLink = document.createElement('div');\n",
              "        docLink.innerHTML = docLinkHtml;\n",
              "        element.appendChild(docLink);\n",
              "      }\n",
              "    </script>\n",
              "  </div>\n",
              "\n",
              "\n",
              "<div id=\"df-0a0cf843-c1ab-471d-80e2-da2578515ebd\">\n",
              "  <button class=\"colab-df-quickchart\" onclick=\"quickchart('df-0a0cf843-c1ab-471d-80e2-da2578515ebd')\"\n",
              "            title=\"Suggest charts\"\n",
              "            style=\"display:none;\">\n",
              "\n",
              "<svg xmlns=\"http://www.w3.org/2000/svg\" height=\"24px\"viewBox=\"0 0 24 24\"\n",
              "     width=\"24px\">\n",
              "    <g>\n",
              "        <path d=\"M19 3H5c-1.1 0-2 .9-2 2v14c0 1.1.9 2 2 2h14c1.1 0 2-.9 2-2V5c0-1.1-.9-2-2-2zM9 17H7v-7h2v7zm4 0h-2V7h2v10zm4 0h-2v-4h2v4z\"/>\n",
              "    </g>\n",
              "</svg>\n",
              "  </button>\n",
              "\n",
              "<style>\n",
              "  .colab-df-quickchart {\n",
              "      --bg-color: #E8F0FE;\n",
              "      --fill-color: #1967D2;\n",
              "      --hover-bg-color: #E2EBFA;\n",
              "      --hover-fill-color: #174EA6;\n",
              "      --disabled-fill-color: #AAA;\n",
              "      --disabled-bg-color: #DDD;\n",
              "  }\n",
              "\n",
              "  [theme=dark] .colab-df-quickchart {\n",
              "      --bg-color: #3B4455;\n",
              "      --fill-color: #D2E3FC;\n",
              "      --hover-bg-color: #434B5C;\n",
              "      --hover-fill-color: #FFFFFF;\n",
              "      --disabled-bg-color: #3B4455;\n",
              "      --disabled-fill-color: #666;\n",
              "  }\n",
              "\n",
              "  .colab-df-quickchart {\n",
              "    background-color: var(--bg-color);\n",
              "    border: none;\n",
              "    border-radius: 50%;\n",
              "    cursor: pointer;\n",
              "    display: none;\n",
              "    fill: var(--fill-color);\n",
              "    height: 32px;\n",
              "    padding: 0;\n",
              "    width: 32px;\n",
              "  }\n",
              "\n",
              "  .colab-df-quickchart:hover {\n",
              "    background-color: var(--hover-bg-color);\n",
              "    box-shadow: 0 1px 2px rgba(60, 64, 67, 0.3), 0 1px 3px 1px rgba(60, 64, 67, 0.15);\n",
              "    fill: var(--button-hover-fill-color);\n",
              "  }\n",
              "\n",
              "  .colab-df-quickchart-complete:disabled,\n",
              "  .colab-df-quickchart-complete:disabled:hover {\n",
              "    background-color: var(--disabled-bg-color);\n",
              "    fill: var(--disabled-fill-color);\n",
              "    box-shadow: none;\n",
              "  }\n",
              "\n",
              "  .colab-df-spinner {\n",
              "    border: 2px solid var(--fill-color);\n",
              "    border-color: transparent;\n",
              "    border-bottom-color: var(--fill-color);\n",
              "    animation:\n",
              "      spin 1s steps(1) infinite;\n",
              "  }\n",
              "\n",
              "  @keyframes spin {\n",
              "    0% {\n",
              "      border-color: transparent;\n",
              "      border-bottom-color: var(--fill-color);\n",
              "      border-left-color: var(--fill-color);\n",
              "    }\n",
              "    20% {\n",
              "      border-color: transparent;\n",
              "      border-left-color: var(--fill-color);\n",
              "      border-top-color: var(--fill-color);\n",
              "    }\n",
              "    30% {\n",
              "      border-color: transparent;\n",
              "      border-left-color: var(--fill-color);\n",
              "      border-top-color: var(--fill-color);\n",
              "      border-right-color: var(--fill-color);\n",
              "    }\n",
              "    40% {\n",
              "      border-color: transparent;\n",
              "      border-right-color: var(--fill-color);\n",
              "      border-top-color: var(--fill-color);\n",
              "    }\n",
              "    60% {\n",
              "      border-color: transparent;\n",
              "      border-right-color: var(--fill-color);\n",
              "    }\n",
              "    80% {\n",
              "      border-color: transparent;\n",
              "      border-right-color: var(--fill-color);\n",
              "      border-bottom-color: var(--fill-color);\n",
              "    }\n",
              "    90% {\n",
              "      border-color: transparent;\n",
              "      border-bottom-color: var(--fill-color);\n",
              "    }\n",
              "  }\n",
              "</style>\n",
              "\n",
              "  <script>\n",
              "    async function quickchart(key) {\n",
              "      const quickchartButtonEl =\n",
              "        document.querySelector('#' + key + ' button');\n",
              "      quickchartButtonEl.disabled = true;  // To prevent multiple clicks.\n",
              "      quickchartButtonEl.classList.add('colab-df-spinner');\n",
              "      try {\n",
              "        const charts = await google.colab.kernel.invokeFunction(\n",
              "            'suggestCharts', [key], {});\n",
              "      } catch (error) {\n",
              "        console.error('Error during call to suggestCharts:', error);\n",
              "      }\n",
              "      quickchartButtonEl.classList.remove('colab-df-spinner');\n",
              "      quickchartButtonEl.classList.add('colab-df-quickchart-complete');\n",
              "    }\n",
              "    (() => {\n",
              "      let quickchartButtonEl =\n",
              "        document.querySelector('#df-0a0cf843-c1ab-471d-80e2-da2578515ebd button');\n",
              "      quickchartButtonEl.style.display =\n",
              "        google.colab.kernel.accessAllowed ? 'block' : 'none';\n",
              "    })();\n",
              "  </script>\n",
              "</div>\n",
              "    </div>\n",
              "  </div>\n"
            ]
          },
          "metadata": {},
          "execution_count": 4
        }
      ],
      "source": [
        "#importing data into a dataframe\n",
        "df = pd.read_csv('./data/SpotifyFeatures.csv')\n",
        "df.head()"
      ]
    },
    {
      "cell_type": "code",
      "execution_count": null,
      "metadata": {
        "ExecuteTime": {
          "end_time": "2021-05-31T00:05:09.360122Z",
          "start_time": "2021-05-31T00:05:09.156231Z"
        },
        "colab": {
          "base_uri": "https://localhost:8080/",
          "height": 300
        },
        "id": "YN5_7DvMo5uq",
        "outputId": "bcdc1102-8cbd-405d-eb35-26fbc062d902"
      },
      "outputs": [
        {
          "output_type": "execute_result",
          "data": {
            "text/plain": [
              "          popularity   acousticness   danceability   duration_ms  \\\n",
              "count  232725.000000  232725.000000  232725.000000  2.327250e+05   \n",
              "mean       41.127502       0.368560       0.554364  2.351223e+05   \n",
              "std        18.189948       0.354768       0.185608  1.189359e+05   \n",
              "min         0.000000       0.000000       0.056900  1.538700e+04   \n",
              "25%        29.000000       0.037600       0.435000  1.828570e+05   \n",
              "50%        43.000000       0.232000       0.571000  2.204270e+05   \n",
              "75%        55.000000       0.722000       0.692000  2.657680e+05   \n",
              "max       100.000000       0.996000       0.989000  5.552917e+06   \n",
              "\n",
              "              energy  instrumentalness       liveness       loudness  \\\n",
              "count  232725.000000     232725.000000  232725.000000  232725.000000   \n",
              "mean        0.570958          0.148301       0.215009      -9.569885   \n",
              "std         0.263456          0.302768       0.198273       5.998204   \n",
              "min         0.000020          0.000000       0.009670     -52.457000   \n",
              "25%         0.385000          0.000000       0.097400     -11.771000   \n",
              "50%         0.605000          0.000044       0.128000      -7.762000   \n",
              "75%         0.787000          0.035800       0.264000      -5.501000   \n",
              "max         0.999000          0.999000       1.000000       3.744000   \n",
              "\n",
              "         speechiness          tempo        valence  \n",
              "count  232725.000000  232725.000000  232725.000000  \n",
              "mean        0.120765     117.666585       0.454917  \n",
              "std         0.185518      30.898907       0.260065  \n",
              "min         0.022200      30.379000       0.000000  \n",
              "25%         0.036700      92.959000       0.237000  \n",
              "50%         0.050100     115.778000       0.444000  \n",
              "75%         0.105000     139.054000       0.660000  \n",
              "max         0.967000     242.903000       1.000000  "
            ],
            "text/html": [
              "\n",
              "  <div id=\"df-c631c1b6-2d3b-417e-accc-66393fc50445\" class=\"colab-df-container\">\n",
              "    <div>\n",
              "<style scoped>\n",
              "    .dataframe tbody tr th:only-of-type {\n",
              "        vertical-align: middle;\n",
              "    }\n",
              "\n",
              "    .dataframe tbody tr th {\n",
              "        vertical-align: top;\n",
              "    }\n",
              "\n",
              "    .dataframe thead th {\n",
              "        text-align: right;\n",
              "    }\n",
              "</style>\n",
              "<table border=\"1\" class=\"dataframe\">\n",
              "  <thead>\n",
              "    <tr style=\"text-align: right;\">\n",
              "      <th></th>\n",
              "      <th>popularity</th>\n",
              "      <th>acousticness</th>\n",
              "      <th>danceability</th>\n",
              "      <th>duration_ms</th>\n",
              "      <th>energy</th>\n",
              "      <th>instrumentalness</th>\n",
              "      <th>liveness</th>\n",
              "      <th>loudness</th>\n",
              "      <th>speechiness</th>\n",
              "      <th>tempo</th>\n",
              "      <th>valence</th>\n",
              "    </tr>\n",
              "  </thead>\n",
              "  <tbody>\n",
              "    <tr>\n",
              "      <th>count</th>\n",
              "      <td>232725.000000</td>\n",
              "      <td>232725.000000</td>\n",
              "      <td>232725.000000</td>\n",
              "      <td>2.327250e+05</td>\n",
              "      <td>232725.000000</td>\n",
              "      <td>232725.000000</td>\n",
              "      <td>232725.000000</td>\n",
              "      <td>232725.000000</td>\n",
              "      <td>232725.000000</td>\n",
              "      <td>232725.000000</td>\n",
              "      <td>232725.000000</td>\n",
              "    </tr>\n",
              "    <tr>\n",
              "      <th>mean</th>\n",
              "      <td>41.127502</td>\n",
              "      <td>0.368560</td>\n",
              "      <td>0.554364</td>\n",
              "      <td>2.351223e+05</td>\n",
              "      <td>0.570958</td>\n",
              "      <td>0.148301</td>\n",
              "      <td>0.215009</td>\n",
              "      <td>-9.569885</td>\n",
              "      <td>0.120765</td>\n",
              "      <td>117.666585</td>\n",
              "      <td>0.454917</td>\n",
              "    </tr>\n",
              "    <tr>\n",
              "      <th>std</th>\n",
              "      <td>18.189948</td>\n",
              "      <td>0.354768</td>\n",
              "      <td>0.185608</td>\n",
              "      <td>1.189359e+05</td>\n",
              "      <td>0.263456</td>\n",
              "      <td>0.302768</td>\n",
              "      <td>0.198273</td>\n",
              "      <td>5.998204</td>\n",
              "      <td>0.185518</td>\n",
              "      <td>30.898907</td>\n",
              "      <td>0.260065</td>\n",
              "    </tr>\n",
              "    <tr>\n",
              "      <th>min</th>\n",
              "      <td>0.000000</td>\n",
              "      <td>0.000000</td>\n",
              "      <td>0.056900</td>\n",
              "      <td>1.538700e+04</td>\n",
              "      <td>0.000020</td>\n",
              "      <td>0.000000</td>\n",
              "      <td>0.009670</td>\n",
              "      <td>-52.457000</td>\n",
              "      <td>0.022200</td>\n",
              "      <td>30.379000</td>\n",
              "      <td>0.000000</td>\n",
              "    </tr>\n",
              "    <tr>\n",
              "      <th>25%</th>\n",
              "      <td>29.000000</td>\n",
              "      <td>0.037600</td>\n",
              "      <td>0.435000</td>\n",
              "      <td>1.828570e+05</td>\n",
              "      <td>0.385000</td>\n",
              "      <td>0.000000</td>\n",
              "      <td>0.097400</td>\n",
              "      <td>-11.771000</td>\n",
              "      <td>0.036700</td>\n",
              "      <td>92.959000</td>\n",
              "      <td>0.237000</td>\n",
              "    </tr>\n",
              "    <tr>\n",
              "      <th>50%</th>\n",
              "      <td>43.000000</td>\n",
              "      <td>0.232000</td>\n",
              "      <td>0.571000</td>\n",
              "      <td>2.204270e+05</td>\n",
              "      <td>0.605000</td>\n",
              "      <td>0.000044</td>\n",
              "      <td>0.128000</td>\n",
              "      <td>-7.762000</td>\n",
              "      <td>0.050100</td>\n",
              "      <td>115.778000</td>\n",
              "      <td>0.444000</td>\n",
              "    </tr>\n",
              "    <tr>\n",
              "      <th>75%</th>\n",
              "      <td>55.000000</td>\n",
              "      <td>0.722000</td>\n",
              "      <td>0.692000</td>\n",
              "      <td>2.657680e+05</td>\n",
              "      <td>0.787000</td>\n",
              "      <td>0.035800</td>\n",
              "      <td>0.264000</td>\n",
              "      <td>-5.501000</td>\n",
              "      <td>0.105000</td>\n",
              "      <td>139.054000</td>\n",
              "      <td>0.660000</td>\n",
              "    </tr>\n",
              "    <tr>\n",
              "      <th>max</th>\n",
              "      <td>100.000000</td>\n",
              "      <td>0.996000</td>\n",
              "      <td>0.989000</td>\n",
              "      <td>5.552917e+06</td>\n",
              "      <td>0.999000</td>\n",
              "      <td>0.999000</td>\n",
              "      <td>1.000000</td>\n",
              "      <td>3.744000</td>\n",
              "      <td>0.967000</td>\n",
              "      <td>242.903000</td>\n",
              "      <td>1.000000</td>\n",
              "    </tr>\n",
              "  </tbody>\n",
              "</table>\n",
              "</div>\n",
              "    <div class=\"colab-df-buttons\">\n",
              "\n",
              "  <div class=\"colab-df-container\">\n",
              "    <button class=\"colab-df-convert\" onclick=\"convertToInteractive('df-c631c1b6-2d3b-417e-accc-66393fc50445')\"\n",
              "            title=\"Convert this dataframe to an interactive table.\"\n",
              "            style=\"display:none;\">\n",
              "\n",
              "  <svg xmlns=\"http://www.w3.org/2000/svg\" height=\"24px\" viewBox=\"0 -960 960 960\">\n",
              "    <path d=\"M120-120v-720h720v720H120Zm60-500h600v-160H180v160Zm220 220h160v-160H400v160Zm0 220h160v-160H400v160ZM180-400h160v-160H180v160Zm440 0h160v-160H620v160ZM180-180h160v-160H180v160Zm440 0h160v-160H620v160Z\"/>\n",
              "  </svg>\n",
              "    </button>\n",
              "\n",
              "  <style>\n",
              "    .colab-df-container {\n",
              "      display:flex;\n",
              "      gap: 12px;\n",
              "    }\n",
              "\n",
              "    .colab-df-convert {\n",
              "      background-color: #E8F0FE;\n",
              "      border: none;\n",
              "      border-radius: 50%;\n",
              "      cursor: pointer;\n",
              "      display: none;\n",
              "      fill: #1967D2;\n",
              "      height: 32px;\n",
              "      padding: 0 0 0 0;\n",
              "      width: 32px;\n",
              "    }\n",
              "\n",
              "    .colab-df-convert:hover {\n",
              "      background-color: #E2EBFA;\n",
              "      box-shadow: 0px 1px 2px rgba(60, 64, 67, 0.3), 0px 1px 3px 1px rgba(60, 64, 67, 0.15);\n",
              "      fill: #174EA6;\n",
              "    }\n",
              "\n",
              "    .colab-df-buttons div {\n",
              "      margin-bottom: 4px;\n",
              "    }\n",
              "\n",
              "    [theme=dark] .colab-df-convert {\n",
              "      background-color: #3B4455;\n",
              "      fill: #D2E3FC;\n",
              "    }\n",
              "\n",
              "    [theme=dark] .colab-df-convert:hover {\n",
              "      background-color: #434B5C;\n",
              "      box-shadow: 0px 1px 3px 1px rgba(0, 0, 0, 0.15);\n",
              "      filter: drop-shadow(0px 1px 2px rgba(0, 0, 0, 0.3));\n",
              "      fill: #FFFFFF;\n",
              "    }\n",
              "  </style>\n",
              "\n",
              "    <script>\n",
              "      const buttonEl =\n",
              "        document.querySelector('#df-c631c1b6-2d3b-417e-accc-66393fc50445 button.colab-df-convert');\n",
              "      buttonEl.style.display =\n",
              "        google.colab.kernel.accessAllowed ? 'block' : 'none';\n",
              "\n",
              "      async function convertToInteractive(key) {\n",
              "        const element = document.querySelector('#df-c631c1b6-2d3b-417e-accc-66393fc50445');\n",
              "        const dataTable =\n",
              "          await google.colab.kernel.invokeFunction('convertToInteractive',\n",
              "                                                    [key], {});\n",
              "        if (!dataTable) return;\n",
              "\n",
              "        const docLinkHtml = 'Like what you see? Visit the ' +\n",
              "          '<a target=\"_blank\" href=https://colab.research.google.com/notebooks/data_table.ipynb>data table notebook</a>'\n",
              "          + ' to learn more about interactive tables.';\n",
              "        element.innerHTML = '';\n",
              "        dataTable['output_type'] = 'display_data';\n",
              "        await google.colab.output.renderOutput(dataTable, element);\n",
              "        const docLink = document.createElement('div');\n",
              "        docLink.innerHTML = docLinkHtml;\n",
              "        element.appendChild(docLink);\n",
              "      }\n",
              "    </script>\n",
              "  </div>\n",
              "\n",
              "\n",
              "<div id=\"df-93c18138-4e07-4d84-b5d3-91464db7a65e\">\n",
              "  <button class=\"colab-df-quickchart\" onclick=\"quickchart('df-93c18138-4e07-4d84-b5d3-91464db7a65e')\"\n",
              "            title=\"Suggest charts\"\n",
              "            style=\"display:none;\">\n",
              "\n",
              "<svg xmlns=\"http://www.w3.org/2000/svg\" height=\"24px\"viewBox=\"0 0 24 24\"\n",
              "     width=\"24px\">\n",
              "    <g>\n",
              "        <path d=\"M19 3H5c-1.1 0-2 .9-2 2v14c0 1.1.9 2 2 2h14c1.1 0 2-.9 2-2V5c0-1.1-.9-2-2-2zM9 17H7v-7h2v7zm4 0h-2V7h2v10zm4 0h-2v-4h2v4z\"/>\n",
              "    </g>\n",
              "</svg>\n",
              "  </button>\n",
              "\n",
              "<style>\n",
              "  .colab-df-quickchart {\n",
              "      --bg-color: #E8F0FE;\n",
              "      --fill-color: #1967D2;\n",
              "      --hover-bg-color: #E2EBFA;\n",
              "      --hover-fill-color: #174EA6;\n",
              "      --disabled-fill-color: #AAA;\n",
              "      --disabled-bg-color: #DDD;\n",
              "  }\n",
              "\n",
              "  [theme=dark] .colab-df-quickchart {\n",
              "      --bg-color: #3B4455;\n",
              "      --fill-color: #D2E3FC;\n",
              "      --hover-bg-color: #434B5C;\n",
              "      --hover-fill-color: #FFFFFF;\n",
              "      --disabled-bg-color: #3B4455;\n",
              "      --disabled-fill-color: #666;\n",
              "  }\n",
              "\n",
              "  .colab-df-quickchart {\n",
              "    background-color: var(--bg-color);\n",
              "    border: none;\n",
              "    border-radius: 50%;\n",
              "    cursor: pointer;\n",
              "    display: none;\n",
              "    fill: var(--fill-color);\n",
              "    height: 32px;\n",
              "    padding: 0;\n",
              "    width: 32px;\n",
              "  }\n",
              "\n",
              "  .colab-df-quickchart:hover {\n",
              "    background-color: var(--hover-bg-color);\n",
              "    box-shadow: 0 1px 2px rgba(60, 64, 67, 0.3), 0 1px 3px 1px rgba(60, 64, 67, 0.15);\n",
              "    fill: var(--button-hover-fill-color);\n",
              "  }\n",
              "\n",
              "  .colab-df-quickchart-complete:disabled,\n",
              "  .colab-df-quickchart-complete:disabled:hover {\n",
              "    background-color: var(--disabled-bg-color);\n",
              "    fill: var(--disabled-fill-color);\n",
              "    box-shadow: none;\n",
              "  }\n",
              "\n",
              "  .colab-df-spinner {\n",
              "    border: 2px solid var(--fill-color);\n",
              "    border-color: transparent;\n",
              "    border-bottom-color: var(--fill-color);\n",
              "    animation:\n",
              "      spin 1s steps(1) infinite;\n",
              "  }\n",
              "\n",
              "  @keyframes spin {\n",
              "    0% {\n",
              "      border-color: transparent;\n",
              "      border-bottom-color: var(--fill-color);\n",
              "      border-left-color: var(--fill-color);\n",
              "    }\n",
              "    20% {\n",
              "      border-color: transparent;\n",
              "      border-left-color: var(--fill-color);\n",
              "      border-top-color: var(--fill-color);\n",
              "    }\n",
              "    30% {\n",
              "      border-color: transparent;\n",
              "      border-left-color: var(--fill-color);\n",
              "      border-top-color: var(--fill-color);\n",
              "      border-right-color: var(--fill-color);\n",
              "    }\n",
              "    40% {\n",
              "      border-color: transparent;\n",
              "      border-right-color: var(--fill-color);\n",
              "      border-top-color: var(--fill-color);\n",
              "    }\n",
              "    60% {\n",
              "      border-color: transparent;\n",
              "      border-right-color: var(--fill-color);\n",
              "    }\n",
              "    80% {\n",
              "      border-color: transparent;\n",
              "      border-right-color: var(--fill-color);\n",
              "      border-bottom-color: var(--fill-color);\n",
              "    }\n",
              "    90% {\n",
              "      border-color: transparent;\n",
              "      border-bottom-color: var(--fill-color);\n",
              "    }\n",
              "  }\n",
              "</style>\n",
              "\n",
              "  <script>\n",
              "    async function quickchart(key) {\n",
              "      const quickchartButtonEl =\n",
              "        document.querySelector('#' + key + ' button');\n",
              "      quickchartButtonEl.disabled = true;  // To prevent multiple clicks.\n",
              "      quickchartButtonEl.classList.add('colab-df-spinner');\n",
              "      try {\n",
              "        const charts = await google.colab.kernel.invokeFunction(\n",
              "            'suggestCharts', [key], {});\n",
              "      } catch (error) {\n",
              "        console.error('Error during call to suggestCharts:', error);\n",
              "      }\n",
              "      quickchartButtonEl.classList.remove('colab-df-spinner');\n",
              "      quickchartButtonEl.classList.add('colab-df-quickchart-complete');\n",
              "    }\n",
              "    (() => {\n",
              "      let quickchartButtonEl =\n",
              "        document.querySelector('#df-93c18138-4e07-4d84-b5d3-91464db7a65e button');\n",
              "      quickchartButtonEl.style.display =\n",
              "        google.colab.kernel.accessAllowed ? 'block' : 'none';\n",
              "    })();\n",
              "  </script>\n",
              "</div>\n",
              "    </div>\n",
              "  </div>\n"
            ]
          },
          "metadata": {},
          "execution_count": 5
        }
      ],
      "source": [
        "#looking at the stats of different columns\n",
        "df.describe()"
      ]
    },
    {
      "cell_type": "code",
      "execution_count": null,
      "metadata": {
        "ExecuteTime": {
          "end_time": "2021-05-31T00:05:09.470035Z",
          "start_time": "2021-05-31T00:05:09.362116Z"
        },
        "colab": {
          "base_uri": "https://localhost:8080/"
        },
        "id": "x8uIrNZ0o5uq",
        "outputId": "d07f2ad6-5cd4-43d8-fa05-204dd9dbd16a"
      },
      "outputs": [
        {
          "output_type": "stream",
          "name": "stdout",
          "text": [
            "<class 'pandas.core.frame.DataFrame'>\n",
            "RangeIndex: 232725 entries, 0 to 232724\n",
            "Data columns (total 18 columns):\n",
            " #   Column            Non-Null Count   Dtype  \n",
            "---  ------            --------------   -----  \n",
            " 0   genre             232725 non-null  object \n",
            " 1   artist_name       232725 non-null  object \n",
            " 2   track_name        232725 non-null  object \n",
            " 3   track_id          232725 non-null  object \n",
            " 4   popularity        232725 non-null  int64  \n",
            " 5   acousticness      232725 non-null  float64\n",
            " 6   danceability      232725 non-null  float64\n",
            " 7   duration_ms       232725 non-null  int64  \n",
            " 8   energy            232725 non-null  float64\n",
            " 9   instrumentalness  232725 non-null  float64\n",
            " 10  key               232725 non-null  object \n",
            " 11  liveness          232725 non-null  float64\n",
            " 12  loudness          232725 non-null  float64\n",
            " 13  mode              232725 non-null  object \n",
            " 14  speechiness       232725 non-null  float64\n",
            " 15  tempo             232725 non-null  float64\n",
            " 16  time_signature    232725 non-null  object \n",
            " 17  valence           232725 non-null  float64\n",
            "dtypes: float64(9), int64(2), object(7)\n",
            "memory usage: 32.0+ MB\n"
          ]
        }
      ],
      "source": [
        "df.info()"
      ]
    },
    {
      "cell_type": "markdown",
      "metadata": {
        "id": "MRVvbWovo5uq"
      },
      "source": [
        "We once again see that we have 232,725 tracks in the dataset with both categorical and numerical columns. In order to use the information from the categorical columns ('genre', 'artist_name', 'track_name', 'track_id', 'key', 'mode', 'time_signature') we will either need to represent them numerically by feature engineering or drop them to be able to train the models."
      ]
    },
    {
      "cell_type": "code",
      "execution_count": null,
      "metadata": {
        "ExecuteTime": {
          "end_time": "2021-05-31T00:05:10.205619Z",
          "start_time": "2021-05-31T00:05:09.474032Z"
        },
        "colab": {
          "base_uri": "https://localhost:8080/"
        },
        "id": "9LnEhG1To5uq",
        "outputId": "72ff29b7-d129-4ad6-ba53-ca6a8ded7797"
      },
      "outputs": [
        {
          "output_type": "stream",
          "name": "stdout",
          "text": [
            "Column: genre\n",
            "Comedy              9681\n",
            "Soundtrack          9646\n",
            "Indie               9543\n",
            "Jazz                9441\n",
            "Pop                 9386\n",
            "Electronic          9377\n",
            "Children’s Music    9353\n",
            "Folk                9299\n",
            "Hip-Hop             9295\n",
            "Rock                9272\n",
            "Alternative         9263\n",
            "Classical           9256\n",
            "Rap                 9232\n",
            "World               9096\n",
            "Soul                9089\n",
            "Blues               9023\n",
            "R&B                 8992\n",
            "Anime               8936\n",
            "Reggaeton           8927\n",
            "Ska                 8874\n",
            "Reggae              8771\n",
            "Dance               8701\n",
            "Country             8664\n",
            "Opera               8280\n",
            "Movie               7806\n",
            "Children's Music    5403\n",
            "A Capella            119\n",
            "Name: genre, dtype: int64\n",
            "--------------------\n",
            "Column: artist_name\n",
            "Giuseppe Verdi              1394\n",
            "Giacomo Puccini             1137\n",
            "Kimbo Children's Music       971\n",
            "Nobuo Uematsu                825\n",
            "Richard Wagner               804\n",
            "                            ... \n",
            "Zubin Mehta                    1\n",
            "Shawn Lane                     1\n",
            "Claudio Arrau                  1\n",
            "Charles Daellenbach            1\n",
            "Jr Thomas & The Volcanos       1\n",
            "Name: artist_name, Length: 14564, dtype: int64\n",
            "--------------------\n",
            "Column: track_name\n",
            "Home                                                           100\n",
            "You                                                             71\n",
            "Intro                                                           69\n",
            "Stay                                                            63\n",
            "Wake Up                                                         59\n",
            "                                                              ... \n",
            "Siegfried / Zweiter Aufzug: Vorspiel                             1\n",
            "Die Walküre / Zweiter Aufzug: \"Siegmund! Sieh auf mich!\"         1\n",
            "Puccini: Tosca, Act 1: \"Ah! Finalmente!\" (Angelotti) [Live]      1\n",
            "Harpsichord Sonata No. 11 in F Major: I. Moderato                1\n",
            "You Don't Have To Hurt No More                                   1\n",
            "Name: track_name, Length: 148615, dtype: int64\n",
            "--------------------\n",
            "Column: track_id\n",
            "3R73Y7X53MIQZWnKloWq5i    8\n",
            "0wY9rA9fJkuESyYm9uzVK5    8\n",
            "6sVQNUvcVFTXvlk3ec0ngd    8\n",
            "0UE0RhnRaEYsiYgXpyLoZc    8\n",
            "6AIte2Iej1QKlaofpjCzW1    8\n",
            "                         ..\n",
            "2sERVoTuQG14MKze0PuLZd    1\n",
            "2rQCKDafhIA6GKPGiZsyfI    1\n",
            "150kk5S2hUULZD4yApAwSH    1\n",
            "7cq0WqlooYmk0u2EQeA85S    1\n",
            "34XO9RwPMKjbvRry54QzWn    1\n",
            "Name: track_id, Length: 176774, dtype: int64\n",
            "--------------------\n",
            "Column: popularity\n",
            "0      6312\n",
            "50     5415\n",
            "53     5414\n",
            "51     5401\n",
            "52     5342\n",
            "       ... \n",
            "96        8\n",
            "94        7\n",
            "99        4\n",
            "98        3\n",
            "100       2\n",
            "Name: popularity, Length: 101, dtype: int64\n",
            "--------------------\n",
            "Column: acousticness\n",
            "0.995000    851\n",
            "0.994000    701\n",
            "0.992000    682\n",
            "0.993000    646\n",
            "0.991000    597\n",
            "           ... \n",
            "0.000038      1\n",
            "0.000008      1\n",
            "0.000085      1\n",
            "0.000006      1\n",
            "0.000007      1\n",
            "Name: acousticness, Length: 4734, dtype: int64\n",
            "--------------------\n",
            "Column: danceability\n",
            "0.5970    558\n",
            "0.5470    544\n",
            "0.5890    542\n",
            "0.6100    542\n",
            "0.6220    540\n",
            "         ... \n",
            "0.0922      1\n",
            "0.9700      1\n",
            "0.0868      1\n",
            "0.0572      1\n",
            "0.0570      1\n",
            "Name: danceability, Length: 1295, dtype: int64\n",
            "--------------------\n",
            "Column: duration_ms\n",
            "240000    138\n",
            "180000    120\n",
            "192000    115\n",
            "216000     99\n",
            "200000     85\n",
            "         ... \n",
            "200699      1\n",
            "297501      1\n",
            "255965      1\n",
            "233502      1\n",
            "282447      1\n",
            "Name: duration_ms, Length: 70749, dtype: int64\n",
            "--------------------\n",
            "Column: energy\n",
            "0.72100    417\n",
            "0.67500    403\n",
            "0.72000    392\n",
            "0.68600    389\n",
            "0.73800    389\n",
            "          ... \n",
            "0.00641      1\n",
            "0.00714      1\n",
            "0.00229      1\n",
            "0.00599      1\n",
            "0.00633      1\n",
            "Name: energy, Length: 2517, dtype: int64\n",
            "--------------------\n",
            "Column: instrumentalness\n",
            "0.00000    79236\n",
            "0.91200      235\n",
            "0.91000      230\n",
            "0.92300      222\n",
            "0.91800      222\n",
            "           ...  \n",
            "0.06460        1\n",
            "0.00966        1\n",
            "0.99800        1\n",
            "0.99900        1\n",
            "0.00888        1\n",
            "Name: instrumentalness, Length: 5400, dtype: int64\n",
            "--------------------\n",
            "Column: key\n",
            "C     27583\n",
            "G     26390\n",
            "D     24077\n",
            "C#    23201\n",
            "A     22671\n",
            "F     20279\n",
            "B     17661\n",
            "E     17390\n",
            "A#    15526\n",
            "F#    15222\n",
            "G#    15159\n",
            "D#     7566\n",
            "Name: key, dtype: int64\n",
            "--------------------\n",
            "Column: liveness\n",
            "0.1110    2860\n",
            "0.1100    2702\n",
            "0.1080    2608\n",
            "0.1090    2537\n",
            "0.1070    2451\n",
            "          ... \n",
            "0.0180       1\n",
            "0.0155       1\n",
            "0.0240       1\n",
            "0.0105       1\n",
            "0.0189       1\n",
            "Name: liveness, Length: 1732, dtype: int64\n",
            "--------------------\n",
            "Column: loudness\n",
            "-5.318     57\n",
            "-5.460     52\n",
            "-5.131     51\n",
            "-5.428     51\n",
            "-5.480     50\n",
            "           ..\n",
            "-26.914     1\n",
            "-35.951     1\n",
            "-30.688     1\n",
            "-29.939     1\n",
            "-18.792     1\n",
            "Name: loudness, Length: 27923, dtype: int64\n",
            "--------------------\n",
            "Column: mode\n",
            "Major    151744\n",
            "Minor     80981\n",
            "Name: mode, dtype: int64\n",
            "--------------------\n",
            "Column: speechiness\n",
            "0.0374    663\n",
            "0.0332    654\n",
            "0.0337    652\n",
            "0.0363    650\n",
            "0.0343    642\n",
            "         ... \n",
            "0.5840      1\n",
            "0.7160      1\n",
            "0.6880      1\n",
            "0.9670      1\n",
            "0.5860      1\n",
            "Name: speechiness, Length: 1641, dtype: int64\n",
            "--------------------\n",
            "Column: tempo\n",
            "120.016    61\n",
            "100.003    60\n",
            "100.014    60\n",
            "120.008    59\n",
            "120.003    59\n",
            "           ..\n",
            "173.292     1\n",
            "177.825     1\n",
            "76.708      1\n",
            "64.120      1\n",
            "175.666     1\n",
            "Name: tempo, Length: 78512, dtype: int64\n",
            "--------------------\n",
            "Column: time_signature\n",
            "4/4    200760\n",
            "3/4     24111\n",
            "5/4      5238\n",
            "1/4      2608\n",
            "0/4         8\n",
            "Name: time_signature, dtype: int64\n",
            "--------------------\n",
            "Column: valence\n",
            "0.9610    479\n",
            "0.9620    403\n",
            "0.9630    368\n",
            "0.3700    363\n",
            "0.3580    363\n",
            "         ... \n",
            "0.0205      1\n",
            "0.9950      1\n",
            "0.0193      1\n",
            "0.0247      1\n",
            "0.0248      1\n",
            "Name: valence, Length: 1692, dtype: int64\n",
            "--------------------\n"
          ]
        }
      ],
      "source": [
        "#looking at different values contained within columns\n",
        "for col in df.columns:\n",
        "    print(f\"Column: {col}\")\n",
        "    print(df[col].value_counts())\n",
        "    print(\"--------------------\")"
      ]
    },
    {
      "cell_type": "markdown",
      "metadata": {
        "id": "ojGPBVvXo5uq"
      },
      "source": [
        "There are a couple things that stand out in the value counts of the columns. First one is that we have the \"Children's Music\" genre showing up twice and we have duplicated values in the track_id column."
      ]
    },
    {
      "cell_type": "markdown",
      "metadata": {
        "id": "TQxAnJ6Oo5ur"
      },
      "source": [
        "# SCRUB/EXPLORE"
      ]
    },
    {
      "cell_type": "markdown",
      "metadata": {
        "id": "eYcb9LS4o5ur"
      },
      "source": [
        "## Addressing \"Children's Music\" Character Discrepancy"
      ]
    },
    {
      "cell_type": "code",
      "execution_count": null,
      "metadata": {
        "ExecuteTime": {
          "end_time": "2021-05-31T00:05:10.236602Z",
          "start_time": "2021-05-31T00:05:10.207619Z"
        },
        "scrolled": true,
        "colab": {
          "base_uri": "https://localhost:8080/"
        },
        "id": "TntkMHBWo5ur",
        "outputId": "bce646c9-434d-4a22-ba99-e3c78b6774cf"
      },
      "outputs": [
        {
          "output_type": "execute_result",
          "data": {
            "text/plain": [
              "Comedy              9681\n",
              "Soundtrack          9646\n",
              "Indie               9543\n",
              "Jazz                9441\n",
              "Pop                 9386\n",
              "Electronic          9377\n",
              "Children’s Music    9353\n",
              "Folk                9299\n",
              "Hip-Hop             9295\n",
              "Rock                9272\n",
              "Alternative         9263\n",
              "Classical           9256\n",
              "Rap                 9232\n",
              "World               9096\n",
              "Soul                9089\n",
              "Blues               9023\n",
              "R&B                 8992\n",
              "Anime               8936\n",
              "Reggaeton           8927\n",
              "Ska                 8874\n",
              "Reggae              8771\n",
              "Dance               8701\n",
              "Country             8664\n",
              "Opera               8280\n",
              "Movie               7806\n",
              "Children's Music    5403\n",
              "A Capella            119\n",
              "Name: genre, dtype: int64"
            ]
          },
          "metadata": {},
          "execution_count": 8
        }
      ],
      "source": [
        "df['genre'].value_counts()"
      ]
    },
    {
      "cell_type": "markdown",
      "metadata": {
        "id": "2gf8ZLYso5ur"
      },
      "source": [
        "There are 2 types of \"Children's Music\" values in the genres due to the character used for apostrophe. Since both of these values are meant to show the same thing we need to merge them and achieve consistency."
      ]
    },
    {
      "cell_type": "code",
      "execution_count": null,
      "metadata": {
        "ExecuteTime": {
          "end_time": "2021-05-31T00:05:10.268580Z",
          "start_time": "2021-05-31T00:05:10.238598Z"
        },
        "id": "EIk-EZn3o5ur"
      },
      "outputs": [],
      "source": [
        "df.loc[df['genre']==\"Children’s Music\",'genre']=\"Children's Music\""
      ]
    },
    {
      "cell_type": "code",
      "execution_count": null,
      "metadata": {
        "ExecuteTime": {
          "end_time": "2021-05-31T00:05:10.313551Z",
          "start_time": "2021-05-31T00:05:10.273580Z"
        },
        "colab": {
          "base_uri": "https://localhost:8080/"
        },
        "id": "QEFnYQhEo5ur",
        "outputId": "01a05d84-1c48-4166-973d-cd11b629ce91"
      },
      "outputs": [
        {
          "output_type": "execute_result",
          "data": {
            "text/plain": [
              "Children's Music    14756\n",
              "Comedy               9681\n",
              "Soundtrack           9646\n",
              "Indie                9543\n",
              "Jazz                 9441\n",
              "Pop                  9386\n",
              "Electronic           9377\n",
              "Folk                 9299\n",
              "Hip-Hop              9295\n",
              "Rock                 9272\n",
              "Alternative          9263\n",
              "Classical            9256\n",
              "Rap                  9232\n",
              "World                9096\n",
              "Soul                 9089\n",
              "Blues                9023\n",
              "R&B                  8992\n",
              "Anime                8936\n",
              "Reggaeton            8927\n",
              "Ska                  8874\n",
              "Reggae               8771\n",
              "Dance                8701\n",
              "Country              8664\n",
              "Opera                8280\n",
              "Movie                7806\n",
              "A Capella             119\n",
              "Name: genre, dtype: int64"
            ]
          },
          "metadata": {},
          "execution_count": 10
        }
      ],
      "source": [
        "#verifying that the issue has been resolved\n",
        "df['genre'].value_counts()"
      ]
    },
    {
      "cell_type": "markdown",
      "metadata": {
        "id": "tiehlZMQo5ur"
      },
      "source": [
        "## Missing Values"
      ]
    },
    {
      "cell_type": "code",
      "execution_count": null,
      "metadata": {
        "ExecuteTime": {
          "end_time": "2021-05-31T00:05:10.421486Z",
          "start_time": "2021-05-31T00:05:10.316550Z"
        },
        "colab": {
          "base_uri": "https://localhost:8080/"
        },
        "id": "obr8r6xio5us",
        "outputId": "fc388398-9b9c-4f34-a4f6-b785fd9fc6e7"
      },
      "outputs": [
        {
          "output_type": "execute_result",
          "data": {
            "text/plain": [
              "genre               0\n",
              "artist_name         0\n",
              "track_name          0\n",
              "track_id            0\n",
              "popularity          0\n",
              "acousticness        0\n",
              "danceability        0\n",
              "duration_ms         0\n",
              "energy              0\n",
              "instrumentalness    0\n",
              "key                 0\n",
              "liveness            0\n",
              "loudness            0\n",
              "mode                0\n",
              "speechiness         0\n",
              "tempo               0\n",
              "time_signature      0\n",
              "valence             0\n",
              "dtype: int64"
            ]
          },
          "metadata": {},
          "execution_count": 11
        }
      ],
      "source": [
        "#checking for missing values\n",
        "df.isna().sum()"
      ]
    },
    {
      "cell_type": "markdown",
      "metadata": {
        "id": "j2rRmZYOo5us"
      },
      "source": [
        "We don't have any missing values in our columns so we will move onto check for duplicated rows."
      ]
    },
    {
      "cell_type": "markdown",
      "metadata": {
        "id": "vVwzE1aCo5us"
      },
      "source": [
        "## Addressing Duplicated Tracks"
      ]
    },
    {
      "cell_type": "markdown",
      "metadata": {
        "id": "UqVooBXao5us"
      },
      "source": [
        "We need to take a look and find all duplicated tracks by using their unique id numbers."
      ]
    },
    {
      "cell_type": "code",
      "execution_count": null,
      "metadata": {
        "ExecuteTime": {
          "end_time": "2021-05-31T00:05:10.530431Z",
          "start_time": "2021-05-31T00:05:10.423498Z"
        },
        "colab": {
          "base_uri": "https://localhost:8080/",
          "height": 617
        },
        "id": "m8OZl8rFo5us",
        "outputId": "2ac93fc5-d577-4162-cc57-0e3fe65940e9"
      },
      "outputs": [
        {
          "output_type": "execute_result",
          "data": {
            "text/plain": [
              "              genre   artist_name  \\\n",
              "1348    Alternative      Doja Cat   \n",
              "1385    Alternative   Frank Ocean   \n",
              "1452    Alternative   Frank Ocean   \n",
              "1554    Alternative    Steve Lacy   \n",
              "1634    Alternative      tobi lou   \n",
              "...             ...           ...   \n",
              "232715         Soul    Emily King   \n",
              "232718         Soul  Muddy Waters   \n",
              "232720         Soul         Slave   \n",
              "232722         Soul  Muddy Waters   \n",
              "232723         Soul       R.LUM.R   \n",
              "\n",
              "                                               track_name  \\\n",
              "1348                                           Go To Town   \n",
              "1385                                            Seigfried   \n",
              "1452                                         Bad Religion   \n",
              "1554                                                 Some   \n",
              "1634                                            Buff Baby   \n",
              "...                                                   ...   \n",
              "232715                                               Down   \n",
              "232718  I Just Want To Make Love To You - Electric Mud...   \n",
              "232720                                       Son Of Slide   \n",
              "232722                     (I'm Your) Hoochie Coochie Man   \n",
              "232723                                      With My Words   \n",
              "\n",
              "                      track_id  popularity  acousticness  danceability  \\\n",
              "1348    6iOvnACn4ChlAw4lWUU4dd          64       0.07160         0.710   \n",
              "1385    1BViPjTT585XAhkUUrkts0          61       0.97500         0.377   \n",
              "1452    2pMPWE7PJH1PizfgGRMnR9          56       0.77900         0.276   \n",
              "1554    4riDfclV7kPDT9D58FpmHd          58       0.00548         0.784   \n",
              "1634    1F1QmI8TMHir9SUFrooq5F          59       0.19000         0.736   \n",
              "...                        ...         ...           ...           ...   \n",
              "232715  5cA0vB8c9FMOVDWyJHgf26          42       0.55000         0.394   \n",
              "232718  2HFczeynfKGiM9KF2z2K7K          43       0.01360         0.294   \n",
              "232720  2XGLdVl7lGeq8ksM6Al7jT          39       0.00384         0.687   \n",
              "232722  2ziWXUmQLrXTiYjCg2fZ2t          47       0.90100         0.517   \n",
              "232723  6EFsue2YbIG4Qkq8Zr9Rir          44       0.26200         0.745   \n",
              "\n",
              "        duration_ms  energy  instrumentalness key  liveness  loudness   mode  \\\n",
              "1348         217813   0.710          0.000001   C    0.2060    -2.474  Major   \n",
              "1385         334570   0.255          0.000208   E    0.1020   -11.165  Minor   \n",
              "1452         175453   0.358          0.000003   A    0.0728    -7.684  Major   \n",
              "1554         118393   0.554          0.254000   G    0.0995    -6.417  Major   \n",
              "1634         215385   0.643          0.000000   F    0.1060    -8.636  Major   \n",
              "...             ...     ...               ...  ..       ...       ...    ...   \n",
              "232715       281853   0.346          0.000002   E    0.1290   -13.617  Major   \n",
              "232718       258267   0.739          0.004820   C    0.1380    -7.167  Major   \n",
              "232720       326240   0.714          0.544000   D    0.0845   -10.626  Major   \n",
              "232722       166960   0.419          0.000000   D    0.0945    -8.282  Major   \n",
              "232723       222442   0.704          0.000000   A    0.3330    -7.137  Major   \n",
              "\n",
              "        speechiness    tempo time_signature  valence  \n",
              "1348         0.0579  169.944            4/4    0.700  \n",
              "1385         0.0387  125.004            5/4    0.370  \n",
              "1452         0.0443   81.977            4/4    0.130  \n",
              "1554         0.0300  104.010            4/4    0.634  \n",
              "1634         0.0461  156.002            4/4    0.599  \n",
              "...             ...      ...            ...      ...  \n",
              "232715       0.0635   90.831            4/4    0.436  \n",
              "232718       0.0434  176.402            4/4    0.945  \n",
              "232720       0.0316  115.542            4/4    0.962  \n",
              "232722       0.1480   84.135            4/4    0.813  \n",
              "232723       0.1460  100.031            4/4    0.489  \n",
              "\n",
              "[55951 rows x 18 columns]"
            ],
            "text/html": [
              "\n",
              "  <div id=\"df-4e46bc2c-e797-4969-9469-1c82534e3f49\" class=\"colab-df-container\">\n",
              "    <div>\n",
              "<style scoped>\n",
              "    .dataframe tbody tr th:only-of-type {\n",
              "        vertical-align: middle;\n",
              "    }\n",
              "\n",
              "    .dataframe tbody tr th {\n",
              "        vertical-align: top;\n",
              "    }\n",
              "\n",
              "    .dataframe thead th {\n",
              "        text-align: right;\n",
              "    }\n",
              "</style>\n",
              "<table border=\"1\" class=\"dataframe\">\n",
              "  <thead>\n",
              "    <tr style=\"text-align: right;\">\n",
              "      <th></th>\n",
              "      <th>genre</th>\n",
              "      <th>artist_name</th>\n",
              "      <th>track_name</th>\n",
              "      <th>track_id</th>\n",
              "      <th>popularity</th>\n",
              "      <th>acousticness</th>\n",
              "      <th>danceability</th>\n",
              "      <th>duration_ms</th>\n",
              "      <th>energy</th>\n",
              "      <th>instrumentalness</th>\n",
              "      <th>key</th>\n",
              "      <th>liveness</th>\n",
              "      <th>loudness</th>\n",
              "      <th>mode</th>\n",
              "      <th>speechiness</th>\n",
              "      <th>tempo</th>\n",
              "      <th>time_signature</th>\n",
              "      <th>valence</th>\n",
              "    </tr>\n",
              "  </thead>\n",
              "  <tbody>\n",
              "    <tr>\n",
              "      <th>1348</th>\n",
              "      <td>Alternative</td>\n",
              "      <td>Doja Cat</td>\n",
              "      <td>Go To Town</td>\n",
              "      <td>6iOvnACn4ChlAw4lWUU4dd</td>\n",
              "      <td>64</td>\n",
              "      <td>0.07160</td>\n",
              "      <td>0.710</td>\n",
              "      <td>217813</td>\n",
              "      <td>0.710</td>\n",
              "      <td>0.000001</td>\n",
              "      <td>C</td>\n",
              "      <td>0.2060</td>\n",
              "      <td>-2.474</td>\n",
              "      <td>Major</td>\n",
              "      <td>0.0579</td>\n",
              "      <td>169.944</td>\n",
              "      <td>4/4</td>\n",
              "      <td>0.700</td>\n",
              "    </tr>\n",
              "    <tr>\n",
              "      <th>1385</th>\n",
              "      <td>Alternative</td>\n",
              "      <td>Frank Ocean</td>\n",
              "      <td>Seigfried</td>\n",
              "      <td>1BViPjTT585XAhkUUrkts0</td>\n",
              "      <td>61</td>\n",
              "      <td>0.97500</td>\n",
              "      <td>0.377</td>\n",
              "      <td>334570</td>\n",
              "      <td>0.255</td>\n",
              "      <td>0.000208</td>\n",
              "      <td>E</td>\n",
              "      <td>0.1020</td>\n",
              "      <td>-11.165</td>\n",
              "      <td>Minor</td>\n",
              "      <td>0.0387</td>\n",
              "      <td>125.004</td>\n",
              "      <td>5/4</td>\n",
              "      <td>0.370</td>\n",
              "    </tr>\n",
              "    <tr>\n",
              "      <th>1452</th>\n",
              "      <td>Alternative</td>\n",
              "      <td>Frank Ocean</td>\n",
              "      <td>Bad Religion</td>\n",
              "      <td>2pMPWE7PJH1PizfgGRMnR9</td>\n",
              "      <td>56</td>\n",
              "      <td>0.77900</td>\n",
              "      <td>0.276</td>\n",
              "      <td>175453</td>\n",
              "      <td>0.358</td>\n",
              "      <td>0.000003</td>\n",
              "      <td>A</td>\n",
              "      <td>0.0728</td>\n",
              "      <td>-7.684</td>\n",
              "      <td>Major</td>\n",
              "      <td>0.0443</td>\n",
              "      <td>81.977</td>\n",
              "      <td>4/4</td>\n",
              "      <td>0.130</td>\n",
              "    </tr>\n",
              "    <tr>\n",
              "      <th>1554</th>\n",
              "      <td>Alternative</td>\n",
              "      <td>Steve Lacy</td>\n",
              "      <td>Some</td>\n",
              "      <td>4riDfclV7kPDT9D58FpmHd</td>\n",
              "      <td>58</td>\n",
              "      <td>0.00548</td>\n",
              "      <td>0.784</td>\n",
              "      <td>118393</td>\n",
              "      <td>0.554</td>\n",
              "      <td>0.254000</td>\n",
              "      <td>G</td>\n",
              "      <td>0.0995</td>\n",
              "      <td>-6.417</td>\n",
              "      <td>Major</td>\n",
              "      <td>0.0300</td>\n",
              "      <td>104.010</td>\n",
              "      <td>4/4</td>\n",
              "      <td>0.634</td>\n",
              "    </tr>\n",
              "    <tr>\n",
              "      <th>1634</th>\n",
              "      <td>Alternative</td>\n",
              "      <td>tobi lou</td>\n",
              "      <td>Buff Baby</td>\n",
              "      <td>1F1QmI8TMHir9SUFrooq5F</td>\n",
              "      <td>59</td>\n",
              "      <td>0.19000</td>\n",
              "      <td>0.736</td>\n",
              "      <td>215385</td>\n",
              "      <td>0.643</td>\n",
              "      <td>0.000000</td>\n",
              "      <td>F</td>\n",
              "      <td>0.1060</td>\n",
              "      <td>-8.636</td>\n",
              "      <td>Major</td>\n",
              "      <td>0.0461</td>\n",
              "      <td>156.002</td>\n",
              "      <td>4/4</td>\n",
              "      <td>0.599</td>\n",
              "    </tr>\n",
              "    <tr>\n",
              "      <th>...</th>\n",
              "      <td>...</td>\n",
              "      <td>...</td>\n",
              "      <td>...</td>\n",
              "      <td>...</td>\n",
              "      <td>...</td>\n",
              "      <td>...</td>\n",
              "      <td>...</td>\n",
              "      <td>...</td>\n",
              "      <td>...</td>\n",
              "      <td>...</td>\n",
              "      <td>...</td>\n",
              "      <td>...</td>\n",
              "      <td>...</td>\n",
              "      <td>...</td>\n",
              "      <td>...</td>\n",
              "      <td>...</td>\n",
              "      <td>...</td>\n",
              "      <td>...</td>\n",
              "    </tr>\n",
              "    <tr>\n",
              "      <th>232715</th>\n",
              "      <td>Soul</td>\n",
              "      <td>Emily King</td>\n",
              "      <td>Down</td>\n",
              "      <td>5cA0vB8c9FMOVDWyJHgf26</td>\n",
              "      <td>42</td>\n",
              "      <td>0.55000</td>\n",
              "      <td>0.394</td>\n",
              "      <td>281853</td>\n",
              "      <td>0.346</td>\n",
              "      <td>0.000002</td>\n",
              "      <td>E</td>\n",
              "      <td>0.1290</td>\n",
              "      <td>-13.617</td>\n",
              "      <td>Major</td>\n",
              "      <td>0.0635</td>\n",
              "      <td>90.831</td>\n",
              "      <td>4/4</td>\n",
              "      <td>0.436</td>\n",
              "    </tr>\n",
              "    <tr>\n",
              "      <th>232718</th>\n",
              "      <td>Soul</td>\n",
              "      <td>Muddy Waters</td>\n",
              "      <td>I Just Want To Make Love To You - Electric Mud...</td>\n",
              "      <td>2HFczeynfKGiM9KF2z2K7K</td>\n",
              "      <td>43</td>\n",
              "      <td>0.01360</td>\n",
              "      <td>0.294</td>\n",
              "      <td>258267</td>\n",
              "      <td>0.739</td>\n",
              "      <td>0.004820</td>\n",
              "      <td>C</td>\n",
              "      <td>0.1380</td>\n",
              "      <td>-7.167</td>\n",
              "      <td>Major</td>\n",
              "      <td>0.0434</td>\n",
              "      <td>176.402</td>\n",
              "      <td>4/4</td>\n",
              "      <td>0.945</td>\n",
              "    </tr>\n",
              "    <tr>\n",
              "      <th>232720</th>\n",
              "      <td>Soul</td>\n",
              "      <td>Slave</td>\n",
              "      <td>Son Of Slide</td>\n",
              "      <td>2XGLdVl7lGeq8ksM6Al7jT</td>\n",
              "      <td>39</td>\n",
              "      <td>0.00384</td>\n",
              "      <td>0.687</td>\n",
              "      <td>326240</td>\n",
              "      <td>0.714</td>\n",
              "      <td>0.544000</td>\n",
              "      <td>D</td>\n",
              "      <td>0.0845</td>\n",
              "      <td>-10.626</td>\n",
              "      <td>Major</td>\n",
              "      <td>0.0316</td>\n",
              "      <td>115.542</td>\n",
              "      <td>4/4</td>\n",
              "      <td>0.962</td>\n",
              "    </tr>\n",
              "    <tr>\n",
              "      <th>232722</th>\n",
              "      <td>Soul</td>\n",
              "      <td>Muddy Waters</td>\n",
              "      <td>(I'm Your) Hoochie Coochie Man</td>\n",
              "      <td>2ziWXUmQLrXTiYjCg2fZ2t</td>\n",
              "      <td>47</td>\n",
              "      <td>0.90100</td>\n",
              "      <td>0.517</td>\n",
              "      <td>166960</td>\n",
              "      <td>0.419</td>\n",
              "      <td>0.000000</td>\n",
              "      <td>D</td>\n",
              "      <td>0.0945</td>\n",
              "      <td>-8.282</td>\n",
              "      <td>Major</td>\n",
              "      <td>0.1480</td>\n",
              "      <td>84.135</td>\n",
              "      <td>4/4</td>\n",
              "      <td>0.813</td>\n",
              "    </tr>\n",
              "    <tr>\n",
              "      <th>232723</th>\n",
              "      <td>Soul</td>\n",
              "      <td>R.LUM.R</td>\n",
              "      <td>With My Words</td>\n",
              "      <td>6EFsue2YbIG4Qkq8Zr9Rir</td>\n",
              "      <td>44</td>\n",
              "      <td>0.26200</td>\n",
              "      <td>0.745</td>\n",
              "      <td>222442</td>\n",
              "      <td>0.704</td>\n",
              "      <td>0.000000</td>\n",
              "      <td>A</td>\n",
              "      <td>0.3330</td>\n",
              "      <td>-7.137</td>\n",
              "      <td>Major</td>\n",
              "      <td>0.1460</td>\n",
              "      <td>100.031</td>\n",
              "      <td>4/4</td>\n",
              "      <td>0.489</td>\n",
              "    </tr>\n",
              "  </tbody>\n",
              "</table>\n",
              "<p>55951 rows × 18 columns</p>\n",
              "</div>\n",
              "    <div class=\"colab-df-buttons\">\n",
              "\n",
              "  <div class=\"colab-df-container\">\n",
              "    <button class=\"colab-df-convert\" onclick=\"convertToInteractive('df-4e46bc2c-e797-4969-9469-1c82534e3f49')\"\n",
              "            title=\"Convert this dataframe to an interactive table.\"\n",
              "            style=\"display:none;\">\n",
              "\n",
              "  <svg xmlns=\"http://www.w3.org/2000/svg\" height=\"24px\" viewBox=\"0 -960 960 960\">\n",
              "    <path d=\"M120-120v-720h720v720H120Zm60-500h600v-160H180v160Zm220 220h160v-160H400v160Zm0 220h160v-160H400v160ZM180-400h160v-160H180v160Zm440 0h160v-160H620v160ZM180-180h160v-160H180v160Zm440 0h160v-160H620v160Z\"/>\n",
              "  </svg>\n",
              "    </button>\n",
              "\n",
              "  <style>\n",
              "    .colab-df-container {\n",
              "      display:flex;\n",
              "      gap: 12px;\n",
              "    }\n",
              "\n",
              "    .colab-df-convert {\n",
              "      background-color: #E8F0FE;\n",
              "      border: none;\n",
              "      border-radius: 50%;\n",
              "      cursor: pointer;\n",
              "      display: none;\n",
              "      fill: #1967D2;\n",
              "      height: 32px;\n",
              "      padding: 0 0 0 0;\n",
              "      width: 32px;\n",
              "    }\n",
              "\n",
              "    .colab-df-convert:hover {\n",
              "      background-color: #E2EBFA;\n",
              "      box-shadow: 0px 1px 2px rgba(60, 64, 67, 0.3), 0px 1px 3px 1px rgba(60, 64, 67, 0.15);\n",
              "      fill: #174EA6;\n",
              "    }\n",
              "\n",
              "    .colab-df-buttons div {\n",
              "      margin-bottom: 4px;\n",
              "    }\n",
              "\n",
              "    [theme=dark] .colab-df-convert {\n",
              "      background-color: #3B4455;\n",
              "      fill: #D2E3FC;\n",
              "    }\n",
              "\n",
              "    [theme=dark] .colab-df-convert:hover {\n",
              "      background-color: #434B5C;\n",
              "      box-shadow: 0px 1px 3px 1px rgba(0, 0, 0, 0.15);\n",
              "      filter: drop-shadow(0px 1px 2px rgba(0, 0, 0, 0.3));\n",
              "      fill: #FFFFFF;\n",
              "    }\n",
              "  </style>\n",
              "\n",
              "    <script>\n",
              "      const buttonEl =\n",
              "        document.querySelector('#df-4e46bc2c-e797-4969-9469-1c82534e3f49 button.colab-df-convert');\n",
              "      buttonEl.style.display =\n",
              "        google.colab.kernel.accessAllowed ? 'block' : 'none';\n",
              "\n",
              "      async function convertToInteractive(key) {\n",
              "        const element = document.querySelector('#df-4e46bc2c-e797-4969-9469-1c82534e3f49');\n",
              "        const dataTable =\n",
              "          await google.colab.kernel.invokeFunction('convertToInteractive',\n",
              "                                                    [key], {});\n",
              "        if (!dataTable) return;\n",
              "\n",
              "        const docLinkHtml = 'Like what you see? Visit the ' +\n",
              "          '<a target=\"_blank\" href=https://colab.research.google.com/notebooks/data_table.ipynb>data table notebook</a>'\n",
              "          + ' to learn more about interactive tables.';\n",
              "        element.innerHTML = '';\n",
              "        dataTable['output_type'] = 'display_data';\n",
              "        await google.colab.output.renderOutput(dataTable, element);\n",
              "        const docLink = document.createElement('div');\n",
              "        docLink.innerHTML = docLinkHtml;\n",
              "        element.appendChild(docLink);\n",
              "      }\n",
              "    </script>\n",
              "  </div>\n",
              "\n",
              "\n",
              "<div id=\"df-68c601e1-e1bc-44a8-94da-adc7edafe3f9\">\n",
              "  <button class=\"colab-df-quickchart\" onclick=\"quickchart('df-68c601e1-e1bc-44a8-94da-adc7edafe3f9')\"\n",
              "            title=\"Suggest charts\"\n",
              "            style=\"display:none;\">\n",
              "\n",
              "<svg xmlns=\"http://www.w3.org/2000/svg\" height=\"24px\"viewBox=\"0 0 24 24\"\n",
              "     width=\"24px\">\n",
              "    <g>\n",
              "        <path d=\"M19 3H5c-1.1 0-2 .9-2 2v14c0 1.1.9 2 2 2h14c1.1 0 2-.9 2-2V5c0-1.1-.9-2-2-2zM9 17H7v-7h2v7zm4 0h-2V7h2v10zm4 0h-2v-4h2v4z\"/>\n",
              "    </g>\n",
              "</svg>\n",
              "  </button>\n",
              "\n",
              "<style>\n",
              "  .colab-df-quickchart {\n",
              "      --bg-color: #E8F0FE;\n",
              "      --fill-color: #1967D2;\n",
              "      --hover-bg-color: #E2EBFA;\n",
              "      --hover-fill-color: #174EA6;\n",
              "      --disabled-fill-color: #AAA;\n",
              "      --disabled-bg-color: #DDD;\n",
              "  }\n",
              "\n",
              "  [theme=dark] .colab-df-quickchart {\n",
              "      --bg-color: #3B4455;\n",
              "      --fill-color: #D2E3FC;\n",
              "      --hover-bg-color: #434B5C;\n",
              "      --hover-fill-color: #FFFFFF;\n",
              "      --disabled-bg-color: #3B4455;\n",
              "      --disabled-fill-color: #666;\n",
              "  }\n",
              "\n",
              "  .colab-df-quickchart {\n",
              "    background-color: var(--bg-color);\n",
              "    border: none;\n",
              "    border-radius: 50%;\n",
              "    cursor: pointer;\n",
              "    display: none;\n",
              "    fill: var(--fill-color);\n",
              "    height: 32px;\n",
              "    padding: 0;\n",
              "    width: 32px;\n",
              "  }\n",
              "\n",
              "  .colab-df-quickchart:hover {\n",
              "    background-color: var(--hover-bg-color);\n",
              "    box-shadow: 0 1px 2px rgba(60, 64, 67, 0.3), 0 1px 3px 1px rgba(60, 64, 67, 0.15);\n",
              "    fill: var(--button-hover-fill-color);\n",
              "  }\n",
              "\n",
              "  .colab-df-quickchart-complete:disabled,\n",
              "  .colab-df-quickchart-complete:disabled:hover {\n",
              "    background-color: var(--disabled-bg-color);\n",
              "    fill: var(--disabled-fill-color);\n",
              "    box-shadow: none;\n",
              "  }\n",
              "\n",
              "  .colab-df-spinner {\n",
              "    border: 2px solid var(--fill-color);\n",
              "    border-color: transparent;\n",
              "    border-bottom-color: var(--fill-color);\n",
              "    animation:\n",
              "      spin 1s steps(1) infinite;\n",
              "  }\n",
              "\n",
              "  @keyframes spin {\n",
              "    0% {\n",
              "      border-color: transparent;\n",
              "      border-bottom-color: var(--fill-color);\n",
              "      border-left-color: var(--fill-color);\n",
              "    }\n",
              "    20% {\n",
              "      border-color: transparent;\n",
              "      border-left-color: var(--fill-color);\n",
              "      border-top-color: var(--fill-color);\n",
              "    }\n",
              "    30% {\n",
              "      border-color: transparent;\n",
              "      border-left-color: var(--fill-color);\n",
              "      border-top-color: var(--fill-color);\n",
              "      border-right-color: var(--fill-color);\n",
              "    }\n",
              "    40% {\n",
              "      border-color: transparent;\n",
              "      border-right-color: var(--fill-color);\n",
              "      border-top-color: var(--fill-color);\n",
              "    }\n",
              "    60% {\n",
              "      border-color: transparent;\n",
              "      border-right-color: var(--fill-color);\n",
              "    }\n",
              "    80% {\n",
              "      border-color: transparent;\n",
              "      border-right-color: var(--fill-color);\n",
              "      border-bottom-color: var(--fill-color);\n",
              "    }\n",
              "    90% {\n",
              "      border-color: transparent;\n",
              "      border-bottom-color: var(--fill-color);\n",
              "    }\n",
              "  }\n",
              "</style>\n",
              "\n",
              "  <script>\n",
              "    async function quickchart(key) {\n",
              "      const quickchartButtonEl =\n",
              "        document.querySelector('#' + key + ' button');\n",
              "      quickchartButtonEl.disabled = true;  // To prevent multiple clicks.\n",
              "      quickchartButtonEl.classList.add('colab-df-spinner');\n",
              "      try {\n",
              "        const charts = await google.colab.kernel.invokeFunction(\n",
              "            'suggestCharts', [key], {});\n",
              "      } catch (error) {\n",
              "        console.error('Error during call to suggestCharts:', error);\n",
              "      }\n",
              "      quickchartButtonEl.classList.remove('colab-df-spinner');\n",
              "      quickchartButtonEl.classList.add('colab-df-quickchart-complete');\n",
              "    }\n",
              "    (() => {\n",
              "      let quickchartButtonEl =\n",
              "        document.querySelector('#df-68c601e1-e1bc-44a8-94da-adc7edafe3f9 button');\n",
              "      quickchartButtonEl.style.display =\n",
              "        google.colab.kernel.accessAllowed ? 'block' : 'none';\n",
              "    })();\n",
              "  </script>\n",
              "</div>\n",
              "    </div>\n",
              "  </div>\n"
            ]
          },
          "metadata": {},
          "execution_count": 12
        }
      ],
      "source": [
        "df[df['track_id'].duplicated()]"
      ]
    },
    {
      "cell_type": "markdown",
      "metadata": {
        "id": "DIguQI4Xo5us"
      },
      "source": [
        "We have 55,951 duplicated rows that we need to address. Before we can address these duplications though we need to see what the cause of the duplicates are."
      ]
    },
    {
      "cell_type": "code",
      "execution_count": null,
      "metadata": {
        "ExecuteTime": {
          "end_time": "2021-05-31T00:05:10.578390Z",
          "start_time": "2021-05-31T00:05:10.532417Z"
        },
        "colab": {
          "base_uri": "https://localhost:8080/",
          "height": 243
        },
        "id": "EO6VHYiQo5us",
        "outputId": "ea0a6005-87ed-4a3e-bdaa-a0a09bea8956"
      },
      "outputs": [
        {
          "output_type": "execute_result",
          "data": {
            "text/plain": [
              "                   genre artist_name  track_name                track_id  \\\n",
              "257                  R&B    Doja Cat  Go To Town  6iOvnACn4ChlAw4lWUU4dd   \n",
              "1348         Alternative    Doja Cat  Go To Town  6iOvnACn4ChlAw4lWUU4dd   \n",
              "77710   Children's Music    Doja Cat  Go To Town  6iOvnACn4ChlAw4lWUU4dd   \n",
              "93651              Indie    Doja Cat  Go To Town  6iOvnACn4ChlAw4lWUU4dd   \n",
              "113770               Pop    Doja Cat  Go To Town  6iOvnACn4ChlAw4lWUU4dd   \n",
              "\n",
              "        popularity  acousticness  danceability  duration_ms  energy  \\\n",
              "257             64        0.0716          0.71       217813    0.71   \n",
              "1348            64        0.0716          0.71       217813    0.71   \n",
              "77710           64        0.0716          0.71       217813    0.71   \n",
              "93651           64        0.0716          0.71       217813    0.71   \n",
              "113770          64        0.0716          0.71       217813    0.71   \n",
              "\n",
              "        instrumentalness key  liveness  loudness   mode  speechiness    tempo  \\\n",
              "257             0.000001   C     0.206    -2.474  Major       0.0579  169.944   \n",
              "1348            0.000001   C     0.206    -2.474  Major       0.0579  169.944   \n",
              "77710           0.000001   C     0.206    -2.474  Major       0.0579  169.944   \n",
              "93651           0.000001   C     0.206    -2.474  Major       0.0579  169.944   \n",
              "113770          0.000001   C     0.206    -2.474  Major       0.0579  169.944   \n",
              "\n",
              "       time_signature  valence  \n",
              "257               4/4      0.7  \n",
              "1348              4/4      0.7  \n",
              "77710             4/4      0.7  \n",
              "93651             4/4      0.7  \n",
              "113770            4/4      0.7  "
            ],
            "text/html": [
              "\n",
              "  <div id=\"df-b81e2ce3-bdfc-4369-9bf6-6bddb3754212\" class=\"colab-df-container\">\n",
              "    <div>\n",
              "<style scoped>\n",
              "    .dataframe tbody tr th:only-of-type {\n",
              "        vertical-align: middle;\n",
              "    }\n",
              "\n",
              "    .dataframe tbody tr th {\n",
              "        vertical-align: top;\n",
              "    }\n",
              "\n",
              "    .dataframe thead th {\n",
              "        text-align: right;\n",
              "    }\n",
              "</style>\n",
              "<table border=\"1\" class=\"dataframe\">\n",
              "  <thead>\n",
              "    <tr style=\"text-align: right;\">\n",
              "      <th></th>\n",
              "      <th>genre</th>\n",
              "      <th>artist_name</th>\n",
              "      <th>track_name</th>\n",
              "      <th>track_id</th>\n",
              "      <th>popularity</th>\n",
              "      <th>acousticness</th>\n",
              "      <th>danceability</th>\n",
              "      <th>duration_ms</th>\n",
              "      <th>energy</th>\n",
              "      <th>instrumentalness</th>\n",
              "      <th>key</th>\n",
              "      <th>liveness</th>\n",
              "      <th>loudness</th>\n",
              "      <th>mode</th>\n",
              "      <th>speechiness</th>\n",
              "      <th>tempo</th>\n",
              "      <th>time_signature</th>\n",
              "      <th>valence</th>\n",
              "    </tr>\n",
              "  </thead>\n",
              "  <tbody>\n",
              "    <tr>\n",
              "      <th>257</th>\n",
              "      <td>R&amp;B</td>\n",
              "      <td>Doja Cat</td>\n",
              "      <td>Go To Town</td>\n",
              "      <td>6iOvnACn4ChlAw4lWUU4dd</td>\n",
              "      <td>64</td>\n",
              "      <td>0.0716</td>\n",
              "      <td>0.71</td>\n",
              "      <td>217813</td>\n",
              "      <td>0.71</td>\n",
              "      <td>0.000001</td>\n",
              "      <td>C</td>\n",
              "      <td>0.206</td>\n",
              "      <td>-2.474</td>\n",
              "      <td>Major</td>\n",
              "      <td>0.0579</td>\n",
              "      <td>169.944</td>\n",
              "      <td>4/4</td>\n",
              "      <td>0.7</td>\n",
              "    </tr>\n",
              "    <tr>\n",
              "      <th>1348</th>\n",
              "      <td>Alternative</td>\n",
              "      <td>Doja Cat</td>\n",
              "      <td>Go To Town</td>\n",
              "      <td>6iOvnACn4ChlAw4lWUU4dd</td>\n",
              "      <td>64</td>\n",
              "      <td>0.0716</td>\n",
              "      <td>0.71</td>\n",
              "      <td>217813</td>\n",
              "      <td>0.71</td>\n",
              "      <td>0.000001</td>\n",
              "      <td>C</td>\n",
              "      <td>0.206</td>\n",
              "      <td>-2.474</td>\n",
              "      <td>Major</td>\n",
              "      <td>0.0579</td>\n",
              "      <td>169.944</td>\n",
              "      <td>4/4</td>\n",
              "      <td>0.7</td>\n",
              "    </tr>\n",
              "    <tr>\n",
              "      <th>77710</th>\n",
              "      <td>Children's Music</td>\n",
              "      <td>Doja Cat</td>\n",
              "      <td>Go To Town</td>\n",
              "      <td>6iOvnACn4ChlAw4lWUU4dd</td>\n",
              "      <td>64</td>\n",
              "      <td>0.0716</td>\n",
              "      <td>0.71</td>\n",
              "      <td>217813</td>\n",
              "      <td>0.71</td>\n",
              "      <td>0.000001</td>\n",
              "      <td>C</td>\n",
              "      <td>0.206</td>\n",
              "      <td>-2.474</td>\n",
              "      <td>Major</td>\n",
              "      <td>0.0579</td>\n",
              "      <td>169.944</td>\n",
              "      <td>4/4</td>\n",
              "      <td>0.7</td>\n",
              "    </tr>\n",
              "    <tr>\n",
              "      <th>93651</th>\n",
              "      <td>Indie</td>\n",
              "      <td>Doja Cat</td>\n",
              "      <td>Go To Town</td>\n",
              "      <td>6iOvnACn4ChlAw4lWUU4dd</td>\n",
              "      <td>64</td>\n",
              "      <td>0.0716</td>\n",
              "      <td>0.71</td>\n",
              "      <td>217813</td>\n",
              "      <td>0.71</td>\n",
              "      <td>0.000001</td>\n",
              "      <td>C</td>\n",
              "      <td>0.206</td>\n",
              "      <td>-2.474</td>\n",
              "      <td>Major</td>\n",
              "      <td>0.0579</td>\n",
              "      <td>169.944</td>\n",
              "      <td>4/4</td>\n",
              "      <td>0.7</td>\n",
              "    </tr>\n",
              "    <tr>\n",
              "      <th>113770</th>\n",
              "      <td>Pop</td>\n",
              "      <td>Doja Cat</td>\n",
              "      <td>Go To Town</td>\n",
              "      <td>6iOvnACn4ChlAw4lWUU4dd</td>\n",
              "      <td>64</td>\n",
              "      <td>0.0716</td>\n",
              "      <td>0.71</td>\n",
              "      <td>217813</td>\n",
              "      <td>0.71</td>\n",
              "      <td>0.000001</td>\n",
              "      <td>C</td>\n",
              "      <td>0.206</td>\n",
              "      <td>-2.474</td>\n",
              "      <td>Major</td>\n",
              "      <td>0.0579</td>\n",
              "      <td>169.944</td>\n",
              "      <td>4/4</td>\n",
              "      <td>0.7</td>\n",
              "    </tr>\n",
              "  </tbody>\n",
              "</table>\n",
              "</div>\n",
              "    <div class=\"colab-df-buttons\">\n",
              "\n",
              "  <div class=\"colab-df-container\">\n",
              "    <button class=\"colab-df-convert\" onclick=\"convertToInteractive('df-b81e2ce3-bdfc-4369-9bf6-6bddb3754212')\"\n",
              "            title=\"Convert this dataframe to an interactive table.\"\n",
              "            style=\"display:none;\">\n",
              "\n",
              "  <svg xmlns=\"http://www.w3.org/2000/svg\" height=\"24px\" viewBox=\"0 -960 960 960\">\n",
              "    <path d=\"M120-120v-720h720v720H120Zm60-500h600v-160H180v160Zm220 220h160v-160H400v160Zm0 220h160v-160H400v160ZM180-400h160v-160H180v160Zm440 0h160v-160H620v160ZM180-180h160v-160H180v160Zm440 0h160v-160H620v160Z\"/>\n",
              "  </svg>\n",
              "    </button>\n",
              "\n",
              "  <style>\n",
              "    .colab-df-container {\n",
              "      display:flex;\n",
              "      gap: 12px;\n",
              "    }\n",
              "\n",
              "    .colab-df-convert {\n",
              "      background-color: #E8F0FE;\n",
              "      border: none;\n",
              "      border-radius: 50%;\n",
              "      cursor: pointer;\n",
              "      display: none;\n",
              "      fill: #1967D2;\n",
              "      height: 32px;\n",
              "      padding: 0 0 0 0;\n",
              "      width: 32px;\n",
              "    }\n",
              "\n",
              "    .colab-df-convert:hover {\n",
              "      background-color: #E2EBFA;\n",
              "      box-shadow: 0px 1px 2px rgba(60, 64, 67, 0.3), 0px 1px 3px 1px rgba(60, 64, 67, 0.15);\n",
              "      fill: #174EA6;\n",
              "    }\n",
              "\n",
              "    .colab-df-buttons div {\n",
              "      margin-bottom: 4px;\n",
              "    }\n",
              "\n",
              "    [theme=dark] .colab-df-convert {\n",
              "      background-color: #3B4455;\n",
              "      fill: #D2E3FC;\n",
              "    }\n",
              "\n",
              "    [theme=dark] .colab-df-convert:hover {\n",
              "      background-color: #434B5C;\n",
              "      box-shadow: 0px 1px 3px 1px rgba(0, 0, 0, 0.15);\n",
              "      filter: drop-shadow(0px 1px 2px rgba(0, 0, 0, 0.3));\n",
              "      fill: #FFFFFF;\n",
              "    }\n",
              "  </style>\n",
              "\n",
              "    <script>\n",
              "      const buttonEl =\n",
              "        document.querySelector('#df-b81e2ce3-bdfc-4369-9bf6-6bddb3754212 button.colab-df-convert');\n",
              "      buttonEl.style.display =\n",
              "        google.colab.kernel.accessAllowed ? 'block' : 'none';\n",
              "\n",
              "      async function convertToInteractive(key) {\n",
              "        const element = document.querySelector('#df-b81e2ce3-bdfc-4369-9bf6-6bddb3754212');\n",
              "        const dataTable =\n",
              "          await google.colab.kernel.invokeFunction('convertToInteractive',\n",
              "                                                    [key], {});\n",
              "        if (!dataTable) return;\n",
              "\n",
              "        const docLinkHtml = 'Like what you see? Visit the ' +\n",
              "          '<a target=\"_blank\" href=https://colab.research.google.com/notebooks/data_table.ipynb>data table notebook</a>'\n",
              "          + ' to learn more about interactive tables.';\n",
              "        element.innerHTML = '';\n",
              "        dataTable['output_type'] = 'display_data';\n",
              "        await google.colab.output.renderOutput(dataTable, element);\n",
              "        const docLink = document.createElement('div');\n",
              "        docLink.innerHTML = docLinkHtml;\n",
              "        element.appendChild(docLink);\n",
              "      }\n",
              "    </script>\n",
              "  </div>\n",
              "\n",
              "\n",
              "<div id=\"df-aa2b2a74-1c72-4cb4-aa9e-71c33cc531c2\">\n",
              "  <button class=\"colab-df-quickchart\" onclick=\"quickchart('df-aa2b2a74-1c72-4cb4-aa9e-71c33cc531c2')\"\n",
              "            title=\"Suggest charts\"\n",
              "            style=\"display:none;\">\n",
              "\n",
              "<svg xmlns=\"http://www.w3.org/2000/svg\" height=\"24px\"viewBox=\"0 0 24 24\"\n",
              "     width=\"24px\">\n",
              "    <g>\n",
              "        <path d=\"M19 3H5c-1.1 0-2 .9-2 2v14c0 1.1.9 2 2 2h14c1.1 0 2-.9 2-2V5c0-1.1-.9-2-2-2zM9 17H7v-7h2v7zm4 0h-2V7h2v10zm4 0h-2v-4h2v4z\"/>\n",
              "    </g>\n",
              "</svg>\n",
              "  </button>\n",
              "\n",
              "<style>\n",
              "  .colab-df-quickchart {\n",
              "      --bg-color: #E8F0FE;\n",
              "      --fill-color: #1967D2;\n",
              "      --hover-bg-color: #E2EBFA;\n",
              "      --hover-fill-color: #174EA6;\n",
              "      --disabled-fill-color: #AAA;\n",
              "      --disabled-bg-color: #DDD;\n",
              "  }\n",
              "\n",
              "  [theme=dark] .colab-df-quickchart {\n",
              "      --bg-color: #3B4455;\n",
              "      --fill-color: #D2E3FC;\n",
              "      --hover-bg-color: #434B5C;\n",
              "      --hover-fill-color: #FFFFFF;\n",
              "      --disabled-bg-color: #3B4455;\n",
              "      --disabled-fill-color: #666;\n",
              "  }\n",
              "\n",
              "  .colab-df-quickchart {\n",
              "    background-color: var(--bg-color);\n",
              "    border: none;\n",
              "    border-radius: 50%;\n",
              "    cursor: pointer;\n",
              "    display: none;\n",
              "    fill: var(--fill-color);\n",
              "    height: 32px;\n",
              "    padding: 0;\n",
              "    width: 32px;\n",
              "  }\n",
              "\n",
              "  .colab-df-quickchart:hover {\n",
              "    background-color: var(--hover-bg-color);\n",
              "    box-shadow: 0 1px 2px rgba(60, 64, 67, 0.3), 0 1px 3px 1px rgba(60, 64, 67, 0.15);\n",
              "    fill: var(--button-hover-fill-color);\n",
              "  }\n",
              "\n",
              "  .colab-df-quickchart-complete:disabled,\n",
              "  .colab-df-quickchart-complete:disabled:hover {\n",
              "    background-color: var(--disabled-bg-color);\n",
              "    fill: var(--disabled-fill-color);\n",
              "    box-shadow: none;\n",
              "  }\n",
              "\n",
              "  .colab-df-spinner {\n",
              "    border: 2px solid var(--fill-color);\n",
              "    border-color: transparent;\n",
              "    border-bottom-color: var(--fill-color);\n",
              "    animation:\n",
              "      spin 1s steps(1) infinite;\n",
              "  }\n",
              "\n",
              "  @keyframes spin {\n",
              "    0% {\n",
              "      border-color: transparent;\n",
              "      border-bottom-color: var(--fill-color);\n",
              "      border-left-color: var(--fill-color);\n",
              "    }\n",
              "    20% {\n",
              "      border-color: transparent;\n",
              "      border-left-color: var(--fill-color);\n",
              "      border-top-color: var(--fill-color);\n",
              "    }\n",
              "    30% {\n",
              "      border-color: transparent;\n",
              "      border-left-color: var(--fill-color);\n",
              "      border-top-color: var(--fill-color);\n",
              "      border-right-color: var(--fill-color);\n",
              "    }\n",
              "    40% {\n",
              "      border-color: transparent;\n",
              "      border-right-color: var(--fill-color);\n",
              "      border-top-color: var(--fill-color);\n",
              "    }\n",
              "    60% {\n",
              "      border-color: transparent;\n",
              "      border-right-color: var(--fill-color);\n",
              "    }\n",
              "    80% {\n",
              "      border-color: transparent;\n",
              "      border-right-color: var(--fill-color);\n",
              "      border-bottom-color: var(--fill-color);\n",
              "    }\n",
              "    90% {\n",
              "      border-color: transparent;\n",
              "      border-bottom-color: var(--fill-color);\n",
              "    }\n",
              "  }\n",
              "</style>\n",
              "\n",
              "  <script>\n",
              "    async function quickchart(key) {\n",
              "      const quickchartButtonEl =\n",
              "        document.querySelector('#' + key + ' button');\n",
              "      quickchartButtonEl.disabled = true;  // To prevent multiple clicks.\n",
              "      quickchartButtonEl.classList.add('colab-df-spinner');\n",
              "      try {\n",
              "        const charts = await google.colab.kernel.invokeFunction(\n",
              "            'suggestCharts', [key], {});\n",
              "      } catch (error) {\n",
              "        console.error('Error during call to suggestCharts:', error);\n",
              "      }\n",
              "      quickchartButtonEl.classList.remove('colab-df-spinner');\n",
              "      quickchartButtonEl.classList.add('colab-df-quickchart-complete');\n",
              "    }\n",
              "    (() => {\n",
              "      let quickchartButtonEl =\n",
              "        document.querySelector('#df-aa2b2a74-1c72-4cb4-aa9e-71c33cc531c2 button');\n",
              "      quickchartButtonEl.style.display =\n",
              "        google.colab.kernel.accessAllowed ? 'block' : 'none';\n",
              "    })();\n",
              "  </script>\n",
              "</div>\n",
              "    </div>\n",
              "  </div>\n"
            ]
          },
          "metadata": {},
          "execution_count": 13
        }
      ],
      "source": [
        "#checking rows for duplicated ids to see differences\n",
        "df[df['track_id']=='6iOvnACn4ChlAw4lWUU4dd']"
      ]
    },
    {
      "cell_type": "code",
      "execution_count": null,
      "metadata": {
        "ExecuteTime": {
          "end_time": "2021-05-31T00:05:10.656338Z",
          "start_time": "2021-05-31T00:05:10.581386Z"
        },
        "colab": {
          "base_uri": "https://localhost:8080/",
          "height": 167
        },
        "id": "0o-n1zUeo5ut",
        "outputId": "0e4eb67e-65c3-4d48-8d0b-a239cc579ce7"
      },
      "outputs": [
        {
          "output_type": "execute_result",
          "data": {
            "text/plain": [
              "       genre artist_name    track_name                track_id  popularity  \\\n",
              "179212  Jazz       Slave  Son Of Slide  2XGLdVl7lGeq8ksM6Al7jT          39   \n",
              "232720  Soul       Slave  Son Of Slide  2XGLdVl7lGeq8ksM6Al7jT          39   \n",
              "\n",
              "        acousticness  danceability  duration_ms  energy  instrumentalness key  \\\n",
              "179212       0.00384         0.687       326240   0.714             0.544   D   \n",
              "232720       0.00384         0.687       326240   0.714             0.544   D   \n",
              "\n",
              "        liveness  loudness   mode  speechiness    tempo time_signature  \\\n",
              "179212    0.0845   -10.626  Major       0.0316  115.542            4/4   \n",
              "232720    0.0845   -10.626  Major       0.0316  115.542            4/4   \n",
              "\n",
              "        valence  \n",
              "179212    0.962  \n",
              "232720    0.962  "
            ],
            "text/html": [
              "\n",
              "  <div id=\"df-eff76b82-4091-4d41-8210-ade1e8663340\" class=\"colab-df-container\">\n",
              "    <div>\n",
              "<style scoped>\n",
              "    .dataframe tbody tr th:only-of-type {\n",
              "        vertical-align: middle;\n",
              "    }\n",
              "\n",
              "    .dataframe tbody tr th {\n",
              "        vertical-align: top;\n",
              "    }\n",
              "\n",
              "    .dataframe thead th {\n",
              "        text-align: right;\n",
              "    }\n",
              "</style>\n",
              "<table border=\"1\" class=\"dataframe\">\n",
              "  <thead>\n",
              "    <tr style=\"text-align: right;\">\n",
              "      <th></th>\n",
              "      <th>genre</th>\n",
              "      <th>artist_name</th>\n",
              "      <th>track_name</th>\n",
              "      <th>track_id</th>\n",
              "      <th>popularity</th>\n",
              "      <th>acousticness</th>\n",
              "      <th>danceability</th>\n",
              "      <th>duration_ms</th>\n",
              "      <th>energy</th>\n",
              "      <th>instrumentalness</th>\n",
              "      <th>key</th>\n",
              "      <th>liveness</th>\n",
              "      <th>loudness</th>\n",
              "      <th>mode</th>\n",
              "      <th>speechiness</th>\n",
              "      <th>tempo</th>\n",
              "      <th>time_signature</th>\n",
              "      <th>valence</th>\n",
              "    </tr>\n",
              "  </thead>\n",
              "  <tbody>\n",
              "    <tr>\n",
              "      <th>179212</th>\n",
              "      <td>Jazz</td>\n",
              "      <td>Slave</td>\n",
              "      <td>Son Of Slide</td>\n",
              "      <td>2XGLdVl7lGeq8ksM6Al7jT</td>\n",
              "      <td>39</td>\n",
              "      <td>0.00384</td>\n",
              "      <td>0.687</td>\n",
              "      <td>326240</td>\n",
              "      <td>0.714</td>\n",
              "      <td>0.544</td>\n",
              "      <td>D</td>\n",
              "      <td>0.0845</td>\n",
              "      <td>-10.626</td>\n",
              "      <td>Major</td>\n",
              "      <td>0.0316</td>\n",
              "      <td>115.542</td>\n",
              "      <td>4/4</td>\n",
              "      <td>0.962</td>\n",
              "    </tr>\n",
              "    <tr>\n",
              "      <th>232720</th>\n",
              "      <td>Soul</td>\n",
              "      <td>Slave</td>\n",
              "      <td>Son Of Slide</td>\n",
              "      <td>2XGLdVl7lGeq8ksM6Al7jT</td>\n",
              "      <td>39</td>\n",
              "      <td>0.00384</td>\n",
              "      <td>0.687</td>\n",
              "      <td>326240</td>\n",
              "      <td>0.714</td>\n",
              "      <td>0.544</td>\n",
              "      <td>D</td>\n",
              "      <td>0.0845</td>\n",
              "      <td>-10.626</td>\n",
              "      <td>Major</td>\n",
              "      <td>0.0316</td>\n",
              "      <td>115.542</td>\n",
              "      <td>4/4</td>\n",
              "      <td>0.962</td>\n",
              "    </tr>\n",
              "  </tbody>\n",
              "</table>\n",
              "</div>\n",
              "    <div class=\"colab-df-buttons\">\n",
              "\n",
              "  <div class=\"colab-df-container\">\n",
              "    <button class=\"colab-df-convert\" onclick=\"convertToInteractive('df-eff76b82-4091-4d41-8210-ade1e8663340')\"\n",
              "            title=\"Convert this dataframe to an interactive table.\"\n",
              "            style=\"display:none;\">\n",
              "\n",
              "  <svg xmlns=\"http://www.w3.org/2000/svg\" height=\"24px\" viewBox=\"0 -960 960 960\">\n",
              "    <path d=\"M120-120v-720h720v720H120Zm60-500h600v-160H180v160Zm220 220h160v-160H400v160Zm0 220h160v-160H400v160ZM180-400h160v-160H180v160Zm440 0h160v-160H620v160ZM180-180h160v-160H180v160Zm440 0h160v-160H620v160Z\"/>\n",
              "  </svg>\n",
              "    </button>\n",
              "\n",
              "  <style>\n",
              "    .colab-df-container {\n",
              "      display:flex;\n",
              "      gap: 12px;\n",
              "    }\n",
              "\n",
              "    .colab-df-convert {\n",
              "      background-color: #E8F0FE;\n",
              "      border: none;\n",
              "      border-radius: 50%;\n",
              "      cursor: pointer;\n",
              "      display: none;\n",
              "      fill: #1967D2;\n",
              "      height: 32px;\n",
              "      padding: 0 0 0 0;\n",
              "      width: 32px;\n",
              "    }\n",
              "\n",
              "    .colab-df-convert:hover {\n",
              "      background-color: #E2EBFA;\n",
              "      box-shadow: 0px 1px 2px rgba(60, 64, 67, 0.3), 0px 1px 3px 1px rgba(60, 64, 67, 0.15);\n",
              "      fill: #174EA6;\n",
              "    }\n",
              "\n",
              "    .colab-df-buttons div {\n",
              "      margin-bottom: 4px;\n",
              "    }\n",
              "\n",
              "    [theme=dark] .colab-df-convert {\n",
              "      background-color: #3B4455;\n",
              "      fill: #D2E3FC;\n",
              "    }\n",
              "\n",
              "    [theme=dark] .colab-df-convert:hover {\n",
              "      background-color: #434B5C;\n",
              "      box-shadow: 0px 1px 3px 1px rgba(0, 0, 0, 0.15);\n",
              "      filter: drop-shadow(0px 1px 2px rgba(0, 0, 0, 0.3));\n",
              "      fill: #FFFFFF;\n",
              "    }\n",
              "  </style>\n",
              "\n",
              "    <script>\n",
              "      const buttonEl =\n",
              "        document.querySelector('#df-eff76b82-4091-4d41-8210-ade1e8663340 button.colab-df-convert');\n",
              "      buttonEl.style.display =\n",
              "        google.colab.kernel.accessAllowed ? 'block' : 'none';\n",
              "\n",
              "      async function convertToInteractive(key) {\n",
              "        const element = document.querySelector('#df-eff76b82-4091-4d41-8210-ade1e8663340');\n",
              "        const dataTable =\n",
              "          await google.colab.kernel.invokeFunction('convertToInteractive',\n",
              "                                                    [key], {});\n",
              "        if (!dataTable) return;\n",
              "\n",
              "        const docLinkHtml = 'Like what you see? Visit the ' +\n",
              "          '<a target=\"_blank\" href=https://colab.research.google.com/notebooks/data_table.ipynb>data table notebook</a>'\n",
              "          + ' to learn more about interactive tables.';\n",
              "        element.innerHTML = '';\n",
              "        dataTable['output_type'] = 'display_data';\n",
              "        await google.colab.output.renderOutput(dataTable, element);\n",
              "        const docLink = document.createElement('div');\n",
              "        docLink.innerHTML = docLinkHtml;\n",
              "        element.appendChild(docLink);\n",
              "      }\n",
              "    </script>\n",
              "  </div>\n",
              "\n",
              "\n",
              "<div id=\"df-fd5903f8-44dd-4083-a5cc-fc27811ea849\">\n",
              "  <button class=\"colab-df-quickchart\" onclick=\"quickchart('df-fd5903f8-44dd-4083-a5cc-fc27811ea849')\"\n",
              "            title=\"Suggest charts\"\n",
              "            style=\"display:none;\">\n",
              "\n",
              "<svg xmlns=\"http://www.w3.org/2000/svg\" height=\"24px\"viewBox=\"0 0 24 24\"\n",
              "     width=\"24px\">\n",
              "    <g>\n",
              "        <path d=\"M19 3H5c-1.1 0-2 .9-2 2v14c0 1.1.9 2 2 2h14c1.1 0 2-.9 2-2V5c0-1.1-.9-2-2-2zM9 17H7v-7h2v7zm4 0h-2V7h2v10zm4 0h-2v-4h2v4z\"/>\n",
              "    </g>\n",
              "</svg>\n",
              "  </button>\n",
              "\n",
              "<style>\n",
              "  .colab-df-quickchart {\n",
              "      --bg-color: #E8F0FE;\n",
              "      --fill-color: #1967D2;\n",
              "      --hover-bg-color: #E2EBFA;\n",
              "      --hover-fill-color: #174EA6;\n",
              "      --disabled-fill-color: #AAA;\n",
              "      --disabled-bg-color: #DDD;\n",
              "  }\n",
              "\n",
              "  [theme=dark] .colab-df-quickchart {\n",
              "      --bg-color: #3B4455;\n",
              "      --fill-color: #D2E3FC;\n",
              "      --hover-bg-color: #434B5C;\n",
              "      --hover-fill-color: #FFFFFF;\n",
              "      --disabled-bg-color: #3B4455;\n",
              "      --disabled-fill-color: #666;\n",
              "  }\n",
              "\n",
              "  .colab-df-quickchart {\n",
              "    background-color: var(--bg-color);\n",
              "    border: none;\n",
              "    border-radius: 50%;\n",
              "    cursor: pointer;\n",
              "    display: none;\n",
              "    fill: var(--fill-color);\n",
              "    height: 32px;\n",
              "    padding: 0;\n",
              "    width: 32px;\n",
              "  }\n",
              "\n",
              "  .colab-df-quickchart:hover {\n",
              "    background-color: var(--hover-bg-color);\n",
              "    box-shadow: 0 1px 2px rgba(60, 64, 67, 0.3), 0 1px 3px 1px rgba(60, 64, 67, 0.15);\n",
              "    fill: var(--button-hover-fill-color);\n",
              "  }\n",
              "\n",
              "  .colab-df-quickchart-complete:disabled,\n",
              "  .colab-df-quickchart-complete:disabled:hover {\n",
              "    background-color: var(--disabled-bg-color);\n",
              "    fill: var(--disabled-fill-color);\n",
              "    box-shadow: none;\n",
              "  }\n",
              "\n",
              "  .colab-df-spinner {\n",
              "    border: 2px solid var(--fill-color);\n",
              "    border-color: transparent;\n",
              "    border-bottom-color: var(--fill-color);\n",
              "    animation:\n",
              "      spin 1s steps(1) infinite;\n",
              "  }\n",
              "\n",
              "  @keyframes spin {\n",
              "    0% {\n",
              "      border-color: transparent;\n",
              "      border-bottom-color: var(--fill-color);\n",
              "      border-left-color: var(--fill-color);\n",
              "    }\n",
              "    20% {\n",
              "      border-color: transparent;\n",
              "      border-left-color: var(--fill-color);\n",
              "      border-top-color: var(--fill-color);\n",
              "    }\n",
              "    30% {\n",
              "      border-color: transparent;\n",
              "      border-left-color: var(--fill-color);\n",
              "      border-top-color: var(--fill-color);\n",
              "      border-right-color: var(--fill-color);\n",
              "    }\n",
              "    40% {\n",
              "      border-color: transparent;\n",
              "      border-right-color: var(--fill-color);\n",
              "      border-top-color: var(--fill-color);\n",
              "    }\n",
              "    60% {\n",
              "      border-color: transparent;\n",
              "      border-right-color: var(--fill-color);\n",
              "    }\n",
              "    80% {\n",
              "      border-color: transparent;\n",
              "      border-right-color: var(--fill-color);\n",
              "      border-bottom-color: var(--fill-color);\n",
              "    }\n",
              "    90% {\n",
              "      border-color: transparent;\n",
              "      border-bottom-color: var(--fill-color);\n",
              "    }\n",
              "  }\n",
              "</style>\n",
              "\n",
              "  <script>\n",
              "    async function quickchart(key) {\n",
              "      const quickchartButtonEl =\n",
              "        document.querySelector('#' + key + ' button');\n",
              "      quickchartButtonEl.disabled = true;  // To prevent multiple clicks.\n",
              "      quickchartButtonEl.classList.add('colab-df-spinner');\n",
              "      try {\n",
              "        const charts = await google.colab.kernel.invokeFunction(\n",
              "            'suggestCharts', [key], {});\n",
              "      } catch (error) {\n",
              "        console.error('Error during call to suggestCharts:', error);\n",
              "      }\n",
              "      quickchartButtonEl.classList.remove('colab-df-spinner');\n",
              "      quickchartButtonEl.classList.add('colab-df-quickchart-complete');\n",
              "    }\n",
              "    (() => {\n",
              "      let quickchartButtonEl =\n",
              "        document.querySelector('#df-fd5903f8-44dd-4083-a5cc-fc27811ea849 button');\n",
              "      quickchartButtonEl.style.display =\n",
              "        google.colab.kernel.accessAllowed ? 'block' : 'none';\n",
              "    })();\n",
              "  </script>\n",
              "</div>\n",
              "    </div>\n",
              "  </div>\n"
            ]
          },
          "metadata": {},
          "execution_count": 14
        }
      ],
      "source": [
        "df[df['track_id']=='2XGLdVl7lGeq8ksM6Al7jT']"
      ]
    },
    {
      "cell_type": "code",
      "execution_count": null,
      "metadata": {
        "ExecuteTime": {
          "end_time": "2021-05-31T00:05:10.702310Z",
          "start_time": "2021-05-31T00:05:10.659337Z"
        },
        "colab": {
          "base_uri": "https://localhost:8080/",
          "height": 271
        },
        "id": "wa1gJrioo5ut",
        "outputId": "4c686630-1eb6-4160-ae28-54aa0c619495"
      },
      "outputs": [
        {
          "output_type": "execute_result",
          "data": {
            "text/plain": [
              "        genre   artist_name  \\\n",
              "48555   Blues  Muddy Waters   \n",
              "232718   Soul  Muddy Waters   \n",
              "\n",
              "                                               track_name  \\\n",
              "48555   I Just Want To Make Love To You - Electric Mud...   \n",
              "232718  I Just Want To Make Love To You - Electric Mud...   \n",
              "\n",
              "                      track_id  popularity  acousticness  danceability  \\\n",
              "48555   2HFczeynfKGiM9KF2z2K7K          35        0.0136         0.294   \n",
              "232718  2HFczeynfKGiM9KF2z2K7K          43        0.0136         0.294   \n",
              "\n",
              "        duration_ms  energy  instrumentalness key  liveness  loudness   mode  \\\n",
              "48555        258267   0.739           0.00482   C     0.138    -7.167  Major   \n",
              "232718       258267   0.739           0.00482   C     0.138    -7.167  Major   \n",
              "\n",
              "        speechiness    tempo time_signature  valence  \n",
              "48555        0.0434  176.402            4/4    0.945  \n",
              "232718       0.0434  176.402            4/4    0.945  "
            ],
            "text/html": [
              "\n",
              "  <div id=\"df-d134f48c-a661-48f7-95d5-8d50037e1316\" class=\"colab-df-container\">\n",
              "    <div>\n",
              "<style scoped>\n",
              "    .dataframe tbody tr th:only-of-type {\n",
              "        vertical-align: middle;\n",
              "    }\n",
              "\n",
              "    .dataframe tbody tr th {\n",
              "        vertical-align: top;\n",
              "    }\n",
              "\n",
              "    .dataframe thead th {\n",
              "        text-align: right;\n",
              "    }\n",
              "</style>\n",
              "<table border=\"1\" class=\"dataframe\">\n",
              "  <thead>\n",
              "    <tr style=\"text-align: right;\">\n",
              "      <th></th>\n",
              "      <th>genre</th>\n",
              "      <th>artist_name</th>\n",
              "      <th>track_name</th>\n",
              "      <th>track_id</th>\n",
              "      <th>popularity</th>\n",
              "      <th>acousticness</th>\n",
              "      <th>danceability</th>\n",
              "      <th>duration_ms</th>\n",
              "      <th>energy</th>\n",
              "      <th>instrumentalness</th>\n",
              "      <th>key</th>\n",
              "      <th>liveness</th>\n",
              "      <th>loudness</th>\n",
              "      <th>mode</th>\n",
              "      <th>speechiness</th>\n",
              "      <th>tempo</th>\n",
              "      <th>time_signature</th>\n",
              "      <th>valence</th>\n",
              "    </tr>\n",
              "  </thead>\n",
              "  <tbody>\n",
              "    <tr>\n",
              "      <th>48555</th>\n",
              "      <td>Blues</td>\n",
              "      <td>Muddy Waters</td>\n",
              "      <td>I Just Want To Make Love To You - Electric Mud...</td>\n",
              "      <td>2HFczeynfKGiM9KF2z2K7K</td>\n",
              "      <td>35</td>\n",
              "      <td>0.0136</td>\n",
              "      <td>0.294</td>\n",
              "      <td>258267</td>\n",
              "      <td>0.739</td>\n",
              "      <td>0.00482</td>\n",
              "      <td>C</td>\n",
              "      <td>0.138</td>\n",
              "      <td>-7.167</td>\n",
              "      <td>Major</td>\n",
              "      <td>0.0434</td>\n",
              "      <td>176.402</td>\n",
              "      <td>4/4</td>\n",
              "      <td>0.945</td>\n",
              "    </tr>\n",
              "    <tr>\n",
              "      <th>232718</th>\n",
              "      <td>Soul</td>\n",
              "      <td>Muddy Waters</td>\n",
              "      <td>I Just Want To Make Love To You - Electric Mud...</td>\n",
              "      <td>2HFczeynfKGiM9KF2z2K7K</td>\n",
              "      <td>43</td>\n",
              "      <td>0.0136</td>\n",
              "      <td>0.294</td>\n",
              "      <td>258267</td>\n",
              "      <td>0.739</td>\n",
              "      <td>0.00482</td>\n",
              "      <td>C</td>\n",
              "      <td>0.138</td>\n",
              "      <td>-7.167</td>\n",
              "      <td>Major</td>\n",
              "      <td>0.0434</td>\n",
              "      <td>176.402</td>\n",
              "      <td>4/4</td>\n",
              "      <td>0.945</td>\n",
              "    </tr>\n",
              "  </tbody>\n",
              "</table>\n",
              "</div>\n",
              "    <div class=\"colab-df-buttons\">\n",
              "\n",
              "  <div class=\"colab-df-container\">\n",
              "    <button class=\"colab-df-convert\" onclick=\"convertToInteractive('df-d134f48c-a661-48f7-95d5-8d50037e1316')\"\n",
              "            title=\"Convert this dataframe to an interactive table.\"\n",
              "            style=\"display:none;\">\n",
              "\n",
              "  <svg xmlns=\"http://www.w3.org/2000/svg\" height=\"24px\" viewBox=\"0 -960 960 960\">\n",
              "    <path d=\"M120-120v-720h720v720H120Zm60-500h600v-160H180v160Zm220 220h160v-160H400v160Zm0 220h160v-160H400v160ZM180-400h160v-160H180v160Zm440 0h160v-160H620v160ZM180-180h160v-160H180v160Zm440 0h160v-160H620v160Z\"/>\n",
              "  </svg>\n",
              "    </button>\n",
              "\n",
              "  <style>\n",
              "    .colab-df-container {\n",
              "      display:flex;\n",
              "      gap: 12px;\n",
              "    }\n",
              "\n",
              "    .colab-df-convert {\n",
              "      background-color: #E8F0FE;\n",
              "      border: none;\n",
              "      border-radius: 50%;\n",
              "      cursor: pointer;\n",
              "      display: none;\n",
              "      fill: #1967D2;\n",
              "      height: 32px;\n",
              "      padding: 0 0 0 0;\n",
              "      width: 32px;\n",
              "    }\n",
              "\n",
              "    .colab-df-convert:hover {\n",
              "      background-color: #E2EBFA;\n",
              "      box-shadow: 0px 1px 2px rgba(60, 64, 67, 0.3), 0px 1px 3px 1px rgba(60, 64, 67, 0.15);\n",
              "      fill: #174EA6;\n",
              "    }\n",
              "\n",
              "    .colab-df-buttons div {\n",
              "      margin-bottom: 4px;\n",
              "    }\n",
              "\n",
              "    [theme=dark] .colab-df-convert {\n",
              "      background-color: #3B4455;\n",
              "      fill: #D2E3FC;\n",
              "    }\n",
              "\n",
              "    [theme=dark] .colab-df-convert:hover {\n",
              "      background-color: #434B5C;\n",
              "      box-shadow: 0px 1px 3px 1px rgba(0, 0, 0, 0.15);\n",
              "      filter: drop-shadow(0px 1px 2px rgba(0, 0, 0, 0.3));\n",
              "      fill: #FFFFFF;\n",
              "    }\n",
              "  </style>\n",
              "\n",
              "    <script>\n",
              "      const buttonEl =\n",
              "        document.querySelector('#df-d134f48c-a661-48f7-95d5-8d50037e1316 button.colab-df-convert');\n",
              "      buttonEl.style.display =\n",
              "        google.colab.kernel.accessAllowed ? 'block' : 'none';\n",
              "\n",
              "      async function convertToInteractive(key) {\n",
              "        const element = document.querySelector('#df-d134f48c-a661-48f7-95d5-8d50037e1316');\n",
              "        const dataTable =\n",
              "          await google.colab.kernel.invokeFunction('convertToInteractive',\n",
              "                                                    [key], {});\n",
              "        if (!dataTable) return;\n",
              "\n",
              "        const docLinkHtml = 'Like what you see? Visit the ' +\n",
              "          '<a target=\"_blank\" href=https://colab.research.google.com/notebooks/data_table.ipynb>data table notebook</a>'\n",
              "          + ' to learn more about interactive tables.';\n",
              "        element.innerHTML = '';\n",
              "        dataTable['output_type'] = 'display_data';\n",
              "        await google.colab.output.renderOutput(dataTable, element);\n",
              "        const docLink = document.createElement('div');\n",
              "        docLink.innerHTML = docLinkHtml;\n",
              "        element.appendChild(docLink);\n",
              "      }\n",
              "    </script>\n",
              "  </div>\n",
              "\n",
              "\n",
              "<div id=\"df-65e1b46c-a658-4563-9357-6db2c8d1bf00\">\n",
              "  <button class=\"colab-df-quickchart\" onclick=\"quickchart('df-65e1b46c-a658-4563-9357-6db2c8d1bf00')\"\n",
              "            title=\"Suggest charts\"\n",
              "            style=\"display:none;\">\n",
              "\n",
              "<svg xmlns=\"http://www.w3.org/2000/svg\" height=\"24px\"viewBox=\"0 0 24 24\"\n",
              "     width=\"24px\">\n",
              "    <g>\n",
              "        <path d=\"M19 3H5c-1.1 0-2 .9-2 2v14c0 1.1.9 2 2 2h14c1.1 0 2-.9 2-2V5c0-1.1-.9-2-2-2zM9 17H7v-7h2v7zm4 0h-2V7h2v10zm4 0h-2v-4h2v4z\"/>\n",
              "    </g>\n",
              "</svg>\n",
              "  </button>\n",
              "\n",
              "<style>\n",
              "  .colab-df-quickchart {\n",
              "      --bg-color: #E8F0FE;\n",
              "      --fill-color: #1967D2;\n",
              "      --hover-bg-color: #E2EBFA;\n",
              "      --hover-fill-color: #174EA6;\n",
              "      --disabled-fill-color: #AAA;\n",
              "      --disabled-bg-color: #DDD;\n",
              "  }\n",
              "\n",
              "  [theme=dark] .colab-df-quickchart {\n",
              "      --bg-color: #3B4455;\n",
              "      --fill-color: #D2E3FC;\n",
              "      --hover-bg-color: #434B5C;\n",
              "      --hover-fill-color: #FFFFFF;\n",
              "      --disabled-bg-color: #3B4455;\n",
              "      --disabled-fill-color: #666;\n",
              "  }\n",
              "\n",
              "  .colab-df-quickchart {\n",
              "    background-color: var(--bg-color);\n",
              "    border: none;\n",
              "    border-radius: 50%;\n",
              "    cursor: pointer;\n",
              "    display: none;\n",
              "    fill: var(--fill-color);\n",
              "    height: 32px;\n",
              "    padding: 0;\n",
              "    width: 32px;\n",
              "  }\n",
              "\n",
              "  .colab-df-quickchart:hover {\n",
              "    background-color: var(--hover-bg-color);\n",
              "    box-shadow: 0 1px 2px rgba(60, 64, 67, 0.3), 0 1px 3px 1px rgba(60, 64, 67, 0.15);\n",
              "    fill: var(--button-hover-fill-color);\n",
              "  }\n",
              "\n",
              "  .colab-df-quickchart-complete:disabled,\n",
              "  .colab-df-quickchart-complete:disabled:hover {\n",
              "    background-color: var(--disabled-bg-color);\n",
              "    fill: var(--disabled-fill-color);\n",
              "    box-shadow: none;\n",
              "  }\n",
              "\n",
              "  .colab-df-spinner {\n",
              "    border: 2px solid var(--fill-color);\n",
              "    border-color: transparent;\n",
              "    border-bottom-color: var(--fill-color);\n",
              "    animation:\n",
              "      spin 1s steps(1) infinite;\n",
              "  }\n",
              "\n",
              "  @keyframes spin {\n",
              "    0% {\n",
              "      border-color: transparent;\n",
              "      border-bottom-color: var(--fill-color);\n",
              "      border-left-color: var(--fill-color);\n",
              "    }\n",
              "    20% {\n",
              "      border-color: transparent;\n",
              "      border-left-color: var(--fill-color);\n",
              "      border-top-color: var(--fill-color);\n",
              "    }\n",
              "    30% {\n",
              "      border-color: transparent;\n",
              "      border-left-color: var(--fill-color);\n",
              "      border-top-color: var(--fill-color);\n",
              "      border-right-color: var(--fill-color);\n",
              "    }\n",
              "    40% {\n",
              "      border-color: transparent;\n",
              "      border-right-color: var(--fill-color);\n",
              "      border-top-color: var(--fill-color);\n",
              "    }\n",
              "    60% {\n",
              "      border-color: transparent;\n",
              "      border-right-color: var(--fill-color);\n",
              "    }\n",
              "    80% {\n",
              "      border-color: transparent;\n",
              "      border-right-color: var(--fill-color);\n",
              "      border-bottom-color: var(--fill-color);\n",
              "    }\n",
              "    90% {\n",
              "      border-color: transparent;\n",
              "      border-bottom-color: var(--fill-color);\n",
              "    }\n",
              "  }\n",
              "</style>\n",
              "\n",
              "  <script>\n",
              "    async function quickchart(key) {\n",
              "      const quickchartButtonEl =\n",
              "        document.querySelector('#' + key + ' button');\n",
              "      quickchartButtonEl.disabled = true;  // To prevent multiple clicks.\n",
              "      quickchartButtonEl.classList.add('colab-df-spinner');\n",
              "      try {\n",
              "        const charts = await google.colab.kernel.invokeFunction(\n",
              "            'suggestCharts', [key], {});\n",
              "      } catch (error) {\n",
              "        console.error('Error during call to suggestCharts:', error);\n",
              "      }\n",
              "      quickchartButtonEl.classList.remove('colab-df-spinner');\n",
              "      quickchartButtonEl.classList.add('colab-df-quickchart-complete');\n",
              "    }\n",
              "    (() => {\n",
              "      let quickchartButtonEl =\n",
              "        document.querySelector('#df-65e1b46c-a658-4563-9357-6db2c8d1bf00 button');\n",
              "      quickchartButtonEl.style.display =\n",
              "        google.colab.kernel.accessAllowed ? 'block' : 'none';\n",
              "    })();\n",
              "  </script>\n",
              "</div>\n",
              "    </div>\n",
              "  </div>\n"
            ]
          },
          "metadata": {},
          "execution_count": 15
        }
      ],
      "source": [
        "df[df['track_id']=='2HFczeynfKGiM9KF2z2K7K']\n"
      ]
    },
    {
      "cell_type": "markdown",
      "metadata": {
        "id": "RXRpMmVQo5ut"
      },
      "source": [
        "We see that most of the attributes of the duplicated songs are the same except for 'popularity' and 'genre'. The 'popularity' column can be aggregated since it is a numerical column but the categorical column of 'genre' is a little bit trickier. What makes the most sense in this case would be to create different columns with the genre names and display with binary values whether a song belongs to that genre or not."
      ]
    },
    {
      "cell_type": "code",
      "execution_count": null,
      "metadata": {
        "ExecuteTime": {
          "end_time": "2021-05-31T00:05:10.750281Z",
          "start_time": "2021-05-31T00:05:10.705309Z"
        },
        "id": "jeWUKq5no5ut"
      },
      "outputs": [],
      "source": [
        "#generating a list with the genre names\n",
        "genre_list = list(df['genre'].unique())"
      ]
    },
    {
      "cell_type": "code",
      "execution_count": null,
      "metadata": {
        "ExecuteTime": {
          "end_time": "2021-05-31T00:05:11.209996Z",
          "start_time": "2021-05-31T00:05:10.753279Z"
        },
        "id": "iUmaVk0do5ut"
      },
      "outputs": [],
      "source": [
        "#creating the genre columns using the genre list\n",
        "for genre in genre_list:\n",
        "    df[genre] = (df['genre']==genre).astype('int')"
      ]
    },
    {
      "cell_type": "code",
      "execution_count": null,
      "metadata": {
        "ExecuteTime": {
          "end_time": "2021-05-31T00:07:22.977937Z",
          "start_time": "2021-05-31T00:05:11.211994Z"
        },
        "id": "ZmsXapgco5uu"
      },
      "outputs": [],
      "source": [
        "#grouping by track_id number to get rid of duplicates and keeping the maximum values in each column.\n",
        "df=df.groupby(['track_id']).max()"
      ]
    },
    {
      "cell_type": "markdown",
      "metadata": {
        "id": "loyBgX9ko5uu"
      },
      "source": [
        "Above, we created the genre columns and merged the duplicated values keeping the maximum value in each column. This makes sense since the track that is being listened to is the same one. For example, if a track had popularity scores of 15, 25, 38 and 42 in its duplicated rows, we are keeping the best value of 42 by taking the max."
      ]
    },
    {
      "cell_type": "code",
      "execution_count": null,
      "metadata": {
        "ExecuteTime": {
          "end_time": "2021-05-31T00:07:23.118850Z",
          "start_time": "2021-05-31T00:07:22.979936Z"
        },
        "colab": {
          "base_uri": "https://localhost:8080/",
          "height": 356
        },
        "id": "z6ru1ABlo5uu",
        "outputId": "0c92ba68-89cd-43f5-aa0e-10c1f7972338"
      },
      "outputs": [
        {
          "output_type": "execute_result",
          "data": {
            "text/plain": [
              "                              artist_name                          track_name  \\\n",
              "track_id                                                                        \n",
              "00021Wy6AyMbLP2tqij86e  Capcom Sound Team                     Zangief's Theme   \n",
              "000CzNKC8PEt1yC3L8dqwV     Henri Salvador  Coeur Brisé à Prendre - Remastered   \n",
              "000DfZJww8KiixTKuk9usJ          Mike Love                          Earthlings   \n",
              "000EWWBkYaREzsBplYjUag       Don Philippe                           Fewerdolr   \n",
              "000xQL6tZNLJzIrtIgxqSl               ZAYN                      Still Got Time   \n",
              "\n",
              "                        popularity  acousticness  danceability  duration_ms  \\\n",
              "track_id                                                                      \n",
              "00021Wy6AyMbLP2tqij86e          13         0.234         0.617       169173   \n",
              "000CzNKC8PEt1yC3L8dqwV           5         0.249         0.518       130653   \n",
              "000DfZJww8KiixTKuk9usJ          30         0.366         0.631       357573   \n",
              "000EWWBkYaREzsBplYjUag          39         0.815         0.768       104924   \n",
              "000xQL6tZNLJzIrtIgxqSl          70         0.131         0.748       188491   \n",
              "\n",
              "                        energy  instrumentalness key  liveness  ...  Pop  \\\n",
              "track_id                                                        ...        \n",
              "00021Wy6AyMbLP2tqij86e   0.862          0.976000   G    0.1410  ...    0   \n",
              "000CzNKC8PEt1yC3L8dqwV   0.805          0.000000   F    0.3330  ...    0   \n",
              "000DfZJww8KiixTKuk9usJ   0.513          0.000004   D    0.1090  ...    0   \n",
              "000EWWBkYaREzsBplYjUag   0.137          0.922000  C#    0.1130  ...    0   \n",
              "000xQL6tZNLJzIrtIgxqSl   0.627          0.000000   G    0.0852  ...    1   \n",
              "\n",
              "                       Reggae  Reggaeton  Jazz Rock  Ska  Comedy  Soul  \\\n",
              "track_id                                                                 \n",
              "00021Wy6AyMbLP2tqij86e      0          0     0    0    0       0     0   \n",
              "000CzNKC8PEt1yC3L8dqwV      0          0     0    0    0       0     0   \n",
              "000DfZJww8KiixTKuk9usJ      1          0     0    0    0       0     0   \n",
              "000EWWBkYaREzsBplYjUag      0          0     1    0    0       0     0   \n",
              "000xQL6tZNLJzIrtIgxqSl      0          0     0    0    0       0     0   \n",
              "\n",
              "                        Soundtrack  World  \n",
              "track_id                                   \n",
              "00021Wy6AyMbLP2tqij86e           0      0  \n",
              "000CzNKC8PEt1yC3L8dqwV           0      0  \n",
              "000DfZJww8KiixTKuk9usJ           0      0  \n",
              "000EWWBkYaREzsBplYjUag           0      0  \n",
              "000xQL6tZNLJzIrtIgxqSl           0      0  \n",
              "\n",
              "[5 rows x 42 columns]"
            ],
            "text/html": [
              "\n",
              "  <div id=\"df-fd12ddde-786e-49a1-85d2-e785806e974d\" class=\"colab-df-container\">\n",
              "    <div>\n",
              "<style scoped>\n",
              "    .dataframe tbody tr th:only-of-type {\n",
              "        vertical-align: middle;\n",
              "    }\n",
              "\n",
              "    .dataframe tbody tr th {\n",
              "        vertical-align: top;\n",
              "    }\n",
              "\n",
              "    .dataframe thead th {\n",
              "        text-align: right;\n",
              "    }\n",
              "</style>\n",
              "<table border=\"1\" class=\"dataframe\">\n",
              "  <thead>\n",
              "    <tr style=\"text-align: right;\">\n",
              "      <th></th>\n",
              "      <th>artist_name</th>\n",
              "      <th>track_name</th>\n",
              "      <th>popularity</th>\n",
              "      <th>acousticness</th>\n",
              "      <th>danceability</th>\n",
              "      <th>duration_ms</th>\n",
              "      <th>energy</th>\n",
              "      <th>instrumentalness</th>\n",
              "      <th>key</th>\n",
              "      <th>liveness</th>\n",
              "      <th>...</th>\n",
              "      <th>Pop</th>\n",
              "      <th>Reggae</th>\n",
              "      <th>Reggaeton</th>\n",
              "      <th>Jazz</th>\n",
              "      <th>Rock</th>\n",
              "      <th>Ska</th>\n",
              "      <th>Comedy</th>\n",
              "      <th>Soul</th>\n",
              "      <th>Soundtrack</th>\n",
              "      <th>World</th>\n",
              "    </tr>\n",
              "    <tr>\n",
              "      <th>track_id</th>\n",
              "      <th></th>\n",
              "      <th></th>\n",
              "      <th></th>\n",
              "      <th></th>\n",
              "      <th></th>\n",
              "      <th></th>\n",
              "      <th></th>\n",
              "      <th></th>\n",
              "      <th></th>\n",
              "      <th></th>\n",
              "      <th></th>\n",
              "      <th></th>\n",
              "      <th></th>\n",
              "      <th></th>\n",
              "      <th></th>\n",
              "      <th></th>\n",
              "      <th></th>\n",
              "      <th></th>\n",
              "      <th></th>\n",
              "      <th></th>\n",
              "      <th></th>\n",
              "    </tr>\n",
              "  </thead>\n",
              "  <tbody>\n",
              "    <tr>\n",
              "      <th>00021Wy6AyMbLP2tqij86e</th>\n",
              "      <td>Capcom Sound Team</td>\n",
              "      <td>Zangief's Theme</td>\n",
              "      <td>13</td>\n",
              "      <td>0.234</td>\n",
              "      <td>0.617</td>\n",
              "      <td>169173</td>\n",
              "      <td>0.862</td>\n",
              "      <td>0.976000</td>\n",
              "      <td>G</td>\n",
              "      <td>0.1410</td>\n",
              "      <td>...</td>\n",
              "      <td>0</td>\n",
              "      <td>0</td>\n",
              "      <td>0</td>\n",
              "      <td>0</td>\n",
              "      <td>0</td>\n",
              "      <td>0</td>\n",
              "      <td>0</td>\n",
              "      <td>0</td>\n",
              "      <td>0</td>\n",
              "      <td>0</td>\n",
              "    </tr>\n",
              "    <tr>\n",
              "      <th>000CzNKC8PEt1yC3L8dqwV</th>\n",
              "      <td>Henri Salvador</td>\n",
              "      <td>Coeur Brisé à Prendre - Remastered</td>\n",
              "      <td>5</td>\n",
              "      <td>0.249</td>\n",
              "      <td>0.518</td>\n",
              "      <td>130653</td>\n",
              "      <td>0.805</td>\n",
              "      <td>0.000000</td>\n",
              "      <td>F</td>\n",
              "      <td>0.3330</td>\n",
              "      <td>...</td>\n",
              "      <td>0</td>\n",
              "      <td>0</td>\n",
              "      <td>0</td>\n",
              "      <td>0</td>\n",
              "      <td>0</td>\n",
              "      <td>0</td>\n",
              "      <td>0</td>\n",
              "      <td>0</td>\n",
              "      <td>0</td>\n",
              "      <td>0</td>\n",
              "    </tr>\n",
              "    <tr>\n",
              "      <th>000DfZJww8KiixTKuk9usJ</th>\n",
              "      <td>Mike Love</td>\n",
              "      <td>Earthlings</td>\n",
              "      <td>30</td>\n",
              "      <td>0.366</td>\n",
              "      <td>0.631</td>\n",
              "      <td>357573</td>\n",
              "      <td>0.513</td>\n",
              "      <td>0.000004</td>\n",
              "      <td>D</td>\n",
              "      <td>0.1090</td>\n",
              "      <td>...</td>\n",
              "      <td>0</td>\n",
              "      <td>1</td>\n",
              "      <td>0</td>\n",
              "      <td>0</td>\n",
              "      <td>0</td>\n",
              "      <td>0</td>\n",
              "      <td>0</td>\n",
              "      <td>0</td>\n",
              "      <td>0</td>\n",
              "      <td>0</td>\n",
              "    </tr>\n",
              "    <tr>\n",
              "      <th>000EWWBkYaREzsBplYjUag</th>\n",
              "      <td>Don Philippe</td>\n",
              "      <td>Fewerdolr</td>\n",
              "      <td>39</td>\n",
              "      <td>0.815</td>\n",
              "      <td>0.768</td>\n",
              "      <td>104924</td>\n",
              "      <td>0.137</td>\n",
              "      <td>0.922000</td>\n",
              "      <td>C#</td>\n",
              "      <td>0.1130</td>\n",
              "      <td>...</td>\n",
              "      <td>0</td>\n",
              "      <td>0</td>\n",
              "      <td>0</td>\n",
              "      <td>1</td>\n",
              "      <td>0</td>\n",
              "      <td>0</td>\n",
              "      <td>0</td>\n",
              "      <td>0</td>\n",
              "      <td>0</td>\n",
              "      <td>0</td>\n",
              "    </tr>\n",
              "    <tr>\n",
              "      <th>000xQL6tZNLJzIrtIgxqSl</th>\n",
              "      <td>ZAYN</td>\n",
              "      <td>Still Got Time</td>\n",
              "      <td>70</td>\n",
              "      <td>0.131</td>\n",
              "      <td>0.748</td>\n",
              "      <td>188491</td>\n",
              "      <td>0.627</td>\n",
              "      <td>0.000000</td>\n",
              "      <td>G</td>\n",
              "      <td>0.0852</td>\n",
              "      <td>...</td>\n",
              "      <td>1</td>\n",
              "      <td>0</td>\n",
              "      <td>0</td>\n",
              "      <td>0</td>\n",
              "      <td>0</td>\n",
              "      <td>0</td>\n",
              "      <td>0</td>\n",
              "      <td>0</td>\n",
              "      <td>0</td>\n",
              "      <td>0</td>\n",
              "    </tr>\n",
              "  </tbody>\n",
              "</table>\n",
              "<p>5 rows × 42 columns</p>\n",
              "</div>\n",
              "    <div class=\"colab-df-buttons\">\n",
              "\n",
              "  <div class=\"colab-df-container\">\n",
              "    <button class=\"colab-df-convert\" onclick=\"convertToInteractive('df-fd12ddde-786e-49a1-85d2-e785806e974d')\"\n",
              "            title=\"Convert this dataframe to an interactive table.\"\n",
              "            style=\"display:none;\">\n",
              "\n",
              "  <svg xmlns=\"http://www.w3.org/2000/svg\" height=\"24px\" viewBox=\"0 -960 960 960\">\n",
              "    <path d=\"M120-120v-720h720v720H120Zm60-500h600v-160H180v160Zm220 220h160v-160H400v160Zm0 220h160v-160H400v160ZM180-400h160v-160H180v160Zm440 0h160v-160H620v160ZM180-180h160v-160H180v160Zm440 0h160v-160H620v160Z\"/>\n",
              "  </svg>\n",
              "    </button>\n",
              "\n",
              "  <style>\n",
              "    .colab-df-container {\n",
              "      display:flex;\n",
              "      gap: 12px;\n",
              "    }\n",
              "\n",
              "    .colab-df-convert {\n",
              "      background-color: #E8F0FE;\n",
              "      border: none;\n",
              "      border-radius: 50%;\n",
              "      cursor: pointer;\n",
              "      display: none;\n",
              "      fill: #1967D2;\n",
              "      height: 32px;\n",
              "      padding: 0 0 0 0;\n",
              "      width: 32px;\n",
              "    }\n",
              "\n",
              "    .colab-df-convert:hover {\n",
              "      background-color: #E2EBFA;\n",
              "      box-shadow: 0px 1px 2px rgba(60, 64, 67, 0.3), 0px 1px 3px 1px rgba(60, 64, 67, 0.15);\n",
              "      fill: #174EA6;\n",
              "    }\n",
              "\n",
              "    .colab-df-buttons div {\n",
              "      margin-bottom: 4px;\n",
              "    }\n",
              "\n",
              "    [theme=dark] .colab-df-convert {\n",
              "      background-color: #3B4455;\n",
              "      fill: #D2E3FC;\n",
              "    }\n",
              "\n",
              "    [theme=dark] .colab-df-convert:hover {\n",
              "      background-color: #434B5C;\n",
              "      box-shadow: 0px 1px 3px 1px rgba(0, 0, 0, 0.15);\n",
              "      filter: drop-shadow(0px 1px 2px rgba(0, 0, 0, 0.3));\n",
              "      fill: #FFFFFF;\n",
              "    }\n",
              "  </style>\n",
              "\n",
              "    <script>\n",
              "      const buttonEl =\n",
              "        document.querySelector('#df-fd12ddde-786e-49a1-85d2-e785806e974d button.colab-df-convert');\n",
              "      buttonEl.style.display =\n",
              "        google.colab.kernel.accessAllowed ? 'block' : 'none';\n",
              "\n",
              "      async function convertToInteractive(key) {\n",
              "        const element = document.querySelector('#df-fd12ddde-786e-49a1-85d2-e785806e974d');\n",
              "        const dataTable =\n",
              "          await google.colab.kernel.invokeFunction('convertToInteractive',\n",
              "                                                    [key], {});\n",
              "        if (!dataTable) return;\n",
              "\n",
              "        const docLinkHtml = 'Like what you see? Visit the ' +\n",
              "          '<a target=\"_blank\" href=https://colab.research.google.com/notebooks/data_table.ipynb>data table notebook</a>'\n",
              "          + ' to learn more about interactive tables.';\n",
              "        element.innerHTML = '';\n",
              "        dataTable['output_type'] = 'display_data';\n",
              "        await google.colab.output.renderOutput(dataTable, element);\n",
              "        const docLink = document.createElement('div');\n",
              "        docLink.innerHTML = docLinkHtml;\n",
              "        element.appendChild(docLink);\n",
              "      }\n",
              "    </script>\n",
              "  </div>\n",
              "\n",
              "\n",
              "<div id=\"df-ad400444-12b3-43de-acf7-fb1ff010bbe1\">\n",
              "  <button class=\"colab-df-quickchart\" onclick=\"quickchart('df-ad400444-12b3-43de-acf7-fb1ff010bbe1')\"\n",
              "            title=\"Suggest charts\"\n",
              "            style=\"display:none;\">\n",
              "\n",
              "<svg xmlns=\"http://www.w3.org/2000/svg\" height=\"24px\"viewBox=\"0 0 24 24\"\n",
              "     width=\"24px\">\n",
              "    <g>\n",
              "        <path d=\"M19 3H5c-1.1 0-2 .9-2 2v14c0 1.1.9 2 2 2h14c1.1 0 2-.9 2-2V5c0-1.1-.9-2-2-2zM9 17H7v-7h2v7zm4 0h-2V7h2v10zm4 0h-2v-4h2v4z\"/>\n",
              "    </g>\n",
              "</svg>\n",
              "  </button>\n",
              "\n",
              "<style>\n",
              "  .colab-df-quickchart {\n",
              "      --bg-color: #E8F0FE;\n",
              "      --fill-color: #1967D2;\n",
              "      --hover-bg-color: #E2EBFA;\n",
              "      --hover-fill-color: #174EA6;\n",
              "      --disabled-fill-color: #AAA;\n",
              "      --disabled-bg-color: #DDD;\n",
              "  }\n",
              "\n",
              "  [theme=dark] .colab-df-quickchart {\n",
              "      --bg-color: #3B4455;\n",
              "      --fill-color: #D2E3FC;\n",
              "      --hover-bg-color: #434B5C;\n",
              "      --hover-fill-color: #FFFFFF;\n",
              "      --disabled-bg-color: #3B4455;\n",
              "      --disabled-fill-color: #666;\n",
              "  }\n",
              "\n",
              "  .colab-df-quickchart {\n",
              "    background-color: var(--bg-color);\n",
              "    border: none;\n",
              "    border-radius: 50%;\n",
              "    cursor: pointer;\n",
              "    display: none;\n",
              "    fill: var(--fill-color);\n",
              "    height: 32px;\n",
              "    padding: 0;\n",
              "    width: 32px;\n",
              "  }\n",
              "\n",
              "  .colab-df-quickchart:hover {\n",
              "    background-color: var(--hover-bg-color);\n",
              "    box-shadow: 0 1px 2px rgba(60, 64, 67, 0.3), 0 1px 3px 1px rgba(60, 64, 67, 0.15);\n",
              "    fill: var(--button-hover-fill-color);\n",
              "  }\n",
              "\n",
              "  .colab-df-quickchart-complete:disabled,\n",
              "  .colab-df-quickchart-complete:disabled:hover {\n",
              "    background-color: var(--disabled-bg-color);\n",
              "    fill: var(--disabled-fill-color);\n",
              "    box-shadow: none;\n",
              "  }\n",
              "\n",
              "  .colab-df-spinner {\n",
              "    border: 2px solid var(--fill-color);\n",
              "    border-color: transparent;\n",
              "    border-bottom-color: var(--fill-color);\n",
              "    animation:\n",
              "      spin 1s steps(1) infinite;\n",
              "  }\n",
              "\n",
              "  @keyframes spin {\n",
              "    0% {\n",
              "      border-color: transparent;\n",
              "      border-bottom-color: var(--fill-color);\n",
              "      border-left-color: var(--fill-color);\n",
              "    }\n",
              "    20% {\n",
              "      border-color: transparent;\n",
              "      border-left-color: var(--fill-color);\n",
              "      border-top-color: var(--fill-color);\n",
              "    }\n",
              "    30% {\n",
              "      border-color: transparent;\n",
              "      border-left-color: var(--fill-color);\n",
              "      border-top-color: var(--fill-color);\n",
              "      border-right-color: var(--fill-color);\n",
              "    }\n",
              "    40% {\n",
              "      border-color: transparent;\n",
              "      border-right-color: var(--fill-color);\n",
              "      border-top-color: var(--fill-color);\n",
              "    }\n",
              "    60% {\n",
              "      border-color: transparent;\n",
              "      border-right-color: var(--fill-color);\n",
              "    }\n",
              "    80% {\n",
              "      border-color: transparent;\n",
              "      border-right-color: var(--fill-color);\n",
              "      border-bottom-color: var(--fill-color);\n",
              "    }\n",
              "    90% {\n",
              "      border-color: transparent;\n",
              "      border-bottom-color: var(--fill-color);\n",
              "    }\n",
              "  }\n",
              "</style>\n",
              "\n",
              "  <script>\n",
              "    async function quickchart(key) {\n",
              "      const quickchartButtonEl =\n",
              "        document.querySelector('#' + key + ' button');\n",
              "      quickchartButtonEl.disabled = true;  // To prevent multiple clicks.\n",
              "      quickchartButtonEl.classList.add('colab-df-spinner');\n",
              "      try {\n",
              "        const charts = await google.colab.kernel.invokeFunction(\n",
              "            'suggestCharts', [key], {});\n",
              "      } catch (error) {\n",
              "        console.error('Error during call to suggestCharts:', error);\n",
              "      }\n",
              "      quickchartButtonEl.classList.remove('colab-df-spinner');\n",
              "      quickchartButtonEl.classList.add('colab-df-quickchart-complete');\n",
              "    }\n",
              "    (() => {\n",
              "      let quickchartButtonEl =\n",
              "        document.querySelector('#df-ad400444-12b3-43de-acf7-fb1ff010bbe1 button');\n",
              "      quickchartButtonEl.style.display =\n",
              "        google.colab.kernel.accessAllowed ? 'block' : 'none';\n",
              "    })();\n",
              "  </script>\n",
              "</div>\n",
              "    </div>\n",
              "  </div>\n"
            ]
          },
          "metadata": {},
          "execution_count": 20
        }
      ],
      "source": [
        "#removing redundant genre column\n",
        "df.drop('genre', axis=1, inplace=True)\n",
        "df.head()"
      ]
    },
    {
      "cell_type": "code",
      "execution_count": null,
      "metadata": {
        "ExecuteTime": {
          "end_time": "2021-05-31T00:07:23.182812Z",
          "start_time": "2021-05-31T00:07:23.120849Z"
        },
        "colab": {
          "base_uri": "https://localhost:8080/",
          "height": 161
        },
        "id": "nPUY9T1Zo5uu",
        "outputId": "e5cd7e71-2554-424b-a7f6-92eff555eea6"
      },
      "outputs": [
        {
          "output_type": "execute_result",
          "data": {
            "text/plain": [
              "                       artist_name  track_name  popularity  acousticness  \\\n",
              "track_id                                                                   \n",
              "6iOvnACn4ChlAw4lWUU4dd    Doja Cat  Go To Town          64        0.0716   \n",
              "\n",
              "                        danceability  duration_ms  energy  instrumentalness  \\\n",
              "track_id                                                                      \n",
              "6iOvnACn4ChlAw4lWUU4dd          0.71       217813    0.71          0.000001   \n",
              "\n",
              "                       key  liveness  ...  Pop Reggae  Reggaeton  Jazz Rock  \\\n",
              "track_id                              ...                                     \n",
              "6iOvnACn4ChlAw4lWUU4dd   C     0.206  ...    1      0          0     0    0   \n",
              "\n",
              "                        Ska  Comedy  Soul  Soundtrack  World  \n",
              "track_id                                                      \n",
              "6iOvnACn4ChlAw4lWUU4dd    0       0     0           0      0  \n",
              "\n",
              "[1 rows x 42 columns]"
            ],
            "text/html": [
              "\n",
              "  <div id=\"df-3b5d0f72-7db7-45cd-9a59-c2274aa08e07\" class=\"colab-df-container\">\n",
              "    <div>\n",
              "<style scoped>\n",
              "    .dataframe tbody tr th:only-of-type {\n",
              "        vertical-align: middle;\n",
              "    }\n",
              "\n",
              "    .dataframe tbody tr th {\n",
              "        vertical-align: top;\n",
              "    }\n",
              "\n",
              "    .dataframe thead th {\n",
              "        text-align: right;\n",
              "    }\n",
              "</style>\n",
              "<table border=\"1\" class=\"dataframe\">\n",
              "  <thead>\n",
              "    <tr style=\"text-align: right;\">\n",
              "      <th></th>\n",
              "      <th>artist_name</th>\n",
              "      <th>track_name</th>\n",
              "      <th>popularity</th>\n",
              "      <th>acousticness</th>\n",
              "      <th>danceability</th>\n",
              "      <th>duration_ms</th>\n",
              "      <th>energy</th>\n",
              "      <th>instrumentalness</th>\n",
              "      <th>key</th>\n",
              "      <th>liveness</th>\n",
              "      <th>...</th>\n",
              "      <th>Pop</th>\n",
              "      <th>Reggae</th>\n",
              "      <th>Reggaeton</th>\n",
              "      <th>Jazz</th>\n",
              "      <th>Rock</th>\n",
              "      <th>Ska</th>\n",
              "      <th>Comedy</th>\n",
              "      <th>Soul</th>\n",
              "      <th>Soundtrack</th>\n",
              "      <th>World</th>\n",
              "    </tr>\n",
              "    <tr>\n",
              "      <th>track_id</th>\n",
              "      <th></th>\n",
              "      <th></th>\n",
              "      <th></th>\n",
              "      <th></th>\n",
              "      <th></th>\n",
              "      <th></th>\n",
              "      <th></th>\n",
              "      <th></th>\n",
              "      <th></th>\n",
              "      <th></th>\n",
              "      <th></th>\n",
              "      <th></th>\n",
              "      <th></th>\n",
              "      <th></th>\n",
              "      <th></th>\n",
              "      <th></th>\n",
              "      <th></th>\n",
              "      <th></th>\n",
              "      <th></th>\n",
              "      <th></th>\n",
              "      <th></th>\n",
              "    </tr>\n",
              "  </thead>\n",
              "  <tbody>\n",
              "    <tr>\n",
              "      <th>6iOvnACn4ChlAw4lWUU4dd</th>\n",
              "      <td>Doja Cat</td>\n",
              "      <td>Go To Town</td>\n",
              "      <td>64</td>\n",
              "      <td>0.0716</td>\n",
              "      <td>0.71</td>\n",
              "      <td>217813</td>\n",
              "      <td>0.71</td>\n",
              "      <td>0.000001</td>\n",
              "      <td>C</td>\n",
              "      <td>0.206</td>\n",
              "      <td>...</td>\n",
              "      <td>1</td>\n",
              "      <td>0</td>\n",
              "      <td>0</td>\n",
              "      <td>0</td>\n",
              "      <td>0</td>\n",
              "      <td>0</td>\n",
              "      <td>0</td>\n",
              "      <td>0</td>\n",
              "      <td>0</td>\n",
              "      <td>0</td>\n",
              "    </tr>\n",
              "  </tbody>\n",
              "</table>\n",
              "<p>1 rows × 42 columns</p>\n",
              "</div>\n",
              "    <div class=\"colab-df-buttons\">\n",
              "\n",
              "  <div class=\"colab-df-container\">\n",
              "    <button class=\"colab-df-convert\" onclick=\"convertToInteractive('df-3b5d0f72-7db7-45cd-9a59-c2274aa08e07')\"\n",
              "            title=\"Convert this dataframe to an interactive table.\"\n",
              "            style=\"display:none;\">\n",
              "\n",
              "  <svg xmlns=\"http://www.w3.org/2000/svg\" height=\"24px\" viewBox=\"0 -960 960 960\">\n",
              "    <path d=\"M120-120v-720h720v720H120Zm60-500h600v-160H180v160Zm220 220h160v-160H400v160Zm0 220h160v-160H400v160ZM180-400h160v-160H180v160Zm440 0h160v-160H620v160ZM180-180h160v-160H180v160Zm440 0h160v-160H620v160Z\"/>\n",
              "  </svg>\n",
              "    </button>\n",
              "\n",
              "  <style>\n",
              "    .colab-df-container {\n",
              "      display:flex;\n",
              "      gap: 12px;\n",
              "    }\n",
              "\n",
              "    .colab-df-convert {\n",
              "      background-color: #E8F0FE;\n",
              "      border: none;\n",
              "      border-radius: 50%;\n",
              "      cursor: pointer;\n",
              "      display: none;\n",
              "      fill: #1967D2;\n",
              "      height: 32px;\n",
              "      padding: 0 0 0 0;\n",
              "      width: 32px;\n",
              "    }\n",
              "\n",
              "    .colab-df-convert:hover {\n",
              "      background-color: #E2EBFA;\n",
              "      box-shadow: 0px 1px 2px rgba(60, 64, 67, 0.3), 0px 1px 3px 1px rgba(60, 64, 67, 0.15);\n",
              "      fill: #174EA6;\n",
              "    }\n",
              "\n",
              "    .colab-df-buttons div {\n",
              "      margin-bottom: 4px;\n",
              "    }\n",
              "\n",
              "    [theme=dark] .colab-df-convert {\n",
              "      background-color: #3B4455;\n",
              "      fill: #D2E3FC;\n",
              "    }\n",
              "\n",
              "    [theme=dark] .colab-df-convert:hover {\n",
              "      background-color: #434B5C;\n",
              "      box-shadow: 0px 1px 3px 1px rgba(0, 0, 0, 0.15);\n",
              "      filter: drop-shadow(0px 1px 2px rgba(0, 0, 0, 0.3));\n",
              "      fill: #FFFFFF;\n",
              "    }\n",
              "  </style>\n",
              "\n",
              "    <script>\n",
              "      const buttonEl =\n",
              "        document.querySelector('#df-3b5d0f72-7db7-45cd-9a59-c2274aa08e07 button.colab-df-convert');\n",
              "      buttonEl.style.display =\n",
              "        google.colab.kernel.accessAllowed ? 'block' : 'none';\n",
              "\n",
              "      async function convertToInteractive(key) {\n",
              "        const element = document.querySelector('#df-3b5d0f72-7db7-45cd-9a59-c2274aa08e07');\n",
              "        const dataTable =\n",
              "          await google.colab.kernel.invokeFunction('convertToInteractive',\n",
              "                                                    [key], {});\n",
              "        if (!dataTable) return;\n",
              "\n",
              "        const docLinkHtml = 'Like what you see? Visit the ' +\n",
              "          '<a target=\"_blank\" href=https://colab.research.google.com/notebooks/data_table.ipynb>data table notebook</a>'\n",
              "          + ' to learn more about interactive tables.';\n",
              "        element.innerHTML = '';\n",
              "        dataTable['output_type'] = 'display_data';\n",
              "        await google.colab.output.renderOutput(dataTable, element);\n",
              "        const docLink = document.createElement('div');\n",
              "        docLink.innerHTML = docLinkHtml;\n",
              "        element.appendChild(docLink);\n",
              "      }\n",
              "    </script>\n",
              "  </div>\n",
              "\n",
              "    </div>\n",
              "  </div>\n"
            ]
          },
          "metadata": {},
          "execution_count": 21
        }
      ],
      "source": [
        "#verifying that duplicates have been eliminated\n",
        "df[df.index =='6iOvnACn4ChlAw4lWUU4dd']"
      ]
    },
    {
      "cell_type": "markdown",
      "metadata": {
        "id": "VrP50lM1o5uu"
      },
      "source": [
        "We successfully addressed the duplicates of each track by aggregating them to a single row."
      ]
    },
    {
      "cell_type": "code",
      "execution_count": null,
      "metadata": {
        "ExecuteTime": {
          "end_time": "2021-05-31T00:07:23.291757Z",
          "start_time": "2021-05-31T00:07:23.185809Z"
        },
        "colab": {
          "base_uri": "https://localhost:8080/"
        },
        "id": "2Div0ckio5uu",
        "outputId": "f5783953-5a27-4218-d360-3081adda8f65"
      },
      "outputs": [
        {
          "output_type": "stream",
          "name": "stdout",
          "text": [
            "<class 'pandas.core.frame.DataFrame'>\n",
            "Index: 176774 entries, 00021Wy6AyMbLP2tqij86e to 7zzbfi8fvHe6hm342GcNYl\n",
            "Data columns (total 42 columns):\n",
            " #   Column            Non-Null Count   Dtype  \n",
            "---  ------            --------------   -----  \n",
            " 0   artist_name       176774 non-null  object \n",
            " 1   track_name        176774 non-null  object \n",
            " 2   popularity        176774 non-null  int64  \n",
            " 3   acousticness      176774 non-null  float64\n",
            " 4   danceability      176774 non-null  float64\n",
            " 5   duration_ms       176774 non-null  int64  \n",
            " 6   energy            176774 non-null  float64\n",
            " 7   instrumentalness  176774 non-null  float64\n",
            " 8   key               176774 non-null  object \n",
            " 9   liveness          176774 non-null  float64\n",
            " 10  loudness          176774 non-null  float64\n",
            " 11  mode              176774 non-null  object \n",
            " 12  speechiness       176774 non-null  float64\n",
            " 13  tempo             176774 non-null  float64\n",
            " 14  time_signature    176774 non-null  object \n",
            " 15  valence           176774 non-null  float64\n",
            " 16  Movie             176774 non-null  int64  \n",
            " 17  R&B               176774 non-null  int64  \n",
            " 18  A Capella         176774 non-null  int64  \n",
            " 19  Alternative       176774 non-null  int64  \n",
            " 20  Country           176774 non-null  int64  \n",
            " 21  Dance             176774 non-null  int64  \n",
            " 22  Electronic        176774 non-null  int64  \n",
            " 23  Anime             176774 non-null  int64  \n",
            " 24  Folk              176774 non-null  int64  \n",
            " 25  Blues             176774 non-null  int64  \n",
            " 26  Opera             176774 non-null  int64  \n",
            " 27  Hip-Hop           176774 non-null  int64  \n",
            " 28  Children's Music  176774 non-null  int64  \n",
            " 29  Rap               176774 non-null  int64  \n",
            " 30  Indie             176774 non-null  int64  \n",
            " 31  Classical         176774 non-null  int64  \n",
            " 32  Pop               176774 non-null  int64  \n",
            " 33  Reggae            176774 non-null  int64  \n",
            " 34  Reggaeton         176774 non-null  int64  \n",
            " 35  Jazz              176774 non-null  int64  \n",
            " 36  Rock              176774 non-null  int64  \n",
            " 37  Ska               176774 non-null  int64  \n",
            " 38  Comedy            176774 non-null  int64  \n",
            " 39  Soul              176774 non-null  int64  \n",
            " 40  Soundtrack        176774 non-null  int64  \n",
            " 41  World             176774 non-null  int64  \n",
            "dtypes: float64(9), int64(28), object(5)\n",
            "memory usage: 58.0+ MB\n"
          ]
        }
      ],
      "source": [
        "df.info()"
      ]
    },
    {
      "cell_type": "markdown",
      "metadata": {
        "id": "DLe1cNg_o5uv"
      },
      "source": [
        "We now have 176,774 unique tracks in our dataset (down from 232,725)."
      ]
    },
    {
      "cell_type": "markdown",
      "metadata": {
        "id": "S6lLw2Xlo5uv"
      },
      "source": [
        "## Feature Engineering - is_popular"
      ]
    },
    {
      "cell_type": "markdown",
      "metadata": {
        "id": "8KgnW_U-o5uv"
      },
      "source": [
        "Since our goal is to be able to identify which tracks will be popular, we need to feature engineer a new column by binarizing the popularity column. To be able to do this, we need to decide on a cut-off point of popularity score which if a song stays above this cut-off point it will be considered \"popular\" and if it stays below it will be considered \"not popular\". We can start off by taking a look at the distribution of the popularity score distribution."
      ]
    },
    {
      "cell_type": "code",
      "execution_count": null,
      "metadata": {
        "ExecuteTime": {
          "end_time": "2021-05-31T00:07:24.402051Z",
          "start_time": "2021-05-31T00:07:23.293741Z"
        },
        "id": "romrMnleo5uv"
      },
      "outputs": [],
      "source": [
        "import matplotlib.pyplot as plt\n",
        "import seaborn as sns"
      ]
    },
    {
      "cell_type": "code",
      "execution_count": null,
      "metadata": {
        "ExecuteTime": {
          "end_time": "2021-05-31T00:07:25.015679Z",
          "start_time": "2021-05-31T00:07:24.405050Z"
        },
        "colab": {
          "base_uri": "https://localhost:8080/",
          "height": 467
        },
        "id": "uCCDlpfno5uv",
        "outputId": "89d10258-ef6a-43f3-880e-19a7fb5477ec"
      },
      "outputs": [
        {
          "output_type": "execute_result",
          "data": {
            "text/plain": [
              "<Axes: xlabel='popularity', ylabel='Count'>"
            ]
          },
          "metadata": {},
          "execution_count": 24
        },
        {
          "output_type": "display_data",
          "data": {
            "text/plain": [
              "<Figure size 640x480 with 1 Axes>"
            ],
            "image/png": "[encoded data removed]"
          },
          "metadata": {}
        }
      ],
      "source": [
        "#creating a histogram to see distribution of popularity scores in the dataset.\n",
        "sns.histplot(df['popularity'], bins='auto')"
      ]
    },
    {
      "cell_type": "markdown",
      "metadata": {
        "id": "Gtz9RtuTo5uv"
      },
      "source": [
        "From the above histogram we see that we have a bimodal distribution. One of the peaks is at 0, and the other one seems to be around 40. In order to better decide what's popular, we can take a look at the Top 50 songs' popularity scores (this data is also from 2019 similar to our main dataset to keep the analysis consistent.)"
      ]
    },
    {
      "cell_type": "markdown",
      "metadata": {
        "id": "Q3Ewa2_0o5uv"
      },
      "source": [
        "### Top 50 Songs - 2019"
      ]
    },
    {
      "cell_type": "code",
      "execution_count": null,
      "metadata": {
        "ExecuteTime": {
          "end_time": "2021-05-31T00:07:25.031678Z",
          "start_time": "2021-05-31T00:07:25.018667Z"
        },
        "id": "niSMyi1Vo5uv"
      },
      "outputs": [],
      "source": [
        "#data from https://www.kaggle.com/leonardopena/top50spotify2019\n",
        "df_50 = pd.read_csv('data/top50.csv', encoding='latin1', index_col=0)"
      ]
    },
    {
      "cell_type": "code",
      "execution_count": null,
      "metadata": {
        "ExecuteTime": {
          "end_time": "2021-05-31T00:07:25.063641Z",
          "start_time": "2021-05-31T00:07:25.036657Z"
        },
        "colab": {
          "base_uri": "https://localhost:8080/",
          "height": 293
        },
        "id": "fIjumB5-o5uw",
        "outputId": "41e69a5b-30b6-4ce3-8008-b605c3eefe2f"
      },
      "outputs": [
        {
          "output_type": "execute_result",
          "data": {
            "text/plain": [
              "                        Track.Name    Artist.Name           Genre  \\\n",
              "1                         Señorita   Shawn Mendes    canadian pop   \n",
              "2                            China       Anuel AA  reggaeton flow   \n",
              "3    boyfriend (with Social House)  Ariana Grande       dance pop   \n",
              "4  Beautiful People (feat. Khalid)     Ed Sheeran             pop   \n",
              "5      Goodbyes (Feat. Young Thug)    Post Malone         dfw rap   \n",
              "\n",
              "   Beats.Per.Minute  Energy  Danceability  Loudness..dB..  Liveness  Valence.  \\\n",
              "1               117      55            76              -6         8        75   \n",
              "2               105      81            79              -4         8        61   \n",
              "3               190      80            40              -4        16        70   \n",
              "4                93      65            64              -8         8        55   \n",
              "5               150      65            58              -4        11        18   \n",
              "\n",
              "   Length.  Acousticness..  Speechiness.  Popularity  \n",
              "1      191               4             3          79  \n",
              "2      302               8             9          92  \n",
              "3      186              12            46          85  \n",
              "4      198              12            19          86  \n",
              "5      175              45             7          94  "
            ],
            "text/html": [
              "\n",
              "  <div id=\"df-fcd0195f-04dc-4530-bf82-d94043f88250\" class=\"colab-df-container\">\n",
              "    <div>\n",
              "<style scoped>\n",
              "    .dataframe tbody tr th:only-of-type {\n",
              "        vertical-align: middle;\n",
              "    }\n",
              "\n",
              "    .dataframe tbody tr th {\n",
              "        vertical-align: top;\n",
              "    }\n",
              "\n",
              "    .dataframe thead th {\n",
              "        text-align: right;\n",
              "    }\n",
              "</style>\n",
              "<table border=\"1\" class=\"dataframe\">\n",
              "  <thead>\n",
              "    <tr style=\"text-align: right;\">\n",
              "      <th></th>\n",
              "      <th>Track.Name</th>\n",
              "      <th>Artist.Name</th>\n",
              "      <th>Genre</th>\n",
              "      <th>Beats.Per.Minute</th>\n",
              "      <th>Energy</th>\n",
              "      <th>Danceability</th>\n",
              "      <th>Loudness..dB..</th>\n",
              "      <th>Liveness</th>\n",
              "      <th>Valence.</th>\n",
              "      <th>Length.</th>\n",
              "      <th>Acousticness..</th>\n",
              "      <th>Speechiness.</th>\n",
              "      <th>Popularity</th>\n",
              "    </tr>\n",
              "  </thead>\n",
              "  <tbody>\n",
              "    <tr>\n",
              "      <th>1</th>\n",
              "      <td>Señorita</td>\n",
              "      <td>Shawn Mendes</td>\n",
              "      <td>canadian pop</td>\n",
              "      <td>117</td>\n",
              "      <td>55</td>\n",
              "      <td>76</td>\n",
              "      <td>-6</td>\n",
              "      <td>8</td>\n",
              "      <td>75</td>\n",
              "      <td>191</td>\n",
              "      <td>4</td>\n",
              "      <td>3</td>\n",
              "      <td>79</td>\n",
              "    </tr>\n",
              "    <tr>\n",
              "      <th>2</th>\n",
              "      <td>China</td>\n",
              "      <td>Anuel AA</td>\n",
              "      <td>reggaeton flow</td>\n",
              "      <td>105</td>\n",
              "      <td>81</td>\n",
              "      <td>79</td>\n",
              "      <td>-4</td>\n",
              "      <td>8</td>\n",
              "      <td>61</td>\n",
              "      <td>302</td>\n",
              "      <td>8</td>\n",
              "      <td>9</td>\n",
              "      <td>92</td>\n",
              "    </tr>\n",
              "    <tr>\n",
              "      <th>3</th>\n",
              "      <td>boyfriend (with Social House)</td>\n",
              "      <td>Ariana Grande</td>\n",
              "      <td>dance pop</td>\n",
              "      <td>190</td>\n",
              "      <td>80</td>\n",
              "      <td>40</td>\n",
              "      <td>-4</td>\n",
              "      <td>16</td>\n",
              "      <td>70</td>\n",
              "      <td>186</td>\n",
              "      <td>12</td>\n",
              "      <td>46</td>\n",
              "      <td>85</td>\n",
              "    </tr>\n",
              "    <tr>\n",
              "      <th>4</th>\n",
              "      <td>Beautiful People (feat. Khalid)</td>\n",
              "      <td>Ed Sheeran</td>\n",
              "      <td>pop</td>\n",
              "      <td>93</td>\n",
              "      <td>65</td>\n",
              "      <td>64</td>\n",
              "      <td>-8</td>\n",
              "      <td>8</td>\n",
              "      <td>55</td>\n",
              "      <td>198</td>\n",
              "      <td>12</td>\n",
              "      <td>19</td>\n",
              "      <td>86</td>\n",
              "    </tr>\n",
              "    <tr>\n",
              "      <th>5</th>\n",
              "      <td>Goodbyes (Feat. Young Thug)</td>\n",
              "      <td>Post Malone</td>\n",
              "      <td>dfw rap</td>\n",
              "      <td>150</td>\n",
              "      <td>65</td>\n",
              "      <td>58</td>\n",
              "      <td>-4</td>\n",
              "      <td>11</td>\n",
              "      <td>18</td>\n",
              "      <td>175</td>\n",
              "      <td>45</td>\n",
              "      <td>7</td>\n",
              "      <td>94</td>\n",
              "    </tr>\n",
              "  </tbody>\n",
              "</table>\n",
              "</div>\n",
              "    <div class=\"colab-df-buttons\">\n",
              "\n",
              "  <div class=\"colab-df-container\">\n",
              "    <button class=\"colab-df-convert\" onclick=\"convertToInteractive('df-fcd0195f-04dc-4530-bf82-d94043f88250')\"\n",
              "            title=\"Convert this dataframe to an interactive table.\"\n",
              "            style=\"display:none;\">\n",
              "\n",
              "  <svg xmlns=\"http://www.w3.org/2000/svg\" height=\"24px\" viewBox=\"0 -960 960 960\">\n",
              "    <path d=\"M120-120v-720h720v720H120Zm60-500h600v-160H180v160Zm220 220h160v-160H400v160Zm0 220h160v-160H400v160ZM180-400h160v-160H180v160Zm440 0h160v-160H620v160ZM180-180h160v-160H180v160Zm440 0h160v-160H620v160Z\"/>\n",
              "  </svg>\n",
              "    </button>\n",
              "\n",
              "  <style>\n",
              "    .colab-df-container {\n",
              "      display:flex;\n",
              "      gap: 12px;\n",
              "    }\n",
              "\n",
              "    .colab-df-convert {\n",
              "      background-color: #E8F0FE;\n",
              "      border: none;\n",
              "      border-radius: 50%;\n",
              "      cursor: pointer;\n",
              "      display: none;\n",
              "      fill: #1967D2;\n",
              "      height: 32px;\n",
              "      padding: 0 0 0 0;\n",
              "      width: 32px;\n",
              "    }\n",
              "\n",
              "    .colab-df-convert:hover {\n",
              "      background-color: #E2EBFA;\n",
              "      box-shadow: 0px 1px 2px rgba(60, 64, 67, 0.3), 0px 1px 3px 1px rgba(60, 64, 67, 0.15);\n",
              "      fill: #174EA6;\n",
              "    }\n",
              "\n",
              "    .colab-df-buttons div {\n",
              "      margin-bottom: 4px;\n",
              "    }\n",
              "\n",
              "    [theme=dark] .colab-df-convert {\n",
              "      background-color: #3B4455;\n",
              "      fill: #D2E3FC;\n",
              "    }\n",
              "\n",
              "    [theme=dark] .colab-df-convert:hover {\n",
              "      background-color: #434B5C;\n",
              "      box-shadow: 0px 1px 3px 1px rgba(0, 0, 0, 0.15);\n",
              "      filter: drop-shadow(0px 1px 2px rgba(0, 0, 0, 0.3));\n",
              "      fill: #FFFFFF;\n",
              "    }\n",
              "  </style>\n",
              "\n",
              "    <script>\n",
              "      const buttonEl =\n",
              "        document.querySelector('#df-fcd0195f-04dc-4530-bf82-d94043f88250 button.colab-df-convert');\n",
              "      buttonEl.style.display =\n",
              "        google.colab.kernel.accessAllowed ? 'block' : 'none';\n",
              "\n",
              "      async function convertToInteractive(key) {\n",
              "        const element = document.querySelector('#df-fcd0195f-04dc-4530-bf82-d94043f88250');\n",
              "        const dataTable =\n",
              "          await google.colab.kernel.invokeFunction('convertToInteractive',\n",
              "                                                    [key], {});\n",
              "        if (!dataTable) return;\n",
              "\n",
              "        const docLinkHtml = 'Like what you see? Visit the ' +\n",
              "          '<a target=\"_blank\" href=https://colab.research.google.com/notebooks/data_table.ipynb>data table notebook</a>'\n",
              "          + ' to learn more about interactive tables.';\n",
              "        element.innerHTML = '';\n",
              "        dataTable['output_type'] = 'display_data';\n",
              "        await google.colab.output.renderOutput(dataTable, element);\n",
              "        const docLink = document.createElement('div');\n",
              "        docLink.innerHTML = docLinkHtml;\n",
              "        element.appendChild(docLink);\n",
              "      }\n",
              "    </script>\n",
              "  </div>\n",
              "\n",
              "\n",
              "<div id=\"df-9ab1bdf2-f126-455f-a221-8110264c1b79\">\n",
              "  <button class=\"colab-df-quickchart\" onclick=\"quickchart('df-9ab1bdf2-f126-455f-a221-8110264c1b79')\"\n",
              "            title=\"Suggest charts\"\n",
              "            style=\"display:none;\">\n",
              "\n",
              "<svg xmlns=\"http://www.w3.org/2000/svg\" height=\"24px\"viewBox=\"0 0 24 24\"\n",
              "     width=\"24px\">\n",
              "    <g>\n",
              "        <path d=\"M19 3H5c-1.1 0-2 .9-2 2v14c0 1.1.9 2 2 2h14c1.1 0 2-.9 2-2V5c0-1.1-.9-2-2-2zM9 17H7v-7h2v7zm4 0h-2V7h2v10zm4 0h-2v-4h2v4z\"/>\n",
              "    </g>\n",
              "</svg>\n",
              "  </button>\n",
              "\n",
              "<style>\n",
              "  .colab-df-quickchart {\n",
              "      --bg-color: #E8F0FE;\n",
              "      --fill-color: #1967D2;\n",
              "      --hover-bg-color: #E2EBFA;\n",
              "      --hover-fill-color: #174EA6;\n",
              "      --disabled-fill-color: #AAA;\n",
              "      --disabled-bg-color: #DDD;\n",
              "  }\n",
              "\n",
              "  [theme=dark] .colab-df-quickchart {\n",
              "      --bg-color: #3B4455;\n",
              "      --fill-color: #D2E3FC;\n",
              "      --hover-bg-color: #434B5C;\n",
              "      --hover-fill-color: #FFFFFF;\n",
              "      --disabled-bg-color: #3B4455;\n",
              "      --disabled-fill-color: #666;\n",
              "  }\n",
              "\n",
              "  .colab-df-quickchart {\n",
              "    background-color: var(--bg-color);\n",
              "    border: none;\n",
              "    border-radius: 50%;\n",
              "    cursor: pointer;\n",
              "    display: none;\n",
              "    fill: var(--fill-color);\n",
              "    height: 32px;\n",
              "    padding: 0;\n",
              "    width: 32px;\n",
              "  }\n",
              "\n",
              "  .colab-df-quickchart:hover {\n",
              "    background-color: var(--hover-bg-color);\n",
              "    box-shadow: 0 1px 2px rgba(60, 64, 67, 0.3), 0 1px 3px 1px rgba(60, 64, 67, 0.15);\n",
              "    fill: var(--button-hover-fill-color);\n",
              "  }\n",
              "\n",
              "  .colab-df-quickchart-complete:disabled,\n",
              "  .colab-df-quickchart-complete:disabled:hover {\n",
              "    background-color: var(--disabled-bg-color);\n",
              "    fill: var(--disabled-fill-color);\n",
              "    box-shadow: none;\n",
              "  }\n",
              "\n",
              "  .colab-df-spinner {\n",
              "    border: 2px solid var(--fill-color);\n",
              "    border-color: transparent;\n",
              "    border-bottom-color: var(--fill-color);\n",
              "    animation:\n",
              "      spin 1s steps(1) infinite;\n",
              "  }\n",
              "\n",
              "  @keyframes spin {\n",
              "    0% {\n",
              "      border-color: transparent;\n",
              "      border-bottom-color: var(--fill-color);\n",
              "      border-left-color: var(--fill-color);\n",
              "    }\n",
              "    20% {\n",
              "      border-color: transparent;\n",
              "      border-left-color: var(--fill-color);\n",
              "      border-top-color: var(--fill-color);\n",
              "    }\n",
              "    30% {\n",
              "      border-color: transparent;\n",
              "      border-left-color: var(--fill-color);\n",
              "      border-top-color: var(--fill-color);\n",
              "      border-right-color: var(--fill-color);\n",
              "    }\n",
              "    40% {\n",
              "      border-color: transparent;\n",
              "      border-right-color: var(--fill-color);\n",
              "      border-top-color: var(--fill-color);\n",
              "    }\n",
              "    60% {\n",
              "      border-color: transparent;\n",
              "      border-right-color: var(--fill-color);\n",
              "    }\n",
              "    80% {\n",
              "      border-color: transparent;\n",
              "      border-right-color: var(--fill-color);\n",
              "      border-bottom-color: var(--fill-color);\n",
              "    }\n",
              "    90% {\n",
              "      border-color: transparent;\n",
              "      border-bottom-color: var(--fill-color);\n",
              "    }\n",
              "  }\n",
              "</style>\n",
              "\n",
              "  <script>\n",
              "    async function quickchart(key) {\n",
              "      const quickchartButtonEl =\n",
              "        document.querySelector('#' + key + ' button');\n",
              "      quickchartButtonEl.disabled = true;  // To prevent multiple clicks.\n",
              "      quickchartButtonEl.classList.add('colab-df-spinner');\n",
              "      try {\n",
              "        const charts = await google.colab.kernel.invokeFunction(\n",
              "            'suggestCharts', [key], {});\n",
              "      } catch (error) {\n",
              "        console.error('Error during call to suggestCharts:', error);\n",
              "      }\n",
              "      quickchartButtonEl.classList.remove('colab-df-spinner');\n",
              "      quickchartButtonEl.classList.add('colab-df-quickchart-complete');\n",
              "    }\n",
              "    (() => {\n",
              "      let quickchartButtonEl =\n",
              "        document.querySelector('#df-9ab1bdf2-f126-455f-a221-8110264c1b79 button');\n",
              "      quickchartButtonEl.style.display =\n",
              "        google.colab.kernel.accessAllowed ? 'block' : 'none';\n",
              "    })();\n",
              "  </script>\n",
              "</div>\n",
              "    </div>\n",
              "  </div>\n"
            ]
          },
          "metadata": {},
          "execution_count": 26
        }
      ],
      "source": [
        "df_50.head()"
      ]
    },
    {
      "cell_type": "code",
      "execution_count": null,
      "metadata": {
        "ExecuteTime": {
          "end_time": "2021-05-31T00:07:25.094622Z",
          "start_time": "2021-05-31T00:07:25.068638Z"
        },
        "colab": {
          "base_uri": "https://localhost:8080/"
        },
        "id": "jrUsoG2Mo5uw",
        "outputId": "03a25a7a-c14a-4ec3-e0dd-e6acf9a608dc"
      },
      "outputs": [
        {
          "output_type": "execute_result",
          "data": {
            "text/plain": [
              "count    50.000000\n",
              "mean     87.500000\n",
              "std       4.491489\n",
              "min      70.000000\n",
              "25%      86.000000\n",
              "50%      88.000000\n",
              "75%      90.750000\n",
              "max      95.000000\n",
              "Name: Popularity, dtype: float64"
            ]
          },
          "metadata": {},
          "execution_count": 27
        }
      ],
      "source": [
        "#displaying stats information of Top 50 songs\n",
        "df_50['Popularity'].describe()"
      ]
    },
    {
      "cell_type": "markdown",
      "metadata": {
        "id": "eTZHwy_ko5uw"
      },
      "source": [
        "Going back to our histogram we can draw vertical lines to see where these values fall into."
      ]
    },
    {
      "cell_type": "code",
      "execution_count": null,
      "metadata": {
        "ExecuteTime": {
          "end_time": "2021-05-31T00:07:25.710236Z",
          "start_time": "2021-05-31T00:07:25.097619Z"
        },
        "colab": {
          "base_uri": "https://localhost:8080/",
          "height": 449
        },
        "id": "pbUMgBtZo5uw",
        "outputId": "fbd6b58a-e4a1-41f7-eb0b-25870f7c04d7"
      },
      "outputs": [
        {
          "output_type": "display_data",
          "data": {
            "text/plain": [
              "<Figure size 640x480 with 1 Axes>"
            ],
            "image/png": "[encoded data removed]"
          },
          "metadata": {}
        }
      ],
      "source": [
        "fig, ax = plt.subplots()\n",
        "sns.histplot(df['popularity'], bins='auto', ax=ax)\n",
        "stats=['mean', '50%', 'min', 'max']\n",
        "for stat in stats:\n",
        "    ax.vlines(x=df_50['Popularity'].describe()[stat], ymin=0, ymax=6000, linestyles='dashed', colors='red', label=stat)"
      ]
    },
    {
      "cell_type": "markdown",
      "metadata": {
        "id": "2K2cMZyno5uw"
      },
      "source": [
        "We can see that there was a range of popularity scores in the Top 50 songs between 70 and 95. Which means that any song that is above a 70 theoretically could be a popular song. It doesn't make sense to use median or mean scores for our cutoff point in this case since then we would be disregarding all the songs that had lower values than 87.5 or 88 as unpopular which is untrue. In a previous iteration of this project, we proceeded modelling with the popularity score of 70 being the cutoff point and our models did not perform well since the cutoff point was based off of only 50 data points. Therefore we proceeded to look at a larger dataset to get a better sample size of popular songs."
      ]
    },
    {
      "cell_type": "markdown",
      "metadata": {
        "id": "wKLgfJMTo5uw"
      },
      "source": [
        "### Top 100 Songs - 2019"
      ]
    },
    {
      "cell_type": "code",
      "execution_count": null,
      "metadata": {
        "ExecuteTime": {
          "end_time": "2021-05-31T00:07:25.725246Z",
          "start_time": "2021-05-31T00:07:25.712237Z"
        },
        "id": "wo7A8M95o5uw"
      },
      "outputs": [],
      "source": [
        "#data from https://www.kaggle.com/reach2ashish/top-100-spotify-songs-2019\n",
        "df_100 = pd.read_csv('data/spotify_top_100_2019.csv')"
      ]
    },
    {
      "cell_type": "code",
      "source": [
        "#Data from:https://www.kaggle.com/datasets/muhmores/spotify-top-100-songs-of-20152019/data\n",
        "df2010_2019 = pd.read_csv('data/Spotify_2010-2019_Top_100.csv')"
      ],
      "metadata": {
        "id": "-6m7-ZSILa69"
      },
      "execution_count": null,
      "outputs": []
    },
    {
      "cell_type": "code",
      "execution_count": null,
      "metadata": {
        "ExecuteTime": {
          "end_time": "2021-05-31T00:07:25.741217Z",
          "start_time": "2021-05-31T00:07:25.727241Z"
        },
        "colab": {
          "base_uri": "https://localhost:8080/"
        },
        "id": "k2otmU7zo5ux",
        "outputId": "bcdbef7c-2e7b-41b7-c016-5d3795fde1c4"
      },
      "outputs": [
        {
          "output_type": "execute_result",
          "data": {
            "text/plain": [
              "count    100.000000\n",
              "mean      72.020000\n",
              "std       14.088451\n",
              "min        4.000000\n",
              "25%       70.000000\n",
              "50%       74.500000\n",
              "75%       79.000000\n",
              "max       88.000000\n",
              "Name: popularity , dtype: float64"
            ]
          },
          "metadata": {},
          "execution_count": 31
        }
      ],
      "source": [
        "df_100['popularity '].describe()"
      ]
    },
    {
      "cell_type": "code",
      "source": [
        "df2010_2019['pop'].describe()"
      ],
      "metadata": {
        "id": "qNGYeX8DLjnp",
        "colab": {
          "base_uri": "https://localhost:8080/"
        },
        "outputId": "233306d0-5b08-47d4-fb7f-15d602eb2ba2"
      },
      "execution_count": null,
      "outputs": [
        {
          "output_type": "execute_result",
          "data": {
            "text/plain": [
              "count    1000.000000\n",
              "mean       74.840000\n",
              "std         8.807836\n",
              "min        35.000000\n",
              "25%        70.000000\n",
              "50%        76.000000\n",
              "75%        81.000000\n",
              "max        95.000000\n",
              "Name: pop, dtype: float64"
            ]
          },
          "metadata": {},
          "execution_count": 32
        }
      ]
    },
    {
      "cell_type": "markdown",
      "metadata": {
        "id": "qgx3340Ro5ux"
      },
      "source": [
        "The minimum value of 4 for the popularity score on the Top 100 Songs chart seems like an outlier. Next, we'll visualize the spread of this column to confirm."
      ]
    },
    {
      "cell_type": "code",
      "execution_count": null,
      "metadata": {
        "ExecuteTime": {
          "end_time": "2021-05-31T00:07:25.994074Z",
          "start_time": "2021-05-31T00:07:25.744215Z"
        },
        "colab": {
          "base_uri": "https://localhost:8080/",
          "height": 467
        },
        "id": "G-sh7DzUo5ux",
        "outputId": "3bb4586d-0bcf-491d-fe23-1aa6070edbff"
      },
      "outputs": [
        {
          "output_type": "execute_result",
          "data": {
            "text/plain": [
              "<Axes: xlabel='popularity ', ylabel='Count'>"
            ]
          },
          "metadata": {},
          "execution_count": 33
        },
        {
          "output_type": "display_data",
          "data": {
            "text/plain": [
              "<Figure size 640x480 with 1 Axes>"
            ],
            "image/png": "[encoded data removed]"
          },
          "metadata": {}
        }
      ],
      "source": [
        "fig, ax = plt.subplots()\n",
        "sns.histplot(df_100['popularity '], bins='auto', ax=ax)"
      ]
    },
    {
      "cell_type": "code",
      "source": [
        "fig, ax = plt.subplots()\n",
        "sns.histplot(df2010_2019['pop'], bins='auto', ax=ax)"
      ],
      "metadata": {
        "id": "psna7g7BL767",
        "colab": {
          "base_uri": "https://localhost:8080/",
          "height": 467
        },
        "outputId": "9e815cd8-8b51-4783-b78d-7102fe683aac"
      },
      "execution_count": null,
      "outputs": [
        {
          "output_type": "execute_result",
          "data": {
            "text/plain": [
              "<Axes: xlabel='pop', ylabel='Count'>"
            ]
          },
          "metadata": {},
          "execution_count": 34
        },
        {
          "output_type": "display_data",
          "data": {
            "text/plain": [
              "<Figure size 640x480 with 1 Axes>"
            ],
            "image/png": "[encoded data removed]"
          },
          "metadata": {}
        }
      ]
    },
    {
      "cell_type": "markdown",
      "metadata": {
        "id": "8-HJp8rVo5ux"
      },
      "source": [
        "As we imagined the scores within the range 0-25 seem like outliers. We can remove outliers from this dataset with the IQR method to get a better perspective on the data."
      ]
    },
    {
      "cell_type": "code",
      "execution_count": null,
      "metadata": {
        "ExecuteTime": {
          "end_time": "2021-05-31T00:07:26.009065Z",
          "start_time": "2021-05-31T00:07:25.996059Z"
        },
        "id": "t7I9H9Rwo5ux"
      },
      "outputs": [],
      "source": [
        "#Outlier Removal with the IQR method\n",
        "\n",
        "def find_outliers_IQR(data, return_limits = False):\n",
        "    \"\"\"Use Tukey's Method of outlier removal AKA InterQuartile-Range Rule\n",
        "    and return boolean series where True indicates it is an outlier.\n",
        "    - Calculates the range between the 75% and 25% quartiles\n",
        "    - Outliers fall outside upper and lower limits, using a treshold of  1.5*IQR the 75% and 25% quartiles.\n",
        "\n",
        "    IQR Range Calculation:\n",
        "        res = df.describe()\n",
        "        IQR = res['75%'] -  res['25%']\n",
        "        lower_limit = res['25%'] - 1.5*IQR\n",
        "        upper_limit = res['75%'] + 1.5*IQR\n",
        "\n",
        "    Args:\n",
        "        data (Series,or ndarray): data to test for outliers.\n",
        "\n",
        "    Returns:\n",
        "        [boolean Series]: A True/False for each row use to slice outliers.\n",
        "\n",
        "    Adapted from Flatiron School Phase #2 Py Files.\n",
        "    URL = https://github.com/flatiron-school/Online-DS-FT-022221-Cohort-Notes/blob/master/py_files/functions_SG.py\n",
        "\n",
        "    \"\"\"\n",
        "    df_b=data\n",
        "    res= df_b.describe()\n",
        "\n",
        "    IQR = res['75%'] -  res['25%']\n",
        "    lower_limit = res['25%'] - 1.5*IQR\n",
        "    upper_limit = res['75%'] + 1.5*IQR\n",
        "\n",
        "    if return_limits:\n",
        "        return lower_limit, upper_limit\n",
        "\n",
        "    else:\n",
        "        idx_outs = (df_b>upper_limit) | (df_b<lower_limit)\n",
        "        return idx_outs"
      ]
    },
    {
      "cell_type": "code",
      "execution_count": null,
      "metadata": {
        "ExecuteTime": {
          "end_time": "2021-05-31T00:07:26.040031Z",
          "start_time": "2021-05-31T00:07:26.011063Z"
        },
        "colab": {
          "base_uri": "https://localhost:8080/"
        },
        "id": "z8ByCC9uo5ux",
        "outputId": "449bd8e4-6e7b-4cfe-fb65-4029a72e4c82"
      },
      "outputs": [
        {
          "output_type": "stream",
          "name": "stdout",
          "text": [
            "Minimum: 58\n",
            "Maximum: 88\n"
          ]
        }
      ],
      "source": [
        "#removing outliers from the popularity column\n",
        "df_100 = df_100[find_outliers_IQR(df_100['popularity '])==False]\n",
        "#displaying minimum & maxium values in popularity column\n",
        "print(\"Minimum:\", df_100['popularity '].min())\n",
        "print(\"Maximum:\", df_100['popularity '].max())"
      ]
    },
    {
      "cell_type": "code",
      "source": [
        "#removing outliers from the popularity column\n",
        "df2010_2019 = df2010_2019[find_outliers_IQR(df2010_2019['pop'])==False]\n",
        "#displaying minimum & maxium values in popularity column\n",
        "print(\"Minimum:\", df2010_2019['pop'].min())\n",
        "print(\"Maximum:\", df2010_2019['pop'].max())"
      ],
      "metadata": {
        "id": "GQqCs_HXMG8E",
        "colab": {
          "base_uri": "https://localhost:8080/"
        },
        "outputId": "a00bef79-0d93-4e80-b2d8-cdb67ef57a1f"
      },
      "execution_count": null,
      "outputs": [
        {
          "output_type": "stream",
          "name": "stdout",
          "text": [
            "Minimum: 54.0\n",
            "Maximum: 95.0\n"
          ]
        }
      ]
    },
    {
      "cell_type": "code",
      "execution_count": null,
      "metadata": {
        "ExecuteTime": {
          "end_time": "2021-05-31T00:07:26.322855Z",
          "start_time": "2021-05-31T00:07:26.042031Z"
        },
        "colab": {
          "base_uri": "https://localhost:8080/",
          "height": 467
        },
        "id": "aNtnCi9Zo5ux",
        "outputId": "4bfbad9a-f320-4f80-c182-0ff2e4f5eb0a"
      },
      "outputs": [
        {
          "output_type": "execute_result",
          "data": {
            "text/plain": [
              "<Axes: xlabel='popularity ', ylabel='Count'>"
            ]
          },
          "metadata": {},
          "execution_count": 38
        },
        {
          "output_type": "display_data",
          "data": {
            "text/plain": [
              "<Figure size 640x480 with 1 Axes>"
            ],
            "image/png": "[encoded data removed]"
          },
          "metadata": {}
        }
      ],
      "source": [
        "fig, ax = plt.subplots()\n",
        "sns.histplot(df_100['popularity '], bins=15, ax=ax)"
      ]
    },
    {
      "cell_type": "code",
      "source": [
        "fig, ax = plt.subplots()\n",
        "sns.histplot(df2010_2019['pop'], bins=15, ax=ax)"
      ],
      "metadata": {
        "id": "mwzGkM-YMdSP",
        "colab": {
          "base_uri": "https://localhost:8080/",
          "height": 467
        },
        "outputId": "07799e98-c5ef-47e6-ae49-ae410af492a6"
      },
      "execution_count": null,
      "outputs": [
        {
          "output_type": "execute_result",
          "data": {
            "text/plain": [
              "<Axes: xlabel='pop', ylabel='Count'>"
            ]
          },
          "metadata": {},
          "execution_count": 39
        },
        {
          "output_type": "display_data",
          "data": {
            "text/plain": [
              "<Figure size 640x480 with 1 Axes>"
            ],
            "image/png": "[encoded data removed]"
          },
          "metadata": {}
        }
      ]
    },
    {
      "cell_type": "code",
      "execution_count": null,
      "metadata": {
        "ExecuteTime": {
          "end_time": "2021-05-31T00:07:27.011470Z",
          "start_time": "2021-05-31T00:07:26.324868Z"
        },
        "colab": {
          "base_uri": "https://localhost:8080/",
          "height": 467
        },
        "id": "d186Saqwo5uy",
        "outputId": "314a7ec0-e53a-4138-9d98-17385dbaf5a8"
      },
      "outputs": [
        {
          "output_type": "execute_result",
          "data": {
            "text/plain": [
              "<matplotlib.legend.Legend at 0x7a7965b8a590>"
            ]
          },
          "metadata": {},
          "execution_count": 40
        },
        {
          "output_type": "display_data",
          "data": {
            "text/plain": [
              "<Figure size 640x480 with 1 Axes>"
            ],
            "image/png": "[encoded data removed]"
          },
          "metadata": {}
        }
      ],
      "source": [
        "#visualizing the min and max popularity scores on the overall dataset histogram\n",
        "fig, ax = plt.subplots()\n",
        "sns.histplot(df['popularity'], bins='auto', ax=ax)\n",
        "ax.vlines(x=df_100['popularity '].min(), ymin=0, ymax=6000, linestyles='dashed', colors='red', label='min')\n",
        "ax.vlines(x=df_100['popularity '].max(), ymin=0, ymax=6000, linestyles='dashed', colors='red', label='max')\n",
        "plt.legend()"
      ]
    },
    {
      "cell_type": "code",
      "source": [
        "#visualizing the min and max popularity scores on the overall dataset histogram\n",
        "fig, ax = plt.subplots()\n",
        "sns.histplot(df['popularity'], bins='auto', ax=ax)\n",
        "ax.vlines(x=df2010_2019['pop'].min(), ymin=0, ymax=6000, linestyles='dashed', colors='red', label='min')\n",
        "ax.vlines(x=df2010_2019['pop'].max(), ymin=0, ymax=6000, linestyles='dashed', colors='red', label='max')\n",
        "plt.legend()"
      ],
      "metadata": {
        "id": "BWB2xVfKMowq",
        "colab": {
          "base_uri": "https://localhost:8080/",
          "height": 467
        },
        "outputId": "d3c6d4e0-abc1-4f64-f66c-07325127f969"
      },
      "execution_count": null,
      "outputs": [
        {
          "output_type": "execute_result",
          "data": {
            "text/plain": [
              "<matplotlib.legend.Legend at 0x7a7965a19e10>"
            ]
          },
          "metadata": {},
          "execution_count": 41
        },
        {
          "output_type": "display_data",
          "data": {
            "text/plain": [
              "<Figure size 640x480 with 1 Axes>"
            ],
            "image/png": "[encoded data removed]"
          },
          "metadata": {}
        }
      ]
    },
    {
      "cell_type": "markdown",
      "metadata": {
        "id": "mVYHQpnfo5uy"
      },
      "source": [
        "As we can expect to see, the top 100 songs have a wider range and therefore a lower popularity score threshold compared to the top 50 songs. We will be defining a song being popular as being Top 100 worthy and therefore will establish our cutoff point at 58."
      ]
    },
    {
      "cell_type": "code",
      "execution_count": null,
      "metadata": {
        "ExecuteTime": {
          "end_time": "2021-05-31T00:07:27.043420Z",
          "start_time": "2021-05-31T00:07:27.013425Z"
        },
        "colab": {
          "base_uri": "https://localhost:8080/",
          "height": 356
        },
        "id": "YM2kRFq3o5uy",
        "outputId": "e405b02d-a046-4ebc-cd55-0d4b14402712"
      },
      "outputs": [
        {
          "output_type": "execute_result",
          "data": {
            "text/plain": [
              "                              artist_name                          track_name  \\\n",
              "track_id                                                                        \n",
              "00021Wy6AyMbLP2tqij86e  Capcom Sound Team                     Zangief's Theme   \n",
              "000CzNKC8PEt1yC3L8dqwV     Henri Salvador  Coeur Brisé à Prendre - Remastered   \n",
              "000DfZJww8KiixTKuk9usJ          Mike Love                          Earthlings   \n",
              "000EWWBkYaREzsBplYjUag       Don Philippe                           Fewerdolr   \n",
              "000xQL6tZNLJzIrtIgxqSl               ZAYN                      Still Got Time   \n",
              "\n",
              "                        popularity  acousticness  danceability  duration_ms  \\\n",
              "track_id                                                                      \n",
              "00021Wy6AyMbLP2tqij86e          13         0.234         0.617       169173   \n",
              "000CzNKC8PEt1yC3L8dqwV           5         0.249         0.518       130653   \n",
              "000DfZJww8KiixTKuk9usJ          30         0.366         0.631       357573   \n",
              "000EWWBkYaREzsBplYjUag          39         0.815         0.768       104924   \n",
              "000xQL6tZNLJzIrtIgxqSl          70         0.131         0.748       188491   \n",
              "\n",
              "                        energy  instrumentalness key  liveness  ...  Reggae  \\\n",
              "track_id                                                        ...           \n",
              "00021Wy6AyMbLP2tqij86e   0.862          0.976000   G    0.1410  ...       0   \n",
              "000CzNKC8PEt1yC3L8dqwV   0.805          0.000000   F    0.3330  ...       0   \n",
              "000DfZJww8KiixTKuk9usJ   0.513          0.000004   D    0.1090  ...       1   \n",
              "000EWWBkYaREzsBplYjUag   0.137          0.922000  C#    0.1130  ...       0   \n",
              "000xQL6tZNLJzIrtIgxqSl   0.627          0.000000   G    0.0852  ...       0   \n",
              "\n",
              "                       Reggaeton  Jazz  Rock Ska  Comedy  Soul  Soundtrack  \\\n",
              "track_id                                                                     \n",
              "00021Wy6AyMbLP2tqij86e         0     0     0   0       0     0           0   \n",
              "000CzNKC8PEt1yC3L8dqwV         0     0     0   0       0     0           0   \n",
              "000DfZJww8KiixTKuk9usJ         0     0     0   0       0     0           0   \n",
              "000EWWBkYaREzsBplYjUag         0     1     0   0       0     0           0   \n",
              "000xQL6tZNLJzIrtIgxqSl         0     0     0   0       0     0           0   \n",
              "\n",
              "                        World  is_popular  \n",
              "track_id                                   \n",
              "00021Wy6AyMbLP2tqij86e      0           0  \n",
              "000CzNKC8PEt1yC3L8dqwV      0           0  \n",
              "000DfZJww8KiixTKuk9usJ      0           0  \n",
              "000EWWBkYaREzsBplYjUag      0           0  \n",
              "000xQL6tZNLJzIrtIgxqSl      0           1  \n",
              "\n",
              "[5 rows x 43 columns]"
            ],
            "text/html": [
              "\n",
              "  <div id=\"df-92a778d4-d6ca-479d-be92-3343cf4c799b\" class=\"colab-df-container\">\n",
              "    <div>\n",
              "<style scoped>\n",
              "    .dataframe tbody tr th:only-of-type {\n",
              "        vertical-align: middle;\n",
              "    }\n",
              "\n",
              "    .dataframe tbody tr th {\n",
              "        vertical-align: top;\n",
              "    }\n",
              "\n",
              "    .dataframe thead th {\n",
              "        text-align: right;\n",
              "    }\n",
              "</style>\n",
              "<table border=\"1\" class=\"dataframe\">\n",
              "  <thead>\n",
              "    <tr style=\"text-align: right;\">\n",
              "      <th></th>\n",
              "      <th>artist_name</th>\n",
              "      <th>track_name</th>\n",
              "      <th>popularity</th>\n",
              "      <th>acousticness</th>\n",
              "      <th>danceability</th>\n",
              "      <th>duration_ms</th>\n",
              "      <th>energy</th>\n",
              "      <th>instrumentalness</th>\n",
              "      <th>key</th>\n",
              "      <th>liveness</th>\n",
              "      <th>...</th>\n",
              "      <th>Reggae</th>\n",
              "      <th>Reggaeton</th>\n",
              "      <th>Jazz</th>\n",
              "      <th>Rock</th>\n",
              "      <th>Ska</th>\n",
              "      <th>Comedy</th>\n",
              "      <th>Soul</th>\n",
              "      <th>Soundtrack</th>\n",
              "      <th>World</th>\n",
              "      <th>is_popular</th>\n",
              "    </tr>\n",
              "    <tr>\n",
              "      <th>track_id</th>\n",
              "      <th></th>\n",
              "      <th></th>\n",
              "      <th></th>\n",
              "      <th></th>\n",
              "      <th></th>\n",
              "      <th></th>\n",
              "      <th></th>\n",
              "      <th></th>\n",
              "      <th></th>\n",
              "      <th></th>\n",
              "      <th></th>\n",
              "      <th></th>\n",
              "      <th></th>\n",
              "      <th></th>\n",
              "      <th></th>\n",
              "      <th></th>\n",
              "      <th></th>\n",
              "      <th></th>\n",
              "      <th></th>\n",
              "      <th></th>\n",
              "      <th></th>\n",
              "    </tr>\n",
              "  </thead>\n",
              "  <tbody>\n",
              "    <tr>\n",
              "      <th>00021Wy6AyMbLP2tqij86e</th>\n",
              "      <td>Capcom Sound Team</td>\n",
              "      <td>Zangief's Theme</td>\n",
              "      <td>13</td>\n",
              "      <td>0.234</td>\n",
              "      <td>0.617</td>\n",
              "      <td>169173</td>\n",
              "      <td>0.862</td>\n",
              "      <td>0.976000</td>\n",
              "      <td>G</td>\n",
              "      <td>0.1410</td>\n",
              "      <td>...</td>\n",
              "      <td>0</td>\n",
              "      <td>0</td>\n",
              "      <td>0</td>\n",
              "      <td>0</td>\n",
              "      <td>0</td>\n",
              "      <td>0</td>\n",
              "      <td>0</td>\n",
              "      <td>0</td>\n",
              "      <td>0</td>\n",
              "      <td>0</td>\n",
              "    </tr>\n",
              "    <tr>\n",
              "      <th>000CzNKC8PEt1yC3L8dqwV</th>\n",
              "      <td>Henri Salvador</td>\n",
              "      <td>Coeur Brisé à Prendre - Remastered</td>\n",
              "      <td>5</td>\n",
              "      <td>0.249</td>\n",
              "      <td>0.518</td>\n",
              "      <td>130653</td>\n",
              "      <td>0.805</td>\n",
              "      <td>0.000000</td>\n",
              "      <td>F</td>\n",
              "      <td>0.3330</td>\n",
              "      <td>...</td>\n",
              "      <td>0</td>\n",
              "      <td>0</td>\n",
              "      <td>0</td>\n",
              "      <td>0</td>\n",
              "      <td>0</td>\n",
              "      <td>0</td>\n",
              "      <td>0</td>\n",
              "      <td>0</td>\n",
              "      <td>0</td>\n",
              "      <td>0</td>\n",
              "    </tr>\n",
              "    <tr>\n",
              "      <th>000DfZJww8KiixTKuk9usJ</th>\n",
              "      <td>Mike Love</td>\n",
              "      <td>Earthlings</td>\n",
              "      <td>30</td>\n",
              "      <td>0.366</td>\n",
              "      <td>0.631</td>\n",
              "      <td>357573</td>\n",
              "      <td>0.513</td>\n",
              "      <td>0.000004</td>\n",
              "      <td>D</td>\n",
              "      <td>0.1090</td>\n",
              "      <td>...</td>\n",
              "      <td>1</td>\n",
              "      <td>0</td>\n",
              "      <td>0</td>\n",
              "      <td>0</td>\n",
              "      <td>0</td>\n",
              "      <td>0</td>\n",
              "      <td>0</td>\n",
              "      <td>0</td>\n",
              "      <td>0</td>\n",
              "      <td>0</td>\n",
              "    </tr>\n",
              "    <tr>\n",
              "      <th>000EWWBkYaREzsBplYjUag</th>\n",
              "      <td>Don Philippe</td>\n",
              "      <td>Fewerdolr</td>\n",
              "      <td>39</td>\n",
              "      <td>0.815</td>\n",
              "      <td>0.768</td>\n",
              "      <td>104924</td>\n",
              "      <td>0.137</td>\n",
              "      <td>0.922000</td>\n",
              "      <td>C#</td>\n",
              "      <td>0.1130</td>\n",
              "      <td>...</td>\n",
              "      <td>0</td>\n",
              "      <td>0</td>\n",
              "      <td>1</td>\n",
              "      <td>0</td>\n",
              "      <td>0</td>\n",
              "      <td>0</td>\n",
              "      <td>0</td>\n",
              "      <td>0</td>\n",
              "      <td>0</td>\n",
              "      <td>0</td>\n",
              "    </tr>\n",
              "    <tr>\n",
              "      <th>000xQL6tZNLJzIrtIgxqSl</th>\n",
              "      <td>ZAYN</td>\n",
              "      <td>Still Got Time</td>\n",
              "      <td>70</td>\n",
              "      <td>0.131</td>\n",
              "      <td>0.748</td>\n",
              "      <td>188491</td>\n",
              "      <td>0.627</td>\n",
              "      <td>0.000000</td>\n",
              "      <td>G</td>\n",
              "      <td>0.0852</td>\n",
              "      <td>...</td>\n",
              "      <td>0</td>\n",
              "      <td>0</td>\n",
              "      <td>0</td>\n",
              "      <td>0</td>\n",
              "      <td>0</td>\n",
              "      <td>0</td>\n",
              "      <td>0</td>\n",
              "      <td>0</td>\n",
              "      <td>0</td>\n",
              "      <td>1</td>\n",
              "    </tr>\n",
              "  </tbody>\n",
              "</table>\n",
              "<p>5 rows × 43 columns</p>\n",
              "</div>\n",
              "    <div class=\"colab-df-buttons\">\n",
              "\n",
              "  <div class=\"colab-df-container\">\n",
              "    <button class=\"colab-df-convert\" onclick=\"convertToInteractive('df-92a778d4-d6ca-479d-be92-3343cf4c799b')\"\n",
              "            title=\"Convert this dataframe to an interactive table.\"\n",
              "            style=\"display:none;\">\n",
              "\n",
              "  <svg xmlns=\"http://www.w3.org/2000/svg\" height=\"24px\" viewBox=\"0 -960 960 960\">\n",
              "    <path d=\"M120-120v-720h720v720H120Zm60-500h600v-160H180v160Zm220 220h160v-160H400v160Zm0 220h160v-160H400v160ZM180-400h160v-160H180v160Zm440 0h160v-160H620v160ZM180-180h160v-160H180v160Zm440 0h160v-160H620v160Z\"/>\n",
              "  </svg>\n",
              "    </button>\n",
              "\n",
              "  <style>\n",
              "    .colab-df-container {\n",
              "      display:flex;\n",
              "      gap: 12px;\n",
              "    }\n",
              "\n",
              "    .colab-df-convert {\n",
              "      background-color: #E8F0FE;\n",
              "      border: none;\n",
              "      border-radius: 50%;\n",
              "      cursor: pointer;\n",
              "      display: none;\n",
              "      fill: #1967D2;\n",
              "      height: 32px;\n",
              "      padding: 0 0 0 0;\n",
              "      width: 32px;\n",
              "    }\n",
              "\n",
              "    .colab-df-convert:hover {\n",
              "      background-color: #E2EBFA;\n",
              "      box-shadow: 0px 1px 2px rgba(60, 64, 67, 0.3), 0px 1px 3px 1px rgba(60, 64, 67, 0.15);\n",
              "      fill: #174EA6;\n",
              "    }\n",
              "\n",
              "    .colab-df-buttons div {\n",
              "      margin-bottom: 4px;\n",
              "    }\n",
              "\n",
              "    [theme=dark] .colab-df-convert {\n",
              "      background-color: #3B4455;\n",
              "      fill: #D2E3FC;\n",
              "    }\n",
              "\n",
              "    [theme=dark] .colab-df-convert:hover {\n",
              "      background-color: #434B5C;\n",
              "      box-shadow: 0px 1px 3px 1px rgba(0, 0, 0, 0.15);\n",
              "      filter: drop-shadow(0px 1px 2px rgba(0, 0, 0, 0.3));\n",
              "      fill: #FFFFFF;\n",
              "    }\n",
              "  </style>\n",
              "\n",
              "    <script>\n",
              "      const buttonEl =\n",
              "        document.querySelector('#df-92a778d4-d6ca-479d-be92-3343cf4c799b button.colab-df-convert');\n",
              "      buttonEl.style.display =\n",
              "        google.colab.kernel.accessAllowed ? 'block' : 'none';\n",
              "\n",
              "      async function convertToInteractive(key) {\n",
              "        const element = document.querySelector('#df-92a778d4-d6ca-479d-be92-3343cf4c799b');\n",
              "        const dataTable =\n",
              "          await google.colab.kernel.invokeFunction('convertToInteractive',\n",
              "                                                    [key], {});\n",
              "        if (!dataTable) return;\n",
              "\n",
              "        const docLinkHtml = 'Like what you see? Visit the ' +\n",
              "          '<a target=\"_blank\" href=https://colab.research.google.com/notebooks/data_table.ipynb>data table notebook</a>'\n",
              "          + ' to learn more about interactive tables.';\n",
              "        element.innerHTML = '';\n",
              "        dataTable['output_type'] = 'display_data';\n",
              "        await google.colab.output.renderOutput(dataTable, element);\n",
              "        const docLink = document.createElement('div');\n",
              "        docLink.innerHTML = docLinkHtml;\n",
              "        element.appendChild(docLink);\n",
              "      }\n",
              "    </script>\n",
              "  </div>\n",
              "\n",
              "\n",
              "<div id=\"df-d7a1f3ec-f578-4231-bbfd-76fc93cd728b\">\n",
              "  <button class=\"colab-df-quickchart\" onclick=\"quickchart('df-d7a1f3ec-f578-4231-bbfd-76fc93cd728b')\"\n",
              "            title=\"Suggest charts\"\n",
              "            style=\"display:none;\">\n",
              "\n",
              "<svg xmlns=\"http://www.w3.org/2000/svg\" height=\"24px\"viewBox=\"0 0 24 24\"\n",
              "     width=\"24px\">\n",
              "    <g>\n",
              "        <path d=\"M19 3H5c-1.1 0-2 .9-2 2v14c0 1.1.9 2 2 2h14c1.1 0 2-.9 2-2V5c0-1.1-.9-2-2-2zM9 17H7v-7h2v7zm4 0h-2V7h2v10zm4 0h-2v-4h2v4z\"/>\n",
              "    </g>\n",
              "</svg>\n",
              "  </button>\n",
              "\n",
              "<style>\n",
              "  .colab-df-quickchart {\n",
              "      --bg-color: #E8F0FE;\n",
              "      --fill-color: #1967D2;\n",
              "      --hover-bg-color: #E2EBFA;\n",
              "      --hover-fill-color: #174EA6;\n",
              "      --disabled-fill-color: #AAA;\n",
              "      --disabled-bg-color: #DDD;\n",
              "  }\n",
              "\n",
              "  [theme=dark] .colab-df-quickchart {\n",
              "      --bg-color: #3B4455;\n",
              "      --fill-color: #D2E3FC;\n",
              "      --hover-bg-color: #434B5C;\n",
              "      --hover-fill-color: #FFFFFF;\n",
              "      --disabled-bg-color: #3B4455;\n",
              "      --disabled-fill-color: #666;\n",
              "  }\n",
              "\n",
              "  .colab-df-quickchart {\n",
              "    background-color: var(--bg-color);\n",
              "    border: none;\n",
              "    border-radius: 50%;\n",
              "    cursor: pointer;\n",
              "    display: none;\n",
              "    fill: var(--fill-color);\n",
              "    height: 32px;\n",
              "    padding: 0;\n",
              "    width: 32px;\n",
              "  }\n",
              "\n",
              "  .colab-df-quickchart:hover {\n",
              "    background-color: var(--hover-bg-color);\n",
              "    box-shadow: 0 1px 2px rgba(60, 64, 67, 0.3), 0 1px 3px 1px rgba(60, 64, 67, 0.15);\n",
              "    fill: var(--button-hover-fill-color);\n",
              "  }\n",
              "\n",
              "  .colab-df-quickchart-complete:disabled,\n",
              "  .colab-df-quickchart-complete:disabled:hover {\n",
              "    background-color: var(--disabled-bg-color);\n",
              "    fill: var(--disabled-fill-color);\n",
              "    box-shadow: none;\n",
              "  }\n",
              "\n",
              "  .colab-df-spinner {\n",
              "    border: 2px solid var(--fill-color);\n",
              "    border-color: transparent;\n",
              "    border-bottom-color: var(--fill-color);\n",
              "    animation:\n",
              "      spin 1s steps(1) infinite;\n",
              "  }\n",
              "\n",
              "  @keyframes spin {\n",
              "    0% {\n",
              "      border-color: transparent;\n",
              "      border-bottom-color: var(--fill-color);\n",
              "      border-left-color: var(--fill-color);\n",
              "    }\n",
              "    20% {\n",
              "      border-color: transparent;\n",
              "      border-left-color: var(--fill-color);\n",
              "      border-top-color: var(--fill-color);\n",
              "    }\n",
              "    30% {\n",
              "      border-color: transparent;\n",
              "      border-left-color: var(--fill-color);\n",
              "      border-top-color: var(--fill-color);\n",
              "      border-right-color: var(--fill-color);\n",
              "    }\n",
              "    40% {\n",
              "      border-color: transparent;\n",
              "      border-right-color: var(--fill-color);\n",
              "      border-top-color: var(--fill-color);\n",
              "    }\n",
              "    60% {\n",
              "      border-color: transparent;\n",
              "      border-right-color: var(--fill-color);\n",
              "    }\n",
              "    80% {\n",
              "      border-color: transparent;\n",
              "      border-right-color: var(--fill-color);\n",
              "      border-bottom-color: var(--fill-color);\n",
              "    }\n",
              "    90% {\n",
              "      border-color: transparent;\n",
              "      border-bottom-color: var(--fill-color);\n",
              "    }\n",
              "  }\n",
              "</style>\n",
              "\n",
              "  <script>\n",
              "    async function quickchart(key) {\n",
              "      const quickchartButtonEl =\n",
              "        document.querySelector('#' + key + ' button');\n",
              "      quickchartButtonEl.disabled = true;  // To prevent multiple clicks.\n",
              "      quickchartButtonEl.classList.add('colab-df-spinner');\n",
              "      try {\n",
              "        const charts = await google.colab.kernel.invokeFunction(\n",
              "            'suggestCharts', [key], {});\n",
              "      } catch (error) {\n",
              "        console.error('Error during call to suggestCharts:', error);\n",
              "      }\n",
              "      quickchartButtonEl.classList.remove('colab-df-spinner');\n",
              "      quickchartButtonEl.classList.add('colab-df-quickchart-complete');\n",
              "    }\n",
              "    (() => {\n",
              "      let quickchartButtonEl =\n",
              "        document.querySelector('#df-d7a1f3ec-f578-4231-bbfd-76fc93cd728b button');\n",
              "      quickchartButtonEl.style.display =\n",
              "        google.colab.kernel.accessAllowed ? 'block' : 'none';\n",
              "    })();\n",
              "  </script>\n",
              "</div>\n",
              "    </div>\n",
              "  </div>\n"
            ]
          },
          "metadata": {},
          "execution_count": 42
        }
      ],
      "source": [
        "#creating is_popular column with our cutoff point\n",
        "\n",
        "#Change to a value of 54 for 2nd run through\n",
        "df['is_popular']=(df['popularity']>=54).astype('int')\n",
        "df.head()"
      ]
    },
    {
      "cell_type": "code",
      "execution_count": null,
      "metadata": {
        "ExecuteTime": {
          "end_time": "2021-05-31T00:07:27.121360Z",
          "start_time": "2021-05-31T00:07:27.046419Z"
        },
        "colab": {
          "base_uri": "https://localhost:8080/",
          "height": 287
        },
        "id": "tzX6EFuio5uy",
        "outputId": "d6227353-67ef-4c12-baa6-8f80c3f1a2b2"
      },
      "outputs": [
        {
          "output_type": "execute_result",
          "data": {
            "text/plain": [
              "                        acousticness  danceability  duration_ms  energy  \\\n",
              "track_id                                                                  \n",
              "00021Wy6AyMbLP2tqij86e         0.234         0.617       169173   0.862   \n",
              "000CzNKC8PEt1yC3L8dqwV         0.249         0.518       130653   0.805   \n",
              "000DfZJww8KiixTKuk9usJ         0.366         0.631       357573   0.513   \n",
              "000EWWBkYaREzsBplYjUag         0.815         0.768       104924   0.137   \n",
              "000xQL6tZNLJzIrtIgxqSl         0.131         0.748       188491   0.627   \n",
              "\n",
              "                        instrumentalness key  liveness  loudness   mode  \\\n",
              "track_id                                                                  \n",
              "00021Wy6AyMbLP2tqij86e          0.976000   G    0.1410   -12.855  Major   \n",
              "000CzNKC8PEt1yC3L8dqwV          0.000000   F    0.3330    -6.248  Major   \n",
              "000DfZJww8KiixTKuk9usJ          0.000004   D    0.1090    -6.376  Major   \n",
              "000EWWBkYaREzsBplYjUag          0.922000  C#    0.1130   -13.284  Minor   \n",
              "000xQL6tZNLJzIrtIgxqSl          0.000000   G    0.0852    -6.029  Major   \n",
              "\n",
              "                        speechiness  ...  Reggae Reggaeton  Jazz  Rock  Ska  \\\n",
              "track_id                             ...                                      \n",
              "00021Wy6AyMbLP2tqij86e       0.0514  ...       0         0     0     0    0   \n",
              "000CzNKC8PEt1yC3L8dqwV       0.0407  ...       0         0     0     0    0   \n",
              "000DfZJww8KiixTKuk9usJ       0.0293  ...       1         0     0     0    0   \n",
              "000EWWBkYaREzsBplYjUag       0.0747  ...       0         0     1     0    0   \n",
              "000xQL6tZNLJzIrtIgxqSl       0.0644  ...       0         0     0     0    0   \n",
              "\n",
              "                        Comedy  Soul  Soundtrack  World  is_popular  \n",
              "track_id                                                             \n",
              "00021Wy6AyMbLP2tqij86e       0     0           0      0           0  \n",
              "000CzNKC8PEt1yC3L8dqwV       0     0           0      0           0  \n",
              "000DfZJww8KiixTKuk9usJ       0     0           0      0           0  \n",
              "000EWWBkYaREzsBplYjUag       0     0           0      0           0  \n",
              "000xQL6tZNLJzIrtIgxqSl       0     0           0      0           1  \n",
              "\n",
              "[5 rows x 40 columns]"
            ],
            "text/html": [
              "\n",
              "  <div id=\"df-c64e5042-dbf3-4761-88d2-7f19c07d2103\" class=\"colab-df-container\">\n",
              "    <div>\n",
              "<style scoped>\n",
              "    .dataframe tbody tr th:only-of-type {\n",
              "        vertical-align: middle;\n",
              "    }\n",
              "\n",
              "    .dataframe tbody tr th {\n",
              "        vertical-align: top;\n",
              "    }\n",
              "\n",
              "    .dataframe thead th {\n",
              "        text-align: right;\n",
              "    }\n",
              "</style>\n",
              "<table border=\"1\" class=\"dataframe\">\n",
              "  <thead>\n",
              "    <tr style=\"text-align: right;\">\n",
              "      <th></th>\n",
              "      <th>acousticness</th>\n",
              "      <th>danceability</th>\n",
              "      <th>duration_ms</th>\n",
              "      <th>energy</th>\n",
              "      <th>instrumentalness</th>\n",
              "      <th>key</th>\n",
              "      <th>liveness</th>\n",
              "      <th>loudness</th>\n",
              "      <th>mode</th>\n",
              "      <th>speechiness</th>\n",
              "      <th>...</th>\n",
              "      <th>Reggae</th>\n",
              "      <th>Reggaeton</th>\n",
              "      <th>Jazz</th>\n",
              "      <th>Rock</th>\n",
              "      <th>Ska</th>\n",
              "      <th>Comedy</th>\n",
              "      <th>Soul</th>\n",
              "      <th>Soundtrack</th>\n",
              "      <th>World</th>\n",
              "      <th>is_popular</th>\n",
              "    </tr>\n",
              "    <tr>\n",
              "      <th>track_id</th>\n",
              "      <th></th>\n",
              "      <th></th>\n",
              "      <th></th>\n",
              "      <th></th>\n",
              "      <th></th>\n",
              "      <th></th>\n",
              "      <th></th>\n",
              "      <th></th>\n",
              "      <th></th>\n",
              "      <th></th>\n",
              "      <th></th>\n",
              "      <th></th>\n",
              "      <th></th>\n",
              "      <th></th>\n",
              "      <th></th>\n",
              "      <th></th>\n",
              "      <th></th>\n",
              "      <th></th>\n",
              "      <th></th>\n",
              "      <th></th>\n",
              "      <th></th>\n",
              "    </tr>\n",
              "  </thead>\n",
              "  <tbody>\n",
              "    <tr>\n",
              "      <th>00021Wy6AyMbLP2tqij86e</th>\n",
              "      <td>0.234</td>\n",
              "      <td>0.617</td>\n",
              "      <td>169173</td>\n",
              "      <td>0.862</td>\n",
              "      <td>0.976000</td>\n",
              "      <td>G</td>\n",
              "      <td>0.1410</td>\n",
              "      <td>-12.855</td>\n",
              "      <td>Major</td>\n",
              "      <td>0.0514</td>\n",
              "      <td>...</td>\n",
              "      <td>0</td>\n",
              "      <td>0</td>\n",
              "      <td>0</td>\n",
              "      <td>0</td>\n",
              "      <td>0</td>\n",
              "      <td>0</td>\n",
              "      <td>0</td>\n",
              "      <td>0</td>\n",
              "      <td>0</td>\n",
              "      <td>0</td>\n",
              "    </tr>\n",
              "    <tr>\n",
              "      <th>000CzNKC8PEt1yC3L8dqwV</th>\n",
              "      <td>0.249</td>\n",
              "      <td>0.518</td>\n",
              "      <td>130653</td>\n",
              "      <td>0.805</td>\n",
              "      <td>0.000000</td>\n",
              "      <td>F</td>\n",
              "      <td>0.3330</td>\n",
              "      <td>-6.248</td>\n",
              "      <td>Major</td>\n",
              "      <td>0.0407</td>\n",
              "      <td>...</td>\n",
              "      <td>0</td>\n",
              "      <td>0</td>\n",
              "      <td>0</td>\n",
              "      <td>0</td>\n",
              "      <td>0</td>\n",
              "      <td>0</td>\n",
              "      <td>0</td>\n",
              "      <td>0</td>\n",
              "      <td>0</td>\n",
              "      <td>0</td>\n",
              "    </tr>\n",
              "    <tr>\n",
              "      <th>000DfZJww8KiixTKuk9usJ</th>\n",
              "      <td>0.366</td>\n",
              "      <td>0.631</td>\n",
              "      <td>357573</td>\n",
              "      <td>0.513</td>\n",
              "      <td>0.000004</td>\n",
              "      <td>D</td>\n",
              "      <td>0.1090</td>\n",
              "      <td>-6.376</td>\n",
              "      <td>Major</td>\n",
              "      <td>0.0293</td>\n",
              "      <td>...</td>\n",
              "      <td>1</td>\n",
              "      <td>0</td>\n",
              "      <td>0</td>\n",
              "      <td>0</td>\n",
              "      <td>0</td>\n",
              "      <td>0</td>\n",
              "      <td>0</td>\n",
              "      <td>0</td>\n",
              "      <td>0</td>\n",
              "      <td>0</td>\n",
              "    </tr>\n",
              "    <tr>\n",
              "      <th>000EWWBkYaREzsBplYjUag</th>\n",
              "      <td>0.815</td>\n",
              "      <td>0.768</td>\n",
              "      <td>104924</td>\n",
              "      <td>0.137</td>\n",
              "      <td>0.922000</td>\n",
              "      <td>C#</td>\n",
              "      <td>0.1130</td>\n",
              "      <td>-13.284</td>\n",
              "      <td>Minor</td>\n",
              "      <td>0.0747</td>\n",
              "      <td>...</td>\n",
              "      <td>0</td>\n",
              "      <td>0</td>\n",
              "      <td>1</td>\n",
              "      <td>0</td>\n",
              "      <td>0</td>\n",
              "      <td>0</td>\n",
              "      <td>0</td>\n",
              "      <td>0</td>\n",
              "      <td>0</td>\n",
              "      <td>0</td>\n",
              "    </tr>\n",
              "    <tr>\n",
              "      <th>000xQL6tZNLJzIrtIgxqSl</th>\n",
              "      <td>0.131</td>\n",
              "      <td>0.748</td>\n",
              "      <td>188491</td>\n",
              "      <td>0.627</td>\n",
              "      <td>0.000000</td>\n",
              "      <td>G</td>\n",
              "      <td>0.0852</td>\n",
              "      <td>-6.029</td>\n",
              "      <td>Major</td>\n",
              "      <td>0.0644</td>\n",
              "      <td>...</td>\n",
              "      <td>0</td>\n",
              "      <td>0</td>\n",
              "      <td>0</td>\n",
              "      <td>0</td>\n",
              "      <td>0</td>\n",
              "      <td>0</td>\n",
              "      <td>0</td>\n",
              "      <td>0</td>\n",
              "      <td>0</td>\n",
              "      <td>1</td>\n",
              "    </tr>\n",
              "  </tbody>\n",
              "</table>\n",
              "<p>5 rows × 40 columns</p>\n",
              "</div>\n",
              "    <div class=\"colab-df-buttons\">\n",
              "\n",
              "  <div class=\"colab-df-container\">\n",
              "    <button class=\"colab-df-convert\" onclick=\"convertToInteractive('df-c64e5042-dbf3-4761-88d2-7f19c07d2103')\"\n",
              "            title=\"Convert this dataframe to an interactive table.\"\n",
              "            style=\"display:none;\">\n",
              "\n",
              "  <svg xmlns=\"http://www.w3.org/2000/svg\" height=\"24px\" viewBox=\"0 -960 960 960\">\n",
              "    <path d=\"M120-120v-720h720v720H120Zm60-500h600v-160H180v160Zm220 220h160v-160H400v160Zm0 220h160v-160H400v160ZM180-400h160v-160H180v160Zm440 0h160v-160H620v160ZM180-180h160v-160H180v160Zm440 0h160v-160H620v160Z\"/>\n",
              "  </svg>\n",
              "    </button>\n",
              "\n",
              "  <style>\n",
              "    .colab-df-container {\n",
              "      display:flex;\n",
              "      gap: 12px;\n",
              "    }\n",
              "\n",
              "    .colab-df-convert {\n",
              "      background-color: #E8F0FE;\n",
              "      border: none;\n",
              "      border-radius: 50%;\n",
              "      cursor: pointer;\n",
              "      display: none;\n",
              "      fill: #1967D2;\n",
              "      height: 32px;\n",
              "      padding: 0 0 0 0;\n",
              "      width: 32px;\n",
              "    }\n",
              "\n",
              "    .colab-df-convert:hover {\n",
              "      background-color: #E2EBFA;\n",
              "      box-shadow: 0px 1px 2px rgba(60, 64, 67, 0.3), 0px 1px 3px 1px rgba(60, 64, 67, 0.15);\n",
              "      fill: #174EA6;\n",
              "    }\n",
              "\n",
              "    .colab-df-buttons div {\n",
              "      margin-bottom: 4px;\n",
              "    }\n",
              "\n",
              "    [theme=dark] .colab-df-convert {\n",
              "      background-color: #3B4455;\n",
              "      fill: #D2E3FC;\n",
              "    }\n",
              "\n",
              "    [theme=dark] .colab-df-convert:hover {\n",
              "      background-color: #434B5C;\n",
              "      box-shadow: 0px 1px 3px 1px rgba(0, 0, 0, 0.15);\n",
              "      filter: drop-shadow(0px 1px 2px rgba(0, 0, 0, 0.3));\n",
              "      fill: #FFFFFF;\n",
              "    }\n",
              "  </style>\n",
              "\n",
              "    <script>\n",
              "      const buttonEl =\n",
              "        document.querySelector('#df-c64e5042-dbf3-4761-88d2-7f19c07d2103 button.colab-df-convert');\n",
              "      buttonEl.style.display =\n",
              "        google.colab.kernel.accessAllowed ? 'block' : 'none';\n",
              "\n",
              "      async function convertToInteractive(key) {\n",
              "        const element = document.querySelector('#df-c64e5042-dbf3-4761-88d2-7f19c07d2103');\n",
              "        const dataTable =\n",
              "          await google.colab.kernel.invokeFunction('convertToInteractive',\n",
              "                                                    [key], {});\n",
              "        if (!dataTable) return;\n",
              "\n",
              "        const docLinkHtml = 'Like what you see? Visit the ' +\n",
              "          '<a target=\"_blank\" href=https://colab.research.google.com/notebooks/data_table.ipynb>data table notebook</a>'\n",
              "          + ' to learn more about interactive tables.';\n",
              "        element.innerHTML = '';\n",
              "        dataTable['output_type'] = 'display_data';\n",
              "        await google.colab.output.renderOutput(dataTable, element);\n",
              "        const docLink = document.createElement('div');\n",
              "        docLink.innerHTML = docLinkHtml;\n",
              "        element.appendChild(docLink);\n",
              "      }\n",
              "    </script>\n",
              "  </div>\n",
              "\n",
              "\n",
              "<div id=\"df-12474f99-13ad-49be-ad82-99f8e96be6a9\">\n",
              "  <button class=\"colab-df-quickchart\" onclick=\"quickchart('df-12474f99-13ad-49be-ad82-99f8e96be6a9')\"\n",
              "            title=\"Suggest charts\"\n",
              "            style=\"display:none;\">\n",
              "\n",
              "<svg xmlns=\"http://www.w3.org/2000/svg\" height=\"24px\"viewBox=\"0 0 24 24\"\n",
              "     width=\"24px\">\n",
              "    <g>\n",
              "        <path d=\"M19 3H5c-1.1 0-2 .9-2 2v14c0 1.1.9 2 2 2h14c1.1 0 2-.9 2-2V5c0-1.1-.9-2-2-2zM9 17H7v-7h2v7zm4 0h-2V7h2v10zm4 0h-2v-4h2v4z\"/>\n",
              "    </g>\n",
              "</svg>\n",
              "  </button>\n",
              "\n",
              "<style>\n",
              "  .colab-df-quickchart {\n",
              "      --bg-color: #E8F0FE;\n",
              "      --fill-color: #1967D2;\n",
              "      --hover-bg-color: #E2EBFA;\n",
              "      --hover-fill-color: #174EA6;\n",
              "      --disabled-fill-color: #AAA;\n",
              "      --disabled-bg-color: #DDD;\n",
              "  }\n",
              "\n",
              "  [theme=dark] .colab-df-quickchart {\n",
              "      --bg-color: #3B4455;\n",
              "      --fill-color: #D2E3FC;\n",
              "      --hover-bg-color: #434B5C;\n",
              "      --hover-fill-color: #FFFFFF;\n",
              "      --disabled-bg-color: #3B4455;\n",
              "      --disabled-fill-color: #666;\n",
              "  }\n",
              "\n",
              "  .colab-df-quickchart {\n",
              "    background-color: var(--bg-color);\n",
              "    border: none;\n",
              "    border-radius: 50%;\n",
              "    cursor: pointer;\n",
              "    display: none;\n",
              "    fill: var(--fill-color);\n",
              "    height: 32px;\n",
              "    padding: 0;\n",
              "    width: 32px;\n",
              "  }\n",
              "\n",
              "  .colab-df-quickchart:hover {\n",
              "    background-color: var(--hover-bg-color);\n",
              "    box-shadow: 0 1px 2px rgba(60, 64, 67, 0.3), 0 1px 3px 1px rgba(60, 64, 67, 0.15);\n",
              "    fill: var(--button-hover-fill-color);\n",
              "  }\n",
              "\n",
              "  .colab-df-quickchart-complete:disabled,\n",
              "  .colab-df-quickchart-complete:disabled:hover {\n",
              "    background-color: var(--disabled-bg-color);\n",
              "    fill: var(--disabled-fill-color);\n",
              "    box-shadow: none;\n",
              "  }\n",
              "\n",
              "  .colab-df-spinner {\n",
              "    border: 2px solid var(--fill-color);\n",
              "    border-color: transparent;\n",
              "    border-bottom-color: var(--fill-color);\n",
              "    animation:\n",
              "      spin 1s steps(1) infinite;\n",
              "  }\n",
              "\n",
              "  @keyframes spin {\n",
              "    0% {\n",
              "      border-color: transparent;\n",
              "      border-bottom-color: var(--fill-color);\n",
              "      border-left-color: var(--fill-color);\n",
              "    }\n",
              "    20% {\n",
              "      border-color: transparent;\n",
              "      border-left-color: var(--fill-color);\n",
              "      border-top-color: var(--fill-color);\n",
              "    }\n",
              "    30% {\n",
              "      border-color: transparent;\n",
              "      border-left-color: var(--fill-color);\n",
              "      border-top-color: var(--fill-color);\n",
              "      border-right-color: var(--fill-color);\n",
              "    }\n",
              "    40% {\n",
              "      border-color: transparent;\n",
              "      border-right-color: var(--fill-color);\n",
              "      border-top-color: var(--fill-color);\n",
              "    }\n",
              "    60% {\n",
              "      border-color: transparent;\n",
              "      border-right-color: var(--fill-color);\n",
              "    }\n",
              "    80% {\n",
              "      border-color: transparent;\n",
              "      border-right-color: var(--fill-color);\n",
              "      border-bottom-color: var(--fill-color);\n",
              "    }\n",
              "    90% {\n",
              "      border-color: transparent;\n",
              "      border-bottom-color: var(--fill-color);\n",
              "    }\n",
              "  }\n",
              "</style>\n",
              "\n",
              "  <script>\n",
              "    async function quickchart(key) {\n",
              "      const quickchartButtonEl =\n",
              "        document.querySelector('#' + key + ' button');\n",
              "      quickchartButtonEl.disabled = true;  // To prevent multiple clicks.\n",
              "      quickchartButtonEl.classList.add('colab-df-spinner');\n",
              "      try {\n",
              "        const charts = await google.colab.kernel.invokeFunction(\n",
              "            'suggestCharts', [key], {});\n",
              "      } catch (error) {\n",
              "        console.error('Error during call to suggestCharts:', error);\n",
              "      }\n",
              "      quickchartButtonEl.classList.remove('colab-df-spinner');\n",
              "      quickchartButtonEl.classList.add('colab-df-quickchart-complete');\n",
              "    }\n",
              "    (() => {\n",
              "      let quickchartButtonEl =\n",
              "        document.querySelector('#df-12474f99-13ad-49be-ad82-99f8e96be6a9 button');\n",
              "      quickchartButtonEl.style.display =\n",
              "        google.colab.kernel.accessAllowed ? 'block' : 'none';\n",
              "    })();\n",
              "  </script>\n",
              "</div>\n",
              "    </div>\n",
              "  </div>\n"
            ]
          },
          "metadata": {},
          "execution_count": 43
        }
      ],
      "source": [
        "#dropping popularity score column since we will not be using it\n",
        "df.drop(['popularity', 'artist_name', 'track_name'], axis=1, inplace=True)\n",
        "df.head()"
      ]
    },
    {
      "cell_type": "markdown",
      "metadata": {
        "id": "kz6cBvK8o5uy"
      },
      "source": [
        "We dropped popularity scores since we already binarized that column, but additionally we are dropping 'artist_name' and 'track_name' since we are looking at the anatomy of a song and not who sings it or what it's called. The goal is to identify songs that will become popular without being affected by the artist's name since we would also like to find songs from up-and-coming artists."
      ]
    },
    {
      "cell_type": "markdown",
      "metadata": {
        "id": "KAW0zOYUo5uy"
      },
      "source": [
        "## train_test_split"
      ]
    },
    {
      "cell_type": "code",
      "execution_count": null,
      "metadata": {
        "ExecuteTime": {
          "end_time": "2021-05-31T00:07:27.953844Z",
          "start_time": "2021-05-31T00:07:27.123356Z"
        },
        "id": "LuEuh1wMo5uy"
      },
      "outputs": [],
      "source": [
        "#splitting the data to training and test sets in order to be able to measure performance\n",
        "from sklearn.model_selection import train_test_split\n",
        "y=df['is_popular']\n",
        "X=df.drop('is_popular',axis=1)\n",
        "\n",
        "X_train, X_test, y_train, y_test = train_test_split(X, y, test_size=0.30, random_state=42)"
      ]
    },
    {
      "cell_type": "markdown",
      "metadata": {
        "id": "68eFHYmFo5uz"
      },
      "source": [
        "## One Hot Encoding the Categorical Columns"
      ]
    },
    {
      "cell_type": "markdown",
      "metadata": {
        "id": "pvKYzRswo5uz"
      },
      "source": [
        "We still have categorical columns that need one hot encoding. Namely, these columns are 'key', 'mode' and 'time_signature'."
      ]
    },
    {
      "cell_type": "code",
      "execution_count": null,
      "metadata": {
        "ExecuteTime": {
          "end_time": "2021-05-31T00:07:28.142736Z",
          "start_time": "2021-05-31T00:07:27.955851Z"
        },
        "colab": {
          "base_uri": "https://localhost:8080/"
        },
        "id": "mSNHswOIo5uz",
        "outputId": "7e9e6f8b-75a5-4392-fabd-d280f5ac861d"
      },
      "outputs": [
        {
          "output_type": "execute_result",
          "data": {
            "text/plain": [
              "acousticness         4734\n",
              "danceability         1295\n",
              "duration_ms         70749\n",
              "energy               2517\n",
              "instrumentalness     5400\n",
              "key                    12\n",
              "liveness             1732\n",
              "loudness            27923\n",
              "mode                    2\n",
              "speechiness          1641\n",
              "tempo               78509\n",
              "time_signature          5\n",
              "valence              1692\n",
              "Movie                   2\n",
              "R&B                     2\n",
              "A Capella               2\n",
              "Alternative             2\n",
              "Country                 2\n",
              "Dance                   2\n",
              "Electronic              2\n",
              "Anime                   2\n",
              "Folk                    2\n",
              "Blues                   2\n",
              "Opera                   2\n",
              "Hip-Hop                 2\n",
              "Children's Music        2\n",
              "Rap                     2\n",
              "Indie                   2\n",
              "Classical               2\n",
              "Pop                     2\n",
              "Reggae                  2\n",
              "Reggaeton               2\n",
              "Jazz                    2\n",
              "Rock                    2\n",
              "Ska                     2\n",
              "Comedy                  2\n",
              "Soul                    2\n",
              "Soundtrack              2\n",
              "World                   2\n",
              "is_popular              2\n",
              "dtype: int64"
            ]
          },
          "metadata": {},
          "execution_count": 45
        }
      ],
      "source": [
        "#Check to see how many more columns we will be creating by OHE the cat_cols.\n",
        "df.nunique()"
      ]
    },
    {
      "cell_type": "markdown",
      "metadata": {
        "id": "aVdTFRyYo5uz"
      },
      "source": [
        "We will be creating 2 (mode) + 5 (time_signature) + key (12) - 3 (drop_first) = 16 columns."
      ]
    },
    {
      "cell_type": "code",
      "execution_count": null,
      "metadata": {
        "ExecuteTime": {
          "end_time": "2021-05-31T00:07:28.158712Z",
          "start_time": "2021-05-31T00:07:28.145720Z"
        },
        "id": "AqK9xm6uo5uz"
      },
      "outputs": [],
      "source": [
        "#define categorical columns\n",
        "cat_cols = ['key', 'mode', 'time_signature']"
      ]
    },
    {
      "cell_type": "code",
      "execution_count": null,
      "metadata": {
        "ExecuteTime": {
          "end_time": "2021-05-31T00:07:28.378575Z",
          "start_time": "2021-05-31T00:07:28.161710Z"
        },
        "colab": {
          "base_uri": "https://localhost:8080/"
        },
        "id": "8BaWd1ECo5uz",
        "outputId": "d047fc3f-e43b-4a1a-bdb0-dc981e72859e"
      },
      "outputs": [
        {
          "output_type": "stream",
          "name": "stderr",
          "text": [
            "/usr/local/lib/python3.10/dist-packages/sklearn/preprocessing/_encoders.py:868: FutureWarning: `sparse` was renamed to `sparse_output` in version 1.2 and will be removed in 1.4. `sparse_output` is ignored unless you leave `sparse` to its default value.\n",
            "  warnings.warn(\n"
          ]
        }
      ],
      "source": [
        "#One hot encoding the dataframes\n",
        "from sklearn.preprocessing import OneHotEncoder\n",
        "\n",
        "encoder=OneHotEncoder(sparse=False, drop='first')\n",
        "#Training set\n",
        "data_ohe_train = encoder.fit_transform(X_train[cat_cols])\n",
        "df_ohe_train = pd.DataFrame(data_ohe_train, columns=encoder.get_feature_names_out(cat_cols), index=X_train.index)\n",
        "\n",
        "#Testing set\n",
        "data_ohe_test = encoder.transform(X_test[cat_cols])\n",
        "df_ohe_test = pd.DataFrame(data_ohe_test, columns=encoder.get_feature_names_out(cat_cols), index=X_test.index)"
      ]
    },
    {
      "cell_type": "code",
      "execution_count": null,
      "metadata": {
        "ExecuteTime": {
          "end_time": "2021-05-31T00:07:28.425545Z",
          "start_time": "2021-05-31T00:07:28.380573Z"
        },
        "scrolled": true,
        "colab": {
          "base_uri": "https://localhost:8080/",
          "height": 475
        },
        "id": "uYOvDlVCo5uz",
        "outputId": "50359f44-7e18-431a-c49b-87257ab5787b"
      },
      "outputs": [
        {
          "output_type": "execute_result",
          "data": {
            "text/plain": [
              "                        key_A#  key_B  key_C  key_C#  key_D  key_D#  key_E  \\\n",
              "track_id                                                                     \n",
              "5SbN8lXhPno4BRrFb9yqkF     0.0    0.0    1.0     0.0    0.0     0.0    0.0   \n",
              "34n3eoeqVaXAgtMqy8Ncyz     0.0    0.0    0.0     1.0    0.0     0.0    0.0   \n",
              "3QbxHo2OTwBVDZbaJaMniP     1.0    0.0    0.0     0.0    0.0     0.0    0.0   \n",
              "6Y8aA0SWBMB5XTZIXlDpYv     0.0    0.0    0.0     0.0    0.0     0.0    0.0   \n",
              "16h3GCdEJ9lgiOyox4LJQA     0.0    0.0    0.0     0.0    0.0     0.0    0.0   \n",
              "...                        ...    ...    ...     ...    ...     ...    ...   \n",
              "5H23I3K3TUXQMsLg2FzCiY     0.0    1.0    0.0     0.0    0.0     0.0    0.0   \n",
              "4YnYtYWBmDM8YjfMMK0cqs     0.0    0.0    0.0     1.0    0.0     0.0    0.0   \n",
              "5o5xTG5Mh3JAm2BZv4nOI7     0.0    0.0    0.0     0.0    1.0     0.0    0.0   \n",
              "6T1oL7ed1wUEqlCR1iCpIR     0.0    0.0    0.0     0.0    0.0     0.0    0.0   \n",
              "5MnEYPkZ5HC7BQ988kBKqp     0.0    0.0    0.0     0.0    0.0     0.0    0.0   \n",
              "\n",
              "                        key_F  key_F#  key_G  key_G#  mode_Minor  \\\n",
              "track_id                                                           \n",
              "5SbN8lXhPno4BRrFb9yqkF    0.0     0.0    0.0     0.0         0.0   \n",
              "34n3eoeqVaXAgtMqy8Ncyz    0.0     0.0    0.0     0.0         0.0   \n",
              "3QbxHo2OTwBVDZbaJaMniP    0.0     0.0    0.0     0.0         0.0   \n",
              "6Y8aA0SWBMB5XTZIXlDpYv    0.0     0.0    0.0     0.0         0.0   \n",
              "16h3GCdEJ9lgiOyox4LJQA    0.0     0.0    1.0     0.0         0.0   \n",
              "...                       ...     ...    ...     ...         ...   \n",
              "5H23I3K3TUXQMsLg2FzCiY    0.0     0.0    0.0     0.0         0.0   \n",
              "4YnYtYWBmDM8YjfMMK0cqs    0.0     0.0    0.0     0.0         0.0   \n",
              "5o5xTG5Mh3JAm2BZv4nOI7    0.0     0.0    0.0     0.0         0.0   \n",
              "6T1oL7ed1wUEqlCR1iCpIR    0.0     0.0    1.0     0.0         0.0   \n",
              "5MnEYPkZ5HC7BQ988kBKqp    0.0     1.0    0.0     0.0         1.0   \n",
              "\n",
              "                        time_signature_1/4  time_signature_3/4  \\\n",
              "track_id                                                         \n",
              "5SbN8lXhPno4BRrFb9yqkF                 0.0                 0.0   \n",
              "34n3eoeqVaXAgtMqy8Ncyz                 0.0                 0.0   \n",
              "3QbxHo2OTwBVDZbaJaMniP                 0.0                 0.0   \n",
              "6Y8aA0SWBMB5XTZIXlDpYv                 0.0                 0.0   \n",
              "16h3GCdEJ9lgiOyox4LJQA                 0.0                 0.0   \n",
              "...                                    ...                 ...   \n",
              "5H23I3K3TUXQMsLg2FzCiY                 0.0                 0.0   \n",
              "4YnYtYWBmDM8YjfMMK0cqs                 0.0                 0.0   \n",
              "5o5xTG5Mh3JAm2BZv4nOI7                 0.0                 0.0   \n",
              "6T1oL7ed1wUEqlCR1iCpIR                 0.0                 0.0   \n",
              "5MnEYPkZ5HC7BQ988kBKqp                 0.0                 0.0   \n",
              "\n",
              "                        time_signature_4/4  time_signature_5/4  \n",
              "track_id                                                        \n",
              "5SbN8lXhPno4BRrFb9yqkF                 1.0                 0.0  \n",
              "34n3eoeqVaXAgtMqy8Ncyz                 1.0                 0.0  \n",
              "3QbxHo2OTwBVDZbaJaMniP                 1.0                 0.0  \n",
              "6Y8aA0SWBMB5XTZIXlDpYv                 1.0                 0.0  \n",
              "16h3GCdEJ9lgiOyox4LJQA                 1.0                 0.0  \n",
              "...                                    ...                 ...  \n",
              "5H23I3K3TUXQMsLg2FzCiY                 1.0                 0.0  \n",
              "4YnYtYWBmDM8YjfMMK0cqs                 1.0                 0.0  \n",
              "5o5xTG5Mh3JAm2BZv4nOI7                 1.0                 0.0  \n",
              "6T1oL7ed1wUEqlCR1iCpIR                 1.0                 0.0  \n",
              "5MnEYPkZ5HC7BQ988kBKqp                 1.0                 0.0  \n",
              "\n",
              "[123741 rows x 16 columns]"
            ],
            "text/html": [
              "\n",
              "  <div id=\"df-266cfa06-4c7a-4f81-ab94-bd09145dad5c\" class=\"colab-df-container\">\n",
              "    <div>\n",
              "<style scoped>\n",
              "    .dataframe tbody tr th:only-of-type {\n",
              "        vertical-align: middle;\n",
              "    }\n",
              "\n",
              "    .dataframe tbody tr th {\n",
              "        vertical-align: top;\n",
              "    }\n",
              "\n",
              "    .dataframe thead th {\n",
              "        text-align: right;\n",
              "    }\n",
              "</style>\n",
              "<table border=\"1\" class=\"dataframe\">\n",
              "  <thead>\n",
              "    <tr style=\"text-align: right;\">\n",
              "      <th></th>\n",
              "      <th>key_A#</th>\n",
              "      <th>key_B</th>\n",
              "      <th>key_C</th>\n",
              "      <th>key_C#</th>\n",
              "      <th>key_D</th>\n",
              "      <th>key_D#</th>\n",
              "      <th>key_E</th>\n",
              "      <th>key_F</th>\n",
              "      <th>key_F#</th>\n",
              "      <th>key_G</th>\n",
              "      <th>key_G#</th>\n",
              "      <th>mode_Minor</th>\n",
              "      <th>time_signature_1/4</th>\n",
              "      <th>time_signature_3/4</th>\n",
              "      <th>time_signature_4/4</th>\n",
              "      <th>time_signature_5/4</th>\n",
              "    </tr>\n",
              "    <tr>\n",
              "      <th>track_id</th>\n",
              "      <th></th>\n",
              "      <th></th>\n",
              "      <th></th>\n",
              "      <th></th>\n",
              "      <th></th>\n",
              "      <th></th>\n",
              "      <th></th>\n",
              "      <th></th>\n",
              "      <th></th>\n",
              "      <th></th>\n",
              "      <th></th>\n",
              "      <th></th>\n",
              "      <th></th>\n",
              "      <th></th>\n",
              "      <th></th>\n",
              "      <th></th>\n",
              "    </tr>\n",
              "  </thead>\n",
              "  <tbody>\n",
              "    <tr>\n",
              "      <th>5SbN8lXhPno4BRrFb9yqkF</th>\n",
              "      <td>0.0</td>\n",
              "      <td>0.0</td>\n",
              "      <td>1.0</td>\n",
              "      <td>0.0</td>\n",
              "      <td>0.0</td>\n",
              "      <td>0.0</td>\n",
              "      <td>0.0</td>\n",
              "      <td>0.0</td>\n",
              "      <td>0.0</td>\n",
              "      <td>0.0</td>\n",
              "      <td>0.0</td>\n",
              "      <td>0.0</td>\n",
              "      <td>0.0</td>\n",
              "      <td>0.0</td>\n",
              "      <td>1.0</td>\n",
              "      <td>0.0</td>\n",
              "    </tr>\n",
              "    <tr>\n",
              "      <th>34n3eoeqVaXAgtMqy8Ncyz</th>\n",
              "      <td>0.0</td>\n",
              "      <td>0.0</td>\n",
              "      <td>0.0</td>\n",
              "      <td>1.0</td>\n",
              "      <td>0.0</td>\n",
              "      <td>0.0</td>\n",
              "      <td>0.0</td>\n",
              "      <td>0.0</td>\n",
              "      <td>0.0</td>\n",
              "      <td>0.0</td>\n",
              "      <td>0.0</td>\n",
              "      <td>0.0</td>\n",
              "      <td>0.0</td>\n",
              "      <td>0.0</td>\n",
              "      <td>1.0</td>\n",
              "      <td>0.0</td>\n",
              "    </tr>\n",
              "    <tr>\n",
              "      <th>3QbxHo2OTwBVDZbaJaMniP</th>\n",
              "      <td>1.0</td>\n",
              "      <td>0.0</td>\n",
              "      <td>0.0</td>\n",
              "      <td>0.0</td>\n",
              "      <td>0.0</td>\n",
              "      <td>0.0</td>\n",
              "      <td>0.0</td>\n",
              "      <td>0.0</td>\n",
              "      <td>0.0</td>\n",
              "      <td>0.0</td>\n",
              "      <td>0.0</td>\n",
              "      <td>0.0</td>\n",
              "      <td>0.0</td>\n",
              "      <td>0.0</td>\n",
              "      <td>1.0</td>\n",
              "      <td>0.0</td>\n",
              "    </tr>\n",
              "    <tr>\n",
              "      <th>6Y8aA0SWBMB5XTZIXlDpYv</th>\n",
              "      <td>0.0</td>\n",
              "      <td>0.0</td>\n",
              "      <td>0.0</td>\n",
              "      <td>0.0</td>\n",
              "      <td>0.0</td>\n",
              "      <td>0.0</td>\n",
              "      <td>0.0</td>\n",
              "      <td>0.0</td>\n",
              "      <td>0.0</td>\n",
              "      <td>0.0</td>\n",
              "      <td>0.0</td>\n",
              "      <td>0.0</td>\n",
              "      <td>0.0</td>\n",
              "      <td>0.0</td>\n",
              "      <td>1.0</td>\n",
              "      <td>0.0</td>\n",
              "    </tr>\n",
              "    <tr>\n",
              "      <th>16h3GCdEJ9lgiOyox4LJQA</th>\n",
              "      <td>0.0</td>\n",
              "      <td>0.0</td>\n",
              "      <td>0.0</td>\n",
              "      <td>0.0</td>\n",
              "      <td>0.0</td>\n",
              "      <td>0.0</td>\n",
              "      <td>0.0</td>\n",
              "      <td>0.0</td>\n",
              "      <td>0.0</td>\n",
              "      <td>1.0</td>\n",
              "      <td>0.0</td>\n",
              "      <td>0.0</td>\n",
              "      <td>0.0</td>\n",
              "      <td>0.0</td>\n",
              "      <td>1.0</td>\n",
              "      <td>0.0</td>\n",
              "    </tr>\n",
              "    <tr>\n",
              "      <th>...</th>\n",
              "      <td>...</td>\n",
              "      <td>...</td>\n",
              "      <td>...</td>\n",
              "      <td>...</td>\n",
              "      <td>...</td>\n",
              "      <td>...</td>\n",
              "      <td>...</td>\n",
              "      <td>...</td>\n",
              "      <td>...</td>\n",
              "      <td>...</td>\n",
              "      <td>...</td>\n",
              "      <td>...</td>\n",
              "      <td>...</td>\n",
              "      <td>...</td>\n",
              "      <td>...</td>\n",
              "      <td>...</td>\n",
              "    </tr>\n",
              "    <tr>\n",
              "      <th>5H23I3K3TUXQMsLg2FzCiY</th>\n",
              "      <td>0.0</td>\n",
              "      <td>1.0</td>\n",
              "      <td>0.0</td>\n",
              "      <td>0.0</td>\n",
              "      <td>0.0</td>\n",
              "      <td>0.0</td>\n",
              "      <td>0.0</td>\n",
              "      <td>0.0</td>\n",
              "      <td>0.0</td>\n",
              "      <td>0.0</td>\n",
              "      <td>0.0</td>\n",
              "      <td>0.0</td>\n",
              "      <td>0.0</td>\n",
              "      <td>0.0</td>\n",
              "      <td>1.0</td>\n",
              "      <td>0.0</td>\n",
              "    </tr>\n",
              "    <tr>\n",
              "      <th>4YnYtYWBmDM8YjfMMK0cqs</th>\n",
              "      <td>0.0</td>\n",
              "      <td>0.0</td>\n",
              "      <td>0.0</td>\n",
              "      <td>1.0</td>\n",
              "      <td>0.0</td>\n",
              "      <td>0.0</td>\n",
              "      <td>0.0</td>\n",
              "      <td>0.0</td>\n",
              "      <td>0.0</td>\n",
              "      <td>0.0</td>\n",
              "      <td>0.0</td>\n",
              "      <td>0.0</td>\n",
              "      <td>0.0</td>\n",
              "      <td>0.0</td>\n",
              "      <td>1.0</td>\n",
              "      <td>0.0</td>\n",
              "    </tr>\n",
              "    <tr>\n",
              "      <th>5o5xTG5Mh3JAm2BZv4nOI7</th>\n",
              "      <td>0.0</td>\n",
              "      <td>0.0</td>\n",
              "      <td>0.0</td>\n",
              "      <td>0.0</td>\n",
              "      <td>1.0</td>\n",
              "      <td>0.0</td>\n",
              "      <td>0.0</td>\n",
              "      <td>0.0</td>\n",
              "      <td>0.0</td>\n",
              "      <td>0.0</td>\n",
              "      <td>0.0</td>\n",
              "      <td>0.0</td>\n",
              "      <td>0.0</td>\n",
              "      <td>0.0</td>\n",
              "      <td>1.0</td>\n",
              "      <td>0.0</td>\n",
              "    </tr>\n",
              "    <tr>\n",
              "      <th>6T1oL7ed1wUEqlCR1iCpIR</th>\n",
              "      <td>0.0</td>\n",
              "      <td>0.0</td>\n",
              "      <td>0.0</td>\n",
              "      <td>0.0</td>\n",
              "      <td>0.0</td>\n",
              "      <td>0.0</td>\n",
              "      <td>0.0</td>\n",
              "      <td>0.0</td>\n",
              "      <td>0.0</td>\n",
              "      <td>1.0</td>\n",
              "      <td>0.0</td>\n",
              "      <td>0.0</td>\n",
              "      <td>0.0</td>\n",
              "      <td>0.0</td>\n",
              "      <td>1.0</td>\n",
              "      <td>0.0</td>\n",
              "    </tr>\n",
              "    <tr>\n",
              "      <th>5MnEYPkZ5HC7BQ988kBKqp</th>\n",
              "      <td>0.0</td>\n",
              "      <td>0.0</td>\n",
              "      <td>0.0</td>\n",
              "      <td>0.0</td>\n",
              "      <td>0.0</td>\n",
              "      <td>0.0</td>\n",
              "      <td>0.0</td>\n",
              "      <td>0.0</td>\n",
              "      <td>1.0</td>\n",
              "      <td>0.0</td>\n",
              "      <td>0.0</td>\n",
              "      <td>1.0</td>\n",
              "      <td>0.0</td>\n",
              "      <td>0.0</td>\n",
              "      <td>1.0</td>\n",
              "      <td>0.0</td>\n",
              "    </tr>\n",
              "  </tbody>\n",
              "</table>\n",
              "<p>123741 rows × 16 columns</p>\n",
              "</div>\n",
              "    <div class=\"colab-df-buttons\">\n",
              "\n",
              "  <div class=\"colab-df-container\">\n",
              "    <button class=\"colab-df-convert\" onclick=\"convertToInteractive('df-266cfa06-4c7a-4f81-ab94-bd09145dad5c')\"\n",
              "            title=\"Convert this dataframe to an interactive table.\"\n",
              "            style=\"display:none;\">\n",
              "\n",
              "  <svg xmlns=\"http://www.w3.org/2000/svg\" height=\"24px\" viewBox=\"0 -960 960 960\">\n",
              "    <path d=\"M120-120v-720h720v720H120Zm60-500h600v-160H180v160Zm220 220h160v-160H400v160Zm0 220h160v-160H400v160ZM180-400h160v-160H180v160Zm440 0h160v-160H620v160ZM180-180h160v-160H180v160Zm440 0h160v-160H620v160Z\"/>\n",
              "  </svg>\n",
              "    </button>\n",
              "\n",
              "  <style>\n",
              "    .colab-df-container {\n",
              "      display:flex;\n",
              "      gap: 12px;\n",
              "    }\n",
              "\n",
              "    .colab-df-convert {\n",
              "      background-color: #E8F0FE;\n",
              "      border: none;\n",
              "      border-radius: 50%;\n",
              "      cursor: pointer;\n",
              "      display: none;\n",
              "      fill: #1967D2;\n",
              "      height: 32px;\n",
              "      padding: 0 0 0 0;\n",
              "      width: 32px;\n",
              "    }\n",
              "\n",
              "    .colab-df-convert:hover {\n",
              "      background-color: #E2EBFA;\n",
              "      box-shadow: 0px 1px 2px rgba(60, 64, 67, 0.3), 0px 1px 3px 1px rgba(60, 64, 67, 0.15);\n",
              "      fill: #174EA6;\n",
              "    }\n",
              "\n",
              "    .colab-df-buttons div {\n",
              "      margin-bottom: 4px;\n",
              "    }\n",
              "\n",
              "    [theme=dark] .colab-df-convert {\n",
              "      background-color: #3B4455;\n",
              "      fill: #D2E3FC;\n",
              "    }\n",
              "\n",
              "    [theme=dark] .colab-df-convert:hover {\n",
              "      background-color: #434B5C;\n",
              "      box-shadow: 0px 1px 3px 1px rgba(0, 0, 0, 0.15);\n",
              "      filter: drop-shadow(0px 1px 2px rgba(0, 0, 0, 0.3));\n",
              "      fill: #FFFFFF;\n",
              "    }\n",
              "  </style>\n",
              "\n",
              "    <script>\n",
              "      const buttonEl =\n",
              "        document.querySelector('#df-266cfa06-4c7a-4f81-ab94-bd09145dad5c button.colab-df-convert');\n",
              "      buttonEl.style.display =\n",
              "        google.colab.kernel.accessAllowed ? 'block' : 'none';\n",
              "\n",
              "      async function convertToInteractive(key) {\n",
              "        const element = document.querySelector('#df-266cfa06-4c7a-4f81-ab94-bd09145dad5c');\n",
              "        const dataTable =\n",
              "          await google.colab.kernel.invokeFunction('convertToInteractive',\n",
              "                                                    [key], {});\n",
              "        if (!dataTable) return;\n",
              "\n",
              "        const docLinkHtml = 'Like what you see? Visit the ' +\n",
              "          '<a target=\"_blank\" href=https://colab.research.google.com/notebooks/data_table.ipynb>data table notebook</a>'\n",
              "          + ' to learn more about interactive tables.';\n",
              "        element.innerHTML = '';\n",
              "        dataTable['output_type'] = 'display_data';\n",
              "        await google.colab.output.renderOutput(dataTable, element);\n",
              "        const docLink = document.createElement('div');\n",
              "        docLink.innerHTML = docLinkHtml;\n",
              "        element.appendChild(docLink);\n",
              "      }\n",
              "    </script>\n",
              "  </div>\n",
              "\n",
              "\n",
              "<div id=\"df-750312a2-d58d-43f0-a6c5-ca9e4517ade1\">\n",
              "  <button class=\"colab-df-quickchart\" onclick=\"quickchart('df-750312a2-d58d-43f0-a6c5-ca9e4517ade1')\"\n",
              "            title=\"Suggest charts\"\n",
              "            style=\"display:none;\">\n",
              "\n",
              "<svg xmlns=\"http://www.w3.org/2000/svg\" height=\"24px\"viewBox=\"0 0 24 24\"\n",
              "     width=\"24px\">\n",
              "    <g>\n",
              "        <path d=\"M19 3H5c-1.1 0-2 .9-2 2v14c0 1.1.9 2 2 2h14c1.1 0 2-.9 2-2V5c0-1.1-.9-2-2-2zM9 17H7v-7h2v7zm4 0h-2V7h2v10zm4 0h-2v-4h2v4z\"/>\n",
              "    </g>\n",
              "</svg>\n",
              "  </button>\n",
              "\n",
              "<style>\n",
              "  .colab-df-quickchart {\n",
              "      --bg-color: #E8F0FE;\n",
              "      --fill-color: #1967D2;\n",
              "      --hover-bg-color: #E2EBFA;\n",
              "      --hover-fill-color: #174EA6;\n",
              "      --disabled-fill-color: #AAA;\n",
              "      --disabled-bg-color: #DDD;\n",
              "  }\n",
              "\n",
              "  [theme=dark] .colab-df-quickchart {\n",
              "      --bg-color: #3B4455;\n",
              "      --fill-color: #D2E3FC;\n",
              "      --hover-bg-color: #434B5C;\n",
              "      --hover-fill-color: #FFFFFF;\n",
              "      --disabled-bg-color: #3B4455;\n",
              "      --disabled-fill-color: #666;\n",
              "  }\n",
              "\n",
              "  .colab-df-quickchart {\n",
              "    background-color: var(--bg-color);\n",
              "    border: none;\n",
              "    border-radius: 50%;\n",
              "    cursor: pointer;\n",
              "    display: none;\n",
              "    fill: var(--fill-color);\n",
              "    height: 32px;\n",
              "    padding: 0;\n",
              "    width: 32px;\n",
              "  }\n",
              "\n",
              "  .colab-df-quickchart:hover {\n",
              "    background-color: var(--hover-bg-color);\n",
              "    box-shadow: 0 1px 2px rgba(60, 64, 67, 0.3), 0 1px 3px 1px rgba(60, 64, 67, 0.15);\n",
              "    fill: var(--button-hover-fill-color);\n",
              "  }\n",
              "\n",
              "  .colab-df-quickchart-complete:disabled,\n",
              "  .colab-df-quickchart-complete:disabled:hover {\n",
              "    background-color: var(--disabled-bg-color);\n",
              "    fill: var(--disabled-fill-color);\n",
              "    box-shadow: none;\n",
              "  }\n",
              "\n",
              "  .colab-df-spinner {\n",
              "    border: 2px solid var(--fill-color);\n",
              "    border-color: transparent;\n",
              "    border-bottom-color: var(--fill-color);\n",
              "    animation:\n",
              "      spin 1s steps(1) infinite;\n",
              "  }\n",
              "\n",
              "  @keyframes spin {\n",
              "    0% {\n",
              "      border-color: transparent;\n",
              "      border-bottom-color: var(--fill-color);\n",
              "      border-left-color: var(--fill-color);\n",
              "    }\n",
              "    20% {\n",
              "      border-color: transparent;\n",
              "      border-left-color: var(--fill-color);\n",
              "      border-top-color: var(--fill-color);\n",
              "    }\n",
              "    30% {\n",
              "      border-color: transparent;\n",
              "      border-left-color: var(--fill-color);\n",
              "      border-top-color: var(--fill-color);\n",
              "      border-right-color: var(--fill-color);\n",
              "    }\n",
              "    40% {\n",
              "      border-color: transparent;\n",
              "      border-right-color: var(--fill-color);\n",
              "      border-top-color: var(--fill-color);\n",
              "    }\n",
              "    60% {\n",
              "      border-color: transparent;\n",
              "      border-right-color: var(--fill-color);\n",
              "    }\n",
              "    80% {\n",
              "      border-color: transparent;\n",
              "      border-right-color: var(--fill-color);\n",
              "      border-bottom-color: var(--fill-color);\n",
              "    }\n",
              "    90% {\n",
              "      border-color: transparent;\n",
              "      border-bottom-color: var(--fill-color);\n",
              "    }\n",
              "  }\n",
              "</style>\n",
              "\n",
              "  <script>\n",
              "    async function quickchart(key) {\n",
              "      const quickchartButtonEl =\n",
              "        document.querySelector('#' + key + ' button');\n",
              "      quickchartButtonEl.disabled = true;  // To prevent multiple clicks.\n",
              "      quickchartButtonEl.classList.add('colab-df-spinner');\n",
              "      try {\n",
              "        const charts = await google.colab.kernel.invokeFunction(\n",
              "            'suggestCharts', [key], {});\n",
              "      } catch (error) {\n",
              "        console.error('Error during call to suggestCharts:', error);\n",
              "      }\n",
              "      quickchartButtonEl.classList.remove('colab-df-spinner');\n",
              "      quickchartButtonEl.classList.add('colab-df-quickchart-complete');\n",
              "    }\n",
              "    (() => {\n",
              "      let quickchartButtonEl =\n",
              "        document.querySelector('#df-750312a2-d58d-43f0-a6c5-ca9e4517ade1 button');\n",
              "      quickchartButtonEl.style.display =\n",
              "        google.colab.kernel.accessAllowed ? 'block' : 'none';\n",
              "    })();\n",
              "  </script>\n",
              "</div>\n",
              "    </div>\n",
              "  </div>\n"
            ]
          },
          "metadata": {},
          "execution_count": 48
        }
      ],
      "source": [
        "pd.set_option(\"display.max_columns\", None)\n",
        "df_ohe_train"
      ]
    },
    {
      "cell_type": "code",
      "execution_count": null,
      "metadata": {
        "ExecuteTime": {
          "end_time": "2021-05-31T00:07:28.614430Z",
          "start_time": "2021-05-31T00:07:28.428544Z"
        },
        "scrolled": false,
        "colab": {
          "base_uri": "https://localhost:8080/",
          "height": 275
        },
        "id": "2rxYhof_o5u0",
        "outputId": "7b7b2f0b-3480-4dbc-cf2a-37a127d6b063"
      },
      "outputs": [
        {
          "output_type": "execute_result",
          "data": {
            "text/plain": [
              "                        acousticness  danceability  duration_ms  energy  \\\n",
              "track_id                                                                  \n",
              "5H23I3K3TUXQMsLg2FzCiY       0.23100         0.461       326680   0.252   \n",
              "4YnYtYWBmDM8YjfMMK0cqs       0.00571         0.309       201947   0.820   \n",
              "5o5xTG5Mh3JAm2BZv4nOI7       0.01210         0.691       265587   0.834   \n",
              "6T1oL7ed1wUEqlCR1iCpIR       0.35500         0.364       224387   0.733   \n",
              "5MnEYPkZ5HC7BQ988kBKqp       0.01190         0.478       211800   0.695   \n",
              "\n",
              "                        instrumentalness  liveness  loudness  speechiness  \\\n",
              "track_id                                                                    \n",
              "5H23I3K3TUXQMsLg2FzCiY          0.000084     0.106   -17.082       0.2740   \n",
              "4YnYtYWBmDM8YjfMMK0cqs          0.000368     0.159    -4.844       0.0636   \n",
              "5o5xTG5Mh3JAm2BZv4nOI7          0.001480     0.115    -4.378       0.0432   \n",
              "6T1oL7ed1wUEqlCR1iCpIR          0.000007     0.981    -5.071       0.0299   \n",
              "5MnEYPkZ5HC7BQ988kBKqp          0.000000     0.119    -5.923       0.0529   \n",
              "\n",
              "                          tempo  valence  Movie  R&B  A Capella  Alternative  \\\n",
              "track_id                                                                       \n",
              "5H23I3K3TUXQMsLg2FzCiY   74.768    0.481      0    0          0            0   \n",
              "4YnYtYWBmDM8YjfMMK0cqs  174.762    0.399      0    0          0            0   \n",
              "5o5xTG5Mh3JAm2BZv4nOI7  129.982    0.330      0    0          0            0   \n",
              "6T1oL7ed1wUEqlCR1iCpIR  145.394    0.244      0    0          0            0   \n",
              "5MnEYPkZ5HC7BQ988kBKqp   89.801    0.297      0    1          0            0   \n",
              "\n",
              "                        Country  Dance  Electronic  Anime  Folk  Blues  Opera  \\\n",
              "track_id                                                                        \n",
              "5H23I3K3TUXQMsLg2FzCiY        0      0           0      0     0      0      0   \n",
              "4YnYtYWBmDM8YjfMMK0cqs        0      0           0      0     0      0      0   \n",
              "5o5xTG5Mh3JAm2BZv4nOI7        0      0           0      0     0      0      0   \n",
              "6T1oL7ed1wUEqlCR1iCpIR        1      0           0      0     0      0      0   \n",
              "5MnEYPkZ5HC7BQ988kBKqp        0      0           0      0     0      0      0   \n",
              "\n",
              "                        Hip-Hop  Children's Music  Rap  Indie  Classical  Pop  \\\n",
              "track_id                                                                        \n",
              "5H23I3K3TUXQMsLg2FzCiY        0                 0    0      0          0    0   \n",
              "4YnYtYWBmDM8YjfMMK0cqs        0                 0    0      0          0    0   \n",
              "5o5xTG5Mh3JAm2BZv4nOI7        0                 0    0      0          0    0   \n",
              "6T1oL7ed1wUEqlCR1iCpIR        0                 0    0      0          0    0   \n",
              "5MnEYPkZ5HC7BQ988kBKqp        0                 0    0      0          0    0   \n",
              "\n",
              "                        Reggae  Reggaeton  Jazz  Rock  Ska  Comedy  Soul  \\\n",
              "track_id                                                                   \n",
              "5H23I3K3TUXQMsLg2FzCiY       1          0     0     0    0       0     0   \n",
              "4YnYtYWBmDM8YjfMMK0cqs       0          0     0     0    1       0     0   \n",
              "5o5xTG5Mh3JAm2BZv4nOI7       0          1     0     0    0       0     0   \n",
              "6T1oL7ed1wUEqlCR1iCpIR       0          0     0     0    0       0     0   \n",
              "5MnEYPkZ5HC7BQ988kBKqp       0          0     0     0    0       0     0   \n",
              "\n",
              "                        Soundtrack  World  key_A#  key_B  key_C  key_C#  \\\n",
              "track_id                                                                  \n",
              "5H23I3K3TUXQMsLg2FzCiY           0      0     0.0    1.0    0.0     0.0   \n",
              "4YnYtYWBmDM8YjfMMK0cqs           0      0     0.0    0.0    0.0     1.0   \n",
              "5o5xTG5Mh3JAm2BZv4nOI7           0      0     0.0    0.0    0.0     0.0   \n",
              "6T1oL7ed1wUEqlCR1iCpIR           0      0     0.0    0.0    0.0     0.0   \n",
              "5MnEYPkZ5HC7BQ988kBKqp           0      0     0.0    0.0    0.0     0.0   \n",
              "\n",
              "                        key_D  key_D#  key_E  key_F  key_F#  key_G  key_G#  \\\n",
              "track_id                                                                     \n",
              "5H23I3K3TUXQMsLg2FzCiY    0.0     0.0    0.0    0.0     0.0    0.0     0.0   \n",
              "4YnYtYWBmDM8YjfMMK0cqs    0.0     0.0    0.0    0.0     0.0    0.0     0.0   \n",
              "5o5xTG5Mh3JAm2BZv4nOI7    1.0     0.0    0.0    0.0     0.0    0.0     0.0   \n",
              "6T1oL7ed1wUEqlCR1iCpIR    0.0     0.0    0.0    0.0     0.0    1.0     0.0   \n",
              "5MnEYPkZ5HC7BQ988kBKqp    0.0     0.0    0.0    0.0     1.0    0.0     0.0   \n",
              "\n",
              "                        mode_Minor  time_signature_1/4  time_signature_3/4  \\\n",
              "track_id                                                                     \n",
              "5H23I3K3TUXQMsLg2FzCiY         0.0                 0.0                 0.0   \n",
              "4YnYtYWBmDM8YjfMMK0cqs         0.0                 0.0                 0.0   \n",
              "5o5xTG5Mh3JAm2BZv4nOI7         0.0                 0.0                 0.0   \n",
              "6T1oL7ed1wUEqlCR1iCpIR         0.0                 0.0                 0.0   \n",
              "5MnEYPkZ5HC7BQ988kBKqp         1.0                 0.0                 0.0   \n",
              "\n",
              "                        time_signature_4/4  time_signature_5/4  \n",
              "track_id                                                        \n",
              "5H23I3K3TUXQMsLg2FzCiY                 1.0                 0.0  \n",
              "4YnYtYWBmDM8YjfMMK0cqs                 1.0                 0.0  \n",
              "5o5xTG5Mh3JAm2BZv4nOI7                 1.0                 0.0  \n",
              "6T1oL7ed1wUEqlCR1iCpIR                 1.0                 0.0  \n",
              "5MnEYPkZ5HC7BQ988kBKqp                 1.0                 0.0  "
            ],
            "text/html": [
              "\n",
              "  <div id=\"df-3a70cb69-4e21-4841-931d-50de02aa89e1\" class=\"colab-df-container\">\n",
              "    <div>\n",
              "<style scoped>\n",
              "    .dataframe tbody tr th:only-of-type {\n",
              "        vertical-align: middle;\n",
              "    }\n",
              "\n",
              "    .dataframe tbody tr th {\n",
              "        vertical-align: top;\n",
              "    }\n",
              "\n",
              "    .dataframe thead th {\n",
              "        text-align: right;\n",
              "    }\n",
              "</style>\n",
              "<table border=\"1\" class=\"dataframe\">\n",
              "  <thead>\n",
              "    <tr style=\"text-align: right;\">\n",
              "      <th></th>\n",
              "      <th>acousticness</th>\n",
              "      <th>danceability</th>\n",
              "      <th>duration_ms</th>\n",
              "      <th>energy</th>\n",
              "      <th>instrumentalness</th>\n",
              "      <th>liveness</th>\n",
              "      <th>loudness</th>\n",
              "      <th>speechiness</th>\n",
              "      <th>tempo</th>\n",
              "      <th>valence</th>\n",
              "      <th>Movie</th>\n",
              "      <th>R&amp;B</th>\n",
              "      <th>A Capella</th>\n",
              "      <th>Alternative</th>\n",
              "      <th>Country</th>\n",
              "      <th>Dance</th>\n",
              "      <th>Electronic</th>\n",
              "      <th>Anime</th>\n",
              "      <th>Folk</th>\n",
              "      <th>Blues</th>\n",
              "      <th>Opera</th>\n",
              "      <th>Hip-Hop</th>\n",
              "      <th>Children's Music</th>\n",
              "      <th>Rap</th>\n",
              "      <th>Indie</th>\n",
              "      <th>Classical</th>\n",
              "      <th>Pop</th>\n",
              "      <th>Reggae</th>\n",
              "      <th>Reggaeton</th>\n",
              "      <th>Jazz</th>\n",
              "      <th>Rock</th>\n",
              "      <th>Ska</th>\n",
              "      <th>Comedy</th>\n",
              "      <th>Soul</th>\n",
              "      <th>Soundtrack</th>\n",
              "      <th>World</th>\n",
              "      <th>key_A#</th>\n",
              "      <th>key_B</th>\n",
              "      <th>key_C</th>\n",
              "      <th>key_C#</th>\n",
              "      <th>key_D</th>\n",
              "      <th>key_D#</th>\n",
              "      <th>key_E</th>\n",
              "      <th>key_F</th>\n",
              "      <th>key_F#</th>\n",
              "      <th>key_G</th>\n",
              "      <th>key_G#</th>\n",
              "      <th>mode_Minor</th>\n",
              "      <th>time_signature_1/4</th>\n",
              "      <th>time_signature_3/4</th>\n",
              "      <th>time_signature_4/4</th>\n",
              "      <th>time_signature_5/4</th>\n",
              "    </tr>\n",
              "    <tr>\n",
              "      <th>track_id</th>\n",
              "      <th></th>\n",
              "      <th></th>\n",
              "      <th></th>\n",
              "      <th></th>\n",
              "      <th></th>\n",
              "      <th></th>\n",
              "      <th></th>\n",
              "      <th></th>\n",
              "      <th></th>\n",
              "      <th></th>\n",
              "      <th></th>\n",
              "      <th></th>\n",
              "      <th></th>\n",
              "      <th></th>\n",
              "      <th></th>\n",
              "      <th></th>\n",
              "      <th></th>\n",
              "      <th></th>\n",
              "      <th></th>\n",
              "      <th></th>\n",
              "      <th></th>\n",
              "      <th></th>\n",
              "      <th></th>\n",
              "      <th></th>\n",
              "      <th></th>\n",
              "      <th></th>\n",
              "      <th></th>\n",
              "      <th></th>\n",
              "      <th></th>\n",
              "      <th></th>\n",
              "      <th></th>\n",
              "      <th></th>\n",
              "      <th></th>\n",
              "      <th></th>\n",
              "      <th></th>\n",
              "      <th></th>\n",
              "      <th></th>\n",
              "      <th></th>\n",
              "      <th></th>\n",
              "      <th></th>\n",
              "      <th></th>\n",
              "      <th></th>\n",
              "      <th></th>\n",
              "      <th></th>\n",
              "      <th></th>\n",
              "      <th></th>\n",
              "      <th></th>\n",
              "      <th></th>\n",
              "      <th></th>\n",
              "      <th></th>\n",
              "      <th></th>\n",
              "      <th></th>\n",
              "    </tr>\n",
              "  </thead>\n",
              "  <tbody>\n",
              "    <tr>\n",
              "      <th>5H23I3K3TUXQMsLg2FzCiY</th>\n",
              "      <td>0.23100</td>\n",
              "      <td>0.461</td>\n",
              "      <td>326680</td>\n",
              "      <td>0.252</td>\n",
              "      <td>0.000084</td>\n",
              "      <td>0.106</td>\n",
              "      <td>-17.082</td>\n",
              "      <td>0.2740</td>\n",
              "      <td>74.768</td>\n",
              "      <td>0.481</td>\n",
              "      <td>0</td>\n",
              "      <td>0</td>\n",
              "      <td>0</td>\n",
              "      <td>0</td>\n",
              "      <td>0</td>\n",
              "      <td>0</td>\n",
              "      <td>0</td>\n",
              "      <td>0</td>\n",
              "      <td>0</td>\n",
              "      <td>0</td>\n",
              "      <td>0</td>\n",
              "      <td>0</td>\n",
              "      <td>0</td>\n",
              "      <td>0</td>\n",
              "      <td>0</td>\n",
              "      <td>0</td>\n",
              "      <td>0</td>\n",
              "      <td>1</td>\n",
              "      <td>0</td>\n",
              "      <td>0</td>\n",
              "      <td>0</td>\n",
              "      <td>0</td>\n",
              "      <td>0</td>\n",
              "      <td>0</td>\n",
              "      <td>0</td>\n",
              "      <td>0</td>\n",
              "      <td>0.0</td>\n",
              "      <td>1.0</td>\n",
              "      <td>0.0</td>\n",
              "      <td>0.0</td>\n",
              "      <td>0.0</td>\n",
              "      <td>0.0</td>\n",
              "      <td>0.0</td>\n",
              "      <td>0.0</td>\n",
              "      <td>0.0</td>\n",
              "      <td>0.0</td>\n",
              "      <td>0.0</td>\n",
              "      <td>0.0</td>\n",
              "      <td>0.0</td>\n",
              "      <td>0.0</td>\n",
              "      <td>1.0</td>\n",
              "      <td>0.0</td>\n",
              "    </tr>\n",
              "    <tr>\n",
              "      <th>4YnYtYWBmDM8YjfMMK0cqs</th>\n",
              "      <td>0.00571</td>\n",
              "      <td>0.309</td>\n",
              "      <td>201947</td>\n",
              "      <td>0.820</td>\n",
              "      <td>0.000368</td>\n",
              "      <td>0.159</td>\n",
              "      <td>-4.844</td>\n",
              "      <td>0.0636</td>\n",
              "      <td>174.762</td>\n",
              "      <td>0.399</td>\n",
              "      <td>0</td>\n",
              "      <td>0</td>\n",
              "      <td>0</td>\n",
              "      <td>0</td>\n",
              "      <td>0</td>\n",
              "      <td>0</td>\n",
              "      <td>0</td>\n",
              "      <td>0</td>\n",
              "      <td>0</td>\n",
              "      <td>0</td>\n",
              "      <td>0</td>\n",
              "      <td>0</td>\n",
              "      <td>0</td>\n",
              "      <td>0</td>\n",
              "      <td>0</td>\n",
              "      <td>0</td>\n",
              "      <td>0</td>\n",
              "      <td>0</td>\n",
              "      <td>0</td>\n",
              "      <td>0</td>\n",
              "      <td>0</td>\n",
              "      <td>1</td>\n",
              "      <td>0</td>\n",
              "      <td>0</td>\n",
              "      <td>0</td>\n",
              "      <td>0</td>\n",
              "      <td>0.0</td>\n",
              "      <td>0.0</td>\n",
              "      <td>0.0</td>\n",
              "      <td>1.0</td>\n",
              "      <td>0.0</td>\n",
              "      <td>0.0</td>\n",
              "      <td>0.0</td>\n",
              "      <td>0.0</td>\n",
              "      <td>0.0</td>\n",
              "      <td>0.0</td>\n",
              "      <td>0.0</td>\n",
              "      <td>0.0</td>\n",
              "      <td>0.0</td>\n",
              "      <td>0.0</td>\n",
              "      <td>1.0</td>\n",
              "      <td>0.0</td>\n",
              "    </tr>\n",
              "    <tr>\n",
              "      <th>5o5xTG5Mh3JAm2BZv4nOI7</th>\n",
              "      <td>0.01210</td>\n",
              "      <td>0.691</td>\n",
              "      <td>265587</td>\n",
              "      <td>0.834</td>\n",
              "      <td>0.001480</td>\n",
              "      <td>0.115</td>\n",
              "      <td>-4.378</td>\n",
              "      <td>0.0432</td>\n",
              "      <td>129.982</td>\n",
              "      <td>0.330</td>\n",
              "      <td>0</td>\n",
              "      <td>0</td>\n",
              "      <td>0</td>\n",
              "      <td>0</td>\n",
              "      <td>0</td>\n",
              "      <td>0</td>\n",
              "      <td>0</td>\n",
              "      <td>0</td>\n",
              "      <td>0</td>\n",
              "      <td>0</td>\n",
              "      <td>0</td>\n",
              "      <td>0</td>\n",
              "      <td>0</td>\n",
              "      <td>0</td>\n",
              "      <td>0</td>\n",
              "      <td>0</td>\n",
              "      <td>0</td>\n",
              "      <td>0</td>\n",
              "      <td>1</td>\n",
              "      <td>0</td>\n",
              "      <td>0</td>\n",
              "      <td>0</td>\n",
              "      <td>0</td>\n",
              "      <td>0</td>\n",
              "      <td>0</td>\n",
              "      <td>0</td>\n",
              "      <td>0.0</td>\n",
              "      <td>0.0</td>\n",
              "      <td>0.0</td>\n",
              "      <td>0.0</td>\n",
              "      <td>1.0</td>\n",
              "      <td>0.0</td>\n",
              "      <td>0.0</td>\n",
              "      <td>0.0</td>\n",
              "      <td>0.0</td>\n",
              "      <td>0.0</td>\n",
              "      <td>0.0</td>\n",
              "      <td>0.0</td>\n",
              "      <td>0.0</td>\n",
              "      <td>0.0</td>\n",
              "      <td>1.0</td>\n",
              "      <td>0.0</td>\n",
              "    </tr>\n",
              "    <tr>\n",
              "      <th>6T1oL7ed1wUEqlCR1iCpIR</th>\n",
              "      <td>0.35500</td>\n",
              "      <td>0.364</td>\n",
              "      <td>224387</td>\n",
              "      <td>0.733</td>\n",
              "      <td>0.000007</td>\n",
              "      <td>0.981</td>\n",
              "      <td>-5.071</td>\n",
              "      <td>0.0299</td>\n",
              "      <td>145.394</td>\n",
              "      <td>0.244</td>\n",
              "      <td>0</td>\n",
              "      <td>0</td>\n",
              "      <td>0</td>\n",
              "      <td>0</td>\n",
              "      <td>1</td>\n",
              "      <td>0</td>\n",
              "      <td>0</td>\n",
              "      <td>0</td>\n",
              "      <td>0</td>\n",
              "      <td>0</td>\n",
              "      <td>0</td>\n",
              "      <td>0</td>\n",
              "      <td>0</td>\n",
              "      <td>0</td>\n",
              "      <td>0</td>\n",
              "      <td>0</td>\n",
              "      <td>0</td>\n",
              "      <td>0</td>\n",
              "      <td>0</td>\n",
              "      <td>0</td>\n",
              "      <td>0</td>\n",
              "      <td>0</td>\n",
              "      <td>0</td>\n",
              "      <td>0</td>\n",
              "      <td>0</td>\n",
              "      <td>0</td>\n",
              "      <td>0.0</td>\n",
              "      <td>0.0</td>\n",
              "      <td>0.0</td>\n",
              "      <td>0.0</td>\n",
              "      <td>0.0</td>\n",
              "      <td>0.0</td>\n",
              "      <td>0.0</td>\n",
              "      <td>0.0</td>\n",
              "      <td>0.0</td>\n",
              "      <td>1.0</td>\n",
              "      <td>0.0</td>\n",
              "      <td>0.0</td>\n",
              "      <td>0.0</td>\n",
              "      <td>0.0</td>\n",
              "      <td>1.0</td>\n",
              "      <td>0.0</td>\n",
              "    </tr>\n",
              "    <tr>\n",
              "      <th>5MnEYPkZ5HC7BQ988kBKqp</th>\n",
              "      <td>0.01190</td>\n",
              "      <td>0.478</td>\n",
              "      <td>211800</td>\n",
              "      <td>0.695</td>\n",
              "      <td>0.000000</td>\n",
              "      <td>0.119</td>\n",
              "      <td>-5.923</td>\n",
              "      <td>0.0529</td>\n",
              "      <td>89.801</td>\n",
              "      <td>0.297</td>\n",
              "      <td>0</td>\n",
              "      <td>1</td>\n",
              "      <td>0</td>\n",
              "      <td>0</td>\n",
              "      <td>0</td>\n",
              "      <td>0</td>\n",
              "      <td>0</td>\n",
              "      <td>0</td>\n",
              "      <td>0</td>\n",
              "      <td>0</td>\n",
              "      <td>0</td>\n",
              "      <td>0</td>\n",
              "      <td>0</td>\n",
              "      <td>0</td>\n",
              "      <td>0</td>\n",
              "      <td>0</td>\n",
              "      <td>0</td>\n",
              "      <td>0</td>\n",
              "      <td>0</td>\n",
              "      <td>0</td>\n",
              "      <td>0</td>\n",
              "      <td>0</td>\n",
              "      <td>0</td>\n",
              "      <td>0</td>\n",
              "      <td>0</td>\n",
              "      <td>0</td>\n",
              "      <td>0.0</td>\n",
              "      <td>0.0</td>\n",
              "      <td>0.0</td>\n",
              "      <td>0.0</td>\n",
              "      <td>0.0</td>\n",
              "      <td>0.0</td>\n",
              "      <td>0.0</td>\n",
              "      <td>0.0</td>\n",
              "      <td>1.0</td>\n",
              "      <td>0.0</td>\n",
              "      <td>0.0</td>\n",
              "      <td>1.0</td>\n",
              "      <td>0.0</td>\n",
              "      <td>0.0</td>\n",
              "      <td>1.0</td>\n",
              "      <td>0.0</td>\n",
              "    </tr>\n",
              "  </tbody>\n",
              "</table>\n",
              "</div>\n",
              "    <div class=\"colab-df-buttons\">\n",
              "\n",
              "  <div class=\"colab-df-container\">\n",
              "    <button class=\"colab-df-convert\" onclick=\"convertToInteractive('df-3a70cb69-4e21-4841-931d-50de02aa89e1')\"\n",
              "            title=\"Convert this dataframe to an interactive table.\"\n",
              "            style=\"display:none;\">\n",
              "\n",
              "  <svg xmlns=\"http://www.w3.org/2000/svg\" height=\"24px\" viewBox=\"0 -960 960 960\">\n",
              "    <path d=\"M120-120v-720h720v720H120Zm60-500h600v-160H180v160Zm220 220h160v-160H400v160Zm0 220h160v-160H400v160ZM180-400h160v-160H180v160Zm440 0h160v-160H620v160ZM180-180h160v-160H180v160Zm440 0h160v-160H620v160Z\"/>\n",
              "  </svg>\n",
              "    </button>\n",
              "\n",
              "  <style>\n",
              "    .colab-df-container {\n",
              "      display:flex;\n",
              "      gap: 12px;\n",
              "    }\n",
              "\n",
              "    .colab-df-convert {\n",
              "      background-color: #E8F0FE;\n",
              "      border: none;\n",
              "      border-radius: 50%;\n",
              "      cursor: pointer;\n",
              "      display: none;\n",
              "      fill: #1967D2;\n",
              "      height: 32px;\n",
              "      padding: 0 0 0 0;\n",
              "      width: 32px;\n",
              "    }\n",
              "\n",
              "    .colab-df-convert:hover {\n",
              "      background-color: #E2EBFA;\n",
              "      box-shadow: 0px 1px 2px rgba(60, 64, 67, 0.3), 0px 1px 3px 1px rgba(60, 64, 67, 0.15);\n",
              "      fill: #174EA6;\n",
              "    }\n",
              "\n",
              "    .colab-df-buttons div {\n",
              "      margin-bottom: 4px;\n",
              "    }\n",
              "\n",
              "    [theme=dark] .colab-df-convert {\n",
              "      background-color: #3B4455;\n",
              "      fill: #D2E3FC;\n",
              "    }\n",
              "\n",
              "    [theme=dark] .colab-df-convert:hover {\n",
              "      background-color: #434B5C;\n",
              "      box-shadow: 0px 1px 3px 1px rgba(0, 0, 0, 0.15);\n",
              "      filter: drop-shadow(0px 1px 2px rgba(0, 0, 0, 0.3));\n",
              "      fill: #FFFFFF;\n",
              "    }\n",
              "  </style>\n",
              "\n",
              "    <script>\n",
              "      const buttonEl =\n",
              "        document.querySelector('#df-3a70cb69-4e21-4841-931d-50de02aa89e1 button.colab-df-convert');\n",
              "      buttonEl.style.display =\n",
              "        google.colab.kernel.accessAllowed ? 'block' : 'none';\n",
              "\n",
              "      async function convertToInteractive(key) {\n",
              "        const element = document.querySelector('#df-3a70cb69-4e21-4841-931d-50de02aa89e1');\n",
              "        const dataTable =\n",
              "          await google.colab.kernel.invokeFunction('convertToInteractive',\n",
              "                                                    [key], {});\n",
              "        if (!dataTable) return;\n",
              "\n",
              "        const docLinkHtml = 'Like what you see? Visit the ' +\n",
              "          '<a target=\"_blank\" href=https://colab.research.google.com/notebooks/data_table.ipynb>data table notebook</a>'\n",
              "          + ' to learn more about interactive tables.';\n",
              "        element.innerHTML = '';\n",
              "        dataTable['output_type'] = 'display_data';\n",
              "        await google.colab.output.renderOutput(dataTable, element);\n",
              "        const docLink = document.createElement('div');\n",
              "        docLink.innerHTML = docLinkHtml;\n",
              "        element.appendChild(docLink);\n",
              "      }\n",
              "    </script>\n",
              "  </div>\n",
              "\n",
              "\n",
              "<div id=\"df-48dbf7a4-0c91-4be8-a3f4-cdb00c59cf1d\">\n",
              "  <button class=\"colab-df-quickchart\" onclick=\"quickchart('df-48dbf7a4-0c91-4be8-a3f4-cdb00c59cf1d')\"\n",
              "            title=\"Suggest charts\"\n",
              "            style=\"display:none;\">\n",
              "\n",
              "<svg xmlns=\"http://www.w3.org/2000/svg\" height=\"24px\"viewBox=\"0 0 24 24\"\n",
              "     width=\"24px\">\n",
              "    <g>\n",
              "        <path d=\"M19 3H5c-1.1 0-2 .9-2 2v14c0 1.1.9 2 2 2h14c1.1 0 2-.9 2-2V5c0-1.1-.9-2-2-2zM9 17H7v-7h2v7zm4 0h-2V7h2v10zm4 0h-2v-4h2v4z\"/>\n",
              "    </g>\n",
              "</svg>\n",
              "  </button>\n",
              "\n",
              "<style>\n",
              "  .colab-df-quickchart {\n",
              "      --bg-color: #E8F0FE;\n",
              "      --fill-color: #1967D2;\n",
              "      --hover-bg-color: #E2EBFA;\n",
              "      --hover-fill-color: #174EA6;\n",
              "      --disabled-fill-color: #AAA;\n",
              "      --disabled-bg-color: #DDD;\n",
              "  }\n",
              "\n",
              "  [theme=dark] .colab-df-quickchart {\n",
              "      --bg-color: #3B4455;\n",
              "      --fill-color: #D2E3FC;\n",
              "      --hover-bg-color: #434B5C;\n",
              "      --hover-fill-color: #FFFFFF;\n",
              "      --disabled-bg-color: #3B4455;\n",
              "      --disabled-fill-color: #666;\n",
              "  }\n",
              "\n",
              "  .colab-df-quickchart {\n",
              "    background-color: var(--bg-color);\n",
              "    border: none;\n",
              "    border-radius: 50%;\n",
              "    cursor: pointer;\n",
              "    display: none;\n",
              "    fill: var(--fill-color);\n",
              "    height: 32px;\n",
              "    padding: 0;\n",
              "    width: 32px;\n",
              "  }\n",
              "\n",
              "  .colab-df-quickchart:hover {\n",
              "    background-color: var(--hover-bg-color);\n",
              "    box-shadow: 0 1px 2px rgba(60, 64, 67, 0.3), 0 1px 3px 1px rgba(60, 64, 67, 0.15);\n",
              "    fill: var(--button-hover-fill-color);\n",
              "  }\n",
              "\n",
              "  .colab-df-quickchart-complete:disabled,\n",
              "  .colab-df-quickchart-complete:disabled:hover {\n",
              "    background-color: var(--disabled-bg-color);\n",
              "    fill: var(--disabled-fill-color);\n",
              "    box-shadow: none;\n",
              "  }\n",
              "\n",
              "  .colab-df-spinner {\n",
              "    border: 2px solid var(--fill-color);\n",
              "    border-color: transparent;\n",
              "    border-bottom-color: var(--fill-color);\n",
              "    animation:\n",
              "      spin 1s steps(1) infinite;\n",
              "  }\n",
              "\n",
              "  @keyframes spin {\n",
              "    0% {\n",
              "      border-color: transparent;\n",
              "      border-bottom-color: var(--fill-color);\n",
              "      border-left-color: var(--fill-color);\n",
              "    }\n",
              "    20% {\n",
              "      border-color: transparent;\n",
              "      border-left-color: var(--fill-color);\n",
              "      border-top-color: var(--fill-color);\n",
              "    }\n",
              "    30% {\n",
              "      border-color: transparent;\n",
              "      border-left-color: var(--fill-color);\n",
              "      border-top-color: var(--fill-color);\n",
              "      border-right-color: var(--fill-color);\n",
              "    }\n",
              "    40% {\n",
              "      border-color: transparent;\n",
              "      border-right-color: var(--fill-color);\n",
              "      border-top-color: var(--fill-color);\n",
              "    }\n",
              "    60% {\n",
              "      border-color: transparent;\n",
              "      border-right-color: var(--fill-color);\n",
              "    }\n",
              "    80% {\n",
              "      border-color: transparent;\n",
              "      border-right-color: var(--fill-color);\n",
              "      border-bottom-color: var(--fill-color);\n",
              "    }\n",
              "    90% {\n",
              "      border-color: transparent;\n",
              "      border-bottom-color: var(--fill-color);\n",
              "    }\n",
              "  }\n",
              "</style>\n",
              "\n",
              "  <script>\n",
              "    async function quickchart(key) {\n",
              "      const quickchartButtonEl =\n",
              "        document.querySelector('#' + key + ' button');\n",
              "      quickchartButtonEl.disabled = true;  // To prevent multiple clicks.\n",
              "      quickchartButtonEl.classList.add('colab-df-spinner');\n",
              "      try {\n",
              "        const charts = await google.colab.kernel.invokeFunction(\n",
              "            'suggestCharts', [key], {});\n",
              "      } catch (error) {\n",
              "        console.error('Error during call to suggestCharts:', error);\n",
              "      }\n",
              "      quickchartButtonEl.classList.remove('colab-df-spinner');\n",
              "      quickchartButtonEl.classList.add('colab-df-quickchart-complete');\n",
              "    }\n",
              "    (() => {\n",
              "      let quickchartButtonEl =\n",
              "        document.querySelector('#df-48dbf7a4-0c91-4be8-a3f4-cdb00c59cf1d button');\n",
              "      quickchartButtonEl.style.display =\n",
              "        google.colab.kernel.accessAllowed ? 'block' : 'none';\n",
              "    })();\n",
              "  </script>\n",
              "</div>\n",
              "    </div>\n",
              "  </div>\n"
            ]
          },
          "metadata": {},
          "execution_count": 49
        }
      ],
      "source": [
        "#merging OHE columns with numerical columns\n",
        "X_train = pd.concat([X_train.drop(cat_cols, axis=1), df_ohe_train], axis=1)\n",
        "X_test = pd.concat([X_test.drop(cat_cols, axis=1), df_ohe_test], axis=1)\n",
        "X_train.tail()"
      ]
    },
    {
      "cell_type": "code",
      "execution_count": null,
      "metadata": {
        "ExecuteTime": {
          "end_time": "2021-05-31T00:07:28.850281Z",
          "start_time": "2021-05-31T00:07:28.616428Z"
        },
        "id": "LJScUG5Qo5u0"
      },
      "outputs": [],
      "source": [
        "#concatenating all parts of our data for future reference (see Data Visualizations section)\n",
        "df_ohe_x = pd.concat([X_train, X_test])\n",
        "df_ohe_y = pd.concat([y_train, y_test])\n",
        "df_ohe = pd.concat([df_ohe_x, df_ohe_y], axis=1)"
      ]
    },
    {
      "cell_type": "markdown",
      "metadata": {
        "id": "6NJgWVMdo5u0"
      },
      "source": [
        "With both the X_train and X_test dataframes scrubbed and one hot encoded we can move onto the modelling process."
      ]
    },
    {
      "cell_type": "markdown",
      "metadata": {
        "id": "nnNpeKYUo5u0"
      },
      "source": [
        "# MODEL"
      ]
    },
    {
      "cell_type": "markdown",
      "metadata": {
        "id": "RzvTOo1To5u0"
      },
      "source": [
        "The first model we will be generating is a dummy classifier. We will be comparing our models' success to each other but also to this baseline model."
      ]
    },
    {
      "cell_type": "markdown",
      "metadata": {
        "id": "e_Le9wmpo5u0"
      },
      "source": [
        "## Model #1 - Baseline - Dummy Classifier"
      ]
    },
    {
      "cell_type": "code",
      "execution_count": null,
      "metadata": {
        "ExecuteTime": {
          "end_time": "2021-05-31T00:07:28.882276Z",
          "start_time": "2021-05-31T00:07:28.852279Z"
        },
        "id": "VcOsv59So5u0"
      },
      "outputs": [],
      "source": [
        "from sklearn.dummy import DummyClassifier\n",
        "\n",
        "clf_dummy = DummyClassifier(random_state=42)\n",
        "clf_dummy.fit(X_train, y_train)\n",
        "y_pred = clf_dummy.predict(X_test)"
      ]
    },
    {
      "cell_type": "markdown",
      "metadata": {
        "id": "WEl7ePIwo5u1"
      },
      "source": [
        "We need a function that will show us the classification report, the confusion matrix as well as the ROC curve to be able to evaluate our models."
      ]
    },
    {
      "cell_type": "code",
      "source": [
        "from sklearn.metrics import classification_report, ConfusionMatrixDisplay, RocCurveDisplay\n",
        "\n",
        "def classification(y_true, y_pred, X, clf):\n",
        "    \"\"\"This function shows the classification report,\n",
        "    the confusion matrix as well as the ROC curve for evaluation of model quality.\n",
        "\n",
        "    y_true: Correct y values, typically y_test that comes from the train_test_split performed at the beginning of model development.\n",
        "    y_pred: Predicted y values by the model.\n",
        "    clf: classifier model that was fit to training data.\n",
        "    X: X_test values\"\"\"\n",
        "\n",
        "    #Classification report\n",
        "    print(\"CLASSIFICATION REPORT\")\n",
        "    print(\"------------------------------------------\")\n",
        "    print(classification_report(y_true=y_true, y_pred=y_pred))\n",
        "\n",
        "    #Creating a figure/axes for confusion matrix and ROC curve\n",
        "    fig, ax = plt.subplots(ncols=2, figsize=(12, 5))\n",
        "\n",
        "    #Plotting the normalized confusion matrix\n",
        "    ConfusionMatrixDisplay.from_estimator(clf, X, y_true)\n",
        "\n",
        "    #Plotting the ROC curve\n",
        "    RocCurveDisplay.from_estimator(clf, X, y_true)\n",
        "\n",
        "    #Plotting the 50-50 guessing plot for reference\n",
        "    ax[1].plot([0,1], [0,1], ls='--', color='orange')"
      ],
      "metadata": {
        "id": "CrW8JUErucck"
      },
      "execution_count": null,
      "outputs": []
    },
    {
      "cell_type": "code",
      "execution_count": null,
      "metadata": {
        "ExecuteTime": {
          "end_time": "2021-05-31T00:07:29.540866Z",
          "start_time": "2021-05-31T00:07:28.901250Z"
        },
        "colab": {
          "base_uri": "https://localhost:8080/",
          "height": 1000
        },
        "id": "Y9A6B2R1o5u1",
        "outputId": "4adeba8a-2d78-4842-a018-c69c7a07b98b"
      },
      "outputs": [
        {
          "output_type": "stream",
          "name": "stdout",
          "text": [
            "CLASSIFICATION REPORT\n",
            "------------------------------------------\n",
            "              precision    recall  f1-score   support\n",
            "\n",
            "           0       0.83      1.00      0.91     44059\n",
            "           1       0.00      0.00      0.00      8974\n",
            "\n",
            "    accuracy                           0.83     53033\n",
            "   macro avg       0.42      0.50      0.45     53033\n",
            "weighted avg       0.69      0.83      0.75     53033\n",
            "\n"
          ]
        },
        {
          "output_type": "stream",
          "name": "stderr",
          "text": [
            "/usr/local/lib/python3.10/dist-packages/sklearn/metrics/_classification.py:1344: UndefinedMetricWarning: Precision and F-score are ill-defined and being set to 0.0 in labels with no predicted samples. Use `zero_division` parameter to control this behavior.\n",
            "  _warn_prf(average, modifier, msg_start, len(result))\n",
            "/usr/local/lib/python3.10/dist-packages/sklearn/metrics/_classification.py:1344: UndefinedMetricWarning: Precision and F-score are ill-defined and being set to 0.0 in labels with no predicted samples. Use `zero_division` parameter to control this behavior.\n",
            "  _warn_prf(average, modifier, msg_start, len(result))\n",
            "/usr/local/lib/python3.10/dist-packages/sklearn/metrics/_classification.py:1344: UndefinedMetricWarning: Precision and F-score are ill-defined and being set to 0.0 in labels with no predicted samples. Use `zero_division` parameter to control this behavior.\n",
            "  _warn_prf(average, modifier, msg_start, len(result))\n"
          ]
        },
        {
          "output_type": "display_data",
          "data": {
            "text/plain": [
              "<Figure size 1200x500 with 2 Axes>"
            ],
            "image/png": "[encoded data removed]"
          },
          "metadata": {}
        },
        {
          "output_type": "display_data",
          "data": {
            "text/plain": [
              "<Figure size 640x480 with 2 Axes>"
            ],
            "image/png": "[encoded data removed]"
          },
          "metadata": {}
        },
        {
          "output_type": "display_data",
          "data": {
            "text/plain": [
              "<Figure size 640x480 with 1 Axes>"
            ],
            "image/png": "[encoded data removed]"
          },
          "metadata": {}
        }
      ],
      "source": [
        "classification(y_test, y_pred, X_test, clf_dummy)"
      ]
    },
    {
      "cell_type": "code",
      "execution_count": null,
      "metadata": {
        "ExecuteTime": {
          "end_time": "2021-05-31T00:07:29.555842Z",
          "start_time": "2021-05-31T00:07:29.542864Z"
        },
        "colab": {
          "base_uri": "https://localhost:8080/"
        },
        "id": "5M4okRQCo5u1",
        "outputId": "9d1b207e-3932-45e3-cebe-d3785804f62f"
      },
      "outputs": [
        {
          "output_type": "execute_result",
          "data": {
            "text/plain": [
              "0    0.829192\n",
              "1    0.170808\n",
              "Name: is_popular, dtype: float64"
            ]
          },
          "metadata": {},
          "execution_count": 54
        }
      ],
      "source": [
        "#class imbalance percentages\n",
        "y_train.value_counts(normalize=True)"
      ]
    },
    {
      "cell_type": "markdown",
      "metadata": {
        "id": "K1Ni0Txmo5u1"
      },
      "source": [
        "Our dummy classifier correctly predicted 89% of the unpopular songs as unpopular; however, it correctly predicted only 11% of the popular songs as popular and instead classified 89% of them as unpopular as well. We clearly have a class imbalance problem where approximately 89% of our data is not popular and only about 11% of it is. To address this we can SMOTE the training data and see if training a model with this method would improve our results."
      ]
    },
    {
      "cell_type": "markdown",
      "metadata": {
        "id": "QIroOX6Ho5u1"
      },
      "source": [
        "## Addressing Class Imbalance with SMOTENC"
      ]
    },
    {
      "cell_type": "code",
      "execution_count": null,
      "metadata": {
        "ExecuteTime": {
          "end_time": "2021-05-31T00:07:29.586841Z",
          "start_time": "2021-05-31T00:07:29.558855Z"
        },
        "colab": {
          "base_uri": "https://localhost:8080/"
        },
        "id": "pKKdwqtZo5u2",
        "outputId": "f136d3cc-0392-40ae-a3dd-cb36958f943e"
      },
      "outputs": [
        {
          "output_type": "execute_result",
          "data": {
            "text/plain": [
              "Index(['acousticness', 'danceability', 'duration_ms', 'energy',\n",
              "       'instrumentalness', 'liveness', 'loudness', 'speechiness', 'tempo',\n",
              "       'valence', 'Movie', 'R&B', 'A Capella', 'Alternative', 'Country',\n",
              "       'Dance', 'Electronic', 'Anime', 'Folk', 'Blues', 'Opera', 'Hip-Hop',\n",
              "       'Children's Music', 'Rap', 'Indie', 'Classical', 'Pop', 'Reggae',\n",
              "       'Reggaeton', 'Jazz', 'Rock', 'Ska', 'Comedy', 'Soul', 'Soundtrack',\n",
              "       'World', 'key_A#', 'key_B', 'key_C', 'key_C#', 'key_D', 'key_D#',\n",
              "       'key_E', 'key_F', 'key_F#', 'key_G', 'key_G#', 'mode_Minor',\n",
              "       'time_signature_1/4', 'time_signature_3/4', 'time_signature_4/4',\n",
              "       'time_signature_5/4'],\n",
              "      dtype='object')"
            ]
          },
          "metadata": {},
          "execution_count": 55
        }
      ],
      "source": [
        "#looking at column names to extract categorical column indices for SMOTENC\n",
        "X_train.columns"
      ]
    },
    {
      "cell_type": "code",
      "execution_count": null,
      "metadata": {
        "ExecuteTime": {
          "end_time": "2021-05-31T00:07:29.602812Z",
          "start_time": "2021-05-31T00:07:29.589821Z"
        },
        "colab": {
          "base_uri": "https://localhost:8080/"
        },
        "id": "EggAS-Owo5u2",
        "outputId": "e1999064-6e80-4d70-8201-0a7f4eebb72e"
      },
      "outputs": [
        {
          "output_type": "execute_result",
          "data": {
            "text/plain": [
              "Index(['Movie', 'R&B', 'A Capella', 'Alternative', 'Country', 'Dance',\n",
              "       'Electronic', 'Anime', 'Folk', 'Blues', 'Opera', 'Hip-Hop',\n",
              "       'Children's Music', 'Rap', 'Indie', 'Classical', 'Pop', 'Reggae',\n",
              "       'Reggaeton', 'Jazz', 'Rock', 'Ska', 'Comedy', 'Soul', 'Soundtrack',\n",
              "       'World', 'key_A#', 'key_B', 'key_C', 'key_C#', 'key_D', 'key_D#',\n",
              "       'key_E', 'key_F', 'key_F#', 'key_G', 'key_G#', 'mode_Minor',\n",
              "       'time_signature_1/4', 'time_signature_3/4', 'time_signature_4/4',\n",
              "       'time_signature_5/4'],\n",
              "      dtype='object')"
            ]
          },
          "metadata": {},
          "execution_count": 56
        }
      ],
      "source": [
        "#creating a list of categorical column indices\n",
        "cat_cols = list(range(10, len(X_train.columns)))\n",
        "X_train.columns[cat_cols]"
      ]
    },
    {
      "cell_type": "code",
      "execution_count": null,
      "metadata": {
        "ExecuteTime": {
          "end_time": "2021-05-31T00:09:35.753274Z",
          "start_time": "2021-05-31T00:07:29.604811Z"
        },
        "id": "7LIsUL2Jo5u2",
        "colab": {
          "base_uri": "https://localhost:8080/",
          "height": 407
        },
        "outputId": "e4c44712-2819-4118-bc58-5615b269b9b9"
      },
      "outputs": [
        {
          "output_type": "error",
          "ename": "KeyboardInterrupt",
          "evalue": "ignored",
          "traceback": [
            "\u001b[0;31m---------------------------------------------------------------------------\u001b[0m",
            "\u001b[0;31mKeyboardInterrupt\u001b[0m                         Traceback (most recent call last)",
            "\u001b[0;32m<ipython-input-57-f8cc99c0a4fc>\u001b[0m in \u001b[0;36m<cell line: 6>\u001b[0;34m()\u001b[0m\n\u001b[1;32m      4\u001b[0m \u001b[0msm\u001b[0m \u001b[0;34m=\u001b[0m \u001b[0mSMOTENC\u001b[0m\u001b[0;34m(\u001b[0m\u001b[0mcategorical_features\u001b[0m\u001b[0;34m=\u001b[0m\u001b[0mcat_cols\u001b[0m\u001b[0;34m,\u001b[0m \u001b[0mrandom_state\u001b[0m\u001b[0;34m=\u001b[0m\u001b[0;36m42\u001b[0m\u001b[0;34m)\u001b[0m\u001b[0;34m\u001b[0m\u001b[0;34m\u001b[0m\u001b[0m\n\u001b[1;32m      5\u001b[0m \u001b[0;34m\u001b[0m\u001b[0m\n\u001b[0;32m----> 6\u001b[0;31m \u001b[0mX_train_sm\u001b[0m\u001b[0;34m,\u001b[0m \u001b[0my_train_sm\u001b[0m \u001b[0;34m=\u001b[0m \u001b[0msm\u001b[0m\u001b[0;34m.\u001b[0m\u001b[0mfit_resample\u001b[0m\u001b[0;34m(\u001b[0m\u001b[0mX_train\u001b[0m\u001b[0;34m,\u001b[0m \u001b[0my_train\u001b[0m\u001b[0;34m)\u001b[0m\u001b[0;34m\u001b[0m\u001b[0;34m\u001b[0m\u001b[0m\n\u001b[0m\u001b[1;32m      7\u001b[0m \u001b[0my_train_sm\u001b[0m\u001b[0;34m.\u001b[0m\u001b[0mvalue_counts\u001b[0m\u001b[0;34m(\u001b[0m\u001b[0mnormalize\u001b[0m\u001b[0;34m=\u001b[0m\u001b[0;32mTrue\u001b[0m\u001b[0;34m)\u001b[0m\u001b[0;34m\u001b[0m\u001b[0;34m\u001b[0m\u001b[0m\n",
            "\u001b[0;32m/usr/local/lib/python3.10/dist-packages/imblearn/base.py\u001b[0m in \u001b[0;36mfit_resample\u001b[0;34m(self, X, y)\u001b[0m\n\u001b[1;32m    201\u001b[0m         \"\"\"\n\u001b[1;32m    202\u001b[0m         \u001b[0mself\u001b[0m\u001b[0;34m.\u001b[0m\u001b[0m_validate_params\u001b[0m\u001b[0;34m(\u001b[0m\u001b[0;34m)\u001b[0m\u001b[0;34m\u001b[0m\u001b[0;34m\u001b[0m\u001b[0m\n\u001b[0;32m--> 203\u001b[0;31m         \u001b[0;32mreturn\u001b[0m \u001b[0msuper\u001b[0m\u001b[0;34m(\u001b[0m\u001b[0;34m)\u001b[0m\u001b[0;34m.\u001b[0m\u001b[0mfit_resample\u001b[0m\u001b[0;34m(\u001b[0m\u001b[0mX\u001b[0m\u001b[0;34m,\u001b[0m \u001b[0my\u001b[0m\u001b[0;34m)\u001b[0m\u001b[0;34m\u001b[0m\u001b[0;34m\u001b[0m\u001b[0m\n\u001b[0m\u001b[1;32m    204\u001b[0m \u001b[0;34m\u001b[0m\u001b[0m\n\u001b[1;32m    205\u001b[0m     \u001b[0;32mdef\u001b[0m \u001b[0m_more_tags\u001b[0m\u001b[0;34m(\u001b[0m\u001b[0mself\u001b[0m\u001b[0;34m)\u001b[0m\u001b[0;34m:\u001b[0m\u001b[0;34m\u001b[0m\u001b[0;34m\u001b[0m\u001b[0m\n",
            "\u001b[0;32m/usr/local/lib/python3.10/dist-packages/imblearn/base.py\u001b[0m in \u001b[0;36mfit_resample\u001b[0;34m(self, X, y)\u001b[0m\n\u001b[1;32m     86\u001b[0m         )\n\u001b[1;32m     87\u001b[0m \u001b[0;34m\u001b[0m\u001b[0m\n\u001b[0;32m---> 88\u001b[0;31m         \u001b[0moutput\u001b[0m \u001b[0;34m=\u001b[0m \u001b[0mself\u001b[0m\u001b[0;34m.\u001b[0m\u001b[0m_fit_resample\u001b[0m\u001b[0;34m(\u001b[0m\u001b[0mX\u001b[0m\u001b[0;34m,\u001b[0m \u001b[0my\u001b[0m\u001b[0;34m)\u001b[0m\u001b[0;34m\u001b[0m\u001b[0;34m\u001b[0m\u001b[0m\n\u001b[0m\u001b[1;32m     89\u001b[0m \u001b[0;34m\u001b[0m\u001b[0m\n\u001b[1;32m     90\u001b[0m         y_ = (\n",
            "\u001b[0;32m/usr/local/lib/python3.10/dist-packages/imblearn/over_sampling/_smote/base.py\u001b[0m in \u001b[0;36m_fit_resample\u001b[0;34m(self, X, y)\u001b[0m\n\u001b[1;32m    631\u001b[0m         \u001b[0mX_encoded\u001b[0m \u001b[0;34m=\u001b[0m \u001b[0msparse\u001b[0m\u001b[0;34m.\u001b[0m\u001b[0mhstack\u001b[0m\u001b[0;34m(\u001b[0m\u001b[0;34m(\u001b[0m\u001b[0mX_continuous\u001b[0m\u001b[0;34m,\u001b[0m \u001b[0mX_ohe\u001b[0m\u001b[0;34m)\u001b[0m\u001b[0;34m,\u001b[0m \u001b[0mformat\u001b[0m\u001b[0;34m=\u001b[0m\u001b[0;34m\"csr\"\u001b[0m\u001b[0;34m)\u001b[0m\u001b[0;34m\u001b[0m\u001b[0;34m\u001b[0m\u001b[0m\n\u001b[1;32m    632\u001b[0m \u001b[0;34m\u001b[0m\u001b[0m\n\u001b[0;32m--> 633\u001b[0;31m         \u001b[0mX_resampled\u001b[0m\u001b[0;34m,\u001b[0m \u001b[0my_resampled\u001b[0m \u001b[0;34m=\u001b[0m \u001b[0msuper\u001b[0m\u001b[0;34m(\u001b[0m\u001b[0;34m)\u001b[0m\u001b[0;34m.\u001b[0m\u001b[0m_fit_resample\u001b[0m\u001b[0;34m(\u001b[0m\u001b[0mX_encoded\u001b[0m\u001b[0;34m,\u001b[0m \u001b[0my\u001b[0m\u001b[0;34m)\u001b[0m\u001b[0;34m\u001b[0m\u001b[0;34m\u001b[0m\u001b[0m\n\u001b[0m\u001b[1;32m    634\u001b[0m \u001b[0;34m\u001b[0m\u001b[0m\n\u001b[1;32m    635\u001b[0m         \u001b[0;31m# reverse the encoding of the categorical features\u001b[0m\u001b[0;34m\u001b[0m\u001b[0;34m\u001b[0m\u001b[0m\n",
            "\u001b[0;32m/usr/local/lib/python3.10/dist-packages/imblearn/over_sampling/_smote/base.py\u001b[0m in \u001b[0;36m_fit_resample\u001b[0;34m(self, X, y)\u001b[0m\n\u001b[1;32m    353\u001b[0m \u001b[0;34m\u001b[0m\u001b[0m\n\u001b[1;32m    354\u001b[0m             \u001b[0mself\u001b[0m\u001b[0;34m.\u001b[0m\u001b[0mnn_k_\u001b[0m\u001b[0;34m.\u001b[0m\u001b[0mfit\u001b[0m\u001b[0;34m(\u001b[0m\u001b[0mX_class\u001b[0m\u001b[0;34m)\u001b[0m\u001b[0;34m\u001b[0m\u001b[0;34m\u001b[0m\u001b[0m\n\u001b[0;32m--> 355\u001b[0;31m             \u001b[0mnns\u001b[0m \u001b[0;34m=\u001b[0m \u001b[0mself\u001b[0m\u001b[0;34m.\u001b[0m\u001b[0mnn_k_\u001b[0m\u001b[0;34m.\u001b[0m\u001b[0mkneighbors\u001b[0m\u001b[0;34m(\u001b[0m\u001b[0mX_class\u001b[0m\u001b[0;34m,\u001b[0m \u001b[0mreturn_distance\u001b[0m\u001b[0;34m=\u001b[0m\u001b[0;32mFalse\u001b[0m\u001b[0;34m)\u001b[0m\u001b[0;34m[\u001b[0m\u001b[0;34m:\u001b[0m\u001b[0;34m,\u001b[0m \u001b[0;36m1\u001b[0m\u001b[0;34m:\u001b[0m\u001b[0;34m]\u001b[0m\u001b[0;34m\u001b[0m\u001b[0;34m\u001b[0m\u001b[0m\n\u001b[0m\u001b[1;32m    356\u001b[0m             X_new, y_new = self._make_samples(\n\u001b[1;32m    357\u001b[0m                 \u001b[0mX_class\u001b[0m\u001b[0;34m,\u001b[0m \u001b[0my\u001b[0m\u001b[0;34m.\u001b[0m\u001b[0mdtype\u001b[0m\u001b[0;34m,\u001b[0m \u001b[0mclass_sample\u001b[0m\u001b[0;34m,\u001b[0m \u001b[0mX_class\u001b[0m\u001b[0;34m,\u001b[0m \u001b[0mnns\u001b[0m\u001b[0;34m,\u001b[0m \u001b[0mn_samples\u001b[0m\u001b[0;34m,\u001b[0m \u001b[0;36m1.0\u001b[0m\u001b[0;34m\u001b[0m\u001b[0;34m\u001b[0m\u001b[0m\n",
            "\u001b[0;32m/usr/local/lib/python3.10/dist-packages/sklearn/neighbors/_base.py\u001b[0m in \u001b[0;36mkneighbors\u001b[0;34m(self, X, n_neighbors, return_distance)\u001b[0m\n\u001b[1;32m    822\u001b[0m         )\n\u001b[1;32m    823\u001b[0m         \u001b[0;32mif\u001b[0m \u001b[0muse_pairwise_distances_reductions\u001b[0m\u001b[0;34m:\u001b[0m\u001b[0;34m\u001b[0m\u001b[0;34m\u001b[0m\u001b[0m\n\u001b[0;32m--> 824\u001b[0;31m             results = ArgKmin.compute(\n\u001b[0m\u001b[1;32m    825\u001b[0m                 \u001b[0mX\u001b[0m\u001b[0;34m=\u001b[0m\u001b[0mX\u001b[0m\u001b[0;34m,\u001b[0m\u001b[0;34m\u001b[0m\u001b[0;34m\u001b[0m\u001b[0m\n\u001b[1;32m    826\u001b[0m                 \u001b[0mY\u001b[0m\u001b[0;34m=\u001b[0m\u001b[0mself\u001b[0m\u001b[0;34m.\u001b[0m\u001b[0m_fit_X\u001b[0m\u001b[0;34m,\u001b[0m\u001b[0;34m\u001b[0m\u001b[0;34m\u001b[0m\u001b[0m\n",
            "\u001b[0;32m/usr/local/lib/python3.10/dist-packages/sklearn/metrics/_pairwise_distances_reduction/_dispatcher.py\u001b[0m in \u001b[0;36mcompute\u001b[0;34m(cls, X, Y, k, metric, chunk_size, metric_kwargs, strategy, return_distance)\u001b[0m\n\u001b[1;32m    275\u001b[0m         \"\"\"\n\u001b[1;32m    276\u001b[0m         \u001b[0;32mif\u001b[0m \u001b[0mX\u001b[0m\u001b[0;34m.\u001b[0m\u001b[0mdtype\u001b[0m \u001b[0;34m==\u001b[0m \u001b[0mY\u001b[0m\u001b[0;34m.\u001b[0m\u001b[0mdtype\u001b[0m \u001b[0;34m==\u001b[0m \u001b[0mnp\u001b[0m\u001b[0;34m.\u001b[0m\u001b[0mfloat64\u001b[0m\u001b[0;34m:\u001b[0m\u001b[0;34m\u001b[0m\u001b[0;34m\u001b[0m\u001b[0m\n\u001b[0;32m--> 277\u001b[0;31m             return ArgKmin64.compute(\n\u001b[0m\u001b[1;32m    278\u001b[0m                 \u001b[0mX\u001b[0m\u001b[0;34m=\u001b[0m\u001b[0mX\u001b[0m\u001b[0;34m,\u001b[0m\u001b[0;34m\u001b[0m\u001b[0;34m\u001b[0m\u001b[0m\n\u001b[1;32m    279\u001b[0m                 \u001b[0mY\u001b[0m\u001b[0;34m=\u001b[0m\u001b[0mY\u001b[0m\u001b[0;34m,\u001b[0m\u001b[0;34m\u001b[0m\u001b[0;34m\u001b[0m\u001b[0m\n",
            "\u001b[0;32msklearn/metrics/_pairwise_distances_reduction/_argkmin.pyx\u001b[0m in \u001b[0;36msklearn.metrics._pairwise_distances_reduction._argkmin.ArgKmin64.compute\u001b[0;34m()\u001b[0m\n",
            "\u001b[0;32m/usr/local/lib/python3.10/dist-packages/threadpoolctl.py\u001b[0m in \u001b[0;36m__exit__\u001b[0;34m(self, type, value, traceback)\u001b[0m\n\u001b[1;32m    438\u001b[0m         \u001b[0;32mreturn\u001b[0m \u001b[0mself\u001b[0m\u001b[0;34m\u001b[0m\u001b[0;34m\u001b[0m\u001b[0m\n\u001b[1;32m    439\u001b[0m \u001b[0;34m\u001b[0m\u001b[0m\n\u001b[0;32m--> 440\u001b[0;31m     \u001b[0;32mdef\u001b[0m \u001b[0m__exit__\u001b[0m\u001b[0;34m(\u001b[0m\u001b[0mself\u001b[0m\u001b[0;34m,\u001b[0m \u001b[0mtype\u001b[0m\u001b[0;34m,\u001b[0m \u001b[0mvalue\u001b[0m\u001b[0;34m,\u001b[0m \u001b[0mtraceback\u001b[0m\u001b[0;34m)\u001b[0m\u001b[0;34m:\u001b[0m\u001b[0;34m\u001b[0m\u001b[0;34m\u001b[0m\u001b[0m\n\u001b[0m\u001b[1;32m    441\u001b[0m         \u001b[0mself\u001b[0m\u001b[0;34m.\u001b[0m\u001b[0mrestore_original_limits\u001b[0m\u001b[0;34m(\u001b[0m\u001b[0;34m)\u001b[0m\u001b[0;34m\u001b[0m\u001b[0;34m\u001b[0m\u001b[0m\n\u001b[1;32m    442\u001b[0m \u001b[0;34m\u001b[0m\u001b[0m\n",
            "\u001b[0;31mKeyboardInterrupt\u001b[0m: "
          ]
        }
      ],
      "source": [
        "#Using SMOTENC to address class imbalance. We are not using SMOTE since we have categorical columns.\n",
        "from imblearn.over_sampling import SMOTE, SMOTENC\n",
        "\n",
        "sm = SMOTENC(categorical_features=cat_cols, random_state=42)\n",
        "\n",
        "X_train_sm, y_train_sm = sm.fit_resample(X_train, y_train)\n",
        "y_train_sm.value_counts(normalize=True)"
      ]
    },
    {
      "cell_type": "markdown",
      "metadata": {
        "id": "hhwJTJi5o5u2"
      },
      "source": [
        "Now that we addressed our class imbalance problem, we can look at the performance of the dummy classifier model once again to use as our baseline."
      ]
    },
    {
      "cell_type": "code",
      "execution_count": null,
      "metadata": {
        "ExecuteTime": {
          "end_time": "2021-05-31T00:09:36.383877Z",
          "start_time": "2021-05-31T00:09:35.755255Z"
        },
        "id": "eYRmzFYlo5u2"
      },
      "outputs": [],
      "source": [
        "#fitting Dummy Classifier to data without the class imbalance problem to serve as a true baseline\n",
        "clf_dummy_sm = DummyClassifier(random_state=42)\n",
        "clf_dummy_sm.fit(X_train_sm, y_train_sm)\n",
        "y_pred = clf_dummy_sm.predict(X_test)\n",
        "classification(y_test, y_pred, X_test, clf_dummy_sm)"
      ]
    },
    {
      "cell_type": "markdown",
      "metadata": {
        "id": "FXxTf-fOo5u2"
      },
      "source": [
        "We see here that the dummy classifier is essentially flipping a coin and guessing whether a song is popular or not which is not very useful. However, this serves as a great baseline for our other models to be evaluated against. We can now initialize a results dataframe and keep track of the recall scores of our models for comparison later."
      ]
    },
    {
      "cell_type": "code",
      "execution_count": null,
      "metadata": {
        "ExecuteTime": {
          "end_time": "2021-05-31T00:09:36.398853Z",
          "start_time": "2021-05-31T00:09:36.385861Z"
        },
        "id": "gYJesOogo5u2"
      },
      "outputs": [],
      "source": [
        "from sklearn.metrics import recall_score\n",
        "\n",
        "df_results = pd.DataFrame(columns=['Model Name', 'Recall Score'])\n",
        "\n",
        "def add_results(model_name, df):\n",
        "    df = df.append({'Model Name': model_name,\n",
        "                                    'Recall Score': round(recall_score(y_test, y_pred),2)},\n",
        "                                   ignore_index=True)\n",
        "    return df"
      ]
    },
    {
      "cell_type": "code",
      "execution_count": null,
      "metadata": {
        "ExecuteTime": {
          "end_time": "2021-05-31T00:09:36.446838Z",
          "start_time": "2021-05-31T00:09:36.402850Z"
        },
        "id": "YzQjRZb2o5u3"
      },
      "outputs": [],
      "source": [
        "df_results = add_results('Dummy Classifier', df_results)\n",
        "df_results.head()"
      ]
    },
    {
      "cell_type": "markdown",
      "metadata": {
        "id": "8h5VT1Yno5u3"
      },
      "source": [
        "## Model #2 - Random Forest Classifier"
      ]
    },
    {
      "cell_type": "markdown",
      "metadata": {
        "id": "qcBZpCYmo5u3"
      },
      "source": [
        "The first model we will be developing is the Random Forest classifier."
      ]
    },
    {
      "cell_type": "markdown",
      "metadata": {
        "id": "WclZSj-qo5u3"
      },
      "source": [
        "### Initial Model"
      ]
    },
    {
      "cell_type": "code",
      "execution_count": null,
      "metadata": {
        "ExecuteTime": {
          "end_time": "2021-05-31T00:11:19.285783Z",
          "start_time": "2021-05-31T00:09:36.448823Z"
        },
        "scrolled": false,
        "id": "yTh9hB4no5u3"
      },
      "outputs": [],
      "source": [
        "#Fitting RF Classifier to SMOTE'd data\n",
        "from sklearn.ensemble import RandomForestClassifier\n",
        "\n",
        "clf_rf = RandomForestClassifier(random_state=42)\n",
        "clf_rf.fit(X_train_sm, y_train_sm)\n",
        "\n",
        "#Making predictions and evaluation.\n",
        "y_pred = clf_rf.predict(X_test)\n",
        "classification(y_test, y_pred, X_test, clf_rf)"
      ]
    },
    {
      "cell_type": "markdown",
      "metadata": {
        "id": "avl16lLao5u3"
      },
      "source": [
        "Our Random Forest model performs 48% better than the baseline classifier in predicting unpopular songs correctly and 8% better in predicting popular songs. The model may be overfitting, so to confirm we will look at the performance of the model with the training data."
      ]
    },
    {
      "cell_type": "code",
      "execution_count": null,
      "metadata": {
        "ExecuteTime": {
          "end_time": "2021-05-31T00:11:41.913705Z",
          "start_time": "2021-05-31T00:11:19.287800Z"
        },
        "id": "MKpb73wTo5u3"
      },
      "outputs": [],
      "source": [
        "#Evaluating the model performance for the training data\n",
        "y_pred = clf_rf.predict(X_train_sm)\n",
        "classification(y_train_sm, y_pred, X_train_sm, clf_rf)"
      ]
    },
    {
      "cell_type": "markdown",
      "metadata": {
        "id": "Ib7S2SnKo5u3"
      },
      "source": [
        "Our model is performing perfectly on the training data but not so much on the test data since it is overfitting to the training set. We need to tune our model to get more accurate results on unseen data. We will be using a grid search to optimize for the recall score. We are optimizing recall instead of other scores since we primarily care about correctly identifying a song that will be popular and we don't mind it if we pick a few songs that don't end up becoming popular."
      ]
    },
    {
      "cell_type": "markdown",
      "metadata": {
        "id": "zYhb3w66o5u4"
      },
      "source": [
        "### Hyperparameter Tuning"
      ]
    },
    {
      "cell_type": "code",
      "execution_count": null,
      "metadata": {
        "ExecuteTime": {
          "end_time": "2021-05-31T00:11:41.929680Z",
          "start_time": "2021-05-31T00:11:41.915690Z"
        },
        "id": "aRFwZ1UIo5u4"
      },
      "outputs": [],
      "source": [
        "# from sklearn.model_selection import GridSearchCV\n",
        "\n",
        "# clf = RandomForestClassifier()\n",
        "# grid = {'criterion': ['gini', 'entropy'],\n",
        "#         'max_depth': [10, 20, None],\n",
        "#         'min_samples_leaf': [1, 2, 3]\n",
        "#        }\n",
        "\n",
        "# gridsearch = GridSearchCV(estimator=clf, param_grid = grid, scoring='recall')\n",
        "\n",
        "# gridsearch.fit(X_train_sm,  y_train_sm)\n",
        "# gridsearch.best_params_\n",
        "# #Results: {'criterion': 'entropy', 'max_depth': None, 'min_samples_leaf': 2}"
      ]
    },
    {
      "cell_type": "code",
      "execution_count": null,
      "metadata": {
        "ExecuteTime": {
          "end_time": "2021-05-31T00:13:35.033262Z",
          "start_time": "2021-05-31T00:11:41.931679Z"
        },
        "id": "RpD1_tS8o5u4"
      },
      "outputs": [],
      "source": [
        "clf_rf_tuned = RandomForestClassifier(criterion='entropy', max_depth=None,\n",
        "                                      min_samples_leaf=2, class_weight='balanced',\n",
        "                                      random_state=42)\n",
        "clf_rf_tuned.fit(X_train_sm, y_train_sm)\n",
        "\n",
        "y_pred = clf_rf_tuned.predict(X_test)\n",
        "classification(y_test, y_pred, X_test, clf_rf_tuned)"
      ]
    },
    {
      "cell_type": "markdown",
      "metadata": {
        "id": "63SeQZeEo5u4"
      },
      "source": [
        "Tuning the hyperparameters of our model improved the recall score for predicting popular songs by 1%. We can proceed with trying additional types of models to see if the recall score improves."
      ]
    },
    {
      "cell_type": "code",
      "execution_count": null,
      "metadata": {
        "ExecuteTime": {
          "end_time": "2021-05-31T00:13:35.064242Z",
          "start_time": "2021-05-31T00:13:35.035261Z"
        },
        "id": "Ajvlt4H0o5u4"
      },
      "outputs": [],
      "source": [
        "#appending the recall score to the results dataframe\n",
        "df_results = add_results('Random Forest', df_results)\n",
        "df_results.head()"
      ]
    },
    {
      "cell_type": "markdown",
      "metadata": {
        "id": "MFz_SO9io5u4"
      },
      "source": [
        "## Model #3 - XGBoost"
      ]
    },
    {
      "cell_type": "markdown",
      "metadata": {
        "id": "ajr2zR_Lo5u4"
      },
      "source": [
        "### Initial Model"
      ]
    },
    {
      "cell_type": "code",
      "execution_count": null,
      "metadata": {
        "ExecuteTime": {
          "end_time": "2021-05-31T00:13:52.745391Z",
          "start_time": "2021-05-31T00:13:35.066227Z"
        },
        "id": "wAIhp2Lco5u4"
      },
      "outputs": [],
      "source": [
        "#Fitting XGBoost classifier to training data and evaluating results\n",
        "from xgboost import XGBClassifier\n",
        "\n",
        "clf_xgb = XGBClassifier(random_state=42)\n",
        "clf_xgb.fit(X_train_sm, y_train_sm)\n",
        "y_pred = clf_xgb.predict(X_test)\n",
        "classification(y_test, y_pred, X_test, clf_xgb)"
      ]
    },
    {
      "cell_type": "markdown",
      "metadata": {
        "id": "Htfp08Uoo5u5"
      },
      "source": [
        "The XGBoost model performed 13% better than the baseline model and 4% better than the random forest model in predicting popular songs right out of the box. We can see how it performs on the training data to see whether it is overfitting and try to tune it if it is."
      ]
    },
    {
      "cell_type": "code",
      "execution_count": null,
      "metadata": {
        "ExecuteTime": {
          "end_time": "2021-05-31T00:13:55.402730Z",
          "start_time": "2021-05-31T00:13:52.747384Z"
        },
        "id": "wYMY2rVWo5u5"
      },
      "outputs": [],
      "source": [
        "#Evaluating the model performance for the training data\n",
        "y_pred = clf_xgb.predict(X_train_sm)\n",
        "classification(y_train_sm, y_pred, X_train_sm, clf_xgb)"
      ]
    },
    {
      "cell_type": "markdown",
      "metadata": {
        "id": "2npOFITro5u5"
      },
      "source": [
        "Once again, we see here that our model is overfitting the training data. We can run another gridsearch and tune our model to see if the recall score can be improved."
      ]
    },
    {
      "cell_type": "markdown",
      "metadata": {
        "id": "7fVYqu9Mo5u5"
      },
      "source": [
        "### Hyperparameter Tuning"
      ]
    },
    {
      "cell_type": "code",
      "execution_count": null,
      "metadata": {
        "ExecuteTime": {
          "end_time": "2021-05-31T00:13:55.418726Z",
          "start_time": "2021-05-31T00:13:55.404730Z"
        },
        "id": "MTVpPOgQo5u5"
      },
      "outputs": [],
      "source": [
        "# grid = {\n",
        "#     'learning_rate': [0.01, 0.1, 0.2],\n",
        "#     'max_depth': [10, 20, None]\n",
        "#         }\n",
        "# gridsearch = GridSearchCV(estimator=clf_xgb, param_grid = grid, scoring='recall', n_jobs=-1, verbose=2)\n",
        "\n",
        "# gridsearch.fit(X_train_sm,  y_train_sm)\n",
        "# gridsearch.best_params_\n",
        "# # Results: {'learning_rate': 0.1, 'max_depth': 10}"
      ]
    },
    {
      "cell_type": "code",
      "execution_count": null,
      "metadata": {
        "ExecuteTime": {
          "end_time": "2021-05-31T00:14:23.655123Z",
          "start_time": "2021-05-31T00:13:55.420720Z"
        },
        "id": "fLK4T089o5u5"
      },
      "outputs": [],
      "source": [
        "clf_xgb_tuned = XGBClassifier(learning_rate=0.1, max_depth=10,\n",
        "                              random_state=42)\n",
        "clf_xgb_tuned.fit(X_train_sm, y_train_sm)\n",
        "y_pred = clf_xgb_tuned.predict(X_test)\n",
        "classification(y_test, y_pred, X_test, clf_xgb_tuned)"
      ]
    },
    {
      "cell_type": "markdown",
      "metadata": {
        "id": "GyRFF7Kmo5u5"
      },
      "source": [
        "Tuning our model has led to an increase of performance in our recall score by 1%, so we are performing 14% better compared to our baseline Dummy Classifier model and 5% better than our tuned Random Forest model. Next we will try a logistic regression model."
      ]
    },
    {
      "cell_type": "code",
      "execution_count": null,
      "metadata": {
        "ExecuteTime": {
          "end_time": "2021-05-31T00:14:23.685104Z",
          "start_time": "2021-05-31T00:14:23.657126Z"
        },
        "id": "AbA24_H7o5u6"
      },
      "outputs": [],
      "source": [
        "#appending the recall score to the results dataframe\n",
        "df_results = add_results('XGBoost', df_results)\n",
        "df_results.head()"
      ]
    },
    {
      "cell_type": "markdown",
      "metadata": {
        "id": "7YJ7x8p3o5u6"
      },
      "source": [
        "## Model #4 - LogisticRegressionCV"
      ]
    },
    {
      "cell_type": "markdown",
      "metadata": {
        "id": "XsLaRY2Zo5u6"
      },
      "source": [
        "Since the Logistic Regression models are potentially sensitive to outliers and need scaled data we will need to process our data one more time to remove outliers and scale it."
      ]
    },
    {
      "cell_type": "markdown",
      "metadata": {
        "id": "Cyr_cO6io5u6"
      },
      "source": [
        "### Removing Outliers"
      ]
    },
    {
      "cell_type": "code",
      "execution_count": null,
      "metadata": {
        "ExecuteTime": {
          "end_time": "2021-05-31T00:14:23.701109Z",
          "start_time": "2021-05-31T00:14:23.687103Z"
        },
        "id": "cGFWm299o5u6"
      },
      "outputs": [],
      "source": [
        "#separating out the numerical columns for outlier removal\n",
        "num_cols = ['acousticness', 'danceability', 'duration_ms', 'energy', 'instrumentalness',\n",
        "            'liveness', 'loudness', 'speechiness', 'tempo', 'valence']\n",
        "num_cols"
      ]
    },
    {
      "cell_type": "code",
      "execution_count": null,
      "metadata": {
        "ExecuteTime": {
          "end_time": "2021-05-31T00:14:23.812045Z",
          "start_time": "2021-05-31T00:14:23.703104Z"
        },
        "id": "4tTNAcoto5u6"
      },
      "outputs": [],
      "source": [
        "#Concatenating the training and testing sets together for outlier removal\n",
        "df_train = pd.concat([X_train, y_train], axis=1)\n",
        "df_test = pd.concat([X_test, y_test], axis=1)"
      ]
    },
    {
      "cell_type": "code",
      "execution_count": null,
      "metadata": {
        "ExecuteTime": {
          "end_time": "2021-05-31T00:14:24.407690Z",
          "start_time": "2021-05-31T00:14:23.814039Z"
        },
        "id": "ZN7FokIfo5u6"
      },
      "outputs": [],
      "source": [
        "#finding and removing outliers based on X_train (df_train) to avoid data leakage\n",
        "\n",
        "original_length_train = len(df_train)\n",
        "original_length_test = len(df_test)\n",
        "\n",
        "for col in num_cols:\n",
        "\n",
        "    lower_limit, upper_limit = find_outliers_IQR(df_train[col], return_limits=True)\n",
        "\n",
        "    df_train = df_train[(df_train[col]>lower_limit) & (df_train[col]<upper_limit)]\n",
        "    df_test = df_test[(df_test[col]>lower_limit) & (df_test[col]<upper_limit)]\n",
        "\n",
        "print(f'{original_length_train - len(df_train)} outliers removed from training set')\n",
        "print(f'{original_length_test - len(df_test)} outliers removed from test set')"
      ]
    },
    {
      "cell_type": "code",
      "execution_count": null,
      "metadata": {
        "ExecuteTime": {
          "end_time": "2021-05-31T00:14:24.438687Z",
          "start_time": "2021-05-31T00:14:24.409689Z"
        },
        "id": "ZSbg5I3ko5u6"
      },
      "outputs": [],
      "source": [
        "#Separating out the X and y values for training and test sets\n",
        "\n",
        "y_train = df_train['is_popular']\n",
        "X_train = df_train.drop('is_popular', axis=1)\n",
        "\n",
        "y_test = df_test['is_popular']\n",
        "X_test = df_test.drop('is_popular', axis=1)"
      ]
    },
    {
      "cell_type": "markdown",
      "metadata": {
        "id": "QuUIPmKQo5u7"
      },
      "source": [
        "### Addressing Class Imbalance with SMOTENC"
      ]
    },
    {
      "cell_type": "code",
      "execution_count": null,
      "metadata": {
        "ExecuteTime": {
          "end_time": "2021-05-31T00:14:24.469653Z",
          "start_time": "2021-05-31T00:14:24.440670Z"
        },
        "id": "h4tWME1lo5u7"
      },
      "outputs": [],
      "source": [
        "y_train.value_counts(normalize=True)"
      ]
    },
    {
      "cell_type": "markdown",
      "metadata": {
        "id": "naSMcfmso5u7"
      },
      "source": [
        "Once again our data has a class imbalance issue so we will be using SMOTENC to address this."
      ]
    },
    {
      "cell_type": "code",
      "execution_count": null,
      "metadata": {
        "ExecuteTime": {
          "end_time": "2021-05-31T00:14:24.484642Z",
          "start_time": "2021-05-31T00:14:24.471651Z"
        },
        "id": "UwsRrM7mo5u9"
      },
      "outputs": [],
      "source": [
        "X_train.columns"
      ]
    },
    {
      "cell_type": "code",
      "execution_count": null,
      "metadata": {
        "ExecuteTime": {
          "end_time": "2021-05-31T00:14:24.515623Z",
          "start_time": "2021-05-31T00:14:24.495635Z"
        },
        "id": "xZDJBXFvo5u9"
      },
      "outputs": [],
      "source": [
        "cat_cols = list(range(10,len(X_train.columns)))\n",
        "cat_cols"
      ]
    },
    {
      "cell_type": "code",
      "execution_count": null,
      "metadata": {
        "ExecuteTime": {
          "end_time": "2021-05-31T00:15:25.212826Z",
          "start_time": "2021-05-31T00:14:24.518621Z"
        },
        "id": "BbIek-oho5u9"
      },
      "outputs": [],
      "source": [
        "sm = SMOTENC(categorical_features=cat_cols, random_state=42)\n",
        "\n",
        "X_train_sm, y_train_sm = sm.fit_resample(X_train, y_train)\n",
        "y_train_sm.value_counts(normalize=True)"
      ]
    },
    {
      "cell_type": "markdown",
      "metadata": {
        "id": "WzxmOLK9o5u9"
      },
      "source": [
        "### Scaling the Data"
      ]
    },
    {
      "cell_type": "code",
      "execution_count": null,
      "metadata": {
        "ExecuteTime": {
          "end_time": "2021-05-31T00:15:25.434686Z",
          "start_time": "2021-05-31T00:15:25.214825Z"
        },
        "id": "xgISwGLio5u9"
      },
      "outputs": [],
      "source": [
        "#Using Standard Scaler to scale the smote'd data\n",
        "from sklearn.preprocessing import StandardScaler\n",
        "\n",
        "scaler = StandardScaler()\n",
        "\n",
        "X_train_sm_sc = scaler.fit_transform(X_train_sm)\n",
        "X_test_sc = scaler.transform(X_test)"
      ]
    },
    {
      "cell_type": "code",
      "execution_count": null,
      "metadata": {
        "ExecuteTime": {
          "end_time": "2021-05-31T00:15:46.186778Z",
          "start_time": "2021-05-31T00:15:25.436686Z"
        },
        "id": "q5Kik4TRo5u-"
      },
      "outputs": [],
      "source": [
        "from sklearn.linear_model import LogisticRegressionCV\n",
        "clf_logregcv = LogisticRegressionCV(cv=5, random_state=42)\n",
        "clf_logregcv.fit(X_train_sm_sc,  y_train_sm)\n",
        "y_pred = clf_logregcv.predict(X_test_sc)\n",
        "classification(y_test, y_pred, X_test_sc, clf_logregcv)"
      ]
    },
    {
      "cell_type": "markdown",
      "metadata": {
        "id": "lJGoS-M9o5u-"
      },
      "source": [
        "The logistic regression model has 1% better performance compared to our tuned XGBoost model for predicting popular songs while the recall score for predicting unpopular songs is 4% lower. Once again, we will check to see if the model is overfitting and tune the model if it is."
      ]
    },
    {
      "cell_type": "code",
      "execution_count": null,
      "metadata": {
        "ExecuteTime": {
          "end_time": "2021-05-31T00:15:46.859364Z",
          "start_time": "2021-05-31T00:15:46.188764Z"
        },
        "id": "2Zw5dujFo5u-"
      },
      "outputs": [],
      "source": [
        "#Evaluating the model performance for the training data\n",
        "y_pred = clf_logregcv.predict(X_train_sm_sc)\n",
        "classification(y_train_sm, y_pred, X_train_sm_sc, clf_logregcv)"
      ]
    },
    {
      "cell_type": "markdown",
      "metadata": {
        "id": "dYb55CXwo5u-"
      },
      "source": [
        "Our model is once again overfitting to the training data and performing very well on it but the model's performance drops significantly when we test it with the test data. In order to address this, we can once again perform a grid search and try to tune the model."
      ]
    },
    {
      "cell_type": "markdown",
      "metadata": {
        "id": "ZeAz4ivto5u-"
      },
      "source": [
        "### Hyperparameter Tuning"
      ]
    },
    {
      "cell_type": "code",
      "execution_count": null,
      "metadata": {
        "ExecuteTime": {
          "end_time": "2021-05-31T00:15:46.875337Z",
          "start_time": "2021-05-31T00:15:46.861345Z"
        },
        "id": "khU80KRvo5u-"
      },
      "outputs": [],
      "source": [
        "# clf = LogisticRegressionCV(cv=5)\n",
        "# grid = {'penalty': ['l1','l2'],\n",
        "#         'solver': ['liblinear', 'lbfgs', 'sag', 'saga'],\n",
        "#         'class_weight': ['balanced', None],\n",
        "#         'Cs': [1e12, 10, 1, 0.1]\n",
        "#    }\n",
        "\n",
        "# gridsearch = GridSearchCV(estimator=clf, param_grid = grid, scoring='recall', n_jobs=-1)\n",
        "\n",
        "# gridsearch.fit(X_train_sm_sc,  y_train_sm)\n",
        "# gridsearch.best_params_\n",
        "# # {'Cs': 1, 'class_weight': 'balanced', 'penalty': 'l2', 'solver': 'liblinear'}"
      ]
    },
    {
      "cell_type": "markdown",
      "metadata": {
        "id": "5giP6zH0o5u-"
      },
      "source": [
        "The grid search returned 'l2' as the regularization method which is the Ridge regularization as well as a C value of 1. We will use these parameters on a new model to see if the recall score improves."
      ]
    },
    {
      "cell_type": "code",
      "execution_count": null,
      "metadata": {
        "ExecuteTime": {
          "end_time": "2021-05-31T00:15:50.047360Z",
          "start_time": "2021-05-31T00:15:46.877334Z"
        },
        "id": "P3BQYcjto5u-"
      },
      "outputs": [],
      "source": [
        "clf_logregcv_tuned = LogisticRegressionCV(cv=5, class_weight='balanced', Cs=1,\n",
        "                                          penalty='l2', solver='liblinear',\n",
        "                                          random_state=42)\n",
        "clf_logregcv_tuned.fit(X_train_sm_sc,  y_train_sm)\n",
        "y_pred = clf_logregcv_tuned.predict(X_test_sc)\n",
        "classification(y_test, y_pred, X_test_sc, clf_logregcv_tuned)"
      ]
    },
    {
      "cell_type": "markdown",
      "metadata": {
        "id": "kxs8QXAMo5u_"
      },
      "source": [
        "Unfortunately, the parameters returned by our grid search did not seem to improve the recall score. This can potentially be due to the limitation of the model itself or more likely is the limitations of our dataset. We simply may not have enough information in the data to more accurately predict the popularity of a song."
      ]
    },
    {
      "cell_type": "code",
      "execution_count": null,
      "metadata": {
        "ExecuteTime": {
          "end_time": "2021-05-31T00:15:50.079354Z",
          "start_time": "2021-05-31T00:15:50.049360Z"
        },
        "id": "KFBbfUZ1o5u_"
      },
      "outputs": [],
      "source": [
        "#appending the recall score to the results dataframe\n",
        "df_results = add_results('Logistic Regression', df_results)\n",
        "df_results.head()"
      ]
    },
    {
      "cell_type": "markdown",
      "metadata": {
        "id": "SK0ln1w9o5u_"
      },
      "source": [
        "# iNTERPRET"
      ]
    },
    {
      "cell_type": "markdown",
      "metadata": {
        "id": "LB4AXjqYo5vA"
      },
      "source": [
        "Now that we have 3 tuned models, we can analyze which attributes they used in predicting whether a song was going to be popular or not and interpret these values. For this we will be looking at feature importances of each model and comparing them against each other to see if we can see any common threads between the models."
      ]
    },
    {
      "cell_type": "markdown",
      "metadata": {
        "id": "eET44hrxo5vA"
      },
      "source": [
        "## Parsing Feature Importances to Dataframes"
      ]
    },
    {
      "cell_type": "markdown",
      "metadata": {
        "id": "ggFzdXiNo5vA"
      },
      "source": [
        "### Random Forest"
      ]
    },
    {
      "cell_type": "code",
      "execution_count": null,
      "metadata": {
        "ExecuteTime": {
          "end_time": "2021-05-31T00:15:50.141312Z",
          "start_time": "2021-05-31T00:15:50.081338Z"
        },
        "id": "ki9_2vH1o5vA"
      },
      "outputs": [],
      "source": [
        "#accessing feature importance values of the tuned random forest model and sorting them\n",
        "rf_importances_df = pd.Series(clf_rf_tuned.feature_importances_, index=X_train.columns).sort_values(ascending=False)\n",
        "#parsing the series to a dataframe\n",
        "rf_importances_df = rf_importances_df.reset_index()\n",
        "rf_importances_df.columns = ['RF-Attribute', 'RF-Importance']\n",
        "rf_importances_df"
      ]
    },
    {
      "cell_type": "markdown",
      "metadata": {
        "ExecuteTime": {
          "end_time": "2021-05-23T16:11:38.894310Z",
          "start_time": "2021-05-23T16:11:38.883338Z"
        },
        "id": "jc0EQ0Oto5vA"
      },
      "source": [
        "### XGBoost"
      ]
    },
    {
      "cell_type": "code",
      "execution_count": null,
      "metadata": {
        "ExecuteTime": {
          "end_time": "2021-05-31T00:15:50.630012Z",
          "start_time": "2021-05-31T00:15:50.143302Z"
        },
        "id": "2S6IL6uxo5vA"
      },
      "outputs": [],
      "source": [
        "#parsing feature importances to a series and sorting\n",
        "xgb_importances_df = pd.Series(clf_xgb_tuned.feature_importances_, index=X_train.columns).sort_values(ascending=False)\n",
        "#parsing the series to a dataframe\n",
        "xgb_importances_df = xgb_importances_df.reset_index()\n",
        "xgb_importances_df.columns=['XGB-Attribute', 'XGB-Importance']\n",
        "xgb_importances_df"
      ]
    },
    {
      "cell_type": "markdown",
      "metadata": {
        "id": "Gr7S3OLho5vA"
      },
      "source": [
        "### LogisticRegressionCV"
      ]
    },
    {
      "cell_type": "code",
      "execution_count": null,
      "metadata": {
        "ExecuteTime": {
          "end_time": "2021-05-31T00:15:50.659997Z",
          "start_time": "2021-05-31T00:15:50.631996Z"
        },
        "id": "26jc4R0Io5vB"
      },
      "outputs": [],
      "source": [
        "#accessing feature importance values of the tuned logistic regression model and sorting them\n",
        "logregcv_importances_df = pd.Series(clf_logregcv_tuned.coef_[0], index=X_train.columns).sort_values(ascending=False)\n",
        "#parsing the series to a dataframe\n",
        "logregcv_importances_df = logregcv_importances_df.reset_index()\n",
        "logregcv_importances_df.columns = ['LogReg-Attribute', 'LogReg-Importance']\n",
        "logregcv_importances_df"
      ]
    },
    {
      "cell_type": "code",
      "execution_count": null,
      "metadata": {
        "ExecuteTime": {
          "end_time": "2021-05-31T00:15:50.690978Z",
          "start_time": "2021-05-31T00:15:50.661991Z"
        },
        "id": "BJj6zrI-o5vB"
      },
      "outputs": [],
      "source": [
        "#Concatenating feature importances into a single dataframe\n",
        "importances_df = pd.concat([rf_importances_df, xgb_importances_df, logregcv_importances_df], axis=1)\n",
        "importances_df"
      ]
    },
    {
      "cell_type": "markdown",
      "metadata": {
        "id": "QQRQHgHno5vB"
      },
      "source": [
        "## Feature Importance Comparison"
      ]
    },
    {
      "cell_type": "code",
      "execution_count": null,
      "metadata": {
        "ExecuteTime": {
          "end_time": "2021-05-31T00:15:51.674391Z",
          "start_time": "2021-05-31T00:15:50.692957Z"
        },
        "id": "l3-Mo3Ato5vB"
      },
      "outputs": [],
      "source": [
        "#plotting feature importances for all models for comparison\n",
        "\n",
        "fig, ax = plt.subplots(ncols=3, figsize=(15,5))\n",
        "\n",
        "rf_importances_df = rf_importances_df.sort_values(by='RF-Importance', ascending=True).tail(10)\n",
        "ax[0].barh(rf_importances_df['RF-Attribute'], rf_importances_df['RF-Importance'])\n",
        "ax[0].set_title('Feature Importances: Random Forest')\n",
        "\n",
        "xgb_importances_df = xgb_importances_df.sort_values(by='XGB-Importance', ascending=True).tail(10)\n",
        "ax[1].barh(xgb_importances_df['XGB-Attribute'], xgb_importances_df['XGB-Importance'])\n",
        "ax[1].set_title('Feature Importances: XGBoost')\n",
        "\n",
        "logregcv_importances_df = logregcv_importances_df.sort_values(by='LogReg-Importance', ascending=True).tail(10)\n",
        "ax[2].barh(logregcv_importances_df['LogReg-Attribute'], logregcv_importances_df['LogReg-Importance'])\n",
        "ax[2].set_title('Feature Importances: LogisticRegressionCV')\n",
        "plt.tight_layout()"
      ]
    },
    {
      "cell_type": "markdown",
      "metadata": {
        "id": "z7shfaino5vB"
      },
      "source": [
        "Among the 3 models we built we can see that Genre of a song has the highest effect on the popularity of a song. On all 3 models, a song having Pop as its genre had the most impact on its popularity. This makes sense since Pop songs by nature are considered popular. Among the rest of the features shown above, different attribute scores such as danceability, energy, different genres and acousticness play a major role. Next, we can inspect the full gamut of the feature importances for logistic regression for reference."
      ]
    },
    {
      "cell_type": "code",
      "execution_count": null,
      "metadata": {
        "ExecuteTime": {
          "end_time": "2021-05-31T00:15:53.046511Z",
          "start_time": "2021-05-31T00:15:51.676356Z"
        },
        "id": "tYFX0VFxo5vB"
      },
      "outputs": [],
      "source": [
        "logregcv_importances_df = pd.Series(clf_logregcv_tuned.coef_[0], index=X_train.columns).sort_values(ascending=False)\n",
        "#parsing the series to a dataframe\n",
        "logregcv_importances_df = logregcv_importances_df.reset_index()\n",
        "logregcv_importances_df.columns = ['Attribute', 'Importance']\n",
        "\n",
        "fig, ax = plt.subplots(figsize=(10,15))\n",
        "ax.barh(logregcv_importances_df['Attribute'], logregcv_importances_df['Importance'])"
      ]
    },
    {
      "cell_type": "markdown",
      "metadata": {
        "id": "nEnwHZzJo5vC"
      },
      "source": [
        "We can see here that while certain features like 'Pop', 'Rock' and 'danceability' positively affected the prediction, other features such as 'Ska', 'Anime' and 'key_G' negatively affected it. Next we can dive into our processed dataframe and explore some of these attributes for popular and unpopular songs to come to conclusions."
      ]
    },
    {
      "cell_type": "markdown",
      "metadata": {
        "id": "A2B1d_Q2o5vC"
      },
      "source": [
        "## Data Visualizations"
      ]
    },
    {
      "cell_type": "markdown",
      "metadata": {
        "id": "kHP26TNFo5vC"
      },
      "source": [
        "### Genre"
      ]
    },
    {
      "cell_type": "code",
      "execution_count": null,
      "metadata": {
        "ExecuteTime": {
          "end_time": "2021-05-31T00:15:53.141448Z",
          "start_time": "2021-05-31T00:15:53.048492Z"
        },
        "id": "h9oHrXWPo5vC"
      },
      "outputs": [],
      "source": [
        "#separating popular and unpopular songs to two dfs\n",
        "popular_songs_df = df_ohe[df_ohe['is_popular'] == 1]\n",
        "unpopular_songs_df = df_ohe[df_ohe['is_popular']==0]"
      ]
    },
    {
      "cell_type": "code",
      "execution_count": null,
      "metadata": {
        "ExecuteTime": {
          "end_time": "2021-05-31T00:15:53.172428Z",
          "start_time": "2021-05-31T00:15:53.142432Z"
        },
        "id": "9I0KWimko5vC"
      },
      "outputs": [],
      "source": [
        "#checking for genre occurence counts for popular songs\n",
        "popular_genre_df = popular_songs_df.iloc[:, 10:36].agg('sum').sort_values(ascending=False).reset_index()\n",
        "popular_genre_df.columns = ['genre', 'count']\n",
        "popular_genre_df"
      ]
    },
    {
      "cell_type": "code",
      "execution_count": null,
      "metadata": {
        "ExecuteTime": {
          "end_time": "2021-05-31T00:15:53.390293Z",
          "start_time": "2021-05-31T00:15:53.174413Z"
        },
        "id": "vhzbGPbAo5vC"
      },
      "outputs": [],
      "source": [
        "fig, ax = plt.subplots(figsize=(10, 7))\n",
        "sns.barplot(x=popular_genre_df['genre'].head(5), y=popular_genre_df['count'].head(5),\n",
        "           palette='dark:seagreen_r')\n",
        "\n",
        "ax=plt.gca()\n",
        "ax.set_xlabel('Genre')\n",
        "ax.set_ylabel('Count')\n",
        "ax.set_title('Top 5 Most Frequent Genres Among Popular Songs')\n",
        "plt.tight_layout();\n",
        "# plt.savefig('images/genre-popular.jpg')"
      ]
    },
    {
      "cell_type": "markdown",
      "metadata": {
        "id": "WyEt6enjo5vC"
      },
      "source": [
        "Above bar graph shows us the most frequent genres among popular songs. As we discussed above, most popular songs have Pop as their genre followed by Rap, Rock, Hip-Hop and Dance. These results make sense and are in-line with a survey conducted by IFPI (https://www.statista.com/chart/15763/most-popular-music-genres-worldwide/)."
      ]
    },
    {
      "cell_type": "code",
      "execution_count": null,
      "metadata": {
        "ExecuteTime": {
          "end_time": "2021-05-31T00:15:53.436263Z",
          "start_time": "2021-05-31T00:15:53.392277Z"
        },
        "id": "6pTuFYtJo5vD"
      },
      "outputs": [],
      "source": [
        "#checking for genre occurence counts for unpopular songs\n",
        "unpopular_genre_df = unpopular_songs_df.iloc[:, 10:36].agg('sum').sort_values(ascending=False).reset_index()\n",
        "unpopular_genre_df.columns = ['genre', 'count']\n",
        "unpopular_genre_df"
      ]
    },
    {
      "cell_type": "code",
      "execution_count": null,
      "metadata": {
        "ExecuteTime": {
          "end_time": "2021-05-31T00:15:53.671103Z",
          "start_time": "2021-05-31T00:15:53.438250Z"
        },
        "id": "wJgvuBgGo5vD"
      },
      "outputs": [],
      "source": [
        "fig, ax = plt.subplots(figsize=(10,7))\n",
        "sns.barplot(x=unpopular_genre_df['genre'].head(5), y=unpopular_genre_df['count'].head(5),\n",
        "           palette='dark:#5A9_r')\n",
        "\n",
        "ax=plt.gca()\n",
        "ax.set_xlabel('Genre')\n",
        "ax.set_ylabel('Count')\n",
        "ax.set_title('Top 5 Most Frequent Genres Among Unpopular Songs')\n",
        "plt.tight_layout();\n",
        "# plt.savefig('images/genre-unpopular.jpg')\n",
        "# ax.set_xticklabels(ax.get_xticklabels(), rotation=45,ha='center');"
      ]
    },
    {
      "cell_type": "markdown",
      "metadata": {
        "id": "AkS_pFVFo5vD"
      },
      "source": [
        "The most frequent genres of unpopular songs can be seen above. The results make sense as these genres tend to have a more niche fanbase or as in the case of \"Children's Music\" are listened to infrequently."
      ]
    },
    {
      "cell_type": "code",
      "execution_count": null,
      "metadata": {
        "ExecuteTime": {
          "end_time": "2021-05-31T00:15:53.686095Z",
          "start_time": "2021-05-31T00:15:53.673103Z"
        },
        "id": "2Z1CrYpCo5vD"
      },
      "outputs": [],
      "source": [
        "#displaying percentages for each genre\n",
        "popular_genre_df['count']=popular_genre_df['count']/popular_genre_df['count'].sum()\n",
        "popular_genre_df"
      ]
    },
    {
      "cell_type": "code",
      "execution_count": null,
      "metadata": {
        "ExecuteTime": {
          "end_time": "2021-05-31T00:15:53.717075Z",
          "start_time": "2021-05-31T00:15:53.688092Z"
        },
        "id": "jAcsz1ACo5vD"
      },
      "outputs": [],
      "source": [
        "#displaying percentages for each genre\n",
        "unpopular_genre_df['count']=unpopular_genre_df['count']/unpopular_genre_df['count'].sum()\n",
        "unpopular_genre_df"
      ]
    },
    {
      "cell_type": "markdown",
      "metadata": {
        "id": "45QXFh5eo5vD"
      },
      "source": [
        "### Energy"
      ]
    },
    {
      "cell_type": "code",
      "execution_count": null,
      "metadata": {
        "ExecuteTime": {
          "end_time": "2021-05-31T00:15:53.826007Z",
          "start_time": "2021-05-31T00:15:53.719074Z"
        },
        "scrolled": true,
        "id": "NPtvWvCFo5vD"
      },
      "outputs": [],
      "source": [
        "#removing outliers from energy scores and separating them to Series for popular and unpopular songs\n",
        "popular_energy_clean = popular_songs_df[find_outliers_IQR(popular_songs_df['energy'])==False]\n",
        "print(popular_energy_clean['energy'].describe())\n",
        "\n",
        "unpopular_energy_clean = unpopular_songs_df[find_outliers_IQR(unpopular_songs_df['energy'])==False]\n",
        "print(unpopular_energy_clean['energy'].describe())"
      ]
    },
    {
      "cell_type": "code",
      "execution_count": null,
      "metadata": {
        "ExecuteTime": {
          "end_time": "2021-05-31T00:15:54.220760Z",
          "start_time": "2021-05-31T00:15:53.828006Z"
        },
        "id": "pV5biZGyo5vE"
      },
      "outputs": [],
      "source": [
        "import numpy as np\n",
        "\n",
        "#storing mean energy scores in dict\n",
        "mean_energy = {'popular': popular_energy_clean['energy'].mean(),\n",
        "                     'unpopular': unpopular_energy_clean['energy'].mean()}\n",
        "#visualizing mean scores\n",
        "with sns.axes_style(\"whitegrid\"):\n",
        "    fig, ax = plt.subplots(figsize=(8,5))\n",
        "    ax.barh(y=list(mean_energy.keys()),\n",
        "            width=list(mean_energy.values()),\n",
        "            color=[sns.color_palette('viridis')[3],sns.color_palette('viridis')[4]])\n",
        "    ax.set_xlim(0, 1)\n",
        "    ax.set_xticks(np.arange(0,1.1,0.1))\n",
        "    ax.set_ylabel('Popularity of Songs')\n",
        "    ax.set_xlabel('Mean Energy Score')\n",
        "    ax.set_title('Mean Energy Scores for Popular and Unpopular Songs')\n",
        "    plt.tight_layout()\n",
        "    plt.savefig('images/energy.jpg')"
      ]
    },
    {
      "cell_type": "markdown",
      "metadata": {
        "ExecuteTime": {
          "end_time": "2021-05-23T23:06:44.104480Z",
          "start_time": "2021-05-23T23:06:44.090504Z"
        },
        "id": "Sl9cvXuso5vE"
      },
      "source": [
        "As we can see above, popular songs tended to be more energetic compared to unpopular songs. This makes sense since the most frequent genres we explored tend to also be energetic genres."
      ]
    },
    {
      "cell_type": "markdown",
      "metadata": {
        "id": "63gHOTDjo5vE"
      },
      "source": [
        "### Danceability"
      ]
    },
    {
      "cell_type": "code",
      "execution_count": null,
      "metadata": {
        "ExecuteTime": {
          "end_time": "2021-05-31T00:15:54.235771Z",
          "start_time": "2021-05-31T00:15:54.222779Z"
        },
        "id": "lT69Sso0o5vE"
      },
      "outputs": [],
      "source": [
        "print('Median Danceability Scores')\n",
        "print('-------------------')\n",
        "print(f\"Unpopular Songs: {round(unpopular_songs_df['danceability'].median(),2)}\")\n",
        "print(f\"Popular Songs: {round(popular_songs_df['danceability'].median(),2)}\")"
      ]
    },
    {
      "cell_type": "code",
      "execution_count": null,
      "metadata": {
        "ExecuteTime": {
          "end_time": "2021-05-31T00:15:54.532566Z",
          "start_time": "2021-05-31T00:15:54.237750Z"
        },
        "id": "wRuGl5KBo5vE"
      },
      "outputs": [],
      "source": [
        "sns.histplot(data = popular_songs_df, x='danceability', bins='auto')\n",
        "plt.vlines(x=popular_songs_df['danceability'].median(), ymin=0, ymax=1000, color='red', ls='--')"
      ]
    },
    {
      "cell_type": "code",
      "execution_count": null,
      "metadata": {
        "ExecuteTime": {
          "end_time": "2021-05-31T00:15:54.953349Z",
          "start_time": "2021-05-31T00:15:54.534565Z"
        },
        "id": "zJdALVrIo5vE"
      },
      "outputs": [],
      "source": [
        "sns.histplot(data = unpopular_songs_df, x='danceability', bins='auto')\n",
        "plt.vlines(x=unpopular_songs_df['danceability'].median(), ymin=0, ymax=4000, color='red', ls='--')"
      ]
    },
    {
      "cell_type": "code",
      "execution_count": null,
      "metadata": {
        "ExecuteTime": {
          "end_time": "2021-05-31T00:15:55.061237Z",
          "start_time": "2021-05-31T00:15:54.955303Z"
        },
        "id": "Ii5zfVv8o5vE"
      },
      "outputs": [],
      "source": [
        "#removing outliers from danceability scores and separating them to Series for popular and unpopular songs\n",
        "popular_dance_clean = popular_songs_df[find_outliers_IQR(popular_songs_df['danceability'])==False]\n",
        "print(popular_dance_clean['danceability'].describe())\n",
        "\n",
        "unpopular_dance_clean = unpopular_songs_df[find_outliers_IQR(unpopular_songs_df['danceability'])==False]\n",
        "print(unpopular_dance_clean['danceability'].describe())"
      ]
    },
    {
      "cell_type": "code",
      "execution_count": null,
      "metadata": {
        "ExecuteTime": {
          "end_time": "2021-05-31T00:15:55.511956Z",
          "start_time": "2021-05-31T00:15:55.063236Z"
        },
        "id": "8-8-JVD9o5vF"
      },
      "outputs": [],
      "source": [
        "#storing mean danceability scores in dict\n",
        "mean_danceability = {'popular': popular_dance_clean['danceability'].mean(),\n",
        "                     'unpopular': unpopular_dance_clean['danceability'].mean()}\n",
        "\n",
        "#visualizing mean scores\n",
        "with sns.axes_style(\"whitegrid\"):\n",
        "    fig, ax = plt.subplots(figsize=(8,5))\n",
        "    ax.barh(y=list(mean_danceability.keys()),\n",
        "            width=list(mean_danceability.values()),\n",
        "            color=[sns.color_palette('viridis')[0],sns.color_palette('viridis')[1]])\n",
        "    ax.set_xlim(0, 1)\n",
        "    ax.set_xticks(np.arange(0,1.1,0.1))\n",
        "    ax.set_ylabel('Popularity of Songs')\n",
        "    ax.set_xlabel('Mean Danceability Score')\n",
        "    ax.set_title('Mean Danceability Scores for Popular and Unpopular Songs')\n",
        "    plt.tight_layout();\n",
        "    plt.savefig('images/danceability.jpg')"
      ]
    },
    {
      "cell_type": "markdown",
      "metadata": {
        "id": "ydu5voP1o5vF"
      },
      "source": [
        "Above, it is clear that the popular songs tended to have a higher danceability score compared to unpopular songs. This follows the same trend as the energy scores where majority of the popular songs are high energy and danceable (refer to Appendix A for definition of \"danceability\": high tempo, high beat strength etc.)"
      ]
    },
    {
      "cell_type": "markdown",
      "metadata": {
        "id": "xL2KIHiko5vF"
      },
      "source": [
        "### Acousticness"
      ]
    },
    {
      "cell_type": "code",
      "execution_count": null,
      "metadata": {
        "ExecuteTime": {
          "end_time": "2021-05-31T00:15:55.621908Z",
          "start_time": "2021-05-31T00:15:55.513957Z"
        },
        "id": "84ceRkWMo5vF"
      },
      "outputs": [],
      "source": [
        "#removing outliers from danceability scores and separating them to Series for popular and unpopular songs\n",
        "popular_acoustic_clean = popular_songs_df[find_outliers_IQR(popular_songs_df['acousticness'])==False]\n",
        "print(popular_acoustic_clean['acousticness'].describe())\n",
        "\n",
        "unpopular_acoustic_clean = unpopular_songs_df[find_outliers_IQR(unpopular_songs_df['acousticness'])==False]\n",
        "print(unpopular_acoustic_clean['acousticness'].describe())"
      ]
    },
    {
      "cell_type": "code",
      "execution_count": null,
      "metadata": {
        "ExecuteTime": {
          "end_time": "2021-05-31T00:15:55.871777Z",
          "start_time": "2021-05-31T00:15:55.623887Z"
        },
        "id": "KR7MCwDco5vF"
      },
      "outputs": [],
      "source": [
        "sns.histplot(data = popular_acoustic_clean, x='acousticness', bins='auto')\n",
        "plt.vlines(x=popular_acoustic_clean['acousticness'].mean(), ymin=0, ymax=5000, color='red', ls='--')"
      ]
    },
    {
      "cell_type": "code",
      "execution_count": null,
      "metadata": {
        "ExecuteTime": {
          "end_time": "2021-05-31T00:15:56.219531Z",
          "start_time": "2021-05-31T00:15:55.873731Z"
        },
        "scrolled": true,
        "id": "6IceTW8qo5vF"
      },
      "outputs": [],
      "source": [
        "sns.histplot(data = unpopular_songs_df, x='acousticness', bins='auto')\n",
        "plt.vlines(x=unpopular_songs_df['acousticness'].median(), ymin=0, ymax=30000, color='red', ls='--')"
      ]
    },
    {
      "cell_type": "code",
      "execution_count": null,
      "metadata": {
        "ExecuteTime": {
          "end_time": "2021-05-31T00:15:56.661250Z",
          "start_time": "2021-05-31T00:15:56.221517Z"
        },
        "id": "WXmDzzXYo5vF"
      },
      "outputs": [],
      "source": [
        "#storing mean acousticness scores in dict\n",
        "mean_acousticness = {'popular': popular_acoustic_clean['acousticness'].mean(),\n",
        "                     'unpopular': unpopular_acoustic_clean['acousticness'].mean()}\n",
        "\n",
        "#visualizing mean scores\n",
        "with sns.axes_style(\"whitegrid\"):\n",
        "    fig, ax = plt.subplots(figsize=(8,5))\n",
        "    ax.barh(y=list(mean_acousticness.keys()),\n",
        "            width=list(mean_acousticness.values()),\n",
        "            color=[sns.color_palette('viridis')[2],sns.color_palette('viridis')[3]])\n",
        "    ax.set_xlim(0, 1)\n",
        "    ax.set_xticks(np.arange(0,1.1,0.1))\n",
        "    ax.set_ylabel('Popularity of Songs')\n",
        "    ax.set_xlabel('Mean Acousticness Score')\n",
        "    ax.set_title('Mean Acousticness Scores for Popular and Unpopular Songs')\n",
        "    plt.tight_layout();\n",
        "    plt.savefig('images/acousticness.jpg')"
      ]
    },
    {
      "cell_type": "markdown",
      "metadata": {
        "id": "y2JVhYGjo5vG"
      },
      "source": [
        "Similar to the energy and danceability scores we see that the popular songs tended to have a lower acousticness score. Since acoustic songs are usually lower energy and rarely danceable this follows the same trend we've been observing."
      ]
    },
    {
      "cell_type": "markdown",
      "metadata": {
        "id": "CDcbH9epo5vG"
      },
      "source": [
        "# CONCLUSIONS & RECOMMENDATIONS"
      ]
    },
    {
      "cell_type": "markdown",
      "metadata": {
        "id": "8ItIoZAKo5vG"
      },
      "source": [
        "## Best Model Results"
      ]
    },
    {
      "cell_type": "code",
      "execution_count": null,
      "metadata": {
        "ExecuteTime": {
          "end_time": "2021-05-31T00:23:48.032947Z",
          "start_time": "2021-05-31T00:23:48.016957Z"
        },
        "id": "_lb-mxhoo5vG"
      },
      "outputs": [],
      "source": [
        "df_results.sort_values(by='Recall Score', ascending=False)"
      ]
    },
    {
      "cell_type": "markdown",
      "metadata": {
        "id": "m_9frYRco5vG"
      },
      "source": [
        "Out of the 3 models, the Logistic Regression model was the best one in identifying popular songs. It had a 66% recall score for identifying popular songs compared to 51% by the baseline Dummy Classifier model. The closest rival was the XGBoost model at 65%. Even though XGBoost fell short in this regard, we consider the XGBoost as the best overall model since it had 4% higher recall score in identifying unpopular songs compared to the Logistic Regression model. Since this project was focused on identifying popular songs, Logistic Regression wins."
      ]
    },
    {
      "cell_type": "markdown",
      "metadata": {
        "id": "ZeFaIP2Ko5vG"
      },
      "source": [
        "## Takeaways"
      ]
    },
    {
      "cell_type": "markdown",
      "metadata": {
        "id": "FzHsV9vgo5vG"
      },
      "source": [
        "In a competitive environment like the music streaming market, it is vital to retain current subscribers and add new subscribers over time. By accurately predicting which song will be popular next, companies like Spotify can leverage this information to create better playlists and find and sign exclusivity deals with established and up-and-coming artists more easily.  To sum up, our analysis of approximately 176,000 songs from 2019 showed the following:\n",
        "\n",
        "- Popular songs tend to have Pop, Rap, Rock, Hip-Hop and Dance as their genres.\n",
        "- More niche genres such as Children's Music, Comedy, Soundtracks, Classical and Jazz tend to be unpopular.\n",
        "- Generally, popular songs are higher energy, danceable, and therefore less acoustic."
      ]
    },
    {
      "cell_type": "markdown",
      "metadata": {
        "id": "Cj-hflwso5vH"
      },
      "source": [
        "## Recommendations"
      ]
    },
    {
      "cell_type": "markdown",
      "metadata": {
        "id": "VkpJGE7_o5vH"
      },
      "source": [
        "Our recommendations to Spotify for leveraging this information would be the following:\n",
        "\n",
        "- By identifying the next popular songs, Spotify can reach out to these artists and sign exclusivity deals with them to make their soon-to-be popular music available only on Spotify's platform. This would also help in identifying up-and-coming artists and may provide additional opportunities in the future.\n",
        "\n",
        "- Furthermore, Spotify can work with these artists on additional exclusive content such as song commentary or behind the scenes recordings.\n",
        "\n",
        "- Spotify can also curate even better playlists for their current subscribers by finding \"fresh hits\" ahead of the competition and use this to market the platform to new subscribers.\n",
        "\n",
        "We think that by utilizing our model and the insights we've highlighted, Spotify will stay competitive in the music streaming market for years to come."
      ]
    }
  ],
  "metadata": {
    "kernelspec": {
      "display_name": "learn-env",
      "language": "python",
      "name": "learn-env"
    },
    "language_info": {
      "codemirror_mode": {
        "name": "ipython",
        "version": 3
      },
      "file_extension": ".py",
      "mimetype": "text/x-python",
      "name": "python",
      "nbconvert_exporter": "python",
      "pygments_lexer": "ipython3",
      "version": "3.8.5"
    },
    "toc": {
      "base_numbering": 1,
      "nav_menu": {},
      "number_sections": false,
      "sideBar": true,
      "skip_h1_title": false,
      "title_cell": "Table of Contents",
      "title_sidebar": "Contents",
      "toc_cell": false,
      "toc_position": {
        "height": "calc(100% - 180px)",
        "left": "10px",
        "top": "150px",
        "width": "384px"
      },
      "toc_section_display": true,
      "toc_window_display": true
    },
    "varInspector": {
      "cols": {
        "lenName": 16,
        "lenType": 16,
        "lenVar": 40
      },
      "kernels_config": {
        "python": {
          "delete_cmd_postfix": "",
          "delete_cmd_prefix": "del ",
          "library": "var_list.py",
          "varRefreshCmd": "print(var_dic_list())"
        },
        "r": {
          "delete_cmd_postfix": ") ",
          "delete_cmd_prefix": "rm(",
          "library": "var_list.r",
          "varRefreshCmd": "cat(var_dic_list()) "
        }
      },
      "types_to_exclude": [
        "module",
        "function",
        "builtin_function_or_method",
        "instance",
        "_Feature"
      ],
      "window_display": false
    },
    "colab": {
      "provenance": []
    }
  },
  "nbformat": 4,
  "nbformat_minor": 0
}