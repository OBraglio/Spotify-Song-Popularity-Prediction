{
  "nbformat": 4,
  "nbformat_minor": 0,
  "metadata": {
    "kernelspec": {
      "display_name": "learn-env",
      "language": "python",
      "name": "learn-env"
    },
    "language_info": {
      "codemirror_mode": {
        "name": "ipython",
        "version": 3
      },
      "file_extension": ".py",
      "mimetype": "text/x-python",
      "name": "python",
      "nbconvert_exporter": "python",
      "pygments_lexer": "ipython3",
      "version": "3.8.5"
    },
    "toc": {
      "base_numbering": 1,
      "nav_menu": {},
      "number_sections": false,
      "sideBar": true,
      "skip_h1_title": false,
      "title_cell": "Table of Contents",
      "title_sidebar": "Contents",
      "toc_cell": false,
      "toc_position": {
        "height": "calc(100% - 180px)",
        "left": "10px",
        "top": "150px",
        "width": "384px"
      },
      "toc_section_display": true,
      "toc_window_display": true
    },
    "varInspector": {
      "cols": {
        "lenName": 16,
        "lenType": 16,
        "lenVar": 40
      },
      "kernels_config": {
        "python": {
          "delete_cmd_postfix": "",
          "delete_cmd_prefix": "del ",
          "library": "var_list.py",
          "varRefreshCmd": "print(var_dic_list())"
        },
        "r": {
          "delete_cmd_postfix": ") ",
          "delete_cmd_prefix": "rm(",
          "library": "var_list.r",
          "varRefreshCmd": "cat(var_dic_list()) "
        }
      },
      "types_to_exclude": [
        "module",
        "function",
        "builtin_function_or_method",
        "instance",
        "_Feature"
      ],
      "window_display": false
    },
    "colab": {
      "name": "index_OSEMN_plus_mvp.ipynb",
      "provenance": [],
      "toc_visible": true,
      "include_colab_link": true
    }
  },
  "cells": [
    {
      "cell_type": "markdown",
      "metadata": {
        "id": "view-in-github",
        "colab_type": "text"
      },
      "source": [
        "<a href=\"https://colab.research.google.com/github/ebtezcan/dsc-phase-3-project/blob/master/index_OSEMN_colab.ipynb\" target=\"_parent\"><img src=\"https://colab.research.google.com/assets/colab-badge.svg\" alt=\"Open In Colab\"/></a>"
      ]
    },
    {
      "cell_type": "markdown",
      "metadata": {
        "id": "kRvJIdy5LMet"
      },
      "source": [
        "## OVERVIEW OF OSEMiN"
      ]
    },
    {
      "cell_type": "markdown",
      "metadata": {
        "id": "HnQGx9NbLMex"
      },
      "source": [
        "<img src='https://raw.githubusercontent.com/jirvingphd/fsds_100719_cohort_notes/master/images/OSEMN.png' width=800>\n",
        "\n",
        "<center><a href=\"https://www.kdnuggets.com/2018/02/data-science-command-line-book-exploring-data.html\"> \n",
        "    </a></center>\n",
        "\n",
        "\n",
        "> <font size=2em>The Data Science Process we'll be using during this section--OSEMiN (pronounced \"OH-sum\", rhymes with \"possum\").  This is the most straightforward of the Data Science Processes discussed so far.  **Note that during this process, just like the others, the stages often blur together.***  It is completely acceptable (and ***often a best practice!) to float back and forth** between stages as you learn new things about your problem, dataset, requirements, etc.  \n",
        "It's quite common to get to the modeling step and realize that you need to scrub your data a bit more or engineer a different feature and jump back to the \"Scrub\" stage, or go all the way back to the \"Obtain\" stage when you realize your current data isn't sufficient to solve this problem. \n",
        "As with any of these frameworks, *OSEMiN is meant to be treated as guidelines, not law. \n",
        "</font>\n",
        "\n",
        "\n",
        "### OSEMN DETAILS\n",
        "\n",
        "**OBTAIN**\n",
        "\n",
        "- This step involves understanding stakeholder requirements, gathering information on the problem, and finally sourcing data that we think will be necessary for solving this problem. \n",
        "\n",
        "**SCRUB**\n",
        "\n",
        "- During this stage, we'll focus on preprocessing our data.  Important steps such as identifying and removing null values, dealing with outliers, normalizing data, and feature engineering/feature selection are handled around this stage.  The line with this stage really blurs with the _Explore_ stage, as it is common to only realize that certain columns require cleaning or preprocessing as a result of the visualzations and explorations done during Step 3.  \n",
        "\n",
        "- Note that although technically, categorical data should be one-hot encoded during this step, in practice, it's usually done after data exploration.  This is because it is much less time-consuming to visualize and explore a few columns containing categorical data than it is to explore many different dummy columns that have been one-hot encoded. \n",
        "\n",
        "**EXPLORE**\n",
        "\n",
        "- This step focuses on getting to know the dataset you're working with. As mentioned above, this step tends to blend with the _Scrub_ step mentioned above.  During this step, you'll create visualizations to really get a feel for your dataset.  You'll focus on things such as understanding the distribution of different columns, checking for multicollinearity, and other tasks liek that.  If your project is a classification task, you may check the balance of the different classes in your dataset.  If your problem is a regression task, you may check that the dataset meets the assumptions necessary for a regression task.  \n",
        "\n",
        "- At the end of this step, you should have a dataset ready for modeling that you've thoroughly explored and are extremely familiar with.  \n",
        "\n",
        "**MODEL**\n",
        "\n",
        "- This step, as with the last two frameworks, is also pretty self-explanatory. It consists of building and tuning models using all the tools you have in your data science toolbox.  In practice, this often means defining a threshold for success, selecting machine learning algorithms to test on the project, and tuning the ones that show promise to try and increase your results.  As with the other stages, it is both common and accepted to realize something, jump back to a previous stage like _Scrub_ or _Explore_, and make some changes to see how it affects the model.  \n",
        "\n",
        "**iNTERPRET**\n",
        "\n",
        "- During this step, you'll interpret the results of your model(s), and communicate results to stakeholders.  As with the other frameworks, communication is incredibily important! During this stage, you may come to realize that further investigation is needed, or more data.  That's totally fine--figure out what's needed, go get it, and start the process over! If your results are satisfactory to all stakeholders involved, you may also go from this stage right into productionizing your model and automating processes necessary to support it.  \n",
        "\n",
        "\n",
        "\n"
      ]
    },
    {
      "cell_type": "markdown",
      "metadata": {
        "id": "UJcRZ2mmLMez"
      },
      "source": [
        "## PROCESS CHECKLIST\n"
      ]
    },
    {
      "cell_type": "markdown",
      "metadata": {
        "id": "YGwha34nLMez"
      },
      "source": [
        "> Keep in mind that it is normal to jump between the OSEMN phases and some of them will blend together, like SCRUB and EXPLORE."
      ]
    },
    {
      "cell_type": "markdown",
      "metadata": {
        "id": "3A2l6Vn0LMe0"
      },
      "source": [
        "1. **[OBTAIN](#OBTAIN)**\n",
        "    - Import data, inspect, check for datatypes to convert and null values\n",
        "    - Display header and info.\n",
        "    - Drop any unneeded columns, if known (`df.drop(['col1','col2'],axis=1,inplace=True`)\n",
        "    <br><br>\n",
        "\n",
        "\n",
        "2. **[SCRUB](#SCRUB)**\n",
        "    - Recast data types, identify outliers, check for multicollinearity, normalize data**\n",
        "    - Check and cast data types\n",
        "        - [ ] Check for #'s that are store as objects (`df.info()`,`df.describe()`)\n",
        "            - when converting to #'s, look for odd values (like many 0's), or strings that can't be converted.\n",
        "            - Decide how to deal weird/null values (`df.unique()`, `df.isna().sum()`)\n",
        "            - `df.fillna(subset=['col_with_nulls'],'fill_value')`, `df.replace()`\n",
        "        - [ ] Check for categorical variables stored as integers.\n",
        "            - May be easier to tell when you make a scatter plotm or `pd.plotting.scatter_matrix()`\n",
        "            \n",
        "    - [ ] Check for missing values  (df.isna().sum())\n",
        "        - Can drop rows or colums\n",
        "        - For missing numeric data with median or bin/convert to categorical\n",
        "        - For missing categorical data: make NaN own category OR replace with most common category\n",
        "    - [ ] Check for multicollinearity\n",
        "        - Use seaborn to make correlation matrix plot \n",
        "        - Good rule of thumb is anything over 0.75 corr is high, remove the variable that has the most correl with the largest # of variables\n",
        "    - [ ] Normalize data (may want to do after some exploring)\n",
        "        - Most popular is Z-scoring (but won't fix skew) \n",
        "        - Can log-transform to fix skewed data\n",
        "    \n",
        "    \n",
        "3. **[EXPLORE](#EXPLORE)**\n",
        "    - [ ] Check distributions, outliers, etc**\n",
        "    - [ ] Check scales, ranges (df.describe())\n",
        "    - [ ] Check histograms to get an idea of distributions (df.hist()) and data transformations to perform.\n",
        "        - Can also do kernel density estimates\n",
        "    - [ ] Use scatter plots to check for linearity and possible categorical variables (`df.plot(\"x\",\"y\")`)\n",
        "        - categoricals will look like vertical lines\n",
        "    - [ ] Use `pd.plotting.scatter_matrix(df)` to visualize possible relationships\n",
        "    - [ ] Check for linearity.\n",
        "   \n",
        "   \n",
        "4. **[MODEL](#MODEL)**\n",
        "\n",
        "    - **Fit an initial model:** \n",
        "        - Run an initial model and get results\n",
        "\n",
        "    - **Holdout validation / Train/test split**\n",
        "        - use sklearn `train_test_split`\n",
        "    \n",
        "    \n",
        "5. **[iNTERPRET](#iNTERPRET)**\n",
        "    - **Assessing the model:**\n",
        "        - Assess parameters (slope,intercept)\n",
        "        - Check if the model explains the variation in the data (RMSE, F, R_square)\n",
        "        - *Are the coeffs, slopes, intercepts in appropriate units?*\n",
        "        - *Whats the impact of collinearity? Can we ignore?*\n",
        "        <br><br>\n",
        "    - **Revise the fitted model**\n",
        "        - Multicollinearity is big issue for lin regression and cannot fully remove it\n",
        "        - Use the predictive ability of model to test it (like R2 and RMSE)\n",
        "        - Check for missed non-linearity\n",
        "        \n",
        "       \n",
        "6. **Interpret final model and draw >=3 conclusions and recommendations from dataset**"
      ]
    },
    {
      "cell_type": "markdown",
      "metadata": {
        "ExecuteTime": {
          "end_time": "2020-01-29T18:00:23.504059Z",
          "start_time": "2020-01-29T18:00:23.498461Z"
        },
        "id": "vktNHJE5LMe1"
      },
      "source": [
        "<div style=\"display:block;border-bottom:solid red 3px;padding:1.4em;color:red;font-size:30pt;display:inline-block;line-height:1.5em;\">\n",
        "DELETE THIS CELL AND EVERYTHING ABOVE FROM YOUR FINAL NOTEBOOK\n",
        "</div>"
      ]
    },
    {
      "cell_type": "markdown",
      "metadata": {
        "id": "CUOLSH9ULMe1"
      },
      "source": [
        "# Final Project Submission"
      ]
    },
    {
      "cell_type": "markdown",
      "metadata": {
        "id": "55uMSpytLMe2"
      },
      "source": [
        "Please fill out:\n",
        "* Student name: \n",
        "* Student pace: self paced / part time / full time:\n",
        "* Scheduled project review date/time: \n",
        "* Instructor name: \n",
        "* Blog post URL:\n",
        "* Video of 5-min Non-Technical Presentation:"
      ]
    },
    {
      "cell_type": "markdown",
      "metadata": {
        "id": "l69XfnLVLMe2"
      },
      "source": [
        "## TABLE OF CONTENTS "
      ]
    },
    {
      "cell_type": "markdown",
      "metadata": {
        "id": "zs_1m_TXLMe3"
      },
      "source": [
        "*Click to jump to matching Markdown Header.*<br><br>\n",
        " \n",
        "- **[Introduction](#INTRODUCTION)<br>**\n",
        "- **[OBTAIN](#OBTAIN)**<br>\n",
        "- **[SCRUB](#SCRUB)**<br>\n",
        "- **[EXPLORE](#EXPLORE)**<br>\n",
        "- **[MODEL](#MODEL)**<br>\n",
        "- **[iNTERPRET](#iNTERPRET)**<br>\n",
        "- **[Conclusions/Recommendations](#CONCLUSIONS-&-RECOMMENDATIONS)<br>**\n",
        "___"
      ]
    },
    {
      "cell_type": "markdown",
      "metadata": {
        "id": "-t0NUl6QLMe3"
      },
      "source": [
        "# INTRODUCTION"
      ]
    },
    {
      "cell_type": "markdown",
      "metadata": {
        "id": "csW8tnPoLMe3"
      },
      "source": [
        "> Explain the point of your project and what question you are trying to answer with your modeling.\n",
        "\n",
        "## Business Problem\n",
        "\n",
        "Summary of the business problem you are trying to solve, and the data questions that you plan to answer to solve them.\n",
        "\n",
        "***\n",
        "Questions to consider:\n",
        "* What are the business's pain points related to this project?\n",
        "* How did you pick the data analysis question(s) that you did?\n",
        "* Why are these questions important from a business perspective?\n",
        "***\n",
        "\n"
      ]
    },
    {
      "cell_type": "markdown",
      "metadata": {
        "id": "1VEyYaVxLMe4"
      },
      "source": [
        "# OBTAIN"
      ]
    },
    {
      "cell_type": "markdown",
      "metadata": {
        "id": "UyBeFXJPLMe4"
      },
      "source": [
        "## Data Understanding\n",
        "\n",
        "Describe the data being used for this project.\n",
        "***\n",
        "Questions to consider:\n",
        "* Where did the data come from, and how do they relate to the data analysis questions?\n",
        "* What do the data represent? Who is in the sample and what variables are included?\n",
        "* What is the target variable?\n",
        "* What are the properties of the variables you intend to use?\n",
        "***\n"
      ]
    },
    {
      "cell_type": "code",
      "metadata": {
        "ExecuteTime": {
          "end_time": "2021-05-21T16:44:08.448613Z",
          "start_time": "2021-05-21T16:44:08.052278Z"
        },
        "id": "W47zTuMrLMe5"
      },
      "source": [
        "import pandas as pd"
      ],
      "execution_count": 9,
      "outputs": []
    },
    {
      "cell_type": "code",
      "metadata": {
        "ExecuteTime": {
          "end_time": "2021-05-21T16:44:09.163019Z",
          "start_time": "2021-05-21T16:44:08.450612Z"
        },
        "colab": {
          "base_uri": "https://localhost:8080/",
          "height": 411
        },
        "id": "ypsGOzK8LMe5",
        "outputId": "be916290-470c-40fb-af55-58e21be39cea"
      },
      "source": [
        "#import data into a dataframe\n",
        "df = pd.read_csv('https://raw.githubusercontent.com/ebtezcan/dsc-phase-3-project/master/data/SpotifyFeatures.csv')\n",
        "df.head()"
      ],
      "execution_count": 10,
      "outputs": [
        {
          "output_type": "execute_result",
          "data": {
            "text/html": [
              "<div>\n",
              "<style scoped>\n",
              "    .dataframe tbody tr th:only-of-type {\n",
              "        vertical-align: middle;\n",
              "    }\n",
              "\n",
              "    .dataframe tbody tr th {\n",
              "        vertical-align: top;\n",
              "    }\n",
              "\n",
              "    .dataframe thead th {\n",
              "        text-align: right;\n",
              "    }\n",
              "</style>\n",
              "<table border=\"1\" class=\"dataframe\">\n",
              "  <thead>\n",
              "    <tr style=\"text-align: right;\">\n",
              "      <th></th>\n",
              "      <th>genre</th>\n",
              "      <th>artist_name</th>\n",
              "      <th>track_name</th>\n",
              "      <th>track_id</th>\n",
              "      <th>popularity</th>\n",
              "      <th>acousticness</th>\n",
              "      <th>danceability</th>\n",
              "      <th>duration_ms</th>\n",
              "      <th>energy</th>\n",
              "      <th>instrumentalness</th>\n",
              "      <th>key</th>\n",
              "      <th>liveness</th>\n",
              "      <th>loudness</th>\n",
              "      <th>mode</th>\n",
              "      <th>speechiness</th>\n",
              "      <th>tempo</th>\n",
              "      <th>time_signature</th>\n",
              "      <th>valence</th>\n",
              "    </tr>\n",
              "  </thead>\n",
              "  <tbody>\n",
              "    <tr>\n",
              "      <th>0</th>\n",
              "      <td>Movie</td>\n",
              "      <td>Henri Salvador</td>\n",
              "      <td>C'est beau de faire un Show</td>\n",
              "      <td>0BRjO6ga9RKCKjfDqeFgWV</td>\n",
              "      <td>0</td>\n",
              "      <td>0.611</td>\n",
              "      <td>0.389</td>\n",
              "      <td>99373</td>\n",
              "      <td>0.910</td>\n",
              "      <td>0.000</td>\n",
              "      <td>C#</td>\n",
              "      <td>0.3460</td>\n",
              "      <td>-1.828</td>\n",
              "      <td>Major</td>\n",
              "      <td>0.0525</td>\n",
              "      <td>166.969</td>\n",
              "      <td>4/4</td>\n",
              "      <td>0.814</td>\n",
              "    </tr>\n",
              "    <tr>\n",
              "      <th>1</th>\n",
              "      <td>Movie</td>\n",
              "      <td>Martin &amp; les fées</td>\n",
              "      <td>Perdu d'avance (par Gad Elmaleh)</td>\n",
              "      <td>0BjC1NfoEOOusryehmNudP</td>\n",
              "      <td>1</td>\n",
              "      <td>0.246</td>\n",
              "      <td>0.590</td>\n",
              "      <td>137373</td>\n",
              "      <td>0.737</td>\n",
              "      <td>0.000</td>\n",
              "      <td>F#</td>\n",
              "      <td>0.1510</td>\n",
              "      <td>-5.559</td>\n",
              "      <td>Minor</td>\n",
              "      <td>0.0868</td>\n",
              "      <td>174.003</td>\n",
              "      <td>4/4</td>\n",
              "      <td>0.816</td>\n",
              "    </tr>\n",
              "    <tr>\n",
              "      <th>2</th>\n",
              "      <td>Movie</td>\n",
              "      <td>Joseph Williams</td>\n",
              "      <td>Don't Let Me Be Lonely Tonight</td>\n",
              "      <td>0CoSDzoNIKCRs124s9uTVy</td>\n",
              "      <td>3</td>\n",
              "      <td>0.952</td>\n",
              "      <td>0.663</td>\n",
              "      <td>170267</td>\n",
              "      <td>0.131</td>\n",
              "      <td>0.000</td>\n",
              "      <td>C</td>\n",
              "      <td>0.1030</td>\n",
              "      <td>-13.879</td>\n",
              "      <td>Minor</td>\n",
              "      <td>0.0362</td>\n",
              "      <td>99.488</td>\n",
              "      <td>5/4</td>\n",
              "      <td>0.368</td>\n",
              "    </tr>\n",
              "    <tr>\n",
              "      <th>3</th>\n",
              "      <td>Movie</td>\n",
              "      <td>Henri Salvador</td>\n",
              "      <td>Dis-moi Monsieur Gordon Cooper</td>\n",
              "      <td>0Gc6TVm52BwZD07Ki6tIvf</td>\n",
              "      <td>0</td>\n",
              "      <td>0.703</td>\n",
              "      <td>0.240</td>\n",
              "      <td>152427</td>\n",
              "      <td>0.326</td>\n",
              "      <td>0.000</td>\n",
              "      <td>C#</td>\n",
              "      <td>0.0985</td>\n",
              "      <td>-12.178</td>\n",
              "      <td>Major</td>\n",
              "      <td>0.0395</td>\n",
              "      <td>171.758</td>\n",
              "      <td>4/4</td>\n",
              "      <td>0.227</td>\n",
              "    </tr>\n",
              "    <tr>\n",
              "      <th>4</th>\n",
              "      <td>Movie</td>\n",
              "      <td>Fabien Nataf</td>\n",
              "      <td>Ouverture</td>\n",
              "      <td>0IuslXpMROHdEPvSl1fTQK</td>\n",
              "      <td>4</td>\n",
              "      <td>0.950</td>\n",
              "      <td>0.331</td>\n",
              "      <td>82625</td>\n",
              "      <td>0.225</td>\n",
              "      <td>0.123</td>\n",
              "      <td>F</td>\n",
              "      <td>0.2020</td>\n",
              "      <td>-21.150</td>\n",
              "      <td>Major</td>\n",
              "      <td>0.0456</td>\n",
              "      <td>140.576</td>\n",
              "      <td>4/4</td>\n",
              "      <td>0.390</td>\n",
              "    </tr>\n",
              "  </tbody>\n",
              "</table>\n",
              "</div>"
            ],
            "text/plain": [
              "   genre        artist_name  ... time_signature valence\n",
              "0  Movie     Henri Salvador  ...            4/4   0.814\n",
              "1  Movie  Martin & les fées  ...            4/4   0.816\n",
              "2  Movie    Joseph Williams  ...            5/4   0.368\n",
              "3  Movie     Henri Salvador  ...            4/4   0.227\n",
              "4  Movie       Fabien Nataf  ...            4/4   0.390\n",
              "\n",
              "[5 rows x 18 columns]"
            ]
          },
          "metadata": {
            "tags": []
          },
          "execution_count": 10
        }
      ]
    },
    {
      "cell_type": "code",
      "metadata": {
        "ExecuteTime": {
          "end_time": "2021-05-21T16:44:09.350388Z",
          "start_time": "2021-05-21T16:44:09.165035Z"
        },
        "colab": {
          "base_uri": "https://localhost:8080/",
          "height": 297
        },
        "id": "LtDyUS58LMe7",
        "outputId": "c8e4f415-d065-48f3-8d1e-c08bcca85c3e"
      },
      "source": [
        "df.describe()"
      ],
      "execution_count": 11,
      "outputs": [
        {
          "output_type": "execute_result",
          "data": {
            "text/html": [
              "<div>\n",
              "<style scoped>\n",
              "    .dataframe tbody tr th:only-of-type {\n",
              "        vertical-align: middle;\n",
              "    }\n",
              "\n",
              "    .dataframe tbody tr th {\n",
              "        vertical-align: top;\n",
              "    }\n",
              "\n",
              "    .dataframe thead th {\n",
              "        text-align: right;\n",
              "    }\n",
              "</style>\n",
              "<table border=\"1\" class=\"dataframe\">\n",
              "  <thead>\n",
              "    <tr style=\"text-align: right;\">\n",
              "      <th></th>\n",
              "      <th>popularity</th>\n",
              "      <th>acousticness</th>\n",
              "      <th>danceability</th>\n",
              "      <th>duration_ms</th>\n",
              "      <th>energy</th>\n",
              "      <th>instrumentalness</th>\n",
              "      <th>liveness</th>\n",
              "      <th>loudness</th>\n",
              "      <th>speechiness</th>\n",
              "      <th>tempo</th>\n",
              "      <th>valence</th>\n",
              "    </tr>\n",
              "  </thead>\n",
              "  <tbody>\n",
              "    <tr>\n",
              "      <th>count</th>\n",
              "      <td>232725.000000</td>\n",
              "      <td>232725.000000</td>\n",
              "      <td>232725.000000</td>\n",
              "      <td>2.327250e+05</td>\n",
              "      <td>232725.000000</td>\n",
              "      <td>232725.000000</td>\n",
              "      <td>232725.000000</td>\n",
              "      <td>232725.000000</td>\n",
              "      <td>232725.000000</td>\n",
              "      <td>232725.000000</td>\n",
              "      <td>232725.000000</td>\n",
              "    </tr>\n",
              "    <tr>\n",
              "      <th>mean</th>\n",
              "      <td>41.127502</td>\n",
              "      <td>0.368560</td>\n",
              "      <td>0.554364</td>\n",
              "      <td>2.351223e+05</td>\n",
              "      <td>0.570958</td>\n",
              "      <td>0.148301</td>\n",
              "      <td>0.215009</td>\n",
              "      <td>-9.569885</td>\n",
              "      <td>0.120765</td>\n",
              "      <td>117.666585</td>\n",
              "      <td>0.454917</td>\n",
              "    </tr>\n",
              "    <tr>\n",
              "      <th>std</th>\n",
              "      <td>18.189948</td>\n",
              "      <td>0.354768</td>\n",
              "      <td>0.185608</td>\n",
              "      <td>1.189359e+05</td>\n",
              "      <td>0.263456</td>\n",
              "      <td>0.302768</td>\n",
              "      <td>0.198273</td>\n",
              "      <td>5.998204</td>\n",
              "      <td>0.185518</td>\n",
              "      <td>30.898907</td>\n",
              "      <td>0.260065</td>\n",
              "    </tr>\n",
              "    <tr>\n",
              "      <th>min</th>\n",
              "      <td>0.000000</td>\n",
              "      <td>0.000000</td>\n",
              "      <td>0.056900</td>\n",
              "      <td>1.538700e+04</td>\n",
              "      <td>0.000020</td>\n",
              "      <td>0.000000</td>\n",
              "      <td>0.009670</td>\n",
              "      <td>-52.457000</td>\n",
              "      <td>0.022200</td>\n",
              "      <td>30.379000</td>\n",
              "      <td>0.000000</td>\n",
              "    </tr>\n",
              "    <tr>\n",
              "      <th>25%</th>\n",
              "      <td>29.000000</td>\n",
              "      <td>0.037600</td>\n",
              "      <td>0.435000</td>\n",
              "      <td>1.828570e+05</td>\n",
              "      <td>0.385000</td>\n",
              "      <td>0.000000</td>\n",
              "      <td>0.097400</td>\n",
              "      <td>-11.771000</td>\n",
              "      <td>0.036700</td>\n",
              "      <td>92.959000</td>\n",
              "      <td>0.237000</td>\n",
              "    </tr>\n",
              "    <tr>\n",
              "      <th>50%</th>\n",
              "      <td>43.000000</td>\n",
              "      <td>0.232000</td>\n",
              "      <td>0.571000</td>\n",
              "      <td>2.204270e+05</td>\n",
              "      <td>0.605000</td>\n",
              "      <td>0.000044</td>\n",
              "      <td>0.128000</td>\n",
              "      <td>-7.762000</td>\n",
              "      <td>0.050100</td>\n",
              "      <td>115.778000</td>\n",
              "      <td>0.444000</td>\n",
              "    </tr>\n",
              "    <tr>\n",
              "      <th>75%</th>\n",
              "      <td>55.000000</td>\n",
              "      <td>0.722000</td>\n",
              "      <td>0.692000</td>\n",
              "      <td>2.657680e+05</td>\n",
              "      <td>0.787000</td>\n",
              "      <td>0.035800</td>\n",
              "      <td>0.264000</td>\n",
              "      <td>-5.501000</td>\n",
              "      <td>0.105000</td>\n",
              "      <td>139.054000</td>\n",
              "      <td>0.660000</td>\n",
              "    </tr>\n",
              "    <tr>\n",
              "      <th>max</th>\n",
              "      <td>100.000000</td>\n",
              "      <td>0.996000</td>\n",
              "      <td>0.989000</td>\n",
              "      <td>5.552917e+06</td>\n",
              "      <td>0.999000</td>\n",
              "      <td>0.999000</td>\n",
              "      <td>1.000000</td>\n",
              "      <td>3.744000</td>\n",
              "      <td>0.967000</td>\n",
              "      <td>242.903000</td>\n",
              "      <td>1.000000</td>\n",
              "    </tr>\n",
              "  </tbody>\n",
              "</table>\n",
              "</div>"
            ],
            "text/plain": [
              "          popularity   acousticness  ...          tempo        valence\n",
              "count  232725.000000  232725.000000  ...  232725.000000  232725.000000\n",
              "mean       41.127502       0.368560  ...     117.666585       0.454917\n",
              "std        18.189948       0.354768  ...      30.898907       0.260065\n",
              "min         0.000000       0.000000  ...      30.379000       0.000000\n",
              "25%        29.000000       0.037600  ...      92.959000       0.237000\n",
              "50%        43.000000       0.232000  ...     115.778000       0.444000\n",
              "75%        55.000000       0.722000  ...     139.054000       0.660000\n",
              "max       100.000000       0.996000  ...     242.903000       1.000000\n",
              "\n",
              "[8 rows x 11 columns]"
            ]
          },
          "metadata": {
            "tags": []
          },
          "execution_count": 11
        }
      ]
    },
    {
      "cell_type": "code",
      "metadata": {
        "ExecuteTime": {
          "end_time": "2021-05-21T16:44:09.458807Z",
          "start_time": "2021-05-21T16:44:09.352367Z"
        },
        "colab": {
          "base_uri": "https://localhost:8080/"
        },
        "id": "1F56hzo9LMe7",
        "outputId": "5e0888f6-ee19-476f-dc76-98d17e03089d"
      },
      "source": [
        "df.info()"
      ],
      "execution_count": 12,
      "outputs": [
        {
          "output_type": "stream",
          "text": [
            "<class 'pandas.core.frame.DataFrame'>\n",
            "RangeIndex: 232725 entries, 0 to 232724\n",
            "Data columns (total 18 columns):\n",
            " #   Column            Non-Null Count   Dtype  \n",
            "---  ------            --------------   -----  \n",
            " 0   genre             232725 non-null  object \n",
            " 1   artist_name       232725 non-null  object \n",
            " 2   track_name        232725 non-null  object \n",
            " 3   track_id          232725 non-null  object \n",
            " 4   popularity        232725 non-null  int64  \n",
            " 5   acousticness      232725 non-null  float64\n",
            " 6   danceability      232725 non-null  float64\n",
            " 7   duration_ms       232725 non-null  int64  \n",
            " 8   energy            232725 non-null  float64\n",
            " 9   instrumentalness  232725 non-null  float64\n",
            " 10  key               232725 non-null  object \n",
            " 11  liveness          232725 non-null  float64\n",
            " 12  loudness          232725 non-null  float64\n",
            " 13  mode              232725 non-null  object \n",
            " 14  speechiness       232725 non-null  float64\n",
            " 15  tempo             232725 non-null  float64\n",
            " 16  time_signature    232725 non-null  object \n",
            " 17  valence           232725 non-null  float64\n",
            "dtypes: float64(9), int64(2), object(7)\n",
            "memory usage: 32.0+ MB\n"
          ],
          "name": "stdout"
        }
      ]
    },
    {
      "cell_type": "code",
      "metadata": {
        "ExecuteTime": {
          "end_time": "2021-05-21T16:44:09.506305Z",
          "start_time": "2021-05-21T16:44:09.461402Z"
        },
        "scrolled": true,
        "colab": {
          "base_uri": "https://localhost:8080/",
          "height": 609
        },
        "id": "mCMXnXDkLMe7",
        "outputId": "91140cf0-6f53-4780-dfe1-9f86a52053ce"
      },
      "source": [
        "df[df['popularity']>=85]"
      ],
      "execution_count": 13,
      "outputs": [
        {
          "output_type": "execute_result",
          "data": {
            "text/html": [
              "<div>\n",
              "<style scoped>\n",
              "    .dataframe tbody tr th:only-of-type {\n",
              "        vertical-align: middle;\n",
              "    }\n",
              "\n",
              "    .dataframe tbody tr th {\n",
              "        vertical-align: top;\n",
              "    }\n",
              "\n",
              "    .dataframe thead th {\n",
              "        text-align: right;\n",
              "    }\n",
              "</style>\n",
              "<table border=\"1\" class=\"dataframe\">\n",
              "  <thead>\n",
              "    <tr style=\"text-align: right;\">\n",
              "      <th></th>\n",
              "      <th>genre</th>\n",
              "      <th>artist_name</th>\n",
              "      <th>track_name</th>\n",
              "      <th>track_id</th>\n",
              "      <th>popularity</th>\n",
              "      <th>acousticness</th>\n",
              "      <th>danceability</th>\n",
              "      <th>duration_ms</th>\n",
              "      <th>energy</th>\n",
              "      <th>instrumentalness</th>\n",
              "      <th>key</th>\n",
              "      <th>liveness</th>\n",
              "      <th>loudness</th>\n",
              "      <th>mode</th>\n",
              "      <th>speechiness</th>\n",
              "      <th>tempo</th>\n",
              "      <th>time_signature</th>\n",
              "      <th>valence</th>\n",
              "    </tr>\n",
              "  </thead>\n",
              "  <tbody>\n",
              "    <tr>\n",
              "      <th>9026</th>\n",
              "      <td>Dance</td>\n",
              "      <td>Ariana Grande</td>\n",
              "      <td>break up with your girlfriend, i'm bored</td>\n",
              "      <td>4kV4N9D1iKVxx1KLvtTpjS</td>\n",
              "      <td>99</td>\n",
              "      <td>0.0421</td>\n",
              "      <td>0.726</td>\n",
              "      <td>190440</td>\n",
              "      <td>0.554</td>\n",
              "      <td>0.000000</td>\n",
              "      <td>F</td>\n",
              "      <td>0.1060</td>\n",
              "      <td>-5.290</td>\n",
              "      <td>Minor</td>\n",
              "      <td>0.0917</td>\n",
              "      <td>169.999</td>\n",
              "      <td>4/4</td>\n",
              "      <td>0.3350</td>\n",
              "    </tr>\n",
              "    <tr>\n",
              "      <th>9027</th>\n",
              "      <td>Dance</td>\n",
              "      <td>Ariana Grande</td>\n",
              "      <td>7 rings</td>\n",
              "      <td>14msK75pk3pA33pzPVNtBF</td>\n",
              "      <td>100</td>\n",
              "      <td>0.5780</td>\n",
              "      <td>0.725</td>\n",
              "      <td>178640</td>\n",
              "      <td>0.321</td>\n",
              "      <td>0.000000</td>\n",
              "      <td>C#</td>\n",
              "      <td>0.0884</td>\n",
              "      <td>-10.744</td>\n",
              "      <td>Minor</td>\n",
              "      <td>0.3230</td>\n",
              "      <td>70.142</td>\n",
              "      <td>4/4</td>\n",
              "      <td>0.3190</td>\n",
              "    </tr>\n",
              "    <tr>\n",
              "      <th>9028</th>\n",
              "      <td>Dance</td>\n",
              "      <td>Halsey</td>\n",
              "      <td>Without Me</td>\n",
              "      <td>5p7ujcrUXASCNwRaWNHR1C</td>\n",
              "      <td>97</td>\n",
              "      <td>0.2970</td>\n",
              "      <td>0.752</td>\n",
              "      <td>201661</td>\n",
              "      <td>0.488</td>\n",
              "      <td>0.000009</td>\n",
              "      <td>F#</td>\n",
              "      <td>0.0936</td>\n",
              "      <td>-7.050</td>\n",
              "      <td>Major</td>\n",
              "      <td>0.0705</td>\n",
              "      <td>136.041</td>\n",
              "      <td>4/4</td>\n",
              "      <td>0.5330</td>\n",
              "    </tr>\n",
              "    <tr>\n",
              "      <th>9029</th>\n",
              "      <td>Dance</td>\n",
              "      <td>Ariana Grande</td>\n",
              "      <td>needy</td>\n",
              "      <td>1TEL6MlSSVLSdhOSddidlJ</td>\n",
              "      <td>92</td>\n",
              "      <td>0.7800</td>\n",
              "      <td>0.647</td>\n",
              "      <td>171573</td>\n",
              "      <td>0.309</td>\n",
              "      <td>0.000007</td>\n",
              "      <td>G</td>\n",
              "      <td>0.2020</td>\n",
              "      <td>-7.948</td>\n",
              "      <td>Minor</td>\n",
              "      <td>0.0366</td>\n",
              "      <td>87.045</td>\n",
              "      <td>4/4</td>\n",
              "      <td>0.1950</td>\n",
              "    </tr>\n",
              "    <tr>\n",
              "      <th>9030</th>\n",
              "      <td>Dance</td>\n",
              "      <td>Ariana Grande</td>\n",
              "      <td>NASA</td>\n",
              "      <td>4uTvPEr01pjTbZgl7jcKBD</td>\n",
              "      <td>91</td>\n",
              "      <td>0.4510</td>\n",
              "      <td>0.747</td>\n",
              "      <td>182000</td>\n",
              "      <td>0.458</td>\n",
              "      <td>0.000000</td>\n",
              "      <td>F#</td>\n",
              "      <td>0.2520</td>\n",
              "      <td>-6.891</td>\n",
              "      <td>Major</td>\n",
              "      <td>0.3030</td>\n",
              "      <td>75.029</td>\n",
              "      <td>4/4</td>\n",
              "      <td>0.4700</td>\n",
              "    </tr>\n",
              "    <tr>\n",
              "      <th>...</th>\n",
              "      <td>...</td>\n",
              "      <td>...</td>\n",
              "      <td>...</td>\n",
              "      <td>...</td>\n",
              "      <td>...</td>\n",
              "      <td>...</td>\n",
              "      <td>...</td>\n",
              "      <td>...</td>\n",
              "      <td>...</td>\n",
              "      <td>...</td>\n",
              "      <td>...</td>\n",
              "      <td>...</td>\n",
              "      <td>...</td>\n",
              "      <td>...</td>\n",
              "      <td>...</td>\n",
              "      <td>...</td>\n",
              "      <td>...</td>\n",
              "      <td>...</td>\n",
              "    </tr>\n",
              "    <tr>\n",
              "      <th>166066</th>\n",
              "      <td>Rock</td>\n",
              "      <td>Imagine Dragons</td>\n",
              "      <td>Bad Liar</td>\n",
              "      <td>2RSHsoi04658QL5xgQVov3</td>\n",
              "      <td>90</td>\n",
              "      <td>0.0722</td>\n",
              "      <td>0.383</td>\n",
              "      <td>260773</td>\n",
              "      <td>0.637</td>\n",
              "      <td>0.000000</td>\n",
              "      <td>D#</td>\n",
              "      <td>0.3680</td>\n",
              "      <td>-6.993</td>\n",
              "      <td>Major</td>\n",
              "      <td>0.0703</td>\n",
              "      <td>177.913</td>\n",
              "      <td>4/4</td>\n",
              "      <td>0.0827</td>\n",
              "    </tr>\n",
              "    <tr>\n",
              "      <th>166068</th>\n",
              "      <td>Rock</td>\n",
              "      <td>Imagine Dragons</td>\n",
              "      <td>Whatever It Takes</td>\n",
              "      <td>6Qn5zhYkTa37e91HC1D7lb</td>\n",
              "      <td>85</td>\n",
              "      <td>0.0362</td>\n",
              "      <td>0.672</td>\n",
              "      <td>201240</td>\n",
              "      <td>0.655</td>\n",
              "      <td>0.000000</td>\n",
              "      <td>A#</td>\n",
              "      <td>0.1170</td>\n",
              "      <td>-5.021</td>\n",
              "      <td>Minor</td>\n",
              "      <td>0.0311</td>\n",
              "      <td>134.945</td>\n",
              "      <td>4/4</td>\n",
              "      <td>0.5560</td>\n",
              "    </tr>\n",
              "    <tr>\n",
              "      <th>166147</th>\n",
              "      <td>Rock</td>\n",
              "      <td>Jason Mraz</td>\n",
              "      <td>I'm Yours</td>\n",
              "      <td>1EzrEOXmMH3G43AXT1y7pA</td>\n",
              "      <td>85</td>\n",
              "      <td>0.5950</td>\n",
              "      <td>0.686</td>\n",
              "      <td>242187</td>\n",
              "      <td>0.457</td>\n",
              "      <td>0.000000</td>\n",
              "      <td>B</td>\n",
              "      <td>0.1050</td>\n",
              "      <td>-8.322</td>\n",
              "      <td>Major</td>\n",
              "      <td>0.0468</td>\n",
              "      <td>150.953</td>\n",
              "      <td>4/4</td>\n",
              "      <td>0.7180</td>\n",
              "    </tr>\n",
              "    <tr>\n",
              "      <th>166850</th>\n",
              "      <td>Rock</td>\n",
              "      <td>ChocQuibTown</td>\n",
              "      <td>Pa Olvidarte (feat. Manuel Turizo) - Remix</td>\n",
              "      <td>2ktoFujjJtantyMoVdBJlX</td>\n",
              "      <td>86</td>\n",
              "      <td>0.0441</td>\n",
              "      <td>0.724</td>\n",
              "      <td>256418</td>\n",
              "      <td>0.791</td>\n",
              "      <td>0.000007</td>\n",
              "      <td>G</td>\n",
              "      <td>0.2390</td>\n",
              "      <td>-5.411</td>\n",
              "      <td>Major</td>\n",
              "      <td>0.1690</td>\n",
              "      <td>176.011</td>\n",
              "      <td>4/4</td>\n",
              "      <td>0.8560</td>\n",
              "    </tr>\n",
              "    <tr>\n",
              "      <th>191939</th>\n",
              "      <td>Soul</td>\n",
              "      <td>John Legend</td>\n",
              "      <td>All of Me</td>\n",
              "      <td>3U4isOIWM3VvDubwSI3y7a</td>\n",
              "      <td>85</td>\n",
              "      <td>0.9220</td>\n",
              "      <td>0.422</td>\n",
              "      <td>269560</td>\n",
              "      <td>0.264</td>\n",
              "      <td>0.000000</td>\n",
              "      <td>G#</td>\n",
              "      <td>0.1320</td>\n",
              "      <td>-7.064</td>\n",
              "      <td>Major</td>\n",
              "      <td>0.0322</td>\n",
              "      <td>119.930</td>\n",
              "      <td>4/4</td>\n",
              "      <td>0.3310</td>\n",
              "    </tr>\n",
              "  </tbody>\n",
              "</table>\n",
              "<p>417 rows × 18 columns</p>\n",
              "</div>"
            ],
            "text/plain": [
              "        genre      artist_name  ... time_signature valence\n",
              "9026    Dance    Ariana Grande  ...            4/4  0.3350\n",
              "9027    Dance    Ariana Grande  ...            4/4  0.3190\n",
              "9028    Dance           Halsey  ...            4/4  0.5330\n",
              "9029    Dance    Ariana Grande  ...            4/4  0.1950\n",
              "9030    Dance    Ariana Grande  ...            4/4  0.4700\n",
              "...       ...              ...  ...            ...     ...\n",
              "166066   Rock  Imagine Dragons  ...            4/4  0.0827\n",
              "166068   Rock  Imagine Dragons  ...            4/4  0.5560\n",
              "166147   Rock       Jason Mraz  ...            4/4  0.7180\n",
              "166850   Rock     ChocQuibTown  ...            4/4  0.8560\n",
              "191939   Soul      John Legend  ...            4/4  0.3310\n",
              "\n",
              "[417 rows x 18 columns]"
            ]
          },
          "metadata": {
            "tags": []
          },
          "execution_count": 13
        }
      ]
    },
    {
      "cell_type": "code",
      "metadata": {
        "ExecuteTime": {
          "end_time": "2021-05-21T16:44:10.110119Z",
          "start_time": "2021-05-21T16:44:09.508305Z"
        },
        "colab": {
          "base_uri": "https://localhost:8080/"
        },
        "id": "d8u0dcg0LMe8",
        "outputId": "1f571033-947f-4608-a8c9-eb896502ef40"
      },
      "source": [
        "for col in df.columns:\n",
        "    print(f\"Column: {col}\")\n",
        "    print(df[col].value_counts())\n",
        "    print(\"--------------------\")"
      ],
      "execution_count": 14,
      "outputs": [
        {
          "output_type": "stream",
          "text": [
            "Column: genre\n",
            "Comedy              9681\n",
            "Soundtrack          9646\n",
            "Indie               9543\n",
            "Jazz                9441\n",
            "Pop                 9386\n",
            "Electronic          9377\n",
            "Children’s Music    9353\n",
            "Folk                9299\n",
            "Hip-Hop             9295\n",
            "Rock                9272\n",
            "Alternative         9263\n",
            "Classical           9256\n",
            "Rap                 9232\n",
            "World               9096\n",
            "Soul                9089\n",
            "Blues               9023\n",
            "R&B                 8992\n",
            "Anime               8936\n",
            "Reggaeton           8927\n",
            "Ska                 8874\n",
            "Reggae              8771\n",
            "Dance               8701\n",
            "Country             8664\n",
            "Opera               8280\n",
            "Movie               7806\n",
            "Children's Music    5403\n",
            "A Capella            119\n",
            "Name: genre, dtype: int64\n",
            "--------------------\n",
            "Column: artist_name\n",
            "Giuseppe Verdi            1394\n",
            "Giacomo Puccini           1137\n",
            "Kimbo Children's Music     971\n",
            "Nobuo Uematsu              825\n",
            "Richard Wagner             804\n",
            "                          ... \n",
            "STEELHEART                   1\n",
            "Dawn Penn                    1\n",
            "Candice Boyd                 1\n",
            "Omni                         1\n",
            "Buttering Trio               1\n",
            "Name: artist_name, Length: 14564, dtype: int64\n",
            "--------------------\n",
            "Column: track_name\n",
            "Home                  100\n",
            "You                    71\n",
            "Intro                  69\n",
            "Stay                   63\n",
            "Wake Up                59\n",
            "                     ... \n",
            "Pi-di-di-di             1\n",
            "Kids Are Too Small      1\n",
            "The Shells              1\n",
            "The Next Level          1\n",
            "Tell Me the Truth       1\n",
            "Name: track_name, Length: 148615, dtype: int64\n",
            "--------------------\n",
            "Column: track_id\n",
            "3uSSjnDMmoyERaAK9KvpJR    8\n",
            "6AIte2Iej1QKlaofpjCzW1    8\n",
            "0UE0RhnRaEYsiYgXpyLoZc    8\n",
            "6sVQNUvcVFTXvlk3ec0ngd    8\n",
            "3R73Y7X53MIQZWnKloWq5i    8\n",
            "                         ..\n",
            "5pKJtX4wBeby9qIfFhyOJj    1\n",
            "35UWvlbsmgszfUWllYv68B    1\n",
            "1mAVJMb2nREYO0Kt34263f    1\n",
            "4YYZjPufxdAF57ROwjxhz7    1\n",
            "6xYV87ttHYSMEPb0HdRMEo    1\n",
            "Name: track_id, Length: 176774, dtype: int64\n",
            "--------------------\n",
            "Column: popularity\n",
            "0      6312\n",
            "50     5415\n",
            "53     5414\n",
            "51     5401\n",
            "52     5342\n",
            "       ... \n",
            "96        8\n",
            "94        7\n",
            "99        4\n",
            "98        3\n",
            "100       2\n",
            "Name: popularity, Length: 101, dtype: int64\n",
            "--------------------\n",
            "Column: acousticness\n",
            "0.995000    851\n",
            "0.994000    701\n",
            "0.992000    682\n",
            "0.993000    646\n",
            "0.991000    597\n",
            "           ... \n",
            "0.000005      1\n",
            "0.000007      1\n",
            "0.000098      1\n",
            "0.000083      1\n",
            "0.000009      1\n",
            "Name: acousticness, Length: 4734, dtype: int64\n",
            "--------------------\n",
            "Column: danceability\n",
            "0.5970    558\n",
            "0.5470    544\n",
            "0.6100    542\n",
            "0.5890    542\n",
            "0.6220    540\n",
            "         ... \n",
            "0.0584      1\n",
            "0.0577      1\n",
            "0.0570      1\n",
            "0.0878      1\n",
            "0.0596      1\n",
            "Name: danceability, Length: 1295, dtype: int64\n",
            "--------------------\n",
            "Column: duration_ms\n",
            "240000    138\n",
            "180000    120\n",
            "192000    115\n",
            "216000     99\n",
            "200000     85\n",
            "         ... \n",
            "258851      1\n",
            "238377      1\n",
            "164064      1\n",
            "244522      1\n",
            "262144      1\n",
            "Name: duration_ms, Length: 70749, dtype: int64\n",
            "--------------------\n",
            "Column: energy\n",
            "0.721000    417\n",
            "0.675000    403\n",
            "0.720000    392\n",
            "0.686000    389\n",
            "0.738000    389\n",
            "           ... \n",
            "0.002230      1\n",
            "0.000216      1\n",
            "0.006110      1\n",
            "0.009910      1\n",
            "0.007330      1\n",
            "Name: energy, Length: 2517, dtype: int64\n",
            "--------------------\n",
            "Column: instrumentalness\n",
            "0.00000    79236\n",
            "0.91200      235\n",
            "0.91000      230\n",
            "0.91800      222\n",
            "0.92300      222\n",
            "           ...  \n",
            "0.00966        1\n",
            "0.99900        1\n",
            "0.00667        1\n",
            "0.99800        1\n",
            "0.00888        1\n",
            "Name: instrumentalness, Length: 5400, dtype: int64\n",
            "--------------------\n",
            "Column: key\n",
            "C     27583\n",
            "G     26390\n",
            "D     24077\n",
            "C#    23201\n",
            "A     22671\n",
            "F     20279\n",
            "B     17661\n",
            "E     17390\n",
            "A#    15526\n",
            "F#    15222\n",
            "G#    15159\n",
            "D#     7566\n",
            "Name: key, dtype: int64\n",
            "--------------------\n",
            "Column: liveness\n",
            "0.1110    2860\n",
            "0.1100    2702\n",
            "0.1080    2608\n",
            "0.1090    2537\n",
            "0.1070    2451\n",
            "          ... \n",
            "0.0240       1\n",
            "0.0185       1\n",
            "0.0200       1\n",
            "0.0177       1\n",
            "0.0143       1\n",
            "Name: liveness, Length: 1732, dtype: int64\n",
            "--------------------\n",
            "Column: loudness\n",
            "-5.318     57\n",
            "-5.460     52\n",
            "-5.131     51\n",
            "-5.428     51\n",
            "-6.611     50\n",
            "           ..\n",
            "-31.696     1\n",
            "-38.267     1\n",
            "-45.192     1\n",
            "-28.588     1\n",
            "-1.494      1\n",
            "Name: loudness, Length: 27923, dtype: int64\n",
            "--------------------\n",
            "Column: mode\n",
            "Major    151744\n",
            "Minor     80981\n",
            "Name: mode, dtype: int64\n",
            "--------------------\n",
            "Column: speechiness\n",
            "0.0374    663\n",
            "0.0332    654\n",
            "0.0337    652\n",
            "0.0363    650\n",
            "0.0343    642\n",
            "         ... \n",
            "0.6070      1\n",
            "0.6880      1\n",
            "0.6620      1\n",
            "0.6750      1\n",
            "0.6670      1\n",
            "Name: speechiness, Length: 1641, dtype: int64\n",
            "--------------------\n",
            "Column: tempo\n",
            "120.016    61\n",
            "100.003    60\n",
            "100.014    60\n",
            "120.008    59\n",
            "120.003    59\n",
            "           ..\n",
            "82.571      1\n",
            "94.596      1\n",
            "62.067      1\n",
            "91.555      1\n",
            "110.206     1\n",
            "Name: tempo, Length: 78512, dtype: int64\n",
            "--------------------\n",
            "Column: time_signature\n",
            "4/4    200760\n",
            "3/4     24111\n",
            "5/4      5238\n",
            "1/4      2608\n",
            "0/4         8\n",
            "Name: time_signature, dtype: int64\n",
            "--------------------\n",
            "Column: valence\n",
            "0.9610    479\n",
            "0.9620    403\n",
            "0.9630    368\n",
            "0.3700    363\n",
            "0.3580    363\n",
            "         ... \n",
            "0.0232      1\n",
            "0.0209      1\n",
            "0.9950      1\n",
            "0.0227      1\n",
            "0.0180      1\n",
            "Name: valence, Length: 1692, dtype: int64\n",
            "--------------------\n"
          ],
          "name": "stdout"
        }
      ]
    },
    {
      "cell_type": "markdown",
      "metadata": {
        "id": "Yg7ROsRSLMe8"
      },
      "source": [
        "It seems like we have duplicated tracks based on the value counts for the track_id column."
      ]
    },
    {
      "cell_type": "markdown",
      "metadata": {
        "id": "YmlL5Sx2LMe8"
      },
      "source": [
        "### Changing \"Children's Music\" characters for consistency"
      ]
    },
    {
      "cell_type": "code",
      "metadata": {
        "ExecuteTime": {
          "end_time": "2021-05-21T16:44:10.141563Z",
          "start_time": "2021-05-21T16:44:10.111127Z"
        },
        "scrolled": true,
        "colab": {
          "base_uri": "https://localhost:8080/"
        },
        "id": "hVMq1F8ILMe9",
        "outputId": "99088950-e5be-4758-c8b8-5e9f97a3263b"
      },
      "source": [
        "df['genre'].value_counts()"
      ],
      "execution_count": 15,
      "outputs": [
        {
          "output_type": "execute_result",
          "data": {
            "text/plain": [
              "Comedy              9681\n",
              "Soundtrack          9646\n",
              "Indie               9543\n",
              "Jazz                9441\n",
              "Pop                 9386\n",
              "Electronic          9377\n",
              "Children’s Music    9353\n",
              "Folk                9299\n",
              "Hip-Hop             9295\n",
              "Rock                9272\n",
              "Alternative         9263\n",
              "Classical           9256\n",
              "Rap                 9232\n",
              "World               9096\n",
              "Soul                9089\n",
              "Blues               9023\n",
              "R&B                 8992\n",
              "Anime               8936\n",
              "Reggaeton           8927\n",
              "Ska                 8874\n",
              "Reggae              8771\n",
              "Dance               8701\n",
              "Country             8664\n",
              "Opera               8280\n",
              "Movie               7806\n",
              "Children's Music    5403\n",
              "A Capella            119\n",
              "Name: genre, dtype: int64"
            ]
          },
          "metadata": {
            "tags": []
          },
          "execution_count": 15
        }
      ]
    },
    {
      "cell_type": "markdown",
      "metadata": {
        "id": "46yYJ8NFLMe9"
      },
      "source": [
        "There are 2 types of \"Children's Music\" values in the genres due to the character used for apostrophe. Since both Children’s Music and Children's Music is meant to show the same thing we need to change one of them to the other one to be consistent."
      ]
    },
    {
      "cell_type": "code",
      "metadata": {
        "ExecuteTime": {
          "end_time": "2021-05-21T16:44:10.203197Z",
          "start_time": "2021-05-21T16:44:10.145561Z"
        },
        "id": "Mi5_0_zTLMe9"
      },
      "source": [
        "df.loc[df['genre']==\"Children’s Music\",'genre']=\"Children's Music\""
      ],
      "execution_count": 16,
      "outputs": []
    },
    {
      "cell_type": "code",
      "metadata": {
        "ExecuteTime": {
          "end_time": "2021-05-21T16:44:10.280860Z",
          "start_time": "2021-05-21T16:44:10.206192Z"
        },
        "colab": {
          "base_uri": "https://localhost:8080/"
        },
        "id": "rzivTrXPLMe-",
        "outputId": "a040bf1f-a08d-4843-9315-4e9504ba9298"
      },
      "source": [
        "df['genre'].value_counts()"
      ],
      "execution_count": 17,
      "outputs": [
        {
          "output_type": "execute_result",
          "data": {
            "text/plain": [
              "Children's Music    14756\n",
              "Comedy               9681\n",
              "Soundtrack           9646\n",
              "Indie                9543\n",
              "Jazz                 9441\n",
              "Pop                  9386\n",
              "Electronic           9377\n",
              "Folk                 9299\n",
              "Hip-Hop              9295\n",
              "Rock                 9272\n",
              "Alternative          9263\n",
              "Classical            9256\n",
              "Rap                  9232\n",
              "World                9096\n",
              "Soul                 9089\n",
              "Blues                9023\n",
              "R&B                  8992\n",
              "Anime                8936\n",
              "Reggaeton            8927\n",
              "Ska                  8874\n",
              "Reggae               8771\n",
              "Dance                8701\n",
              "Country              8664\n",
              "Opera                8280\n",
              "Movie                7806\n",
              "A Capella             119\n",
              "Name: genre, dtype: int64"
            ]
          },
          "metadata": {
            "tags": []
          },
          "execution_count": 17
        }
      ]
    },
    {
      "cell_type": "markdown",
      "metadata": {
        "id": "-mja_GHWLMe-"
      },
      "source": [
        "### Missing Values"
      ]
    },
    {
      "cell_type": "code",
      "metadata": {
        "ExecuteTime": {
          "end_time": "2021-05-21T16:44:10.390339Z",
          "start_time": "2021-05-21T16:44:10.282874Z"
        },
        "colab": {
          "base_uri": "https://localhost:8080/"
        },
        "id": "1PRGSP4YLMe-",
        "outputId": "68fb4517-6712-44c7-a38f-33acad1b64fa"
      },
      "source": [
        "df.isna().sum()"
      ],
      "execution_count": 18,
      "outputs": [
        {
          "output_type": "execute_result",
          "data": {
            "text/plain": [
              "genre               0\n",
              "artist_name         0\n",
              "track_name          0\n",
              "track_id            0\n",
              "popularity          0\n",
              "acousticness        0\n",
              "danceability        0\n",
              "duration_ms         0\n",
              "energy              0\n",
              "instrumentalness    0\n",
              "key                 0\n",
              "liveness            0\n",
              "loudness            0\n",
              "mode                0\n",
              "speechiness         0\n",
              "tempo               0\n",
              "time_signature      0\n",
              "valence             0\n",
              "dtype: int64"
            ]
          },
          "metadata": {
            "tags": []
          },
          "execution_count": 18
        }
      ]
    },
    {
      "cell_type": "markdown",
      "metadata": {
        "id": "3yyhH5tULMe_"
      },
      "source": [
        "### Addressing Duplicated Tracks"
      ]
    },
    {
      "cell_type": "code",
      "metadata": {
        "ExecuteTime": {
          "end_time": "2021-05-21T16:44:10.483166Z",
          "start_time": "2021-05-21T16:44:10.392310Z"
        },
        "colab": {
          "base_uri": "https://localhost:8080/",
          "height": 0
        },
        "id": "ppGe5ikFLMe_",
        "outputId": "60b51c53-a425-4231-f878-a8a66aacb40c"
      },
      "source": [
        "df[df['track_id'].duplicated()]"
      ],
      "execution_count": 19,
      "outputs": [
        {
          "output_type": "execute_result",
          "data": {
            "text/html": [
              "<div>\n",
              "<style scoped>\n",
              "    .dataframe tbody tr th:only-of-type {\n",
              "        vertical-align: middle;\n",
              "    }\n",
              "\n",
              "    .dataframe tbody tr th {\n",
              "        vertical-align: top;\n",
              "    }\n",
              "\n",
              "    .dataframe thead th {\n",
              "        text-align: right;\n",
              "    }\n",
              "</style>\n",
              "<table border=\"1\" class=\"dataframe\">\n",
              "  <thead>\n",
              "    <tr style=\"text-align: right;\">\n",
              "      <th></th>\n",
              "      <th>genre</th>\n",
              "      <th>artist_name</th>\n",
              "      <th>track_name</th>\n",
              "      <th>track_id</th>\n",
              "      <th>popularity</th>\n",
              "      <th>acousticness</th>\n",
              "      <th>danceability</th>\n",
              "      <th>duration_ms</th>\n",
              "      <th>energy</th>\n",
              "      <th>instrumentalness</th>\n",
              "      <th>key</th>\n",
              "      <th>liveness</th>\n",
              "      <th>loudness</th>\n",
              "      <th>mode</th>\n",
              "      <th>speechiness</th>\n",
              "      <th>tempo</th>\n",
              "      <th>time_signature</th>\n",
              "      <th>valence</th>\n",
              "    </tr>\n",
              "  </thead>\n",
              "  <tbody>\n",
              "    <tr>\n",
              "      <th>1348</th>\n",
              "      <td>Alternative</td>\n",
              "      <td>Doja Cat</td>\n",
              "      <td>Go To Town</td>\n",
              "      <td>6iOvnACn4ChlAw4lWUU4dd</td>\n",
              "      <td>64</td>\n",
              "      <td>0.07160</td>\n",
              "      <td>0.710</td>\n",
              "      <td>217813</td>\n",
              "      <td>0.710</td>\n",
              "      <td>0.000001</td>\n",
              "      <td>C</td>\n",
              "      <td>0.2060</td>\n",
              "      <td>-2.474</td>\n",
              "      <td>Major</td>\n",
              "      <td>0.0579</td>\n",
              "      <td>169.944</td>\n",
              "      <td>4/4</td>\n",
              "      <td>0.700</td>\n",
              "    </tr>\n",
              "    <tr>\n",
              "      <th>1385</th>\n",
              "      <td>Alternative</td>\n",
              "      <td>Frank Ocean</td>\n",
              "      <td>Seigfried</td>\n",
              "      <td>1BViPjTT585XAhkUUrkts0</td>\n",
              "      <td>61</td>\n",
              "      <td>0.97500</td>\n",
              "      <td>0.377</td>\n",
              "      <td>334570</td>\n",
              "      <td>0.255</td>\n",
              "      <td>0.000208</td>\n",
              "      <td>E</td>\n",
              "      <td>0.1020</td>\n",
              "      <td>-11.165</td>\n",
              "      <td>Minor</td>\n",
              "      <td>0.0387</td>\n",
              "      <td>125.004</td>\n",
              "      <td>5/4</td>\n",
              "      <td>0.370</td>\n",
              "    </tr>\n",
              "    <tr>\n",
              "      <th>1452</th>\n",
              "      <td>Alternative</td>\n",
              "      <td>Frank Ocean</td>\n",
              "      <td>Bad Religion</td>\n",
              "      <td>2pMPWE7PJH1PizfgGRMnR9</td>\n",
              "      <td>56</td>\n",
              "      <td>0.77900</td>\n",
              "      <td>0.276</td>\n",
              "      <td>175453</td>\n",
              "      <td>0.358</td>\n",
              "      <td>0.000003</td>\n",
              "      <td>A</td>\n",
              "      <td>0.0728</td>\n",
              "      <td>-7.684</td>\n",
              "      <td>Major</td>\n",
              "      <td>0.0443</td>\n",
              "      <td>81.977</td>\n",
              "      <td>4/4</td>\n",
              "      <td>0.130</td>\n",
              "    </tr>\n",
              "    <tr>\n",
              "      <th>1554</th>\n",
              "      <td>Alternative</td>\n",
              "      <td>Steve Lacy</td>\n",
              "      <td>Some</td>\n",
              "      <td>4riDfclV7kPDT9D58FpmHd</td>\n",
              "      <td>58</td>\n",
              "      <td>0.00548</td>\n",
              "      <td>0.784</td>\n",
              "      <td>118393</td>\n",
              "      <td>0.554</td>\n",
              "      <td>0.254000</td>\n",
              "      <td>G</td>\n",
              "      <td>0.0995</td>\n",
              "      <td>-6.417</td>\n",
              "      <td>Major</td>\n",
              "      <td>0.0300</td>\n",
              "      <td>104.010</td>\n",
              "      <td>4/4</td>\n",
              "      <td>0.634</td>\n",
              "    </tr>\n",
              "    <tr>\n",
              "      <th>1634</th>\n",
              "      <td>Alternative</td>\n",
              "      <td>tobi lou</td>\n",
              "      <td>Buff Baby</td>\n",
              "      <td>1F1QmI8TMHir9SUFrooq5F</td>\n",
              "      <td>59</td>\n",
              "      <td>0.19000</td>\n",
              "      <td>0.736</td>\n",
              "      <td>215385</td>\n",
              "      <td>0.643</td>\n",
              "      <td>0.000000</td>\n",
              "      <td>F</td>\n",
              "      <td>0.1060</td>\n",
              "      <td>-8.636</td>\n",
              "      <td>Major</td>\n",
              "      <td>0.0461</td>\n",
              "      <td>156.002</td>\n",
              "      <td>4/4</td>\n",
              "      <td>0.599</td>\n",
              "    </tr>\n",
              "    <tr>\n",
              "      <th>...</th>\n",
              "      <td>...</td>\n",
              "      <td>...</td>\n",
              "      <td>...</td>\n",
              "      <td>...</td>\n",
              "      <td>...</td>\n",
              "      <td>...</td>\n",
              "      <td>...</td>\n",
              "      <td>...</td>\n",
              "      <td>...</td>\n",
              "      <td>...</td>\n",
              "      <td>...</td>\n",
              "      <td>...</td>\n",
              "      <td>...</td>\n",
              "      <td>...</td>\n",
              "      <td>...</td>\n",
              "      <td>...</td>\n",
              "      <td>...</td>\n",
              "      <td>...</td>\n",
              "    </tr>\n",
              "    <tr>\n",
              "      <th>232715</th>\n",
              "      <td>Soul</td>\n",
              "      <td>Emily King</td>\n",
              "      <td>Down</td>\n",
              "      <td>5cA0vB8c9FMOVDWyJHgf26</td>\n",
              "      <td>42</td>\n",
              "      <td>0.55000</td>\n",
              "      <td>0.394</td>\n",
              "      <td>281853</td>\n",
              "      <td>0.346</td>\n",
              "      <td>0.000002</td>\n",
              "      <td>E</td>\n",
              "      <td>0.1290</td>\n",
              "      <td>-13.617</td>\n",
              "      <td>Major</td>\n",
              "      <td>0.0635</td>\n",
              "      <td>90.831</td>\n",
              "      <td>4/4</td>\n",
              "      <td>0.436</td>\n",
              "    </tr>\n",
              "    <tr>\n",
              "      <th>232718</th>\n",
              "      <td>Soul</td>\n",
              "      <td>Muddy Waters</td>\n",
              "      <td>I Just Want To Make Love To You - Electric Mud...</td>\n",
              "      <td>2HFczeynfKGiM9KF2z2K7K</td>\n",
              "      <td>43</td>\n",
              "      <td>0.01360</td>\n",
              "      <td>0.294</td>\n",
              "      <td>258267</td>\n",
              "      <td>0.739</td>\n",
              "      <td>0.004820</td>\n",
              "      <td>C</td>\n",
              "      <td>0.1380</td>\n",
              "      <td>-7.167</td>\n",
              "      <td>Major</td>\n",
              "      <td>0.0434</td>\n",
              "      <td>176.402</td>\n",
              "      <td>4/4</td>\n",
              "      <td>0.945</td>\n",
              "    </tr>\n",
              "    <tr>\n",
              "      <th>232720</th>\n",
              "      <td>Soul</td>\n",
              "      <td>Slave</td>\n",
              "      <td>Son Of Slide</td>\n",
              "      <td>2XGLdVl7lGeq8ksM6Al7jT</td>\n",
              "      <td>39</td>\n",
              "      <td>0.00384</td>\n",
              "      <td>0.687</td>\n",
              "      <td>326240</td>\n",
              "      <td>0.714</td>\n",
              "      <td>0.544000</td>\n",
              "      <td>D</td>\n",
              "      <td>0.0845</td>\n",
              "      <td>-10.626</td>\n",
              "      <td>Major</td>\n",
              "      <td>0.0316</td>\n",
              "      <td>115.542</td>\n",
              "      <td>4/4</td>\n",
              "      <td>0.962</td>\n",
              "    </tr>\n",
              "    <tr>\n",
              "      <th>232722</th>\n",
              "      <td>Soul</td>\n",
              "      <td>Muddy Waters</td>\n",
              "      <td>(I'm Your) Hoochie Coochie Man</td>\n",
              "      <td>2ziWXUmQLrXTiYjCg2fZ2t</td>\n",
              "      <td>47</td>\n",
              "      <td>0.90100</td>\n",
              "      <td>0.517</td>\n",
              "      <td>166960</td>\n",
              "      <td>0.419</td>\n",
              "      <td>0.000000</td>\n",
              "      <td>D</td>\n",
              "      <td>0.0945</td>\n",
              "      <td>-8.282</td>\n",
              "      <td>Major</td>\n",
              "      <td>0.1480</td>\n",
              "      <td>84.135</td>\n",
              "      <td>4/4</td>\n",
              "      <td>0.813</td>\n",
              "    </tr>\n",
              "    <tr>\n",
              "      <th>232723</th>\n",
              "      <td>Soul</td>\n",
              "      <td>R.LUM.R</td>\n",
              "      <td>With My Words</td>\n",
              "      <td>6EFsue2YbIG4Qkq8Zr9Rir</td>\n",
              "      <td>44</td>\n",
              "      <td>0.26200</td>\n",
              "      <td>0.745</td>\n",
              "      <td>222442</td>\n",
              "      <td>0.704</td>\n",
              "      <td>0.000000</td>\n",
              "      <td>A</td>\n",
              "      <td>0.3330</td>\n",
              "      <td>-7.137</td>\n",
              "      <td>Major</td>\n",
              "      <td>0.1460</td>\n",
              "      <td>100.031</td>\n",
              "      <td>4/4</td>\n",
              "      <td>0.489</td>\n",
              "    </tr>\n",
              "  </tbody>\n",
              "</table>\n",
              "<p>55951 rows × 18 columns</p>\n",
              "</div>"
            ],
            "text/plain": [
              "              genre   artist_name  ... time_signature valence\n",
              "1348    Alternative      Doja Cat  ...            4/4   0.700\n",
              "1385    Alternative   Frank Ocean  ...            5/4   0.370\n",
              "1452    Alternative   Frank Ocean  ...            4/4   0.130\n",
              "1554    Alternative    Steve Lacy  ...            4/4   0.634\n",
              "1634    Alternative      tobi lou  ...            4/4   0.599\n",
              "...             ...           ...  ...            ...     ...\n",
              "232715         Soul    Emily King  ...            4/4   0.436\n",
              "232718         Soul  Muddy Waters  ...            4/4   0.945\n",
              "232720         Soul         Slave  ...            4/4   0.962\n",
              "232722         Soul  Muddy Waters  ...            4/4   0.813\n",
              "232723         Soul       R.LUM.R  ...            4/4   0.489\n",
              "\n",
              "[55951 rows x 18 columns]"
            ]
          },
          "metadata": {
            "tags": []
          },
          "execution_count": 19
        }
      ]
    },
    {
      "cell_type": "code",
      "metadata": {
        "ExecuteTime": {
          "end_time": "2021-05-21T16:44:10.560454Z",
          "start_time": "2021-05-21T16:44:10.485165Z"
        },
        "colab": {
          "base_uri": "https://localhost:8080/"
        },
        "id": "kukAjNyPLMe_",
        "outputId": "0af8c950-a2d0-4154-e6bf-72cd651aa6b7"
      },
      "source": [
        "len(df[df['track_id'].duplicated()]['track_id'].unique())"
      ],
      "execution_count": 20,
      "outputs": [
        {
          "output_type": "execute_result",
          "data": {
            "text/plain": [
              "35124"
            ]
          },
          "metadata": {
            "tags": []
          },
          "execution_count": 20
        }
      ]
    },
    {
      "cell_type": "markdown",
      "metadata": {
        "id": "knER1juoLMfA"
      },
      "source": [
        "We have 55,951 rows of data for 35,124 unique tracks. This means that we have 20,827 rows that we need to address. Before we can address these duplications though we need to see what the cause of the duplicates are."
      ]
    },
    {
      "cell_type": "code",
      "metadata": {
        "ExecuteTime": {
          "end_time": "2021-05-21T16:44:10.623932Z",
          "start_time": "2021-05-21T16:44:10.562426Z"
        },
        "colab": {
          "base_uri": "https://localhost:8080/",
          "height": 0
        },
        "id": "mR2RfGlgLMfA",
        "outputId": "4ca68629-e353-4c76-f334-cb897edf80dd"
      },
      "source": [
        "df[df['track_id']=='6iOvnACn4ChlAw4lWUU4dd'] "
      ],
      "execution_count": 21,
      "outputs": [
        {
          "output_type": "execute_result",
          "data": {
            "text/html": [
              "<div>\n",
              "<style scoped>\n",
              "    .dataframe tbody tr th:only-of-type {\n",
              "        vertical-align: middle;\n",
              "    }\n",
              "\n",
              "    .dataframe tbody tr th {\n",
              "        vertical-align: top;\n",
              "    }\n",
              "\n",
              "    .dataframe thead th {\n",
              "        text-align: right;\n",
              "    }\n",
              "</style>\n",
              "<table border=\"1\" class=\"dataframe\">\n",
              "  <thead>\n",
              "    <tr style=\"text-align: right;\">\n",
              "      <th></th>\n",
              "      <th>genre</th>\n",
              "      <th>artist_name</th>\n",
              "      <th>track_name</th>\n",
              "      <th>track_id</th>\n",
              "      <th>popularity</th>\n",
              "      <th>acousticness</th>\n",
              "      <th>danceability</th>\n",
              "      <th>duration_ms</th>\n",
              "      <th>energy</th>\n",
              "      <th>instrumentalness</th>\n",
              "      <th>key</th>\n",
              "      <th>liveness</th>\n",
              "      <th>loudness</th>\n",
              "      <th>mode</th>\n",
              "      <th>speechiness</th>\n",
              "      <th>tempo</th>\n",
              "      <th>time_signature</th>\n",
              "      <th>valence</th>\n",
              "    </tr>\n",
              "  </thead>\n",
              "  <tbody>\n",
              "    <tr>\n",
              "      <th>257</th>\n",
              "      <td>R&amp;B</td>\n",
              "      <td>Doja Cat</td>\n",
              "      <td>Go To Town</td>\n",
              "      <td>6iOvnACn4ChlAw4lWUU4dd</td>\n",
              "      <td>64</td>\n",
              "      <td>0.0716</td>\n",
              "      <td>0.71</td>\n",
              "      <td>217813</td>\n",
              "      <td>0.71</td>\n",
              "      <td>0.000001</td>\n",
              "      <td>C</td>\n",
              "      <td>0.206</td>\n",
              "      <td>-2.474</td>\n",
              "      <td>Major</td>\n",
              "      <td>0.0579</td>\n",
              "      <td>169.944</td>\n",
              "      <td>4/4</td>\n",
              "      <td>0.7</td>\n",
              "    </tr>\n",
              "    <tr>\n",
              "      <th>1348</th>\n",
              "      <td>Alternative</td>\n",
              "      <td>Doja Cat</td>\n",
              "      <td>Go To Town</td>\n",
              "      <td>6iOvnACn4ChlAw4lWUU4dd</td>\n",
              "      <td>64</td>\n",
              "      <td>0.0716</td>\n",
              "      <td>0.71</td>\n",
              "      <td>217813</td>\n",
              "      <td>0.71</td>\n",
              "      <td>0.000001</td>\n",
              "      <td>C</td>\n",
              "      <td>0.206</td>\n",
              "      <td>-2.474</td>\n",
              "      <td>Major</td>\n",
              "      <td>0.0579</td>\n",
              "      <td>169.944</td>\n",
              "      <td>4/4</td>\n",
              "      <td>0.7</td>\n",
              "    </tr>\n",
              "    <tr>\n",
              "      <th>77710</th>\n",
              "      <td>Children's Music</td>\n",
              "      <td>Doja Cat</td>\n",
              "      <td>Go To Town</td>\n",
              "      <td>6iOvnACn4ChlAw4lWUU4dd</td>\n",
              "      <td>64</td>\n",
              "      <td>0.0716</td>\n",
              "      <td>0.71</td>\n",
              "      <td>217813</td>\n",
              "      <td>0.71</td>\n",
              "      <td>0.000001</td>\n",
              "      <td>C</td>\n",
              "      <td>0.206</td>\n",
              "      <td>-2.474</td>\n",
              "      <td>Major</td>\n",
              "      <td>0.0579</td>\n",
              "      <td>169.944</td>\n",
              "      <td>4/4</td>\n",
              "      <td>0.7</td>\n",
              "    </tr>\n",
              "    <tr>\n",
              "      <th>93651</th>\n",
              "      <td>Indie</td>\n",
              "      <td>Doja Cat</td>\n",
              "      <td>Go To Town</td>\n",
              "      <td>6iOvnACn4ChlAw4lWUU4dd</td>\n",
              "      <td>64</td>\n",
              "      <td>0.0716</td>\n",
              "      <td>0.71</td>\n",
              "      <td>217813</td>\n",
              "      <td>0.71</td>\n",
              "      <td>0.000001</td>\n",
              "      <td>C</td>\n",
              "      <td>0.206</td>\n",
              "      <td>-2.474</td>\n",
              "      <td>Major</td>\n",
              "      <td>0.0579</td>\n",
              "      <td>169.944</td>\n",
              "      <td>4/4</td>\n",
              "      <td>0.7</td>\n",
              "    </tr>\n",
              "    <tr>\n",
              "      <th>113770</th>\n",
              "      <td>Pop</td>\n",
              "      <td>Doja Cat</td>\n",
              "      <td>Go To Town</td>\n",
              "      <td>6iOvnACn4ChlAw4lWUU4dd</td>\n",
              "      <td>64</td>\n",
              "      <td>0.0716</td>\n",
              "      <td>0.71</td>\n",
              "      <td>217813</td>\n",
              "      <td>0.71</td>\n",
              "      <td>0.000001</td>\n",
              "      <td>C</td>\n",
              "      <td>0.206</td>\n",
              "      <td>-2.474</td>\n",
              "      <td>Major</td>\n",
              "      <td>0.0579</td>\n",
              "      <td>169.944</td>\n",
              "      <td>4/4</td>\n",
              "      <td>0.7</td>\n",
              "    </tr>\n",
              "  </tbody>\n",
              "</table>\n",
              "</div>"
            ],
            "text/plain": [
              "                   genre artist_name  ... time_signature valence\n",
              "257                  R&B    Doja Cat  ...            4/4     0.7\n",
              "1348         Alternative    Doja Cat  ...            4/4     0.7\n",
              "77710   Children's Music    Doja Cat  ...            4/4     0.7\n",
              "93651              Indie    Doja Cat  ...            4/4     0.7\n",
              "113770               Pop    Doja Cat  ...            4/4     0.7\n",
              "\n",
              "[5 rows x 18 columns]"
            ]
          },
          "metadata": {
            "tags": []
          },
          "execution_count": 21
        }
      ]
    },
    {
      "cell_type": "code",
      "metadata": {
        "ExecuteTime": {
          "end_time": "2021-05-21T16:44:10.670500Z",
          "start_time": "2021-05-21T16:44:10.625916Z"
        },
        "colab": {
          "base_uri": "https://localhost:8080/",
          "height": 0
        },
        "id": "PfcdfHQjLMfA",
        "outputId": "f5c8b8ed-87e6-42b6-bc36-2b6ed6c47550"
      },
      "source": [
        "df[df['track_id']=='2XGLdVl7lGeq8ksM6Al7jT']"
      ],
      "execution_count": 22,
      "outputs": [
        {
          "output_type": "execute_result",
          "data": {
            "text/html": [
              "<div>\n",
              "<style scoped>\n",
              "    .dataframe tbody tr th:only-of-type {\n",
              "        vertical-align: middle;\n",
              "    }\n",
              "\n",
              "    .dataframe tbody tr th {\n",
              "        vertical-align: top;\n",
              "    }\n",
              "\n",
              "    .dataframe thead th {\n",
              "        text-align: right;\n",
              "    }\n",
              "</style>\n",
              "<table border=\"1\" class=\"dataframe\">\n",
              "  <thead>\n",
              "    <tr style=\"text-align: right;\">\n",
              "      <th></th>\n",
              "      <th>genre</th>\n",
              "      <th>artist_name</th>\n",
              "      <th>track_name</th>\n",
              "      <th>track_id</th>\n",
              "      <th>popularity</th>\n",
              "      <th>acousticness</th>\n",
              "      <th>danceability</th>\n",
              "      <th>duration_ms</th>\n",
              "      <th>energy</th>\n",
              "      <th>instrumentalness</th>\n",
              "      <th>key</th>\n",
              "      <th>liveness</th>\n",
              "      <th>loudness</th>\n",
              "      <th>mode</th>\n",
              "      <th>speechiness</th>\n",
              "      <th>tempo</th>\n",
              "      <th>time_signature</th>\n",
              "      <th>valence</th>\n",
              "    </tr>\n",
              "  </thead>\n",
              "  <tbody>\n",
              "    <tr>\n",
              "      <th>179212</th>\n",
              "      <td>Jazz</td>\n",
              "      <td>Slave</td>\n",
              "      <td>Son Of Slide</td>\n",
              "      <td>2XGLdVl7lGeq8ksM6Al7jT</td>\n",
              "      <td>39</td>\n",
              "      <td>0.00384</td>\n",
              "      <td>0.687</td>\n",
              "      <td>326240</td>\n",
              "      <td>0.714</td>\n",
              "      <td>0.544</td>\n",
              "      <td>D</td>\n",
              "      <td>0.0845</td>\n",
              "      <td>-10.626</td>\n",
              "      <td>Major</td>\n",
              "      <td>0.0316</td>\n",
              "      <td>115.542</td>\n",
              "      <td>4/4</td>\n",
              "      <td>0.962</td>\n",
              "    </tr>\n",
              "    <tr>\n",
              "      <th>232720</th>\n",
              "      <td>Soul</td>\n",
              "      <td>Slave</td>\n",
              "      <td>Son Of Slide</td>\n",
              "      <td>2XGLdVl7lGeq8ksM6Al7jT</td>\n",
              "      <td>39</td>\n",
              "      <td>0.00384</td>\n",
              "      <td>0.687</td>\n",
              "      <td>326240</td>\n",
              "      <td>0.714</td>\n",
              "      <td>0.544</td>\n",
              "      <td>D</td>\n",
              "      <td>0.0845</td>\n",
              "      <td>-10.626</td>\n",
              "      <td>Major</td>\n",
              "      <td>0.0316</td>\n",
              "      <td>115.542</td>\n",
              "      <td>4/4</td>\n",
              "      <td>0.962</td>\n",
              "    </tr>\n",
              "  </tbody>\n",
              "</table>\n",
              "</div>"
            ],
            "text/plain": [
              "       genre artist_name    track_name  ...    tempo  time_signature  valence\n",
              "179212  Jazz       Slave  Son Of Slide  ...  115.542             4/4    0.962\n",
              "232720  Soul       Slave  Son Of Slide  ...  115.542             4/4    0.962\n",
              "\n",
              "[2 rows x 18 columns]"
            ]
          },
          "metadata": {
            "tags": []
          },
          "execution_count": 22
        }
      ]
    },
    {
      "cell_type": "code",
      "metadata": {
        "ExecuteTime": {
          "end_time": "2021-05-21T16:44:10.716401Z",
          "start_time": "2021-05-21T16:44:10.672499Z"
        },
        "colab": {
          "base_uri": "https://localhost:8080/",
          "height": 0
        },
        "id": "kJZMwc3ILMfB",
        "outputId": "82e13a85-654a-4493-836d-0becd0409db6"
      },
      "source": [
        "df[df['track_id']=='2HFczeynfKGiM9KF2z2K7K']\n"
      ],
      "execution_count": 23,
      "outputs": [
        {
          "output_type": "execute_result",
          "data": {
            "text/html": [
              "<div>\n",
              "<style scoped>\n",
              "    .dataframe tbody tr th:only-of-type {\n",
              "        vertical-align: middle;\n",
              "    }\n",
              "\n",
              "    .dataframe tbody tr th {\n",
              "        vertical-align: top;\n",
              "    }\n",
              "\n",
              "    .dataframe thead th {\n",
              "        text-align: right;\n",
              "    }\n",
              "</style>\n",
              "<table border=\"1\" class=\"dataframe\">\n",
              "  <thead>\n",
              "    <tr style=\"text-align: right;\">\n",
              "      <th></th>\n",
              "      <th>genre</th>\n",
              "      <th>artist_name</th>\n",
              "      <th>track_name</th>\n",
              "      <th>track_id</th>\n",
              "      <th>popularity</th>\n",
              "      <th>acousticness</th>\n",
              "      <th>danceability</th>\n",
              "      <th>duration_ms</th>\n",
              "      <th>energy</th>\n",
              "      <th>instrumentalness</th>\n",
              "      <th>key</th>\n",
              "      <th>liveness</th>\n",
              "      <th>loudness</th>\n",
              "      <th>mode</th>\n",
              "      <th>speechiness</th>\n",
              "      <th>tempo</th>\n",
              "      <th>time_signature</th>\n",
              "      <th>valence</th>\n",
              "    </tr>\n",
              "  </thead>\n",
              "  <tbody>\n",
              "    <tr>\n",
              "      <th>48555</th>\n",
              "      <td>Blues</td>\n",
              "      <td>Muddy Waters</td>\n",
              "      <td>I Just Want To Make Love To You - Electric Mud...</td>\n",
              "      <td>2HFczeynfKGiM9KF2z2K7K</td>\n",
              "      <td>35</td>\n",
              "      <td>0.0136</td>\n",
              "      <td>0.294</td>\n",
              "      <td>258267</td>\n",
              "      <td>0.739</td>\n",
              "      <td>0.00482</td>\n",
              "      <td>C</td>\n",
              "      <td>0.138</td>\n",
              "      <td>-7.167</td>\n",
              "      <td>Major</td>\n",
              "      <td>0.0434</td>\n",
              "      <td>176.402</td>\n",
              "      <td>4/4</td>\n",
              "      <td>0.945</td>\n",
              "    </tr>\n",
              "    <tr>\n",
              "      <th>232718</th>\n",
              "      <td>Soul</td>\n",
              "      <td>Muddy Waters</td>\n",
              "      <td>I Just Want To Make Love To You - Electric Mud...</td>\n",
              "      <td>2HFczeynfKGiM9KF2z2K7K</td>\n",
              "      <td>43</td>\n",
              "      <td>0.0136</td>\n",
              "      <td>0.294</td>\n",
              "      <td>258267</td>\n",
              "      <td>0.739</td>\n",
              "      <td>0.00482</td>\n",
              "      <td>C</td>\n",
              "      <td>0.138</td>\n",
              "      <td>-7.167</td>\n",
              "      <td>Major</td>\n",
              "      <td>0.0434</td>\n",
              "      <td>176.402</td>\n",
              "      <td>4/4</td>\n",
              "      <td>0.945</td>\n",
              "    </tr>\n",
              "  </tbody>\n",
              "</table>\n",
              "</div>"
            ],
            "text/plain": [
              "        genre   artist_name  ... time_signature valence\n",
              "48555   Blues  Muddy Waters  ...            4/4   0.945\n",
              "232718   Soul  Muddy Waters  ...            4/4   0.945\n",
              "\n",
              "[2 rows x 18 columns]"
            ]
          },
          "metadata": {
            "tags": []
          },
          "execution_count": 23
        }
      ]
    },
    {
      "cell_type": "code",
      "metadata": {
        "ExecuteTime": {
          "end_time": "2021-05-21T16:44:10.763894Z",
          "start_time": "2021-05-21T16:44:10.718441Z"
        },
        "colab": {
          "base_uri": "https://localhost:8080/",
          "height": 0
        },
        "id": "lW-BZNdtLMfB",
        "outputId": "38a796c1-83e9-4c2f-fd4d-20f7ff2d45c6"
      },
      "source": [
        "df[df['track_id']=='5cA0vB8c9FMOVDWyJHgf26']"
      ],
      "execution_count": 24,
      "outputs": [
        {
          "output_type": "execute_result",
          "data": {
            "text/html": [
              "<div>\n",
              "<style scoped>\n",
              "    .dataframe tbody tr th:only-of-type {\n",
              "        vertical-align: middle;\n",
              "    }\n",
              "\n",
              "    .dataframe tbody tr th {\n",
              "        vertical-align: top;\n",
              "    }\n",
              "\n",
              "    .dataframe thead th {\n",
              "        text-align: right;\n",
              "    }\n",
              "</style>\n",
              "<table border=\"1\" class=\"dataframe\">\n",
              "  <thead>\n",
              "    <tr style=\"text-align: right;\">\n",
              "      <th></th>\n",
              "      <th>genre</th>\n",
              "      <th>artist_name</th>\n",
              "      <th>track_name</th>\n",
              "      <th>track_id</th>\n",
              "      <th>popularity</th>\n",
              "      <th>acousticness</th>\n",
              "      <th>danceability</th>\n",
              "      <th>duration_ms</th>\n",
              "      <th>energy</th>\n",
              "      <th>instrumentalness</th>\n",
              "      <th>key</th>\n",
              "      <th>liveness</th>\n",
              "      <th>loudness</th>\n",
              "      <th>mode</th>\n",
              "      <th>speechiness</th>\n",
              "      <th>tempo</th>\n",
              "      <th>time_signature</th>\n",
              "      <th>valence</th>\n",
              "    </tr>\n",
              "  </thead>\n",
              "  <tbody>\n",
              "    <tr>\n",
              "      <th>85632</th>\n",
              "      <td>R&amp;B</td>\n",
              "      <td>Emily King</td>\n",
              "      <td>Down</td>\n",
              "      <td>5cA0vB8c9FMOVDWyJHgf26</td>\n",
              "      <td>42</td>\n",
              "      <td>0.55</td>\n",
              "      <td>0.394</td>\n",
              "      <td>281853</td>\n",
              "      <td>0.346</td>\n",
              "      <td>0.000002</td>\n",
              "      <td>E</td>\n",
              "      <td>0.129</td>\n",
              "      <td>-13.617</td>\n",
              "      <td>Major</td>\n",
              "      <td>0.0635</td>\n",
              "      <td>90.831</td>\n",
              "      <td>4/4</td>\n",
              "      <td>0.436</td>\n",
              "    </tr>\n",
              "    <tr>\n",
              "      <th>232715</th>\n",
              "      <td>Soul</td>\n",
              "      <td>Emily King</td>\n",
              "      <td>Down</td>\n",
              "      <td>5cA0vB8c9FMOVDWyJHgf26</td>\n",
              "      <td>42</td>\n",
              "      <td>0.55</td>\n",
              "      <td>0.394</td>\n",
              "      <td>281853</td>\n",
              "      <td>0.346</td>\n",
              "      <td>0.000002</td>\n",
              "      <td>E</td>\n",
              "      <td>0.129</td>\n",
              "      <td>-13.617</td>\n",
              "      <td>Major</td>\n",
              "      <td>0.0635</td>\n",
              "      <td>90.831</td>\n",
              "      <td>4/4</td>\n",
              "      <td>0.436</td>\n",
              "    </tr>\n",
              "  </tbody>\n",
              "</table>\n",
              "</div>"
            ],
            "text/plain": [
              "       genre artist_name track_name  ...   tempo  time_signature  valence\n",
              "85632    R&B  Emily King       Down  ...  90.831             4/4    0.436\n",
              "232715  Soul  Emily King       Down  ...  90.831             4/4    0.436\n",
              "\n",
              "[2 rows x 18 columns]"
            ]
          },
          "metadata": {
            "tags": []
          },
          "execution_count": 24
        }
      ]
    },
    {
      "cell_type": "markdown",
      "metadata": {
        "id": "XHYnzl-PLMfC"
      },
      "source": [
        "We see that most of the attributes of the song are the same for the duplicated values except for 'popularity' and 'genre'. The 'popularity' column can be aggregated since it is a numerical column but the categorical column of 'genre' is a little bit trickier. What makes the most sense in this case would be to create different columns with the genre names and display with binary values whether a song belongs to that genre or not."
      ]
    },
    {
      "cell_type": "code",
      "metadata": {
        "ExecuteTime": {
          "end_time": "2021-05-21T16:44:10.810793Z",
          "start_time": "2021-05-21T16:44:10.765894Z"
        },
        "id": "nII4XAxHLMfC"
      },
      "source": [
        "#generating a list with the genre names\n",
        "genre_list = list(df['genre'].unique())"
      ],
      "execution_count": 25,
      "outputs": []
    },
    {
      "cell_type": "code",
      "metadata": {
        "ExecuteTime": {
          "end_time": "2021-05-21T16:44:11.234002Z",
          "start_time": "2021-05-21T16:44:10.812780Z"
        },
        "id": "ZkJ4fLvVLMfC"
      },
      "source": [
        "#creating the genre columns using the genre list\n",
        "for genre in genre_list:\n",
        "    df[genre] = (df['genre']==genre).astype('int')"
      ],
      "execution_count": 26,
      "outputs": []
    },
    {
      "cell_type": "code",
      "metadata": {
        "ExecuteTime": {
          "end_time": "2021-05-21T16:46:15.504584Z",
          "start_time": "2021-05-21T16:44:11.236001Z"
        },
        "id": "B582nlgYLMfC"
      },
      "source": [
        "#grouping by track_id number to get rid of duplicates and keeping the maximum values in each column.\n",
        "df=df.groupby(['track_id']).max()"
      ],
      "execution_count": null,
      "outputs": []
    },
    {
      "cell_type": "markdown",
      "metadata": {
        "id": "4sSbIPdGLMfD"
      },
      "source": [
        "Above, we created the genre columns and merged the duplicated values keeping the maximum value in each column. This makes sense since the track that is being listened to is the same one. If a track's best popularity score was 42 for example, we are keeping the best value by taking the max."
      ]
    },
    {
      "cell_type": "code",
      "metadata": {
        "ExecuteTime": {
          "end_time": "2021-05-21T16:46:15.598540Z",
          "start_time": "2021-05-21T16:46:15.506600Z"
        },
        "id": "huPye56CLMfD"
      },
      "source": [
        "#removing redundant genre column\n",
        "df.drop('genre', axis=1, inplace=True)\n",
        "df.head()"
      ],
      "execution_count": null,
      "outputs": []
    },
    {
      "cell_type": "code",
      "metadata": {
        "ExecuteTime": {
          "end_time": "2021-05-21T16:46:15.662484Z",
          "start_time": "2021-05-21T16:46:15.600539Z"
        },
        "id": "9dD9z7TlLMfD"
      },
      "source": [
        "#verifying that duplicates have been eliminated\n",
        "df[df.index =='6iOvnACn4ChlAw4lWUU4dd']"
      ],
      "execution_count": null,
      "outputs": []
    },
    {
      "cell_type": "code",
      "metadata": {
        "ExecuteTime": {
          "end_time": "2021-05-21T16:46:15.900332Z",
          "start_time": "2021-05-21T16:46:15.664564Z"
        },
        "id": "FrJ6Rhi1LMfE"
      },
      "source": [
        "df"
      ],
      "execution_count": null,
      "outputs": []
    },
    {
      "cell_type": "markdown",
      "metadata": {
        "id": "SvdgQM3XLMfE"
      },
      "source": [
        "We successfully addressed the duplicates and now have 176,774 unique tracks in our dataset (down from 232,725)."
      ]
    },
    {
      "cell_type": "markdown",
      "metadata": {
        "id": "XYjD09b7LMfE"
      },
      "source": [
        "## Feature Engineering - is_popular"
      ]
    },
    {
      "cell_type": "markdown",
      "metadata": {
        "id": "265vBZDdLMfE"
      },
      "source": [
        "Since our goal is to be able to identify which tracks will be popular, we need to feature engineer a new column by binarizing the popularity column. To be able to do this, we need to decide on a cut-off point of popularity score which if a song stays above this cut-off point it will be considered \"popular\" and if it stays below it will be considered \"not popular\". We can start off by taking a look at the distribution of the popularity score distribution."
      ]
    },
    {
      "cell_type": "code",
      "metadata": {
        "ExecuteTime": {
          "end_time": "2021-05-21T16:46:16.469089Z",
          "start_time": "2021-05-21T16:46:15.907327Z"
        },
        "id": "HFdlMXaHLMfF"
      },
      "source": [
        "import matplotlib.pyplot as plt\n",
        "import seaborn as sns"
      ],
      "execution_count": null,
      "outputs": []
    },
    {
      "cell_type": "code",
      "metadata": {
        "ExecuteTime": {
          "end_time": "2021-05-21T16:46:17.013889Z",
          "start_time": "2021-05-21T16:46:16.472070Z"
        },
        "id": "ghyBJteZLMfF"
      },
      "source": [
        "#creating a histogram to see distribution of popularity scores in the dataset.\n",
        "sns.histplot(df['popularity'], bins='auto')"
      ],
      "execution_count": null,
      "outputs": []
    },
    {
      "cell_type": "markdown",
      "metadata": {
        "id": "fLRQ9QDILMfF"
      },
      "source": [
        "From the above histogram we see that we have a bimodal distribution. One of the peaks is at 0, and the other one seems to be around 40. In order to better decide what's popular, we can take a look at the Top 50 songs' popularity scores (this data is also from 2019 similar to our main dataset)"
      ]
    },
    {
      "cell_type": "markdown",
      "metadata": {
        "id": "rRZ-WOuWLMfG"
      },
      "source": [
        "### Top 50 Songs - 2019"
      ]
    },
    {
      "cell_type": "code",
      "metadata": {
        "ExecuteTime": {
          "end_time": "2021-05-21T16:46:17.029879Z",
          "start_time": "2021-05-21T16:46:17.015888Z"
        },
        "id": "hKuZKG6GLMfG"
      },
      "source": [
        "#data from https://www.kaggle.com/leonardopena/top50spotify2019\n",
        "df_50 = pd.read_csv('https://raw.githubusercontent.com/ebtezcan/dsc-phase-3-project/master/data/top50.csv', encoding='latin1', index_col=0)"
      ],
      "execution_count": null,
      "outputs": []
    },
    {
      "cell_type": "code",
      "metadata": {
        "ExecuteTime": {
          "end_time": "2021-05-21T16:46:17.076848Z",
          "start_time": "2021-05-21T16:46:17.030879Z"
        },
        "id": "p7Iz9_l_LMfG"
      },
      "source": [
        "df_50.head()"
      ],
      "execution_count": null,
      "outputs": []
    },
    {
      "cell_type": "code",
      "metadata": {
        "ExecuteTime": {
          "end_time": "2021-05-21T16:46:17.091838Z",
          "start_time": "2021-05-21T16:46:17.078848Z"
        },
        "id": "0R1diDBbLMfG"
      },
      "source": [
        "#displaying stats information of Top 50 songs\n",
        "df_50['Popularity'].describe()"
      ],
      "execution_count": null,
      "outputs": []
    },
    {
      "cell_type": "markdown",
      "metadata": {
        "id": "OeSO1tfoLMfH"
      },
      "source": [
        "Going back to our histogram we can draw vertical lines to see where these values fall into."
      ]
    },
    {
      "cell_type": "code",
      "metadata": {
        "ExecuteTime": {
          "end_time": "2021-05-21T16:46:17.609550Z",
          "start_time": "2021-05-21T16:46:17.093838Z"
        },
        "id": "91rJmtfhLMfH"
      },
      "source": [
        "fig, ax = plt.subplots()\n",
        "sns.histplot(df['popularity'], bins='auto', ax=ax)\n",
        "stats=['mean', '50%', 'min', 'max']\n",
        "for stat in stats:\n",
        "    ax.vlines(x=df_50['Popularity'].describe()[stat], ymin=0, ymax=6000, linestyles='dashed', colors='red', label=stat)"
      ],
      "execution_count": null,
      "outputs": []
    },
    {
      "cell_type": "markdown",
      "metadata": {
        "id": "1aezp6d7LMfH"
      },
      "source": [
        "We can see that there was a range of popularity scores in the Top 50 songs between 70 and 95. Which means that any song that is above a 70 theoretically could be a popular song. It doesn't make sense to use median or mean scores for our cutoff point in this case since then we would be disregarding all the songs that had lower values than 87.5 or 88 as unpopular which is untrue. However, before we can establish the cutoff point we need to acknowledge that we are basing it off of only 50 datapoints which is not a lot. It may be good to take a look at Top 100 songs instead of 50 to get a better sample size of popular songs."
      ]
    },
    {
      "cell_type": "markdown",
      "metadata": {
        "id": "zq5TP25_LMfI"
      },
      "source": [
        "### Top 100 Songs - 2019"
      ]
    },
    {
      "cell_type": "code",
      "metadata": {
        "ExecuteTime": {
          "end_time": "2021-05-21T16:46:17.625494Z",
          "start_time": "2021-05-21T16:46:17.611504Z"
        },
        "id": "qA6MsCZYLMfI"
      },
      "source": [
        "#importing dataset\n",
        "df_100 = pd.read_csv('https://raw.githubusercontent.com/ebtezcan/dsc-phase-3-project/master/data/spotify_top_100_2019.csv')"
      ],
      "execution_count": null,
      "outputs": []
    },
    {
      "cell_type": "code",
      "metadata": {
        "ExecuteTime": {
          "end_time": "2021-05-21T16:46:17.641500Z",
          "start_time": "2021-05-21T16:46:17.628493Z"
        },
        "id": "XA0En-BLLMfI"
      },
      "source": [
        "df_100['popularity '].describe()"
      ],
      "execution_count": null,
      "outputs": []
    },
    {
      "cell_type": "markdown",
      "metadata": {
        "id": "HJt5lp5jLMfI"
      },
      "source": [
        "The minimum value of 4 for the popularity score on the Top 100 Songs chart seems like an outlier. Next, we'll visualize the spread of this column to confirm."
      ]
    },
    {
      "cell_type": "code",
      "metadata": {
        "ExecuteTime": {
          "end_time": "2021-05-21T16:46:17.863340Z",
          "start_time": "2021-05-21T16:46:17.644483Z"
        },
        "id": "K_wmadLILMfJ"
      },
      "source": [
        "fig, ax = plt.subplots()\n",
        "sns.histplot(df_100['popularity '], bins='auto', ax=ax)"
      ],
      "execution_count": null,
      "outputs": []
    },
    {
      "cell_type": "markdown",
      "metadata": {
        "id": "h4ZtI0TTLMfJ"
      },
      "source": [
        "As we imagined the scores within the range 0-25 seem like outliers. We can remove outliers from this dataset with the IQR method to get a better perspective on the data."
      ]
    },
    {
      "cell_type": "code",
      "metadata": {
        "ExecuteTime": {
          "end_time": "2021-05-21T16:46:17.879329Z",
          "start_time": "2021-05-21T16:46:17.864340Z"
        },
        "id": "52iZF2xfLMfJ"
      },
      "source": [
        "#Outlier Removal with the IQR method\n",
        "\n",
        "def find_outliers_IQR(data):\n",
        "    \"\"\"Use Tukey's Method of outlier removal AKA InterQuartile-Range Rule\n",
        "    and return boolean series where True indicates it is an outlier.\n",
        "    - Calculates the range between the 75% and 25% quartiles\n",
        "    - Outliers fall outside upper and lower limits, using a treshold of  1.5*IQR the 75% and 25% quartiles.\n",
        "\n",
        "    IQR Range Calculation:    \n",
        "        res = df.describe()\n",
        "        IQR = res['75%'] -  res['25%']\n",
        "        lower_limit = res['25%'] - 1.5*IQR\n",
        "        upper_limit = res['75%'] + 1.5*IQR\n",
        "\n",
        "    Args:\n",
        "        data (Series,or ndarray): data to test for outliers.\n",
        "\n",
        "    Returns:\n",
        "        [boolean Series]: A True/False for each row use to slice outliers.\n",
        "        \n",
        "    EXAMPLE USE: \n",
        "    >> idx_outs = find_outliers_df(df['AdjustedCompensation'])\n",
        "    >> good_data = df[~idx_outs].copy()\n",
        "    \n",
        "    function snippet from Flatiron School Phase #2 Py Files.\n",
        "    URL = https://github.com/flatiron-school/Online-DS-FT-022221-Cohort-Notes/blob/master/py_files/functions_SG.py\n",
        "    \n",
        "    \"\"\"\n",
        "    df_b=data\n",
        "    res= df_b.describe()\n",
        "\n",
        "    IQR = res['75%'] -  res['25%']\n",
        "    lower_limit = res['25%'] - 1.5*IQR\n",
        "    upper_limit = res['75%'] + 1.5*IQR\n",
        "\n",
        "    idx_outs = (df_b>upper_limit) | (df_b<lower_limit)\n",
        "\n",
        "    return idx_outs"
      ],
      "execution_count": null,
      "outputs": []
    },
    {
      "cell_type": "code",
      "metadata": {
        "ExecuteTime": {
          "end_time": "2021-05-21T16:46:17.895320Z",
          "start_time": "2021-05-21T16:46:17.881329Z"
        },
        "id": "_Ccmh_hXLMfK"
      },
      "source": [
        "#removing outliers from the popularity column\n",
        "df_100 = df_100[find_outliers_IQR(df_100['popularity '])==False]\n",
        "#displaying minimum & maxium values in popularity column \n",
        "print(\"Minimum:\", df_100['popularity '].min())\n",
        "print(\"Maximum:\", df_100['popularity '].max())"
      ],
      "execution_count": null,
      "outputs": []
    },
    {
      "cell_type": "code",
      "metadata": {
        "ExecuteTime": {
          "end_time": "2021-05-21T16:46:18.572655Z",
          "start_time": "2021-05-21T16:46:17.897320Z"
        },
        "id": "SHcjKjabLMfK"
      },
      "source": [
        "#visualizing the min and max popularity scores on the overall dataset histogram\n",
        "fig, ax = plt.subplots()\n",
        "sns.histplot(df['popularity'], bins='auto', ax=ax)\n",
        "ax.vlines(x=df_100['popularity '].min(), ymin=0, ymax=6000, linestyles='dashed', colors='red', label='min')\n",
        "ax.vlines(x=df_100['popularity '].max(), ymin=0, ymax=6000, linestyles='dashed', colors='red', label='max')\n",
        "plt.legend()"
      ],
      "execution_count": null,
      "outputs": []
    },
    {
      "cell_type": "markdown",
      "metadata": {
        "id": "t4I9PloiLMfK"
      },
      "source": [
        "As we can expect to see, the top 100 songs have a lower popularity score threshold compared to the top 50 songs. We will be defining a song being popular as being Top 100 worthy and therefore will establish our cutoff point at 58."
      ]
    },
    {
      "cell_type": "code",
      "metadata": {
        "ExecuteTime": {
          "end_time": "2021-05-21T16:46:18.603622Z",
          "start_time": "2021-05-21T16:46:18.574641Z"
        },
        "id": "Q3411EALLMfL"
      },
      "source": [
        "#creating is_popular column with our cutoff point\n",
        "df['is_popular']=(df['popularity']>=58).astype('int')\n",
        "df.head()"
      ],
      "execution_count": null,
      "outputs": []
    },
    {
      "cell_type": "code",
      "metadata": {
        "ExecuteTime": {
          "end_time": "2021-05-21T16:46:18.667601Z",
          "start_time": "2021-05-21T16:46:18.605622Z"
        },
        "id": "X3AnQa-nLMfL"
      },
      "source": [
        "#dropping popularity score column since we will not be using it\n",
        "df.drop(['popularity', 'artist_name', 'track_name'], axis=1, inplace=True)\n",
        "df.head()"
      ],
      "execution_count": null,
      "outputs": []
    },
    {
      "cell_type": "markdown",
      "metadata": {
        "id": "0H-4Uz9GLMfM"
      },
      "source": [
        "We dropped popularity scores since we already binarized that column, but additionally we are dropping 'artist_name' and 'track_name' since we are looking at the anatomy of a song and not who sings it or what it's called."
      ]
    },
    {
      "cell_type": "markdown",
      "metadata": {
        "id": "tOrVVri5LMfM"
      },
      "source": [
        "## One Hot Encoding the Categorical Columns"
      ]
    },
    {
      "cell_type": "markdown",
      "metadata": {
        "id": "Ui1mllLkLMfN"
      },
      "source": [
        "We still have categorical columns that need one hot encoding. Namely, these columns are 'key', 'mode', 'time_signature'."
      ]
    },
    {
      "cell_type": "code",
      "metadata": {
        "ExecuteTime": {
          "end_time": "2021-05-21T16:46:18.823495Z",
          "start_time": "2021-05-21T16:46:18.669581Z"
        },
        "id": "Y5o_7BMJLMfN"
      },
      "source": [
        "#Check to see how many more columns we will be creating by OHE the cat_cols.\n",
        "df.nunique()"
      ],
      "execution_count": null,
      "outputs": []
    },
    {
      "cell_type": "markdown",
      "metadata": {
        "id": "2j9txtuZLMfN"
      },
      "source": [
        "We will be creating 2 (mode) + 5 (time_signature) + key (12) - 3 (drop_first) = 16 columns."
      ]
    },
    {
      "cell_type": "code",
      "metadata": {
        "ExecuteTime": {
          "end_time": "2021-05-21T16:46:18.839470Z",
          "start_time": "2021-05-21T16:46:18.824479Z"
        },
        "id": "9wxYnuC6LMfN"
      },
      "source": [
        "cat_cols = ['key', 'mode', 'time_signature']"
      ],
      "execution_count": null,
      "outputs": []
    },
    {
      "cell_type": "code",
      "metadata": {
        "ExecuteTime": {
          "end_time": "2021-05-21T16:46:19.043349Z",
          "start_time": "2021-05-21T16:46:18.841468Z"
        },
        "id": "NK-PUJ-SLMfO"
      },
      "source": [
        "from sklearn.preprocessing import OneHotEncoder\n",
        "\n",
        "encoder=OneHotEncoder(sparse=False, drop='first')\n",
        "data_ohe = encoder.fit_transform(df[cat_cols])\n",
        "df_ohe = pd.DataFrame(data_ohe, columns=encoder.get_feature_names(cat_cols), index=df.index)"
      ],
      "execution_count": null,
      "outputs": []
    },
    {
      "cell_type": "code",
      "metadata": {
        "ExecuteTime": {
          "end_time": "2021-05-21T16:46:19.074334Z",
          "start_time": "2021-05-21T16:46:19.045348Z"
        },
        "scrolled": true,
        "id": "tmYK45STLMfO"
      },
      "source": [
        "pd.set_option(\"display.max_columns\", None)\n",
        "df_ohe"
      ],
      "execution_count": null,
      "outputs": []
    },
    {
      "cell_type": "code",
      "metadata": {
        "ExecuteTime": {
          "end_time": "2021-05-21T16:46:19.231227Z",
          "start_time": "2021-05-21T16:46:19.076329Z"
        },
        "scrolled": true,
        "id": "xRBMv3UTLMfP"
      },
      "source": [
        "df_ohe = pd.concat([df.drop(cat_cols, axis=1), df_ohe], axis=1)\n",
        "df_ohe.head()"
      ],
      "execution_count": null,
      "outputs": []
    },
    {
      "cell_type": "markdown",
      "metadata": {
        "id": "DkPyiqsZLMfP"
      },
      "source": [
        "## train_test_split"
      ]
    },
    {
      "cell_type": "code",
      "metadata": {
        "ExecuteTime": {
          "end_time": "2021-05-21T16:46:19.450579Z",
          "start_time": "2021-05-21T16:46:19.233226Z"
        },
        "id": "MKJp2YcHLMfP"
      },
      "source": [
        "from sklearn.model_selection import train_test_split\n",
        "y=df_ohe['is_popular']\n",
        "X=df_ohe.drop('is_popular',axis=1)\n",
        "\n",
        "X_train, X_test, y_train, y_test = train_test_split(X, y, )"
      ],
      "execution_count": null,
      "outputs": []
    },
    {
      "cell_type": "markdown",
      "metadata": {
        "id": "s4tDD0uxLMfP"
      },
      "source": [
        "## Model #1 - Baseline - Dummy Classifier"
      ]
    },
    {
      "cell_type": "code",
      "metadata": {
        "ExecuteTime": {
          "end_time": "2021-05-21T16:46:19.481701Z",
          "start_time": "2021-05-21T16:46:19.452735Z"
        },
        "id": "czqNIyPXLMfQ"
      },
      "source": [
        "from sklearn.dummy import DummyClassifier\n",
        "\n",
        "clf_dummy = DummyClassifier()\n",
        "clf_dummy.fit(X_train, y_train)\n",
        "y_pred = clf_dummy.predict(X_test)"
      ],
      "execution_count": null,
      "outputs": []
    },
    {
      "cell_type": "markdown",
      "metadata": {
        "id": "2mPP5Z64LMfQ"
      },
      "source": [
        "We need a function that will show us the classification report, the confusion matrix as well as the ROC curve to be able to evaluate our models."
      ]
    },
    {
      "cell_type": "code",
      "metadata": {
        "ExecuteTime": {
          "end_time": "2021-05-21T16:46:19.496693Z",
          "start_time": "2021-05-21T16:46:19.483704Z"
        },
        "id": "Vy3ad4mQLMfW"
      },
      "source": [
        "from sklearn.metrics import classification_report, plot_confusion_matrix, plot_roc_curve\n",
        "\n",
        "def classification(y_true, y_pred, X, clf):\n",
        "    \"\"\"This function shows the classification report,\n",
        "    the confusion matrix as well as the ROC curve for evaluation of model quality.\n",
        "    \n",
        "    y_true: Correct y values, typically y_test that comes from the train_test_split performed at the beginning of model development.\n",
        "    y_pred: Predicted y values by the model.\n",
        "    clf: classifier model that was fit to training data.\n",
        "    X: X_test values\"\"\"\n",
        "    \n",
        "    #Classification report\n",
        "    print(\"CLASSIFICATION REPORT\")\n",
        "    print(\"------------------------------------------\")\n",
        "    print(classification_report(y_true=y_true, y_pred=y_pred))\n",
        "    \n",
        "    #Creating a figure/axes for confusion matrix and ROC curve\n",
        "    fig, ax = plt.subplots(ncols=2, figsize=(12, 5))\n",
        "    \n",
        "    #Plotting the normalized confusion matrix\n",
        "    plot_confusion_matrix(estimator=clf, X=X, y_true=y_true, cmap='Blues', normalize='true', ax=ax[0])\n",
        "    \n",
        "    #Plotting the ROC curve\n",
        "    plot_roc_curve(estimator=clf, X=X, y=y_true, ax=ax[1])\n",
        "    \n",
        "    #Plotting the 50-50 guessing plot for reference\n",
        "    ax[1].plot([0,1], [0,1], ls='--', color='orange')"
      ],
      "execution_count": null,
      "outputs": []
    },
    {
      "cell_type": "code",
      "metadata": {
        "ExecuteTime": {
          "end_time": "2021-05-21T16:46:19.986395Z",
          "start_time": "2021-05-21T16:46:19.498693Z"
        },
        "id": "W6K2FK4zLMfW"
      },
      "source": [
        "classification(y_test, y_pred, X_test, clf_dummy)"
      ],
      "execution_count": null,
      "outputs": []
    },
    {
      "cell_type": "code",
      "metadata": {
        "ExecuteTime": {
          "end_time": "2021-05-21T16:46:20.002381Z",
          "start_time": "2021-05-21T16:46:19.988377Z"
        },
        "id": "ul3l1DZPLMfk"
      },
      "source": [
        "#class imbalance percentages\n",
        "y_train.value_counts(normalize=True)"
      ],
      "execution_count": null,
      "outputs": []
    },
    {
      "cell_type": "markdown",
      "metadata": {
        "id": "4dl6R0_fLMfk"
      },
      "source": [
        "Our dummy classifier correctly predicted 98% of the unpopular songs as unpopular; however, it failed to correctly predict the popular songs as popular and instead classified them as unpopular as well. We clearly have a class imbalance problem where approximately 98% of our data is not popular and only about 2% of it is. To address this we can SMOTE the training data and see if training a model with this method would improve our results."
      ]
    },
    {
      "cell_type": "markdown",
      "metadata": {
        "id": "9-yql8t_LMfl"
      },
      "source": [
        "## Addressing Class Imbalance with SMOTENC"
      ]
    },
    {
      "cell_type": "code",
      "metadata": {
        "ExecuteTime": {
          "end_time": "2021-05-21T16:46:20.018355Z",
          "start_time": "2021-05-21T16:46:20.004365Z"
        },
        "id": "uMg66H-2LMfl"
      },
      "source": [
        "#looking at column names to extract categorical column indices for SMOTENC\n",
        "X.columns"
      ],
      "execution_count": null,
      "outputs": []
    },
    {
      "cell_type": "code",
      "metadata": {
        "ExecuteTime": {
          "end_time": "2021-05-21T16:46:20.034360Z",
          "start_time": "2021-05-21T16:46:20.021354Z"
        },
        "id": "QdtqSXEBLMfl"
      },
      "source": [
        "#creating a list of categorical column indices\n",
        "cat_cols = list(range(10, len(X.columns)))\n",
        "X.columns[cat_cols]"
      ],
      "execution_count": null,
      "outputs": []
    },
    {
      "cell_type": "code",
      "metadata": {
        "ExecuteTime": {
          "end_time": "2021-05-21T16:48:40.775511Z",
          "start_time": "2021-05-21T16:46:20.036347Z"
        },
        "id": "8wwJMb6ILMfm"
      },
      "source": [
        "from imblearn.over_sampling import SMOTE, SMOTENC\n",
        "\n",
        "sm = SMOTENC(categorical_features=cat_cols)\n",
        "\n",
        "X_train_sm, y_train_sm = sm.fit_resample(X_train, y_train)\n",
        "y_train_sm.value_counts(normalize=True)"
      ],
      "execution_count": null,
      "outputs": []
    },
    {
      "cell_type": "markdown",
      "metadata": {
        "id": "2t81Inq1LMfn"
      },
      "source": [
        "## Model #2 - Random Forest Classifier"
      ]
    },
    {
      "cell_type": "markdown",
      "metadata": {
        "id": "swB9p8QILMfn"
      },
      "source": [
        "### Initial Model"
      ]
    },
    {
      "cell_type": "code",
      "metadata": {
        "ExecuteTime": {
          "end_time": "2021-05-21T16:50:19.009083Z",
          "start_time": "2021-05-21T16:48:40.777492Z"
        },
        "scrolled": false,
        "id": "xCTCUN0CLMfo"
      },
      "source": [
        "from sklearn.ensemble import RandomForestClassifier\n",
        "from sklearn.metrics import accuracy_score\n",
        "\n",
        "clf = RandomForestClassifier()\n",
        "clf.fit(X_train_sm, y_train_sm)\n",
        "\n",
        "y_pred = clf.predict(X_test)\n",
        "classification(y_test, y_pred, X_test, clf)"
      ],
      "execution_count": null,
      "outputs": []
    },
    {
      "cell_type": "code",
      "metadata": {
        "ExecuteTime": {
          "end_time": "2021-05-21T16:52:13.133386Z",
          "start_time": "2021-05-21T16:50:19.011068Z"
        },
        "id": "h5B2Y69_LMfo"
      },
      "source": [
        "#Evaluating the model performance for the training data\n",
        "clf = RandomForestClassifier()\n",
        "clf.fit(X_train_sm, y_train_sm)\n",
        "\n",
        "y_pred = clf.predict(X_train_sm)\n",
        "classification(y_train_sm, y_pred, X_train_sm, clf)"
      ],
      "execution_count": null,
      "outputs": []
    },
    {
      "cell_type": "markdown",
      "metadata": {
        "id": "s5mZ4KecLMfp"
      },
      "source": [
        "Our model is performing very well on the training data but not so much on the test data since it is overfitting to the training set. We need to tune our model to get more accurate results on unseen data."
      ]
    },
    {
      "cell_type": "markdown",
      "metadata": {
        "id": "wxlmgexGLMfp"
      },
      "source": [
        "### Hyperparameter Tuning"
      ]
    },
    {
      "cell_type": "code",
      "metadata": {
        "ExecuteTime": {
          "end_time": "2021-05-21T16:52:13.325276Z",
          "start_time": "2021-05-21T16:52:13.136387Z"
        },
        "id": "qJdiT5NRLMfq"
      },
      "source": [
        "np.linspace(start = 200, stop = 2000, num = 10)"
      ],
      "execution_count": null,
      "outputs": []
    },
    {
      "cell_type": "code",
      "metadata": {
        "ExecuteTime": {
          "end_time": "2021-05-21T18:07:42.536828Z",
          "start_time": "2021-05-21T16:53:00.705720Z"
        },
        "id": "PSuiI40gLMfr"
      },
      "source": [
        "import numpy as np\n",
        "from sklearn.model_selection import RandomizedSearchCV\n",
        "\n",
        "clf = RandomForestClassifier()\n",
        "max_depth = [int(x) for x in np.linspace(10, 110, num = 11)]\n",
        "n_estimators = [int(x) for x in np.linspace(start = 200, stop = 2000, num = 10)]\n",
        "param_dist = {'max_depth': max_depth,\n",
        "              'bootstrap': [True, False]}\n",
        "\n",
        "random_search = RandomizedSearchCV(estimator=clf, param_distributions = param_dist, scoring='f1', n_jobs=3, cv=3)\n",
        "random_search.fit(X_train_sm, y_train_sm)\n",
        "random_search.best_params_"
      ],
      "execution_count": null,
      "outputs": []
    },
    {
      "cell_type": "code",
      "metadata": {
        "ExecuteTime": {
          "end_time": "2021-05-21T14:21:14.228909Z",
          "start_time": "2021-05-21T14:14:07.825523Z"
        },
        "id": "HBvTw9HbLMfr"
      },
      "source": [
        "from sklearn.model_selection import GridSearchCV\n",
        "\n",
        "clf = RandomForestClassifier()\n",
        "grid = {'max_leaf_nodes': [100, 300, 600], \n",
        "        'max_depth': [1, 10, 100],\n",
        "       }\n",
        "\n",
        "gridsearch = GridSearchCV(estimator=clf, param_grid = grid, scoring='f1')\n",
        "\n",
        "gridsearch.fit(X_train_sm,  y_train_sm)\n",
        "gridsearch.best_params_"
      ],
      "execution_count": null,
      "outputs": []
    },
    {
      "cell_type": "code",
      "metadata": {
        "ExecuteTime": {
          "end_time": "2021-05-21T14:22:33.420908Z",
          "start_time": "2021-05-21T14:22:08.175789Z"
        },
        "id": "YPudQwlxLMfs"
      },
      "source": [
        "clf = RandomForestClassifier(max_leaf_nodes=600, max_depth=100)\n",
        "clf.fit(X_train_sm, y_train_sm)\n",
        "\n",
        "y_pred = clf.predict(X_test)\n",
        "classification(y_test, y_pred, X_test, clf)"
      ],
      "execution_count": null,
      "outputs": []
    },
    {
      "cell_type": "markdown",
      "metadata": {
        "id": "VwduWn87LMft"
      },
      "source": [
        "## Model #3 - LogRegCV"
      ]
    },
    {
      "cell_type": "markdown",
      "metadata": {
        "id": "_aYsZgeaLMft"
      },
      "source": [
        "### Removing Outliers"
      ]
    },
    {
      "cell_type": "code",
      "metadata": {
        "ExecuteTime": {
          "end_time": "2021-05-19T18:42:24.286569Z",
          "start_time": "2021-05-19T18:42:24.279554Z"
        },
        "id": "fTIhptYZLMft"
      },
      "source": [
        "#separating out the numerical columns for outlier removal\n",
        "num_cols = X.columns[0:10]\n",
        "num_cols"
      ],
      "execution_count": null,
      "outputs": []
    },
    {
      "cell_type": "code",
      "metadata": {
        "ExecuteTime": {
          "end_time": "2021-05-20T17:51:45.164816Z",
          "start_time": "2021-05-20T17:51:44.713142Z"
        },
        "id": "999l6s5BLMfu"
      },
      "source": [
        "for col in num_cols:\n",
        "    df_ohe = df_ohe[find_outliers_IQR(df_ohe[col])==False]\n",
        "    \n",
        "df_ohe"
      ],
      "execution_count": null,
      "outputs": []
    },
    {
      "cell_type": "markdown",
      "metadata": {
        "id": "ettG0-BRLMfu"
      },
      "source": [
        "### train_test_split "
      ]
    },
    {
      "cell_type": "code",
      "metadata": {
        "ExecuteTime": {
          "end_time": "2021-05-20T17:51:47.273770Z",
          "start_time": "2021-05-20T17:51:47.185832Z"
        },
        "id": "tJPH4OHCLMfu"
      },
      "source": [
        "y=df_ohe['is_popular']\n",
        "X=df_ohe.drop('is_popular', axis=1)\n",
        "\n",
        "X_train, X_test, y_train, y_test = train_test_split(X, y, random_state=42)"
      ],
      "execution_count": null,
      "outputs": []
    },
    {
      "cell_type": "markdown",
      "metadata": {
        "id": "A_7AyxH5LMfv"
      },
      "source": [
        "### Addressing Class Imbalance with SMOTE"
      ]
    },
    {
      "cell_type": "code",
      "metadata": {
        "ExecuteTime": {
          "end_time": "2021-05-20T17:51:51.393980Z",
          "start_time": "2021-05-20T17:51:51.372995Z"
        },
        "id": "Y6pO1Q7QLMfv"
      },
      "source": [
        "y_train.value_counts(normalize=True)"
      ],
      "execution_count": null,
      "outputs": []
    },
    {
      "cell_type": "code",
      "metadata": {
        "ExecuteTime": {
          "end_time": "2021-05-20T17:52:38.440209Z",
          "start_time": "2021-05-20T17:51:54.704082Z"
        },
        "id": "Bw0rF_qRLMfv"
      },
      "source": [
        "sm = SMOTENC(categorical_features=cat_cols)\n",
        "\n",
        "X_train_sm, y_train_sm = sm.fit_resample(X_train, y_train)\n",
        "y_train_sm.value_counts(normalize=True)"
      ],
      "execution_count": null,
      "outputs": []
    },
    {
      "cell_type": "markdown",
      "metadata": {
        "id": "hroBebnLLMfw"
      },
      "source": [
        "### Scaling the Data"
      ]
    },
    {
      "cell_type": "code",
      "metadata": {
        "ExecuteTime": {
          "end_time": "2021-05-20T17:52:38.614073Z",
          "start_time": "2021-05-20T17:52:38.442208Z"
        },
        "id": "-Vk-XKR1LMfw"
      },
      "source": [
        "from sklearn.preprocessing import StandardScaler\n",
        "\n",
        "scaler = StandardScaler()\n",
        "\n",
        "X_train_sm_sc = scaler.fit_transform(X_train_sm)\n",
        "X_test_sc = scaler.transform(X_test)"
      ],
      "execution_count": null,
      "outputs": []
    },
    {
      "cell_type": "markdown",
      "metadata": {
        "id": "WPtufTLiLMfx"
      },
      "source": [
        "### Initial Model"
      ]
    },
    {
      "cell_type": "code",
      "metadata": {
        "ExecuteTime": {
          "end_time": "2021-05-20T17:52:38.630060Z",
          "start_time": "2021-05-20T17:52:38.616070Z"
        },
        "id": "u0TMAiE5LMfx"
      },
      "source": [
        "from sklearn.linear_model import LogisticRegressionCV, LogisticRegression"
      ],
      "execution_count": null,
      "outputs": []
    },
    {
      "cell_type": "markdown",
      "metadata": {
        "id": "W2aIys29LMfy"
      },
      "source": [
        "We will start by exploring how a default logistic regression model performs on our data. The only parameter we are changing is class_weight since we used SMOTENC on our data and we know that we have equal representation across the board."
      ]
    },
    {
      "cell_type": "code",
      "metadata": {
        "ExecuteTime": {
          "end_time": "2021-05-20T18:06:37.651706Z",
          "start_time": "2021-05-20T18:06:36.482552Z"
        },
        "id": "MBgFwz6WLMfy"
      },
      "source": [
        "clf = LogisticRegression(class_weight='balanced')\n",
        "clf.fit(X_train_sm_sc, y_train_sm)\n",
        "y_pred = clf.predict(X_test_sc)\n",
        "classification(y_test, y_pred, X_test_sc, clf)"
      ],
      "execution_count": null,
      "outputs": []
    },
    {
      "cell_type": "markdown",
      "metadata": {
        "id": "3XOinRkGLMfy"
      },
      "source": [
        "It seems like our model may be overfitting to the training data. We can take a look at how the model performs on the training data to verify."
      ]
    },
    {
      "cell_type": "code",
      "metadata": {
        "ExecuteTime": {
          "end_time": "2021-05-20T18:06:44.858004Z",
          "start_time": "2021-05-20T18:06:44.257426Z"
        },
        "id": "VXBcg820LMfz"
      },
      "source": [
        "#Evaluating the model performance for the training data\n",
        "y_pred = clf.predict(X_train_sm_sc)\n",
        "classification(y_train_sm, y_pred, X_train_sm_sc, clf)"
      ],
      "execution_count": null,
      "outputs": []
    },
    {
      "cell_type": "markdown",
      "metadata": {
        "id": "n0MTaC1-LMfz"
      },
      "source": [
        "As we guessed our model is overfitting to the training data and performs very well on it while the performance on the test data is subpar. In order to address this issue we can move onto hyperparameter tuning with GridSearchCV. We will be trying to optimize our grid search for the f1 score since optimizing for f1 score for our dataset will find the right balance between precision and recall and be the best overall performance score for the model."
      ]
    },
    {
      "cell_type": "markdown",
      "metadata": {
        "id": "lGHa9k9iLMfz"
      },
      "source": [
        "### Hyperparameter Tuning"
      ]
    },
    {
      "cell_type": "code",
      "metadata": {
        "ExecuteTime": {
          "end_time": "2021-05-20T18:30:45.846962Z",
          "start_time": "2021-05-20T18:07:51.129428Z"
        },
        "scrolled": true,
        "id": "vx0wXWvtLMfz"
      },
      "source": [
        "from sklearn.model_selection import GridSearchCV\n",
        "\n",
        "clf = LogisticRegression()\n",
        "grid = {'C': [1e12, 1000, 100, 1], \n",
        "        'penalty': ['l1','l2'],\n",
        "        'solver': ['liblinear', 'lbfgs', 'sag', 'saga']\n",
        "       }\n",
        "\n",
        "gridsearch = GridSearchCV(estimator=clf, param_grid = grid, scoring='f1')\n",
        "\n",
        "gridsearch.fit(X_train_sm_sc,  y_train_sm)\n",
        "gridsearch.best_params_"
      ],
      "execution_count": null,
      "outputs": []
    },
    {
      "cell_type": "code",
      "metadata": {
        "ExecuteTime": {
          "end_time": "2021-05-20T18:54:43.257650Z",
          "start_time": "2021-05-20T18:46:33.355682Z"
        },
        "scrolled": true,
        "id": "9ibAnQcpLMf0"
      },
      "source": [
        "clf = LogisticRegression(class_weight='balanced')\n",
        "grid = {'C': [1e12, 1000, 100, 10, 1],\n",
        "        'penalty': ['l1', 'l2'],\n",
        "        'solver': ['lbfgs', 'saga']\n",
        "       }\n",
        "\n",
        "gridsearch = GridSearchCV(estimator=clf, param_grid = grid, scoring='f1')\n",
        "\n",
        "gridsearch.fit(X_train_sm_sc,  y_train_sm)\n",
        "gridsearch.best_params_"
      ],
      "execution_count": null,
      "outputs": []
    },
    {
      "cell_type": "markdown",
      "metadata": {
        "id": "1aP9-0YVLMf0"
      },
      "source": [
        "### Tuned LogisticRegression model"
      ]
    },
    {
      "cell_type": "code",
      "metadata": {
        "ExecuteTime": {
          "end_time": "2021-05-20T18:56:37.566498Z",
          "start_time": "2021-05-20T18:55:46.759897Z"
        },
        "id": "MaMikoBYLMf0"
      },
      "source": [
        "clf = LogisticRegression(class_weight='balanced', C=1e12, penalty='l1', solver='saga', max_iter=1000)\n",
        "clf.fit(X_train_sm_sc, y_train_sm)\n",
        "y_pred = clf.predict(X_test_sc)\n",
        "classification(y_test, y_pred, X_test_sc, clf)"
      ],
      "execution_count": null,
      "outputs": []
    },
    {
      "cell_type": "code",
      "metadata": {
        "ExecuteTime": {
          "end_time": "2021-05-20T18:33:07.598501Z",
          "start_time": "2021-05-20T18:33:05.857453Z"
        },
        "id": "jFXjjW2xLMf0"
      },
      "source": [
        "clf = LogisticRegression(class_weight='balanced', C=1e12, penalty='l2', solver='lbfgs', max_iter=100)\n",
        "clf.fit(X_train_sm_sc, y_train_sm)\n",
        "y_pred = clf.predict(X_test_sc)\n",
        "classification(y_test, y_pred, X_test_sc, clf)"
      ],
      "execution_count": null,
      "outputs": []
    },
    {
      "cell_type": "markdown",
      "metadata": {
        "id": "Jbqe09H5LMf1"
      },
      "source": [
        "We still have the issue of overfitting. We can try out a LogisticRegressionCV model to cross validate the model and see if this approach improves our results. We'll start with a basic model with only the cv and class_weight parameters provided."
      ]
    },
    {
      "cell_type": "markdown",
      "metadata": {
        "id": "FJB214VkLMf1"
      },
      "source": [
        "## LogisticRegressionCV"
      ]
    },
    {
      "cell_type": "code",
      "metadata": {
        "ExecuteTime": {
          "end_time": "2021-05-20T19:04:28.305404Z",
          "start_time": "2021-05-20T19:04:16.236587Z"
        },
        "id": "hD5Lr_XkLMf1"
      },
      "source": [
        "from sklearn.linear_model import LogisticRegressionCV\n",
        "clf = LogisticRegressionCV(cv=5, class_weight='balanced')\n",
        "clf.fit(X_train_sm_sc,  y_train_sm)\n",
        "y_pred = clf.predict(X_test_sc)\n",
        "classification(y_test, y_pred, X_test_sc, clf)"
      ],
      "execution_count": null,
      "outputs": []
    },
    {
      "cell_type": "code",
      "metadata": {
        "ExecuteTime": {
          "end_time": "2021-05-20T19:04:43.531122Z",
          "start_time": "2021-05-20T19:04:30.809106Z"
        },
        "id": "kbWFdd-vLMf1"
      },
      "source": [
        "#Evaluating the model performance for the training data\n",
        "clf = LogisticRegressionCV(cv=5, class_weight='balanced')\n",
        "clf.fit(X_train_sm_sc,  y_train_sm)\n",
        "y_pred = clf.predict(X_train_sm_sc)\n",
        "classification(y_train_sm, y_pred, X_train_sm_sc, clf)"
      ],
      "execution_count": null,
      "outputs": []
    },
    {
      "cell_type": "markdown",
      "metadata": {
        "id": "2wNBeI_oLMf2"
      },
      "source": [
        "### Hyperparameter Tuning - LogisticRegressionCV"
      ]
    },
    {
      "cell_type": "code",
      "metadata": {
        "ExecuteTime": {
          "end_time": "2021-05-20T19:16:07.308466Z",
          "start_time": "2021-05-20T19:08:48.653239Z"
        },
        "id": "D2I5wFbLLMf2"
      },
      "source": [
        "clf = LogisticRegressionCV(class_weight='balanced', max_iter=1000)\n",
        "grid = {'penalty': ['l1','l2'],\n",
        "        'solver': ['lbfgs', 'saga']\n",
        "   }\n",
        "\n",
        "gridsearch = GridSearchCV(estimator=clf, param_grid = grid, scoring='f1')\n",
        "\n",
        "gridsearch.fit(X_train_sm_sc,  y_train_sm)\n",
        "gridsearch.best_params_"
      ],
      "execution_count": null,
      "outputs": []
    },
    {
      "cell_type": "markdown",
      "metadata": {
        "id": "67wULjYsLMf2"
      },
      "source": [
        "## XGBoost"
      ]
    },
    {
      "cell_type": "code",
      "metadata": {
        "ExecuteTime": {
          "end_time": "2021-05-20T18:57:15.184610Z",
          "start_time": "2021-05-20T18:57:15.099661Z"
        },
        "id": "2xRYW8AGLMf2"
      },
      "source": [
        "from xgboost import XGBClassifier"
      ],
      "execution_count": null,
      "outputs": []
    },
    {
      "cell_type": "code",
      "metadata": {
        "ExecuteTime": {
          "end_time": "2021-05-20T18:58:49.438409Z",
          "start_time": "2021-05-20T18:58:42.104816Z"
        },
        "id": "pvR3L3UdLMf3"
      },
      "source": [
        "clf = XGBClassifier()\n",
        "clf.fit(X_train_sm, y_train_sm)\n",
        "y_pred = clf.predict(X_test)\n",
        "classification(y_test, y_pred, X_test, clf)"
      ],
      "execution_count": null,
      "outputs": []
    },
    {
      "cell_type": "code",
      "metadata": {
        "ExecuteTime": {
          "end_time": "2021-05-20T19:01:21.357889Z",
          "start_time": "2021-05-20T19:00:33.726403Z"
        },
        "id": "e7Icnqq9LMf3"
      },
      "source": [
        "grid = {\n",
        "    'learning_rate': [0.1, 0.2],\n",
        "        }\n",
        "gridsearch = GridSearchCV(estimator=clf, param_grid = grid, scoring='f1')\n",
        "\n",
        "gridsearch.fit(X_train_sm,  y_train_sm)\n",
        "gridsearch.best_params_"
      ],
      "execution_count": null,
      "outputs": []
    },
    {
      "cell_type": "markdown",
      "metadata": {
        "id": "F1DNHSQyLMf3"
      },
      "source": [
        "# SCRUB"
      ]
    },
    {
      "cell_type": "markdown",
      "metadata": {
        "id": "2cTazSa-LMf3"
      },
      "source": [
        "## Data Preparation\n",
        "\n",
        "Describe and justify the process for preparing the data for analysis.\n",
        "\n",
        "***\n",
        "Questions to consider:\n",
        "* Were there variables you dropped or created?\n",
        "* How did you address missing values or outliers?\n",
        "* Why are these choices appropriate given the data and the business problem?\n",
        "***"
      ]
    },
    {
      "cell_type": "code",
      "metadata": {
        "id": "pHCYJm5oLMf4"
      },
      "source": [
        ""
      ],
      "execution_count": null,
      "outputs": []
    },
    {
      "cell_type": "markdown",
      "metadata": {
        "id": "0YAnvw_qLMf4"
      },
      "source": [
        "# EXPLORE"
      ]
    },
    {
      "cell_type": "code",
      "metadata": {
        "id": "V7qXdnbiLMf4"
      },
      "source": [
        ""
      ],
      "execution_count": null,
      "outputs": []
    },
    {
      "cell_type": "markdown",
      "metadata": {
        "id": "V8BzJcCqLMf4"
      },
      "source": [
        "# MODEL"
      ]
    },
    {
      "cell_type": "markdown",
      "metadata": {
        "id": "YoAx0efFLMf5"
      },
      "source": [
        "## Data Modeling\n",
        "Describe and justify the process for analyzing or modeling the data.\n",
        "\n",
        "***\n",
        "Questions to consider:\n",
        "* How did you analyze or model the data?\n",
        "* How did you iterate on your initial approach to make it better?\n",
        "* Why are these choices appropriate given the data and the business problem?\n",
        "***"
      ]
    },
    {
      "cell_type": "code",
      "metadata": {
        "id": "-GhHxOMdLMf5"
      },
      "source": [
        ""
      ],
      "execution_count": null,
      "outputs": []
    },
    {
      "cell_type": "markdown",
      "metadata": {
        "id": "_QpJ0fvHLMf5"
      },
      "source": [
        "# iNTERPRET"
      ]
    },
    {
      "cell_type": "markdown",
      "metadata": {
        "id": "f7zTBJoqLMf5"
      },
      "source": [
        "Evaluate how well your work solves the stated business problem.\n",
        "\n",
        "***\n",
        "Questions to consider:\n",
        "* How do you interpret the results?\n",
        "* How well does your model fit your data? How much better is this than your baseline model?\n",
        "* How confident are you that your results would generalize beyond the data you have?\n",
        "* How confident are you that this model would benefit the business if put into use?\n",
        "***"
      ]
    },
    {
      "cell_type": "code",
      "metadata": {
        "id": "c8RngFVNLMf6"
      },
      "source": [
        ""
      ],
      "execution_count": null,
      "outputs": []
    },
    {
      "cell_type": "markdown",
      "metadata": {
        "id": "GQh_5r4bLMf6"
      },
      "source": [
        "# CONCLUSIONS & RECOMMENDATIONS"
      ]
    },
    {
      "cell_type": "markdown",
      "metadata": {
        "id": "GdaoIf3VLMf6"
      },
      "source": [
        "Provide your conclusions about the work you've done, including any limitations or next steps.\n",
        "\n",
        "***\n",
        "Questions to consider:\n",
        "* What would you recommend the business do as a result of this work?\n",
        "* What are some reasons why your analysis might not fully solve the business problem?\n",
        "* What else could you do in the future to improve this project?\n",
        "***"
      ]
    },
    {
      "cell_type": "code",
      "metadata": {
        "id": "er4pDJ5wLMf7"
      },
      "source": [
        ""
      ],
      "execution_count": null,
      "outputs": []
    }
  ]
}